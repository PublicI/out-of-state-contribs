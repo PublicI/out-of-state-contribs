{
 "cells": [
  {
   "cell_type": "markdown",
   "metadata": {},
   "source": [
    "# Out-of-State-Contributions: Data Importation and Preparation"
   ]
  },
  {
   "cell_type": "code",
   "execution_count": 1,
   "metadata": {},
   "outputs": [
    {
     "data": {
      "application/javascript": [
       "if (!(\"Notification\" in window)) {\n",
       "    alert(\"This browser does not support desktop notifications, so the %%notify magic will not work.\");\n",
       "} else if (Notification.permission !== 'granted' && Notification.permission !== 'denied') {\n",
       "    Notification.requestPermission(function (permission) {\n",
       "        if(!('permission' in Notification)) {\n",
       "            Notification.permission = permission;\n",
       "        }\n",
       "    })\n",
       "}\n"
      ],
      "text/plain": [
       "<IPython.core.display.Javascript object>"
      ]
     },
     "metadata": {},
     "output_type": "display_data"
    }
   ],
   "source": [
    "from functools import reduce\n",
    "import numpy as np\n",
    "import pandas as pd\n",
    "\n",
    "%load_ext jupyternotify\n",
    "\n",
    "pd.set_option(\"display.max_columns\", 100)\n",
    "pd.set_option(\"display.max_rows\", 500)\n",
    "pd.options.display.float_format = \"{:,.2f}\".format # Format floats"
   ]
  },
  {
   "cell_type": "markdown",
   "metadata": {},
   "source": [
    "Import [National Institute on Money in Politics](https://www.followthemoney.org/) API key."
   ]
  },
  {
   "cell_type": "code",
   "execution_count": 2,
   "metadata": {},
   "outputs": [],
   "source": [
    "nimp_key = open(\"nimp_api_key.txt\", \"r\").readline()"
   ]
  },
  {
   "cell_type": "markdown",
   "metadata": {},
   "source": [
    "## Import and format the data\n",
    "\n",
    "Import and format contribution-level data from the [National Institute on Money in Politics](https://www.followthemoney.org/) for gubernatorial, state senate and state house candidates in 2018, 2014 and 2010."
   ]
  },
  {
   "cell_type": "markdown",
   "metadata": {},
   "source": [
    "Download and save each cycle's contributions data and concatenate the data into a single file."
   ]
  },
  {
   "cell_type": "code",
   "execution_count": 3,
   "metadata": {},
   "outputs": [
    {
     "name": "stdout",
     "output_type": "stream",
     "text": [
      "Will not apply HSTS. The HSTS database must be a regular and non-world-writable file.\n",
      "ERROR: could not open HSTS store at '/home/joe/.wget-hsts'. HSTS will be disabled.\n",
      "--2018-08-28 20:33:39--  https://www.followthemoney.org/aaengine/aafetch.php?dt=1&y=2018&c-exi=1&c-r-ot=G,S,H&gro=c-t-id,d-id&APIKey=7393ac8fa32733ae574c429362bce82a&mode=csv\n",
      "Resolving www.followthemoney.org (www.followthemoney.org)... 69.144.32.182\n",
      "Connecting to www.followthemoney.org (www.followthemoney.org)|69.144.32.182|:443... connected.\n",
      "HTTP request sent, awaiting response... 200 OK\n",
      "Length: unspecified [text/csv]\n",
      "Saving to: ‘data/raw/contributions_18.csv’\n",
      "\n",
      "data/raw/contributi     [                 <=>]   1.32G   916KB/s    in 42m 23s \n",
      "\n",
      "2018-08-28 21:20:47 (544 KB/s) - ‘data/raw/contributions_18.csv’ saved [1417140174]\n",
      "\n",
      "Will not apply HSTS. The HSTS database must be a regular and non-world-writable file.\n",
      "ERROR: could not open HSTS store at '/home/joe/.wget-hsts'. HSTS will be disabled.\n",
      "--2018-08-28 21:20:47--  https://www.followthemoney.org/aaengine/aafetch.php?dt=1&y=2014&c-exi=1&c-r-ot=G,S,H&gro=c-t-id,d-id&APIKey=7393ac8fa32733ae574c429362bce82a&mode=csv\n",
      "Resolving www.followthemoney.org (www.followthemoney.org)... 69.144.32.182\n",
      "Connecting to www.followthemoney.org (www.followthemoney.org)|69.144.32.182|:443... connected.\n",
      "HTTP request sent, awaiting response... 200 OK\n",
      "Length: unspecified [text/csv]\n",
      "Saving to: ‘data/raw/contributions_14.csv’\n",
      "\n",
      "data/raw/contributi     [          <=>       ]   2.05G  1.10MB/s    in 48m 51s \n",
      "\n",
      "2018-08-28 22:20:27 (734 KB/s) - ‘data/raw/contributions_14.csv’ saved [2202097812]\n",
      "\n",
      "Will not apply HSTS. The HSTS database must be a regular and non-world-writable file.\n",
      "ERROR: could not open HSTS store at '/home/joe/.wget-hsts'. HSTS will be disabled.\n",
      "--2018-08-28 22:20:27--  https://www.followthemoney.org/aaengine/aafetch.php?dt=1&y=2010&c-exi=1&c-r-ot=G,S,H&gro=c-t-id,d-id&APIKey=7393ac8fa32733ae574c429362bce82a&mode=csv\n",
      "Resolving www.followthemoney.org (www.followthemoney.org)... 69.144.32.182\n",
      "Connecting to www.followthemoney.org (www.followthemoney.org)|69.144.32.182|:443... connected.\n",
      "HTTP request sent, awaiting response... 200 OK\n",
      "Length: unspecified [text/csv]\n",
      "Saving to: ‘data/raw/contributions_10.csv’\n",
      "\n",
      "data/raw/contributi     [       <=>          ]   2.02G  1.11MB/s    in 50m 31s \n",
      "\n",
      "2018-08-28 23:20:44 (699 KB/s) - ‘data/raw/contributions_10.csv’ saved [2169279672]\n",
      "\n"
     ]
    }
   ],
   "source": [
    "!sh process_contribs.sh"
   ]
  },
  {
   "cell_type": "markdown",
   "metadata": {},
   "source": [
    "Import the contributions data."
   ]
  },
  {
   "cell_type": "code",
   "execution_count": 4,
   "metadata": {
    "scrolled": true
   },
   "outputs": [
    {
     "data": {
      "application/javascript": [
       "$(document).ready(\n",
       "    function() {\n",
       "        function appendUniqueDiv(){\n",
       "            // append a div with our uuid so we can check that it's already\n",
       "            // been sent and avoid duplicates on page reload\n",
       "            var notifiedDiv = document.createElement(\"div\")\n",
       "            notifiedDiv.id = \"b2ad4e97-1a68-44de-805d-e383a85a62d9\"\n",
       "            element.append(notifiedDiv)\n",
       "        }\n",
       "\n",
       "        // only send notifications if the pageload is complete; this will\n",
       "        // help stop extra notifications when a saved notebook is loaded,\n",
       "        // which during testing gives us state \"interactive\", not \"complete\"\n",
       "        if (document.readyState === 'complete') {\n",
       "            // check for the div that signifies that the notification\n",
       "            // was already sent\n",
       "            if (document.getElementById(\"b2ad4e97-1a68-44de-805d-e383a85a62d9\") === null) {\n",
       "                var notificationPayload = {\"requireInteraction\": false, \"icon\": \"/static/base/images/favicon.ico\", \"body\": \"Cell execution has finished!\"};\n",
       "                if (Notification.permission !== 'denied') {\n",
       "                    if (Notification.permission !== 'granted') { \n",
       "                        Notification.requestPermission(function (permission) {\n",
       "                            if(!('permission' in Notification)) {\n",
       "                                Notification.permission = permission\n",
       "                            }\n",
       "                        })\n",
       "                    }\n",
       "                    if (Notification.permission === 'granted') {\n",
       "                    var notification = new Notification(\"Jupyter Notebook\", notificationPayload)\n",
       "                    appendUniqueDiv()\n",
       "                    notification.onclick = function () {\n",
       "                        window.focus();\n",
       "                        this.close();\n",
       "                        };\n",
       "                    } \n",
       "                }     \n",
       "            }\n",
       "        }\n",
       "    }\n",
       ")\n"
      ],
      "text/plain": [
       "<IPython.core.display.Javascript object>"
      ]
     },
     "metadata": {},
     "output_type": "display_data"
    },
    {
     "name": "stderr",
     "output_type": "stream",
     "text": [
      "/home/joe/anaconda3/lib/python3.6/site-packages/IPython/core/interactiveshell.py:2728: DtypeWarning: Columns (54) have mixed types. Specify dtype option on import or set low_memory=False.\n",
      "  interactivity=interactivity, compiler=compiler, result=result)\n"
     ]
    },
    {
     "data": {
      "text/html": [
       "<div>\n",
       "<style scoped>\n",
       "    .dataframe tbody tr th:only-of-type {\n",
       "        vertical-align: middle;\n",
       "    }\n",
       "\n",
       "    .dataframe tbody tr th {\n",
       "        vertical-align: top;\n",
       "    }\n",
       "\n",
       "    .dataframe thead th {\n",
       "        text-align: right;\n",
       "    }\n",
       "</style>\n",
       "<table border=\"1\" class=\"dataframe\">\n",
       "  <thead>\n",
       "    <tr style=\"text-align: right;\">\n",
       "      <th></th>\n",
       "      <th>candidate</th>\n",
       "      <th>election_status</th>\n",
       "      <th>party</th>\n",
       "      <th>state</th>\n",
       "      <th>year</th>\n",
       "      <th>office</th>\n",
       "      <th>contributor</th>\n",
       "      <th>amount</th>\n",
       "      <th>date</th>\n",
       "      <th>in_out_state</th>\n",
       "    </tr>\n",
       "  </thead>\n",
       "  <tbody>\n",
       "    <tr>\n",
       "      <th>0</th>\n",
       "      <td>RAUNER, BRUCE VINCENT &amp; SANGUINETTI, EVELYN PA...</td>\n",
       "      <td>Won-Primary</td>\n",
       "      <td>REPUBLICAN</td>\n",
       "      <td>IL</td>\n",
       "      <td>2018</td>\n",
       "      <td>GOVERNOR / LIEUTENANT GOVERNOR</td>\n",
       "      <td>RAUNER, BRUCE VINCENT</td>\n",
       "      <td>50,000,000.00</td>\n",
       "      <td>2016-12-20</td>\n",
       "      <td>1.00</td>\n",
       "    </tr>\n",
       "  </tbody>\n",
       "</table>\n",
       "</div>"
      ],
      "text/plain": [
       "                                           candidate election_status  \\\n",
       "0  RAUNER, BRUCE VINCENT & SANGUINETTI, EVELYN PA...     Won-Primary   \n",
       "\n",
       "        party state  year                          office  \\\n",
       "0  REPUBLICAN    IL  2018  GOVERNOR / LIEUTENANT GOVERNOR   \n",
       "\n",
       "             contributor        amount        date  in_out_state  \n",
       "0  RAUNER, BRUCE VINCENT 50,000,000.00  2016-12-20          1.00  "
      ]
     },
     "execution_count": 4,
     "metadata": {},
     "output_type": "execute_result"
    }
   ],
   "source": [
    "%%notify\n",
    "contributions = pd.read_csv(\"data/raw/contributions.csv\", usecols=[\"Candidate\", \"Election_Status\", \"Specific_Party\", \"Election_Jurisdiction\", \"Election_Year\", \"Office_Sought\", \"Contributor\", \"Amount\", \"Date\", \"In-State\"], error_bad_lines=False)\n",
    "contributions.columns = [\"candidate\", \"election_status\", \"party\", \"state\", \"year\", \"office\", \"contributor\", \"amount\", \"date\", \"in_out_state\"]\n",
    "contributions.info()"
   ]
  },
  {
   "cell_type": "markdown",
   "metadata": {
    "collapsed": true
   },
   "source": [
    "Convert the contribution amount column to numeric (float) data type and the contribution date column to datetime data type."
   ]
  },
  {
   "cell_type": "code",
   "execution_count": 7,
   "metadata": {},
   "outputs": [],
   "source": [
    "contributions[\"amount\"] = pd.to_numeric(contributions[\"amount\"], errors=\"coerce\")\n",
    "contributions[\"date\"] = pd.to_datetime(contributions[\"date\"], errors=\"coerce\")"
   ]
  },
  {
   "cell_type": "code",
   "execution_count": 8,
   "metadata": {},
   "outputs": [
    {
     "name": "stdout",
     "output_type": "stream",
     "text": [
      "<class 'pandas.core.frame.DataFrame'>\n",
      "RangeIndex: 8679160 entries, 0 to 8679159\n",
      "Data columns (total 10 columns):\n",
      "candidate          object\n",
      "election_status    object\n",
      "party              object\n",
      "state              object\n",
      "year               int64\n",
      "office             object\n",
      "contributor        object\n",
      "amount             float64\n",
      "date               datetime64[ns]\n",
      "in_out_state       float64\n",
      "dtypes: datetime64[ns](1), float64(2), int64(1), object(6)\n",
      "memory usage: 662.2+ MB\n"
     ]
    }
   ],
   "source": [
    "contributions.info()"
   ]
  },
  {
   "cell_type": "markdown",
   "metadata": {
    "collapsed": true
   },
   "source": [
    "Rename the categories in the in-vs.-out-of-state column."
   ]
  },
  {
   "cell_type": "code",
   "execution_count": 9,
   "metadata": {},
   "outputs": [
    {
     "data": {
      "text/html": [
       "<div>\n",
       "<style scoped>\n",
       "    .dataframe tbody tr th:only-of-type {\n",
       "        vertical-align: middle;\n",
       "    }\n",
       "\n",
       "    .dataframe tbody tr th {\n",
       "        vertical-align: top;\n",
       "    }\n",
       "\n",
       "    .dataframe thead th {\n",
       "        text-align: right;\n",
       "    }\n",
       "</style>\n",
       "<table border=\"1\" class=\"dataframe\">\n",
       "  <thead>\n",
       "    <tr style=\"text-align: right;\">\n",
       "      <th></th>\n",
       "      <th>candidate</th>\n",
       "      <th>election_status</th>\n",
       "      <th>party</th>\n",
       "      <th>state</th>\n",
       "      <th>year</th>\n",
       "      <th>office</th>\n",
       "      <th>contributor</th>\n",
       "      <th>amount</th>\n",
       "      <th>date</th>\n",
       "      <th>in_out_state</th>\n",
       "    </tr>\n",
       "  </thead>\n",
       "  <tbody>\n",
       "    <tr>\n",
       "      <th>0</th>\n",
       "      <td>RAUNER, BRUCE VINCENT &amp; SANGUINETTI, EVELYN PA...</td>\n",
       "      <td>Won-Primary</td>\n",
       "      <td>REPUBLICAN</td>\n",
       "      <td>IL</td>\n",
       "      <td>2018</td>\n",
       "      <td>GOVERNOR / LIEUTENANT GOVERNOR</td>\n",
       "      <td>RAUNER, BRUCE VINCENT</td>\n",
       "      <td>50,000,000.00</td>\n",
       "      <td>2016-12-20</td>\n",
       "      <td>in-state</td>\n",
       "    </tr>\n",
       "  </tbody>\n",
       "</table>\n",
       "</div>"
      ],
      "text/plain": [
       "                                           candidate election_status  \\\n",
       "0  RAUNER, BRUCE VINCENT & SANGUINETTI, EVELYN PA...     Won-Primary   \n",
       "\n",
       "        party state  year                          office  \\\n",
       "0  REPUBLICAN    IL  2018  GOVERNOR / LIEUTENANT GOVERNOR   \n",
       "\n",
       "             contributor        amount       date in_out_state  \n",
       "0  RAUNER, BRUCE VINCENT 50,000,000.00 2016-12-20     in-state  "
      ]
     },
     "execution_count": 9,
     "metadata": {},
     "output_type": "execute_result"
    }
   ],
   "source": [
    "# 0 = out-of-state, 1 = in-state, 2 = unknown\n",
    "contributions[\"in_out_state\"] = contributions[\"in_out_state\"].replace({0: \"out-of-state\", 1: \"in-state\", 2: \"unknown\"})\n",
    "contributions.head(1)"
   ]
  },
  {
   "cell_type": "markdown",
   "metadata": {
    "collapsed": true
   },
   "source": [
    "Filter out unitemized donations as it is impossible to determine where those contributions originated."
   ]
  },
  {
   "cell_type": "code",
   "execution_count": 10,
   "metadata": {},
   "outputs": [
    {
     "name": "stdout",
     "output_type": "stream",
     "text": [
      "<class 'pandas.core.frame.DataFrame'>\n",
      "Int64Index: 8551014 entries, 0 to 8679159\n",
      "Data columns (total 10 columns):\n",
      "candidate          object\n",
      "election_status    object\n",
      "party              object\n",
      "state              object\n",
      "year               int64\n",
      "office             object\n",
      "contributor        object\n",
      "amount             float64\n",
      "date               datetime64[ns]\n",
      "in_out_state       object\n",
      "dtypes: datetime64[ns](1), float64(1), int64(1), object(7)\n",
      "memory usage: 717.6+ MB\n"
     ]
    }
   ],
   "source": [
    "contributions = contributions[contributions[\"contributor\"] != \"UNITEMIZED DONATIONS\"]\n",
    "contributions.info()"
   ]
  },
  {
   "cell_type": "markdown",
   "metadata": {},
   "source": [
    "Create a standardized office column."
   ]
  },
  {
   "cell_type": "code",
   "execution_count": 11,
   "metadata": {},
   "outputs": [
    {
     "name": "stderr",
     "output_type": "stream",
     "text": [
      "/home/joe/anaconda3/lib/python3.6/site-packages/ipykernel_launcher.py:3: SettingWithCopyWarning: \n",
      "A value is trying to be set on a copy of a slice from a DataFrame.\n",
      "Try using .loc[row_indexer,col_indexer] = value instead\n",
      "\n",
      "See the caveats in the documentation: http://pandas.pydata.org/pandas-docs/stable/indexing.html#indexing-view-versus-copy\n",
      "  This is separate from the ipykernel package so we can avoid doing imports until\n"
     ]
    },
    {
     "data": {
      "text/html": [
       "<div>\n",
       "<style scoped>\n",
       "    .dataframe tbody tr th:only-of-type {\n",
       "        vertical-align: middle;\n",
       "    }\n",
       "\n",
       "    .dataframe tbody tr th {\n",
       "        vertical-align: top;\n",
       "    }\n",
       "\n",
       "    .dataframe thead th {\n",
       "        text-align: right;\n",
       "    }\n",
       "</style>\n",
       "<table border=\"1\" class=\"dataframe\">\n",
       "  <thead>\n",
       "    <tr style=\"text-align: right;\">\n",
       "      <th></th>\n",
       "      <th>candidate</th>\n",
       "      <th>election_status</th>\n",
       "      <th>party</th>\n",
       "      <th>state</th>\n",
       "      <th>year</th>\n",
       "      <th>office</th>\n",
       "      <th>contributor</th>\n",
       "      <th>amount</th>\n",
       "      <th>date</th>\n",
       "      <th>in_out_state</th>\n",
       "      <th>standardized_office</th>\n",
       "    </tr>\n",
       "  </thead>\n",
       "  <tbody>\n",
       "    <tr>\n",
       "      <th>0</th>\n",
       "      <td>RAUNER, BRUCE VINCENT &amp; SANGUINETTI, EVELYN PA...</td>\n",
       "      <td>Won-Primary</td>\n",
       "      <td>REPUBLICAN</td>\n",
       "      <td>IL</td>\n",
       "      <td>2018</td>\n",
       "      <td>GOVERNOR / LIEUTENANT GOVERNOR</td>\n",
       "      <td>RAUNER, BRUCE VINCENT</td>\n",
       "      <td>50,000,000.00</td>\n",
       "      <td>2016-12-20</td>\n",
       "      <td>in-state</td>\n",
       "      <td>GOVERNOR/LIEUTENANT GOVERNOR</td>\n",
       "    </tr>\n",
       "  </tbody>\n",
       "</table>\n",
       "</div>"
      ],
      "text/plain": [
       "                                           candidate election_status  \\\n",
       "0  RAUNER, BRUCE VINCENT & SANGUINETTI, EVELYN PA...     Won-Primary   \n",
       "\n",
       "        party state  year                          office  \\\n",
       "0  REPUBLICAN    IL  2018  GOVERNOR / LIEUTENANT GOVERNOR   \n",
       "\n",
       "             contributor        amount       date in_out_state  \\\n",
       "0  RAUNER, BRUCE VINCENT 50,000,000.00 2016-12-20     in-state   \n",
       "\n",
       "            standardized_office  \n",
       "0  GOVERNOR/LIEUTENANT GOVERNOR  "
      ]
     },
     "execution_count": 11,
     "metadata": {},
     "output_type": "execute_result"
    }
   ],
   "source": [
    "contributions[\"standardized_office\"] = np.where(contributions[\"office\"].str.contains(\"governor\", case=False), \"GOVERNOR/LIEUTENANT GOVERNOR\",\n",
    "                                       np.where(contributions[\"office\"].str.contains(\"senate\", case=False), \"STATE SENATE\",\n",
    "                                       np.where(contributions[\"office\"].str.contains(\"house\", case=False), \"STATE HOUSE\", \"\")))\n",
    "contributions.head(1)"
   ]
  },
  {
   "cell_type": "markdown",
   "metadata": {},
   "source": [
    "Filter the data by election year."
   ]
  },
  {
   "cell_type": "code",
   "execution_count": 13,
   "metadata": {},
   "outputs": [],
   "source": [
    "contributions_18 = contributions[contributions[\"year\"] == 2018]\n",
    "contributions_14 = contributions[contributions[\"year\"] == 2014]\n",
    "contributions_10 = contributions[contributions[\"year\"] == 2010]"
   ]
  },
  {
   "cell_type": "markdown",
   "metadata": {
    "collapsed": true
   },
   "source": [
    "## Calculate a cut-off point for prior election cycles\n",
    "\n",
    "Our next task is to determine a data cut-off point for prior election cycles so we can make accurate comparisons across cycles."
   ]
  },
  {
   "cell_type": "markdown",
   "metadata": {},
   "source": [
    "Extract the month and year from the contribution date column for 2018 election cycle data."
   ]
  },
  {
   "cell_type": "code",
   "execution_count": 14,
   "metadata": {},
   "outputs": [
    {
     "name": "stderr",
     "output_type": "stream",
     "text": [
      "/home/joe/anaconda3/lib/python3.6/site-packages/ipykernel_launcher.py:1: SettingWithCopyWarning: \n",
      "A value is trying to be set on a copy of a slice from a DataFrame.\n",
      "Try using .loc[row_indexer,col_indexer] = value instead\n",
      "\n",
      "See the caveats in the documentation: http://pandas.pydata.org/pandas-docs/stable/indexing.html#indexing-view-versus-copy\n",
      "  \"\"\"Entry point for launching an IPython kernel.\n"
     ]
    },
    {
     "name": "stdout",
     "output_type": "stream",
     "text": [
      "<class 'pandas.core.frame.DataFrame'>\n",
      "Int64Index: 2135379 entries, 0 to 2164414\n",
      "Data columns (total 12 columns):\n",
      "candidate              object\n",
      "election_status        object\n",
      "party                  object\n",
      "state                  object\n",
      "year                   int64\n",
      "office                 object\n",
      "contributor            object\n",
      "amount                 float64\n",
      "date                   datetime64[ns]\n",
      "in_out_state           object\n",
      "standardized_office    object\n",
      "month                  object\n",
      "dtypes: datetime64[ns](1), float64(1), int64(1), object(9)\n",
      "memory usage: 211.8+ MB\n"
     ]
    }
   ],
   "source": [
    "contributions_18[\"month\"] = contributions_18[\"date\"].dt.to_period(\"M\")\n",
    "contributions_18.info()"
   ]
  },
  {
   "cell_type": "markdown",
   "metadata": {},
   "source": [
    "Group the contributions by state and month."
   ]
  },
  {
   "cell_type": "code",
   "execution_count": 15,
   "metadata": {},
   "outputs": [
    {
     "name": "stdout",
     "output_type": "stream",
     "text": [
      "<class 'pandas.core.frame.DataFrame'>\n",
      "RangeIndex: 1436 entries, 0 to 1435\n",
      "Data columns (total 3 columns):\n",
      "state     1436 non-null object\n",
      "month     1436 non-null object\n",
      "amount    1436 non-null float64\n",
      "dtypes: float64(1), object(2)\n",
      "memory usage: 33.7+ KB\n"
     ]
    }
   ],
   "source": [
    "grouped_by_month = contributions_18.groupby([\"state\", \"month\"])[\"amount\"].sum().reset_index()\n",
    "grouped_by_month.head(1)"
   ]
  },
  {
   "cell_type": "markdown",
   "metadata": {},
   "source": [
    "Because we eventually want to use each state's month column as the cut-off date for contributions, we need to add a day to the month and the year and then convert the column into datetime data type."
   ]
  },
  {
   "cell_type": "code",
   "execution_count": 16,
   "metadata": {},
   "outputs": [
    {
     "name": "stdout",
     "output_type": "stream",
     "text": [
      "<class 'pandas.core.frame.DataFrame'>\n",
      "RangeIndex: 1436 entries, 0 to 1435\n",
      "Data columns (total 3 columns):\n",
      "state     1436 non-null object\n",
      "month     1436 non-null datetime64[ns]\n",
      "amount    1436 non-null float64\n",
      "dtypes: datetime64[ns](1), float64(1), object(1)\n",
      "memory usage: 33.7+ KB\n"
     ]
    }
   ],
   "source": [
    "grouped_by_month[\"month\"] = grouped_by_month[\"month\"].astype(str) + \"-28\" # No month has fewer than 28 days\n",
    "grouped_by_month[\"month\"] = pd.to_datetime(grouped_by_month[\"month\"], errors=\"coerce\")\n",
    "grouped_by_month.info()"
   ]
  },
  {
   "cell_type": "markdown",
   "metadata": {},
   "source": [
    "We know some of the contribution dates are wrong. We know this because some of the dates occur in the future and, unless we've got some time travelling campaign donors, these are data entry errors. To eliminate this noise, we will filter out months after August 2018."
   ]
  },
  {
   "cell_type": "code",
   "execution_count": 17,
   "metadata": {},
   "outputs": [],
   "source": [
    "grouped_by_month = grouped_by_month[grouped_by_month[\"month\"] <= \"2018-08-28\"]"
   ]
  },
  {
   "cell_type": "markdown",
   "metadata": {},
   "source": [
    "Return the most recent month of contributions for each state."
   ]
  },
  {
   "cell_type": "code",
   "execution_count": 18,
   "metadata": {
    "scrolled": true
   },
   "outputs": [
    {
     "data": {
      "text/html": [
       "<div>\n",
       "<style scoped>\n",
       "    .dataframe tbody tr th:only-of-type {\n",
       "        vertical-align: middle;\n",
       "    }\n",
       "\n",
       "    .dataframe tbody tr th {\n",
       "        vertical-align: top;\n",
       "    }\n",
       "\n",
       "    .dataframe thead th {\n",
       "        text-align: right;\n",
       "    }\n",
       "</style>\n",
       "<table border=\"1\" class=\"dataframe\">\n",
       "  <thead>\n",
       "    <tr style=\"text-align: right;\">\n",
       "      <th></th>\n",
       "      <th>state</th>\n",
       "      <th>latest_month</th>\n",
       "    </tr>\n",
       "  </thead>\n",
       "  <tbody>\n",
       "    <tr>\n",
       "      <th>0</th>\n",
       "      <td>AK</td>\n",
       "      <td>2018-07-28</td>\n",
       "    </tr>\n",
       "    <tr>\n",
       "      <th>1</th>\n",
       "      <td>AL</td>\n",
       "      <td>2018-07-28</td>\n",
       "    </tr>\n",
       "    <tr>\n",
       "      <th>2</th>\n",
       "      <td>AR</td>\n",
       "      <td>2018-03-28</td>\n",
       "    </tr>\n",
       "    <tr>\n",
       "      <th>3</th>\n",
       "      <td>AZ</td>\n",
       "      <td>2017-12-28</td>\n",
       "    </tr>\n",
       "    <tr>\n",
       "      <th>4</th>\n",
       "      <td>CA</td>\n",
       "      <td>2018-07-28</td>\n",
       "    </tr>\n",
       "    <tr>\n",
       "      <th>5</th>\n",
       "      <td>CO</td>\n",
       "      <td>2018-07-28</td>\n",
       "    </tr>\n",
       "    <tr>\n",
       "      <th>6</th>\n",
       "      <td>CT</td>\n",
       "      <td>2018-07-28</td>\n",
       "    </tr>\n",
       "    <tr>\n",
       "      <th>7</th>\n",
       "      <td>FL</td>\n",
       "      <td>2018-08-28</td>\n",
       "    </tr>\n",
       "    <tr>\n",
       "      <th>8</th>\n",
       "      <td>GA</td>\n",
       "      <td>2018-07-28</td>\n",
       "    </tr>\n",
       "    <tr>\n",
       "      <th>9</th>\n",
       "      <td>HI</td>\n",
       "      <td>2018-07-28</td>\n",
       "    </tr>\n",
       "    <tr>\n",
       "      <th>10</th>\n",
       "      <td>IA</td>\n",
       "      <td>2018-07-28</td>\n",
       "    </tr>\n",
       "    <tr>\n",
       "      <th>11</th>\n",
       "      <td>ID</td>\n",
       "      <td>2018-08-28</td>\n",
       "    </tr>\n",
       "    <tr>\n",
       "      <th>12</th>\n",
       "      <td>IL</td>\n",
       "      <td>2018-06-28</td>\n",
       "    </tr>\n",
       "    <tr>\n",
       "      <th>13</th>\n",
       "      <td>IN</td>\n",
       "      <td>2018-04-28</td>\n",
       "    </tr>\n",
       "    <tr>\n",
       "      <th>14</th>\n",
       "      <td>KS</td>\n",
       "      <td>2018-01-28</td>\n",
       "    </tr>\n",
       "    <tr>\n",
       "      <th>15</th>\n",
       "      <td>KY</td>\n",
       "      <td>2018-08-28</td>\n",
       "    </tr>\n",
       "    <tr>\n",
       "      <th>16</th>\n",
       "      <td>LA</td>\n",
       "      <td>2018-04-28</td>\n",
       "    </tr>\n",
       "    <tr>\n",
       "      <th>17</th>\n",
       "      <td>MA</td>\n",
       "      <td>2018-05-28</td>\n",
       "    </tr>\n",
       "    <tr>\n",
       "      <th>18</th>\n",
       "      <td>MD</td>\n",
       "      <td>2018-06-28</td>\n",
       "    </tr>\n",
       "    <tr>\n",
       "      <th>19</th>\n",
       "      <td>ME</td>\n",
       "      <td>2018-07-28</td>\n",
       "    </tr>\n",
       "    <tr>\n",
       "      <th>20</th>\n",
       "      <td>MI</td>\n",
       "      <td>2018-07-28</td>\n",
       "    </tr>\n",
       "    <tr>\n",
       "      <th>21</th>\n",
       "      <td>MN</td>\n",
       "      <td>2017-12-28</td>\n",
       "    </tr>\n",
       "    <tr>\n",
       "      <th>22</th>\n",
       "      <td>MO</td>\n",
       "      <td>2017-12-28</td>\n",
       "    </tr>\n",
       "    <tr>\n",
       "      <th>23</th>\n",
       "      <td>MT</td>\n",
       "      <td>2017-12-28</td>\n",
       "    </tr>\n",
       "    <tr>\n",
       "      <th>24</th>\n",
       "      <td>NC</td>\n",
       "      <td>2018-04-28</td>\n",
       "    </tr>\n",
       "    <tr>\n",
       "      <th>25</th>\n",
       "      <td>NE</td>\n",
       "      <td>2018-05-28</td>\n",
       "    </tr>\n",
       "    <tr>\n",
       "      <th>26</th>\n",
       "      <td>NH</td>\n",
       "      <td>2017-12-28</td>\n",
       "    </tr>\n",
       "    <tr>\n",
       "      <th>27</th>\n",
       "      <td>NM</td>\n",
       "      <td>2018-06-28</td>\n",
       "    </tr>\n",
       "    <tr>\n",
       "      <th>28</th>\n",
       "      <td>NV</td>\n",
       "      <td>2017-12-28</td>\n",
       "    </tr>\n",
       "    <tr>\n",
       "      <th>29</th>\n",
       "      <td>NY</td>\n",
       "      <td>2018-05-28</td>\n",
       "    </tr>\n",
       "    <tr>\n",
       "      <th>30</th>\n",
       "      <td>OH</td>\n",
       "      <td>2018-08-28</td>\n",
       "    </tr>\n",
       "    <tr>\n",
       "      <th>31</th>\n",
       "      <td>OK</td>\n",
       "      <td>2017-12-28</td>\n",
       "    </tr>\n",
       "    <tr>\n",
       "      <th>32</th>\n",
       "      <td>OR</td>\n",
       "      <td>2018-05-28</td>\n",
       "    </tr>\n",
       "    <tr>\n",
       "      <th>33</th>\n",
       "      <td>PA</td>\n",
       "      <td>2018-05-28</td>\n",
       "    </tr>\n",
       "    <tr>\n",
       "      <th>34</th>\n",
       "      <td>RI</td>\n",
       "      <td>2017-12-28</td>\n",
       "    </tr>\n",
       "    <tr>\n",
       "      <th>35</th>\n",
       "      <td>SC</td>\n",
       "      <td>2018-05-28</td>\n",
       "    </tr>\n",
       "    <tr>\n",
       "      <th>36</th>\n",
       "      <td>SD</td>\n",
       "      <td>2016-12-28</td>\n",
       "    </tr>\n",
       "    <tr>\n",
       "      <th>37</th>\n",
       "      <td>TN</td>\n",
       "      <td>2018-04-28</td>\n",
       "    </tr>\n",
       "    <tr>\n",
       "      <th>38</th>\n",
       "      <td>TX</td>\n",
       "      <td>2018-06-28</td>\n",
       "    </tr>\n",
       "    <tr>\n",
       "      <th>39</th>\n",
       "      <td>VT</td>\n",
       "      <td>2017-07-28</td>\n",
       "    </tr>\n",
       "    <tr>\n",
       "      <th>40</th>\n",
       "      <td>WA</td>\n",
       "      <td>2018-07-28</td>\n",
       "    </tr>\n",
       "    <tr>\n",
       "      <th>41</th>\n",
       "      <td>WI</td>\n",
       "      <td>2018-07-28</td>\n",
       "    </tr>\n",
       "    <tr>\n",
       "      <th>42</th>\n",
       "      <td>WY</td>\n",
       "      <td>2017-12-28</td>\n",
       "    </tr>\n",
       "  </tbody>\n",
       "</table>\n",
       "</div>"
      ],
      "text/plain": [
       "   state latest_month\n",
       "0     AK   2018-07-28\n",
       "1     AL   2018-07-28\n",
       "2     AR   2018-03-28\n",
       "3     AZ   2017-12-28\n",
       "4     CA   2018-07-28\n",
       "5     CO   2018-07-28\n",
       "6     CT   2018-07-28\n",
       "7     FL   2018-08-28\n",
       "8     GA   2018-07-28\n",
       "9     HI   2018-07-28\n",
       "10    IA   2018-07-28\n",
       "11    ID   2018-08-28\n",
       "12    IL   2018-06-28\n",
       "13    IN   2018-04-28\n",
       "14    KS   2018-01-28\n",
       "15    KY   2018-08-28\n",
       "16    LA   2018-04-28\n",
       "17    MA   2018-05-28\n",
       "18    MD   2018-06-28\n",
       "19    ME   2018-07-28\n",
       "20    MI   2018-07-28\n",
       "21    MN   2017-12-28\n",
       "22    MO   2017-12-28\n",
       "23    MT   2017-12-28\n",
       "24    NC   2018-04-28\n",
       "25    NE   2018-05-28\n",
       "26    NH   2017-12-28\n",
       "27    NM   2018-06-28\n",
       "28    NV   2017-12-28\n",
       "29    NY   2018-05-28\n",
       "30    OH   2018-08-28\n",
       "31    OK   2017-12-28\n",
       "32    OR   2018-05-28\n",
       "33    PA   2018-05-28\n",
       "34    RI   2017-12-28\n",
       "35    SC   2018-05-28\n",
       "36    SD   2016-12-28\n",
       "37    TN   2018-04-28\n",
       "38    TX   2018-06-28\n",
       "39    VT   2017-07-28\n",
       "40    WA   2018-07-28\n",
       "41    WI   2018-07-28\n",
       "42    WY   2017-12-28"
      ]
     },
     "execution_count": 18,
     "metadata": {},
     "output_type": "execute_result"
    }
   ],
   "source": [
    "latest_month = grouped_by_month.groupby(\"state\")[\"month\"].max().reset_index()\n",
    "latest_month.rename(columns={\"month\": \"latest_month\"}, inplace=True)\n",
    "latest_month"
   ]
  },
  {
   "cell_type": "markdown",
   "metadata": {},
   "source": [
    "## Apply the cut-off date to the 2014 and 2010 election cycles' data."
   ]
  },
  {
   "cell_type": "markdown",
   "metadata": {},
   "source": [
    "Join the table of the 2018 cycle's latest contribution months with the 2014 and 2010 contribution-level data."
   ]
  },
  {
   "cell_type": "code",
   "execution_count": 19,
   "metadata": {},
   "outputs": [],
   "source": [
    "contributions_14 = contributions_14.merge(latest_month, on=\"state\")\n",
    "contributions_10 = contributions_10.merge(latest_month, on=\"state\")"
   ]
  },
  {
   "cell_type": "markdown",
   "metadata": {},
   "source": [
    "Convert the year in the latest month column to its equivalent in the relevant election cycle."
   ]
  },
  {
   "cell_type": "code",
   "execution_count": null,
   "metadata": {},
   "outputs": [
    {
     "name": "stderr",
     "output_type": "stream",
     "text": [
      "/home/joe/anaconda3/lib/python3.6/site-packages/pandas/core/indexes/datetimes.py:962: PerformanceWarning: Non-vectorized DateOffset being applied to Series or DatetimeIndex\n",
      "  \"or DatetimeIndex\", PerformanceWarning)\n"
     ]
    }
   ],
   "source": [
    "%%notify\n",
    "# 2017 = 2013, 2018 = 2014\n",
    "contributions_14[\"latest_month\"] = contributions_14[\"latest_month\"].mask(contributions_14[\"latest_month\"].dt.year == 2017, contributions_14[\"latest_month\"] + pd.offsets.DateOffset(year=2013))\n",
    "contributions_14[\"latest_month\"] = contributions_14[\"latest_month\"].mask(contributions_14[\"latest_month\"].dt.year == 2018, contributions_14[\"latest_month\"] + pd.offsets.DateOffset(year=2014))\n",
    "# 2017 = 2009, 2018 = 2010\n",
    "contributions_10[\"latest_month\"] = contributions_10[\"latest_month\"].mask(contributions_10[\"latest_month\"].dt.year == 2017, contributions_10[\"latest_month\"] + pd.offsets.DateOffset(year=2009))\n",
    "contributions_10[\"latest_month\"] = contributions_10[\"latest_month\"].mask(contributions_10[\"latest_month\"].dt.year == 2018, contributions_10[\"latest_month\"] + pd.offsets.DateOffset(year=2010))"
   ]
  },
  {
   "cell_type": "markdown",
   "metadata": {},
   "source": [
    "Filter the data to eliminate contributions after the 2018 cycle's latest contribution month in each state."
   ]
  },
  {
   "cell_type": "code",
   "execution_count": null,
   "metadata": {},
   "outputs": [],
   "source": [
    "contributions_14 = contributions_14[contributions_14[\"date\"] <= contributions_14[\"latest_month\"]]\n",
    "contributions_10 = contributions_10[contributions_10[\"date\"] <= contributions_10[\"latest_month\"]]"
   ]
  },
  {
   "cell_type": "markdown",
   "metadata": {
    "collapsed": true
   },
   "source": [
    "## Export the data"
   ]
  },
  {
   "cell_type": "code",
   "execution_count": null,
   "metadata": {
    "collapsed": true
   },
   "outputs": [],
   "source": [
    "contributions_18.to_csv(\"data/contributions_18.csv\", index=False)\n",
    "contributions_14.to_csv(\"data/contributions_14.csv\", index=False)\n",
    "contributions_10.to_csv(\"data/contributions_10.csv\", index=False)"
   ]
  }
 ],
 "metadata": {
  "kernelspec": {
   "display_name": "Python 3",
   "language": "python",
   "name": "python3"
  },
  "language_info": {
   "codemirror_mode": {
    "name": "ipython",
    "version": 3
   },
   "file_extension": ".py",
   "mimetype": "text/x-python",
   "name": "python",
   "nbconvert_exporter": "python",
   "pygments_lexer": "ipython3",
   "version": "3.6.4"
  }
 },
 "nbformat": 4,
 "nbformat_minor": 2
}
