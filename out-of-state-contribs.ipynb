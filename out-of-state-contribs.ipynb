{
 "cells": [
  {
   "cell_type": "markdown",
   "metadata": {},
   "source": [
    "# Contributions from out-of-state donors"
   ]
  },
  {
   "cell_type": "code",
   "execution_count": 6,
   "metadata": {
    "scrolled": true
   },
   "outputs": [
    {
     "name": "stdout",
     "output_type": "stream",
     "text": [
      "The jupyternotify extension is already loaded. To reload it, use:\n",
      "  %reload_ext jupyternotify\n"
     ]
    }
   ],
   "source": [
    "import pandas as pd\n",
    "import us\n",
    "\n",
    "%load_ext jupyternotify\n",
    "\n",
    "pd.set_option(\"display.max_columns\", 100)\n",
    "pd.set_option(\"display.max_rows\", 500)"
   ]
  },
  {
   "cell_type": "markdown",
   "metadata": {},
   "source": [
    "Import [National Institute on Money in Politics](https://www.followthemoney.org/) API key."
   ]
  },
  {
   "cell_type": "code",
   "execution_count": 7,
   "metadata": {
    "scrolled": true
   },
   "outputs": [],
   "source": [
    "nimp_key = open(\"nimp_api_key.txt\", \"r\").readline()"
   ]
  },
  {
   "cell_type": "markdown",
   "metadata": {},
   "source": [
    "Import [Census Bureau](https://www.census.gov/) API key."
   ]
  },
  {
   "cell_type": "code",
   "execution_count": 8,
   "metadata": {
    "scrolled": true
   },
   "outputs": [],
   "source": [
    "census_key = open(\"census_api_key.txt\", \"r\").readline()"
   ]
  },
  {
   "cell_type": "markdown",
   "metadata": {
    "collapsed": true
   },
   "source": [
    "## Import and format the data"
   ]
  },
  {
   "cell_type": "markdown",
   "metadata": {},
   "source": [
    "### Import contribution-level data for gubernatorial, attorney general, secretary of state and state legislative races in 2018"
   ]
  },
  {
   "cell_type": "code",
   "execution_count": 5,
   "metadata": {
    "scrolled": true
   },
   "outputs": [
    {
     "name": "stderr",
     "output_type": "stream",
     "text": [
      "b'Skipping line 1099595: expected 49 fields, saw 50\\n'\n",
      "/home/joe/anaconda3/lib/python3.6/site-packages/IPython/core/interactiveshell.py:2728: DtypeWarning: Columns (8,11,14,17,20,23,24,32,35,44) have mixed types. Specify dtype option on import or set low_memory=False.\n",
      "  interactivity=interactivity, compiler=compiler, result=result)\n"
     ]
    },
    {
     "data": {
      "application/javascript": [
       "$(document).ready(\n",
       "    function() {\n",
       "        function appendUniqueDiv(){\n",
       "            // append a div with our uuid so we can check that it's already\n",
       "            // been sent and avoid duplicates on page reload\n",
       "            var notifiedDiv = document.createElement(\"div\")\n",
       "            notifiedDiv.id = \"6c37de22-05c9-4a4c-a03c-1799f458f82e\"\n",
       "            element.append(notifiedDiv)\n",
       "        }\n",
       "\n",
       "        // only send notifications if the pageload is complete; this will\n",
       "        // help stop extra notifications when a saved notebook is loaded,\n",
       "        // which during testing gives us state \"interactive\", not \"complete\"\n",
       "        if (document.readyState === 'complete') {\n",
       "            // check for the div that signifies that the notification\n",
       "            // was already sent\n",
       "            if (document.getElementById(\"6c37de22-05c9-4a4c-a03c-1799f458f82e\") === null) {\n",
       "                var notificationPayload = {\"requireInteraction\": false, \"icon\": \"/static/base/images/favicon.ico\", \"body\": \"Cell execution has finished!\"};\n",
       "                if (Notification.permission !== 'denied') {\n",
       "                    if (Notification.permission !== 'granted') { \n",
       "                        Notification.requestPermission(function (permission) {\n",
       "                            if(!('permission' in Notification)) {\n",
       "                                Notification.permission = permission\n",
       "                            }\n",
       "                        })\n",
       "                    }\n",
       "                    if (Notification.permission === 'granted') {\n",
       "                    var notification = new Notification(\"Jupyter Notebook\", notificationPayload)\n",
       "                    appendUniqueDiv()\n",
       "                    notification.onclick = function () {\n",
       "                        window.focus();\n",
       "                        this.close();\n",
       "                        };\n",
       "                    } \n",
       "                }     \n",
       "            }\n",
       "        }\n",
       "    }\n",
       ")\n"
      ],
      "text/plain": [
       "<IPython.core.display.Javascript object>"
      ]
     },
     "metadata": {},
     "output_type": "display_data"
    }
   ],
   "source": [
    "%%notify\n",
    "contribs_18 = pd.read_csv(\"https://www.followthemoney.org/aaengine/aafetch.php?dt=1&y=2018&c-exi=1&c-r-oc=Z10,Z70&c-r-ot=G,S,H&gro=s,d-id&APIKey=\"+nimp_key+\"&mode=csv\",\n",
    "                          encoding=\"ISO-8859-1\", error_bad_lines=False)\n",
    "contribs_18.to_csv(\"data/contribs_18.csv\", index=False)"
   ]
  },
  {
   "cell_type": "code",
   "execution_count": 46,
   "metadata": {
    "scrolled": true
   },
   "outputs": [
    {
     "name": "stderr",
     "output_type": "stream",
     "text": [
      "/home/joe/anaconda3/lib/python3.6/site-packages/IPython/core/interactiveshell.py:2728: DtypeWarning: Columns (8,11,14,17,20,23,24,32,35,44) have mixed types. Specify dtype option on import or set low_memory=False.\n",
      "  interactivity=interactivity, compiler=compiler, result=result)\n"
     ]
    },
    {
     "name": "stdout",
     "output_type": "stream",
     "text": [
      "<class 'pandas.core.frame.DataFrame'>\n",
      "RangeIndex: 2118572 entries, 0 to 2118571\n",
      "Data columns (total 49 columns):\n",
      "request                        object\n",
      "Election_Jurisdiction:token    object\n",
      "Election_Jurisdiction:id       object\n",
      "Election_Jurisdiction          object\n",
      "Original_Name:token            object\n",
      "Original_Name:id               int64\n",
      "Original_Name                  object\n",
      "Contributor:token              object\n",
      "Contributor:id                 object\n",
      "Contributor                    object\n",
      "Type_of_Contributor:token      object\n",
      "Type_of_Contributor:id         object\n",
      "Type_of_Contributor            object\n",
      "Specific_Business:token        object\n",
      "Specific_Business:id           object\n",
      "Specific_Business              object\n",
      "General_Industry:token         object\n",
      "General_Industry:id            object\n",
      "General_Industry               object\n",
      "Broad_Sector:token             object\n",
      "Broad_Sector:id                object\n",
      "Broad_Sector                   object\n",
      "Amount:token                   object\n",
      "Amount:id                      object\n",
      "Amount                         object\n",
      "Date:token                     object\n",
      "Date:id                        object\n",
      "Date                           object\n",
      "Last_Updated:token             object\n",
      "Last_Updated:id                object\n",
      "Last_Updated                   object\n",
      "Type_of_Transaction:token      object\n",
      "Type_of_Transaction:id         object\n",
      "Type_of_Transaction            object\n",
      "Purpose:token                  object\n",
      "Purpose:id                     object\n",
      "Purpose                        object\n",
      "City:token                     object\n",
      "City:id                        object\n",
      "City                           object\n",
      "State:token                    object\n",
      "State:id                       object\n",
      "State                          object\n",
      "Zip:token                      object\n",
      "Zip:id                         object\n",
      "Zip                            float64\n",
      "In-State:token                 object\n",
      "In-State:id                    float64\n",
      "In-State                       float64\n",
      "dtypes: float64(3), int64(1), object(45)\n",
      "memory usage: 792.0+ MB\n"
     ]
    }
   ],
   "source": [
    "contribs_18 = pd.read_csv(\"data/contribs_18.csv\", encoding=\"ISO-8859-1\")\n",
    "contribs_18.info()"
   ]
  },
  {
   "cell_type": "code",
   "execution_count": 47,
   "metadata": {},
   "outputs": [
    {
     "name": "stdout",
     "output_type": "stream",
     "text": [
      "<class 'pandas.core.frame.DataFrame'>\n",
      "RangeIndex: 2118572 entries, 0 to 2118571\n",
      "Data columns (total 49 columns):\n",
      "request                        object\n",
      "Election_Jurisdiction:token    object\n",
      "Election_Jurisdiction:id       object\n",
      "Election_Jurisdiction          object\n",
      "Original_Name:token            object\n",
      "Original_Name:id               int64\n",
      "Original_Name                  object\n",
      "Contributor:token              object\n",
      "Contributor:id                 object\n",
      "Contributor                    object\n",
      "Type_of_Contributor:token      object\n",
      "Type_of_Contributor:id         object\n",
      "Type_of_Contributor            object\n",
      "Specific_Business:token        object\n",
      "Specific_Business:id           object\n",
      "Specific_Business              object\n",
      "General_Industry:token         object\n",
      "General_Industry:id            object\n",
      "General_Industry               object\n",
      "Broad_Sector:token             object\n",
      "Broad_Sector:id                object\n",
      "Broad_Sector                   object\n",
      "Amount:token                   object\n",
      "Amount:id                      object\n",
      "Amount                         float64\n",
      "Date:token                     object\n",
      "Date:id                        object\n",
      "Date                           object\n",
      "Last_Updated:token             object\n",
      "Last_Updated:id                object\n",
      "Last_Updated                   object\n",
      "Type_of_Transaction:token      object\n",
      "Type_of_Transaction:id         object\n",
      "Type_of_Transaction            object\n",
      "Purpose:token                  object\n",
      "Purpose:id                     object\n",
      "Purpose                        object\n",
      "City:token                     object\n",
      "City:id                        object\n",
      "City                           object\n",
      "State:token                    object\n",
      "State:id                       object\n",
      "State                          object\n",
      "Zip:token                      object\n",
      "Zip:id                         object\n",
      "Zip                            float64\n",
      "In-State:token                 object\n",
      "In-State:id                    float64\n",
      "In-State                       float64\n",
      "dtypes: float64(4), int64(1), object(44)\n",
      "memory usage: 792.0+ MB\n"
     ]
    }
   ],
   "source": [
    "contribs_18[\"Amount\"] = pd.to_numeric(contribs_18[\"Amount\"], errors=\"coerce\")\n",
    "contribs_18.info()"
   ]
  },
  {
   "cell_type": "code",
   "execution_count": 48,
   "metadata": {
    "scrolled": true
   },
   "outputs": [
    {
     "data": {
      "text/html": [
       "<div>\n",
       "<style scoped>\n",
       "    .dataframe tbody tr th:only-of-type {\n",
       "        vertical-align: middle;\n",
       "    }\n",
       "\n",
       "    .dataframe tbody tr th {\n",
       "        vertical-align: top;\n",
       "    }\n",
       "\n",
       "    .dataframe thead th {\n",
       "        text-align: right;\n",
       "    }\n",
       "</style>\n",
       "<table border=\"1\" class=\"dataframe\">\n",
       "  <thead>\n",
       "    <tr style=\"text-align: right;\">\n",
       "      <th></th>\n",
       "      <th>request</th>\n",
       "      <th>Election_Jurisdiction:token</th>\n",
       "      <th>Election_Jurisdiction:id</th>\n",
       "      <th>Election_Jurisdiction</th>\n",
       "      <th>Original_Name:token</th>\n",
       "      <th>Original_Name:id</th>\n",
       "      <th>Original_Name</th>\n",
       "      <th>Contributor:token</th>\n",
       "      <th>Contributor:id</th>\n",
       "      <th>Contributor</th>\n",
       "      <th>Type_of_Contributor:token</th>\n",
       "      <th>Type_of_Contributor:id</th>\n",
       "      <th>Type_of_Contributor</th>\n",
       "      <th>Specific_Business:token</th>\n",
       "      <th>Specific_Business:id</th>\n",
       "      <th>Specific_Business</th>\n",
       "      <th>General_Industry:token</th>\n",
       "      <th>General_Industry:id</th>\n",
       "      <th>General_Industry</th>\n",
       "      <th>Broad_Sector:token</th>\n",
       "      <th>Broad_Sector:id</th>\n",
       "      <th>Broad_Sector</th>\n",
       "      <th>Amount:token</th>\n",
       "      <th>Amount:id</th>\n",
       "      <th>Amount</th>\n",
       "      <th>Date:token</th>\n",
       "      <th>Date:id</th>\n",
       "      <th>Date</th>\n",
       "      <th>Last_Updated:token</th>\n",
       "      <th>Last_Updated:id</th>\n",
       "      <th>Last_Updated</th>\n",
       "      <th>Type_of_Transaction:token</th>\n",
       "      <th>Type_of_Transaction:id</th>\n",
       "      <th>Type_of_Transaction</th>\n",
       "      <th>Purpose:token</th>\n",
       "      <th>Purpose:id</th>\n",
       "      <th>Purpose</th>\n",
       "      <th>City:token</th>\n",
       "      <th>City:id</th>\n",
       "      <th>City</th>\n",
       "      <th>State:token</th>\n",
       "      <th>State:id</th>\n",
       "      <th>State</th>\n",
       "      <th>Zip:token</th>\n",
       "      <th>Zip:id</th>\n",
       "      <th>Zip</th>\n",
       "      <th>In-State:token</th>\n",
       "      <th>In-State:id</th>\n",
       "      <th>In-State</th>\n",
       "    </tr>\n",
       "  </thead>\n",
       "  <tbody>\n",
       "    <tr>\n",
       "      <th>0</th>\n",
       "      <td>dt=1&amp;y=2018&amp;c-exi=1&amp;c-r-oc=Z10,Z70&amp;c-r-ot=G,S,...</td>\n",
       "      <td>s</td>\n",
       "      <td>IL</td>\n",
       "      <td>IL</td>\n",
       "      <td>d-nme</td>\n",
       "      <td>2131992</td>\n",
       "      <td>RAUNER, BRUCE</td>\n",
       "      <td>d-eid</td>\n",
       "      <td>2922304</td>\n",
       "      <td>RAUNER, BRUCE VINCENT</td>\n",
       "      <td>d-et</td>\n",
       "      <td>2</td>\n",
       "      <td>Individual</td>\n",
       "      <td>d-ccb</td>\n",
       "      <td>450</td>\n",
       "      <td>Candidate Self Finance</td>\n",
       "      <td>d-cci</td>\n",
       "      <td>133</td>\n",
       "      <td>Candidate Contributions</td>\n",
       "      <td>d-ccg</td>\n",
       "      <td>17</td>\n",
       "      <td>Candidate Contributions</td>\n",
       "      <td>d-amt</td>\n",
       "      <td>5e+07</td>\n",
       "      <td>50000000.0</td>\n",
       "      <td>d-dte</td>\n",
       "      <td>2016-12-20</td>\n",
       "      <td>2016-12-20</td>\n",
       "      <td>d-ludte</td>\n",
       "      <td>2017-10-26</td>\n",
       "      <td>2017-10-26</td>\n",
       "      <td>d-typ</td>\n",
       "      <td>1</td>\n",
       "      <td>DIR</td>\n",
       "      <td>d-purp</td>\n",
       "      <td>154501380</td>\n",
       "      <td>NaN</td>\n",
       "      <td>d-ad-cty</td>\n",
       "      <td>WINNETKA</td>\n",
       "      <td>WINNETKA</td>\n",
       "      <td>d-ad-st</td>\n",
       "      <td>IL</td>\n",
       "      <td>IL</td>\n",
       "      <td>d-ad-zip</td>\n",
       "      <td>60093</td>\n",
       "      <td>60093.0</td>\n",
       "      <td>d-ins</td>\n",
       "      <td>1.0</td>\n",
       "      <td>1.0</td>\n",
       "    </tr>\n",
       "  </tbody>\n",
       "</table>\n",
       "</div>"
      ],
      "text/plain": [
       "                                             request  \\\n",
       "0  dt=1&y=2018&c-exi=1&c-r-oc=Z10,Z70&c-r-ot=G,S,...   \n",
       "\n",
       "  Election_Jurisdiction:token Election_Jurisdiction:id Election_Jurisdiction  \\\n",
       "0                           s                       IL                    IL   \n",
       "\n",
       "  Original_Name:token  Original_Name:id  Original_Name Contributor:token  \\\n",
       "0               d-nme           2131992  RAUNER, BRUCE             d-eid   \n",
       "\n",
       "  Contributor:id            Contributor Type_of_Contributor:token  \\\n",
       "0        2922304  RAUNER, BRUCE VINCENT                      d-et   \n",
       "\n",
       "  Type_of_Contributor:id Type_of_Contributor Specific_Business:token  \\\n",
       "0                      2          Individual                   d-ccb   \n",
       "\n",
       "  Specific_Business:id       Specific_Business General_Industry:token  \\\n",
       "0                  450  Candidate Self Finance                  d-cci   \n",
       "\n",
       "  General_Industry:id         General_Industry Broad_Sector:token  \\\n",
       "0                 133  Candidate Contributions              d-ccg   \n",
       "\n",
       "  Broad_Sector:id             Broad_Sector Amount:token Amount:id      Amount  \\\n",
       "0              17  Candidate Contributions        d-amt     5e+07  50000000.0   \n",
       "\n",
       "  Date:token     Date:id        Date Last_Updated:token Last_Updated:id  \\\n",
       "0      d-dte  2016-12-20  2016-12-20            d-ludte      2017-10-26   \n",
       "\n",
       "  Last_Updated Type_of_Transaction:token Type_of_Transaction:id  \\\n",
       "0   2017-10-26                     d-typ                      1   \n",
       "\n",
       "  Type_of_Transaction Purpose:token Purpose:id Purpose City:token   City:id  \\\n",
       "0                 DIR        d-purp  154501380     NaN   d-ad-cty  WINNETKA   \n",
       "\n",
       "       City State:token State:id State Zip:token Zip:id      Zip  \\\n",
       "0  WINNETKA     d-ad-st       IL    IL  d-ad-zip  60093  60093.0   \n",
       "\n",
       "  In-State:token  In-State:id  In-State  \n",
       "0          d-ins          1.0       1.0  "
      ]
     },
     "execution_count": 48,
     "metadata": {},
     "output_type": "execute_result"
    }
   ],
   "source": [
    "contribs_18.head(1)"
   ]
  },
  {
   "cell_type": "code",
   "execution_count": 49,
   "metadata": {},
   "outputs": [
    {
     "data": {
      "text/html": [
       "<div>\n",
       "<style scoped>\n",
       "    .dataframe tbody tr th:only-of-type {\n",
       "        vertical-align: middle;\n",
       "    }\n",
       "\n",
       "    .dataframe tbody tr th {\n",
       "        vertical-align: top;\n",
       "    }\n",
       "\n",
       "    .dataframe thead th {\n",
       "        text-align: right;\n",
       "    }\n",
       "</style>\n",
       "<table border=\"1\" class=\"dataframe\">\n",
       "  <thead>\n",
       "    <tr style=\"text-align: right;\">\n",
       "      <th></th>\n",
       "      <th>state</th>\n",
       "      <th>amount</th>\n",
       "      <th>date</th>\n",
       "    </tr>\n",
       "  </thead>\n",
       "  <tbody>\n",
       "    <tr>\n",
       "      <th>0</th>\n",
       "      <td>IL</td>\n",
       "      <td>50000000.0</td>\n",
       "      <td>2016-12-20</td>\n",
       "    </tr>\n",
       "  </tbody>\n",
       "</table>\n",
       "</div>"
      ],
      "text/plain": [
       "  state      amount        date\n",
       "0    IL  50000000.0  2016-12-20"
      ]
     },
     "execution_count": 49,
     "metadata": {},
     "output_type": "execute_result"
    }
   ],
   "source": [
    "contribs_18 = contribs_18[[\"Election_Jurisdiction\", \"Amount\", \"Date\"]]\n",
    "contribs_18.rename(columns={\"Election_Jurisdiction\": \"state\", \"Amount\": \"amount\", \"Date\": \"date\"}, inplace=True)\n",
    "contribs_18.head(1)"
   ]
  },
  {
   "cell_type": "code",
   "execution_count": 50,
   "metadata": {},
   "outputs": [
    {
     "name": "stdout",
     "output_type": "stream",
     "text": [
      "<class 'pandas.core.frame.DataFrame'>\n",
      "RangeIndex: 2118572 entries, 0 to 2118571\n",
      "Data columns (total 3 columns):\n",
      "state     object\n",
      "amount    float64\n",
      "date      datetime64[ns]\n",
      "dtypes: datetime64[ns](1), float64(1), object(1)\n",
      "memory usage: 48.5+ MB\n"
     ]
    }
   ],
   "source": [
    "contribs_18[\"date\"] = pd.to_datetime(contribs_18[\"date\"], errors=\"coerce\")\n",
    "contribs_18.info()"
   ]
  },
  {
   "cell_type": "markdown",
   "metadata": {},
   "source": [
    "Create month and year column."
   ]
  },
  {
   "cell_type": "code",
   "execution_count": 54,
   "metadata": {},
   "outputs": [
    {
     "name": "stdout",
     "output_type": "stream",
     "text": [
      "<class 'pandas.core.frame.DataFrame'>\n",
      "RangeIndex: 2118572 entries, 0 to 2118571\n",
      "Data columns (total 4 columns):\n",
      "state         object\n",
      "amount        float64\n",
      "date          datetime64[ns]\n",
      "month_year    object\n",
      "dtypes: datetime64[ns](1), float64(1), object(2)\n",
      "memory usage: 64.7+ MB\n"
     ]
    }
   ],
   "source": [
    "contribs_18[\"month_year\"] = contribs_18.date.dt.to_period(\"M\")\n",
    "contribs_18.info()"
   ]
  },
  {
   "cell_type": "code",
   "execution_count": 70,
   "metadata": {},
   "outputs": [
    {
     "name": "stdout",
     "output_type": "stream",
     "text": [
      "<class 'pandas.core.frame.DataFrame'>\n",
      "RangeIndex: 1464 entries, 0 to 1463\n",
      "Data columns (total 3 columns):\n",
      "state         1464 non-null object\n",
      "month_year    1464 non-null object\n",
      "amount        1464 non-null float64\n",
      "dtypes: float64(1), object(2)\n",
      "memory usage: 34.4+ KB\n"
     ]
    }
   ],
   "source": [
    "grouped_by_month_year = contribs_18.groupby([\"state\", \"month_year\"])[\"amount\"].sum().reset_index()\n",
    "grouped_by_month_year.info()"
   ]
  },
  {
   "cell_type": "code",
   "execution_count": 71,
   "metadata": {},
   "outputs": [
    {
     "name": "stdout",
     "output_type": "stream",
     "text": [
      "<class 'pandas.core.frame.DataFrame'>\n",
      "RangeIndex: 1464 entries, 0 to 1463\n",
      "Data columns (total 3 columns):\n",
      "state         1464 non-null object\n",
      "month_year    1464 non-null object\n",
      "amount        1464 non-null float64\n",
      "dtypes: float64(1), object(2)\n",
      "memory usage: 34.4+ KB\n"
     ]
    }
   ],
   "source": [
    "grouped_by_month_year[\"month_year\"] = grouped_by_month_year[\"month_year\"].astype(str) + \"-28\" # No month has fewer than 28 days\n",
    "grouped_by_month_year.info()"
   ]
  },
  {
   "cell_type": "code",
   "execution_count": 72,
   "metadata": {},
   "outputs": [
    {
     "data": {
      "text/html": [
       "<div>\n",
       "<style scoped>\n",
       "    .dataframe tbody tr th:only-of-type {\n",
       "        vertical-align: middle;\n",
       "    }\n",
       "\n",
       "    .dataframe tbody tr th {\n",
       "        vertical-align: top;\n",
       "    }\n",
       "\n",
       "    .dataframe thead th {\n",
       "        text-align: right;\n",
       "    }\n",
       "</style>\n",
       "<table border=\"1\" class=\"dataframe\">\n",
       "  <thead>\n",
       "    <tr style=\"text-align: right;\">\n",
       "      <th></th>\n",
       "      <th>state</th>\n",
       "      <th>month_year</th>\n",
       "      <th>amount</th>\n",
       "    </tr>\n",
       "  </thead>\n",
       "  <tbody>\n",
       "    <tr>\n",
       "      <th>0</th>\n",
       "      <td>AK</td>\n",
       "      <td>2017-04-28</td>\n",
       "      <td>223.93</td>\n",
       "    </tr>\n",
       "    <tr>\n",
       "      <th>1</th>\n",
       "      <td>AK</td>\n",
       "      <td>2017-05-28</td>\n",
       "      <td>1177.04</td>\n",
       "    </tr>\n",
       "    <tr>\n",
       "      <th>2</th>\n",
       "      <td>AK</td>\n",
       "      <td>2017-06-28</td>\n",
       "      <td>1750.00</td>\n",
       "    </tr>\n",
       "    <tr>\n",
       "      <th>3</th>\n",
       "      <td>AK</td>\n",
       "      <td>2017-07-28</td>\n",
       "      <td>9684.21</td>\n",
       "    </tr>\n",
       "    <tr>\n",
       "      <th>4</th>\n",
       "      <td>AK</td>\n",
       "      <td>2017-08-28</td>\n",
       "      <td>63999.19</td>\n",
       "    </tr>\n",
       "  </tbody>\n",
       "</table>\n",
       "</div>"
      ],
      "text/plain": [
       "  state  month_year    amount\n",
       "0    AK  2017-04-28    223.93\n",
       "1    AK  2017-05-28   1177.04\n",
       "2    AK  2017-06-28   1750.00\n",
       "3    AK  2017-07-28   9684.21\n",
       "4    AK  2017-08-28  63999.19"
      ]
     },
     "execution_count": 72,
     "metadata": {},
     "output_type": "execute_result"
    }
   ],
   "source": [
    "grouped_by_month_year.head()"
   ]
  },
  {
   "cell_type": "code",
   "execution_count": 73,
   "metadata": {},
   "outputs": [
    {
     "name": "stdout",
     "output_type": "stream",
     "text": [
      "<class 'pandas.core.frame.DataFrame'>\n",
      "RangeIndex: 1464 entries, 0 to 1463\n",
      "Data columns (total 3 columns):\n",
      "state         1464 non-null object\n",
      "month_year    1464 non-null datetime64[ns]\n",
      "amount        1464 non-null float64\n",
      "dtypes: datetime64[ns](1), float64(1), object(1)\n",
      "memory usage: 34.4+ KB\n"
     ]
    }
   ],
   "source": [
    "grouped_by_month_year[\"month_year\"] = pd.to_datetime(grouped_by_month_year[\"month_year\"], errors=\"coerce\")\n",
    "grouped_by_month_year.info()"
   ]
  },
  {
   "cell_type": "code",
   "execution_count": 74,
   "metadata": {},
   "outputs": [
    {
     "data": {
      "text/html": [
       "<div>\n",
       "<style scoped>\n",
       "    .dataframe tbody tr th:only-of-type {\n",
       "        vertical-align: middle;\n",
       "    }\n",
       "\n",
       "    .dataframe tbody tr th {\n",
       "        vertical-align: top;\n",
       "    }\n",
       "\n",
       "    .dataframe thead th {\n",
       "        text-align: right;\n",
       "    }\n",
       "</style>\n",
       "<table border=\"1\" class=\"dataframe\">\n",
       "  <thead>\n",
       "    <tr style=\"text-align: right;\">\n",
       "      <th></th>\n",
       "      <th>state</th>\n",
       "      <th>month_year</th>\n",
       "      <th>amount</th>\n",
       "    </tr>\n",
       "  </thead>\n",
       "  <tbody>\n",
       "    <tr>\n",
       "      <th>0</th>\n",
       "      <td>AK</td>\n",
       "      <td>2017-04-28</td>\n",
       "      <td>223.93</td>\n",
       "    </tr>\n",
       "    <tr>\n",
       "      <th>1</th>\n",
       "      <td>AK</td>\n",
       "      <td>2017-05-28</td>\n",
       "      <td>1177.04</td>\n",
       "    </tr>\n",
       "    <tr>\n",
       "      <th>2</th>\n",
       "      <td>AK</td>\n",
       "      <td>2017-06-28</td>\n",
       "      <td>1750.00</td>\n",
       "    </tr>\n",
       "    <tr>\n",
       "      <th>3</th>\n",
       "      <td>AK</td>\n",
       "      <td>2017-07-28</td>\n",
       "      <td>9684.21</td>\n",
       "    </tr>\n",
       "    <tr>\n",
       "      <th>4</th>\n",
       "      <td>AK</td>\n",
       "      <td>2017-08-28</td>\n",
       "      <td>63999.19</td>\n",
       "    </tr>\n",
       "  </tbody>\n",
       "</table>\n",
       "</div>"
      ],
      "text/plain": [
       "  state month_year    amount\n",
       "0    AK 2017-04-28    223.93\n",
       "1    AK 2017-05-28   1177.04\n",
       "2    AK 2017-06-28   1750.00\n",
       "3    AK 2017-07-28   9684.21\n",
       "4    AK 2017-08-28  63999.19"
      ]
     },
     "execution_count": 74,
     "metadata": {},
     "output_type": "execute_result"
    }
   ],
   "source": [
    "grouped_by_month_year.head()"
   ]
  },
  {
   "cell_type": "markdown",
   "metadata": {},
   "source": [
    "Filter out months after August 2018 or months with fewer than $2,500 in contributions to eliminate the noise."
   ]
  },
  {
   "cell_type": "code",
   "execution_count": 75,
   "metadata": {},
   "outputs": [
    {
     "name": "stdout",
     "output_type": "stream",
     "text": [
      "<class 'pandas.core.frame.DataFrame'>\n",
      "Int64Index: 1173 entries, 3 to 1463\n",
      "Data columns (total 3 columns):\n",
      "state         1173 non-null object\n",
      "month_year    1173 non-null datetime64[ns]\n",
      "amount        1173 non-null float64\n",
      "dtypes: datetime64[ns](1), float64(1), object(1)\n",
      "memory usage: 36.7+ KB\n"
     ]
    }
   ],
   "source": [
    "grouped_by_month_year = grouped_by_month_year[(grouped_by_month_year[\"amount\"] >= 2500) & (grouped_by_month_year[\"month_year\"] <= \"2018-08-28\")]\n",
    "grouped_by_month_year.info()"
   ]
  },
  {
   "cell_type": "markdown",
   "metadata": {},
   "source": [
    "Return the most recent month with at least $2,500 in contributions for each state."
   ]
  },
  {
   "cell_type": "code",
   "execution_count": 76,
   "metadata": {
    "scrolled": true
   },
   "outputs": [
    {
     "data": {
      "text/html": [
       "<div>\n",
       "<style scoped>\n",
       "    .dataframe tbody tr th:only-of-type {\n",
       "        vertical-align: middle;\n",
       "    }\n",
       "\n",
       "    .dataframe tbody tr th {\n",
       "        vertical-align: top;\n",
       "    }\n",
       "\n",
       "    .dataframe thead th {\n",
       "        text-align: right;\n",
       "    }\n",
       "</style>\n",
       "<table border=\"1\" class=\"dataframe\">\n",
       "  <thead>\n",
       "    <tr style=\"text-align: right;\">\n",
       "      <th></th>\n",
       "      <th>state</th>\n",
       "      <th>month_year</th>\n",
       "    </tr>\n",
       "  </thead>\n",
       "  <tbody>\n",
       "    <tr>\n",
       "      <th>0</th>\n",
       "      <td>AK</td>\n",
       "      <td>2018-07-28</td>\n",
       "    </tr>\n",
       "    <tr>\n",
       "      <th>1</th>\n",
       "      <td>AL</td>\n",
       "      <td>2018-07-28</td>\n",
       "    </tr>\n",
       "    <tr>\n",
       "      <th>2</th>\n",
       "      <td>AR</td>\n",
       "      <td>2018-03-28</td>\n",
       "    </tr>\n",
       "    <tr>\n",
       "      <th>3</th>\n",
       "      <td>AZ</td>\n",
       "      <td>2017-12-28</td>\n",
       "    </tr>\n",
       "    <tr>\n",
       "      <th>4</th>\n",
       "      <td>CA</td>\n",
       "      <td>2018-07-28</td>\n",
       "    </tr>\n",
       "    <tr>\n",
       "      <th>5</th>\n",
       "      <td>CO</td>\n",
       "      <td>2018-06-28</td>\n",
       "    </tr>\n",
       "    <tr>\n",
       "      <th>6</th>\n",
       "      <td>CT</td>\n",
       "      <td>2018-03-28</td>\n",
       "    </tr>\n",
       "    <tr>\n",
       "      <th>7</th>\n",
       "      <td>FL</td>\n",
       "      <td>2018-08-28</td>\n",
       "    </tr>\n",
       "    <tr>\n",
       "      <th>8</th>\n",
       "      <td>GA</td>\n",
       "      <td>2018-07-28</td>\n",
       "    </tr>\n",
       "    <tr>\n",
       "      <th>9</th>\n",
       "      <td>HI</td>\n",
       "      <td>2017-12-28</td>\n",
       "    </tr>\n",
       "    <tr>\n",
       "      <th>10</th>\n",
       "      <td>IA</td>\n",
       "      <td>2018-07-28</td>\n",
       "    </tr>\n",
       "    <tr>\n",
       "      <th>11</th>\n",
       "      <td>ID</td>\n",
       "      <td>2018-08-28</td>\n",
       "    </tr>\n",
       "    <tr>\n",
       "      <th>12</th>\n",
       "      <td>IL</td>\n",
       "      <td>2018-06-28</td>\n",
       "    </tr>\n",
       "    <tr>\n",
       "      <th>13</th>\n",
       "      <td>IN</td>\n",
       "      <td>2018-04-28</td>\n",
       "    </tr>\n",
       "    <tr>\n",
       "      <th>14</th>\n",
       "      <td>KS</td>\n",
       "      <td>2017-12-28</td>\n",
       "    </tr>\n",
       "    <tr>\n",
       "      <th>15</th>\n",
       "      <td>KY</td>\n",
       "      <td>2018-07-28</td>\n",
       "    </tr>\n",
       "    <tr>\n",
       "      <th>16</th>\n",
       "      <td>LA</td>\n",
       "      <td>2018-03-28</td>\n",
       "    </tr>\n",
       "    <tr>\n",
       "      <th>17</th>\n",
       "      <td>MA</td>\n",
       "      <td>2018-06-28</td>\n",
       "    </tr>\n",
       "    <tr>\n",
       "      <th>18</th>\n",
       "      <td>MD</td>\n",
       "      <td>2018-06-28</td>\n",
       "    </tr>\n",
       "    <tr>\n",
       "      <th>19</th>\n",
       "      <td>ME</td>\n",
       "      <td>2018-05-28</td>\n",
       "    </tr>\n",
       "    <tr>\n",
       "      <th>20</th>\n",
       "      <td>MI</td>\n",
       "      <td>2018-07-28</td>\n",
       "    </tr>\n",
       "    <tr>\n",
       "      <th>21</th>\n",
       "      <td>MN</td>\n",
       "      <td>2017-12-28</td>\n",
       "    </tr>\n",
       "    <tr>\n",
       "      <th>22</th>\n",
       "      <td>MO</td>\n",
       "      <td>2017-12-28</td>\n",
       "    </tr>\n",
       "    <tr>\n",
       "      <th>23</th>\n",
       "      <td>NC</td>\n",
       "      <td>2018-04-28</td>\n",
       "    </tr>\n",
       "    <tr>\n",
       "      <th>24</th>\n",
       "      <td>NE</td>\n",
       "      <td>2018-05-28</td>\n",
       "    </tr>\n",
       "    <tr>\n",
       "      <th>25</th>\n",
       "      <td>NH</td>\n",
       "      <td>2017-12-28</td>\n",
       "    </tr>\n",
       "    <tr>\n",
       "      <th>26</th>\n",
       "      <td>NM</td>\n",
       "      <td>2018-06-28</td>\n",
       "    </tr>\n",
       "    <tr>\n",
       "      <th>27</th>\n",
       "      <td>NV</td>\n",
       "      <td>2017-12-28</td>\n",
       "    </tr>\n",
       "    <tr>\n",
       "      <th>28</th>\n",
       "      <td>NY</td>\n",
       "      <td>2018-05-28</td>\n",
       "    </tr>\n",
       "    <tr>\n",
       "      <th>29</th>\n",
       "      <td>OH</td>\n",
       "      <td>2018-06-28</td>\n",
       "    </tr>\n",
       "    <tr>\n",
       "      <th>30</th>\n",
       "      <td>OK</td>\n",
       "      <td>2017-12-28</td>\n",
       "    </tr>\n",
       "    <tr>\n",
       "      <th>31</th>\n",
       "      <td>OR</td>\n",
       "      <td>2018-05-28</td>\n",
       "    </tr>\n",
       "    <tr>\n",
       "      <th>32</th>\n",
       "      <td>PA</td>\n",
       "      <td>2018-05-28</td>\n",
       "    </tr>\n",
       "    <tr>\n",
       "      <th>33</th>\n",
       "      <td>RI</td>\n",
       "      <td>2017-12-28</td>\n",
       "    </tr>\n",
       "    <tr>\n",
       "      <th>34</th>\n",
       "      <td>SC</td>\n",
       "      <td>2018-05-28</td>\n",
       "    </tr>\n",
       "    <tr>\n",
       "      <th>35</th>\n",
       "      <td>SD</td>\n",
       "      <td>2016-12-28</td>\n",
       "    </tr>\n",
       "    <tr>\n",
       "      <th>36</th>\n",
       "      <td>TN</td>\n",
       "      <td>2018-04-28</td>\n",
       "    </tr>\n",
       "    <tr>\n",
       "      <th>37</th>\n",
       "      <td>TX</td>\n",
       "      <td>2018-06-28</td>\n",
       "    </tr>\n",
       "    <tr>\n",
       "      <th>38</th>\n",
       "      <td>VT</td>\n",
       "      <td>2016-12-28</td>\n",
       "    </tr>\n",
       "    <tr>\n",
       "      <th>39</th>\n",
       "      <td>WA</td>\n",
       "      <td>2018-04-28</td>\n",
       "    </tr>\n",
       "    <tr>\n",
       "      <th>40</th>\n",
       "      <td>WI</td>\n",
       "      <td>2018-06-28</td>\n",
       "    </tr>\n",
       "    <tr>\n",
       "      <th>41</th>\n",
       "      <td>WY</td>\n",
       "      <td>2017-12-28</td>\n",
       "    </tr>\n",
       "  </tbody>\n",
       "</table>\n",
       "</div>"
      ],
      "text/plain": [
       "   state month_year\n",
       "0     AK 2018-07-28\n",
       "1     AL 2018-07-28\n",
       "2     AR 2018-03-28\n",
       "3     AZ 2017-12-28\n",
       "4     CA 2018-07-28\n",
       "5     CO 2018-06-28\n",
       "6     CT 2018-03-28\n",
       "7     FL 2018-08-28\n",
       "8     GA 2018-07-28\n",
       "9     HI 2017-12-28\n",
       "10    IA 2018-07-28\n",
       "11    ID 2018-08-28\n",
       "12    IL 2018-06-28\n",
       "13    IN 2018-04-28\n",
       "14    KS 2017-12-28\n",
       "15    KY 2018-07-28\n",
       "16    LA 2018-03-28\n",
       "17    MA 2018-06-28\n",
       "18    MD 2018-06-28\n",
       "19    ME 2018-05-28\n",
       "20    MI 2018-07-28\n",
       "21    MN 2017-12-28\n",
       "22    MO 2017-12-28\n",
       "23    NC 2018-04-28\n",
       "24    NE 2018-05-28\n",
       "25    NH 2017-12-28\n",
       "26    NM 2018-06-28\n",
       "27    NV 2017-12-28\n",
       "28    NY 2018-05-28\n",
       "29    OH 2018-06-28\n",
       "30    OK 2017-12-28\n",
       "31    OR 2018-05-28\n",
       "32    PA 2018-05-28\n",
       "33    RI 2017-12-28\n",
       "34    SC 2018-05-28\n",
       "35    SD 2016-12-28\n",
       "36    TN 2018-04-28\n",
       "37    TX 2018-06-28\n",
       "38    VT 2016-12-28\n",
       "39    WA 2018-04-28\n",
       "40    WI 2018-06-28\n",
       "41    WY 2017-12-28"
      ]
     },
     "execution_count": 76,
     "metadata": {},
     "output_type": "execute_result"
    }
   ],
   "source": [
    "latest_month = grouped_by_month_year.groupby(\"state\")[\"month_year\"].max().reset_index()\n",
    "latest_month"
   ]
  },
  {
   "cell_type": "code",
   "execution_count": null,
   "metadata": {},
   "outputs": [],
   "source": []
  },
  {
   "cell_type": "code",
   "execution_count": null,
   "metadata": {},
   "outputs": [],
   "source": []
  },
  {
   "cell_type": "code",
   "execution_count": null,
   "metadata": {},
   "outputs": [],
   "source": []
  },
  {
   "cell_type": "code",
   "execution_count": null,
   "metadata": {},
   "outputs": [],
   "source": []
  },
  {
   "cell_type": "code",
   "execution_count": null,
   "metadata": {},
   "outputs": [],
   "source": []
  },
  {
   "cell_type": "code",
   "execution_count": null,
   "metadata": {},
   "outputs": [],
   "source": []
  },
  {
   "cell_type": "code",
   "execution_count": null,
   "metadata": {},
   "outputs": [],
   "source": []
  },
  {
   "cell_type": "code",
   "execution_count": null,
   "metadata": {},
   "outputs": [],
   "source": []
  },
  {
   "cell_type": "code",
   "execution_count": null,
   "metadata": {},
   "outputs": [],
   "source": []
  },
  {
   "cell_type": "markdown",
   "metadata": {},
   "source": [
    "Rename the categories in the in-vs.-out-of-state column."
   ]
  },
  {
   "cell_type": "code",
   "execution_count": 7,
   "metadata": {
    "scrolled": true
   },
   "outputs": [
    {
     "data": {
      "text/html": [
       "<div>\n",
       "<style scoped>\n",
       "    .dataframe tbody tr th:only-of-type {\n",
       "        vertical-align: middle;\n",
       "    }\n",
       "\n",
       "    .dataframe tbody tr th {\n",
       "        vertical-align: top;\n",
       "    }\n",
       "\n",
       "    .dataframe thead th {\n",
       "        text-align: right;\n",
       "    }\n",
       "</style>\n",
       "<table border=\"1\" class=\"dataframe\">\n",
       "  <thead>\n",
       "    <tr style=\"text-align: right;\">\n",
       "      <th></th>\n",
       "      <th>candidate</th>\n",
       "      <th>candidate_id</th>\n",
       "      <th>state</th>\n",
       "      <th>district</th>\n",
       "      <th>year</th>\n",
       "      <th>party</th>\n",
       "      <th>incumbency_status</th>\n",
       "      <th>contributor</th>\n",
       "      <th>contributor_id</th>\n",
       "      <th>contributor_type</th>\n",
       "      <th>business</th>\n",
       "      <th>industry</th>\n",
       "      <th>sector</th>\n",
       "      <th>employer</th>\n",
       "      <th>employer_id</th>\n",
       "      <th>occupation</th>\n",
       "      <th>occupation_id</th>\n",
       "      <th>in_out_state</th>\n",
       "      <th>contributions</th>\n",
       "      <th>records</th>\n",
       "    </tr>\n",
       "  </thead>\n",
       "  <tbody>\n",
       "    <tr>\n",
       "      <th>0</th>\n",
       "      <td>HUFFINES, PHILLIP WAYNE</td>\n",
       "      <td>229342</td>\n",
       "      <td>TX</td>\n",
       "      <td>SENATE DISTRICT 008</td>\n",
       "      <td>2018</td>\n",
       "      <td>Republican</td>\n",
       "      <td>Open</td>\n",
       "      <td>HUFFINES, PHILLIP WAYNE</td>\n",
       "      <td>11168692</td>\n",
       "      <td>Individual</td>\n",
       "      <td>Candidate Self Finance</td>\n",
       "      <td>Candidate Contributions</td>\n",
       "      <td>Candidate Contributions</td>\n",
       "      <td>HUFFINES COMMUNITIES</td>\n",
       "      <td>HUFFINES COMMUNITIES</td>\n",
       "      <td>REAL ESTATE INVESTMENT AND DEVLOPMENT</td>\n",
       "      <td>REAL ESTATE INVESTMENT AND DEVLOPMENT</td>\n",
       "      <td>in-state</td>\n",
       "      <td>5250000.0</td>\n",
       "      <td>5</td>\n",
       "    </tr>\n",
       "  </tbody>\n",
       "</table>\n",
       "</div>"
      ],
      "text/plain": [
       "                 candidate  candidate_id state             district  year  \\\n",
       "0  HUFFINES, PHILLIP WAYNE        229342    TX  SENATE DISTRICT 008  2018   \n",
       "\n",
       "        party incumbency_status              contributor  contributor_id  \\\n",
       "0  Republican              Open  HUFFINES, PHILLIP WAYNE        11168692   \n",
       "\n",
       "  contributor_type                business                 industry  \\\n",
       "0       Individual  Candidate Self Finance  Candidate Contributions   \n",
       "\n",
       "                    sector              employer           employer_id  \\\n",
       "0  Candidate Contributions  HUFFINES COMMUNITIES  HUFFINES COMMUNITIES   \n",
       "\n",
       "                              occupation  \\\n",
       "0  REAL ESTATE INVESTMENT AND DEVLOPMENT   \n",
       "\n",
       "                           occupation_id in_out_state  contributions  records  \n",
       "0  REAL ESTATE INVESTMENT AND DEVLOPMENT     in-state      5250000.0        5  "
      ]
     },
     "execution_count": 7,
     "metadata": {},
     "output_type": "execute_result"
    }
   ],
   "source": [
    "# 0 = out-of-state, 1 = in-state, 2 = unknown\n",
    "contribs_18[\"in_out_state\"] = contribs_18[\"in_out_state\"].replace({0: \"out-of-state\", 1: \"in-state\", 2: \"unknown\"})\n",
    "contribs_18.head(1)"
   ]
  },
  {
   "cell_type": "markdown",
   "metadata": {},
   "source": [
    "Filter out unitemized donations as it is impossible to determine where those contributions originated."
   ]
  },
  {
   "cell_type": "code",
   "execution_count": 8,
   "metadata": {
    "scrolled": true
   },
   "outputs": [
    {
     "name": "stdout",
     "output_type": "stream",
     "text": [
      "<class 'pandas.core.frame.DataFrame'>\n",
      "Int64Index: 684229 entries, 0 to 686825\n",
      "Data columns (total 20 columns):\n",
      "candidate            684229 non-null object\n",
      "candidate_id         684229 non-null int64\n",
      "state                684229 non-null object\n",
      "district             684229 non-null object\n",
      "year                 684229 non-null int64\n",
      "party                684229 non-null object\n",
      "incumbency_status    684229 non-null object\n",
      "contributor          684204 non-null object\n",
      "contributor_id       684229 non-null int64\n",
      "contributor_type     684229 non-null object\n",
      "business             684229 non-null object\n",
      "industry             684229 non-null object\n",
      "sector               684229 non-null object\n",
      "employer             554998 non-null object\n",
      "employer_id          554998 non-null object\n",
      "occupation           292097 non-null object\n",
      "occupation_id        292097 non-null object\n",
      "in_out_state         684229 non-null object\n",
      "contributions        684229 non-null float64\n",
      "records              684229 non-null int64\n",
      "dtypes: float64(1), int64(4), object(15)\n",
      "memory usage: 109.6+ MB\n"
     ]
    }
   ],
   "source": [
    "contribs_18 = contribs_18[contribs_18[\"contributor\"] != \"UNITEMIZED DONATIONS\"]\n",
    "contribs_18.info()"
   ]
  },
  {
   "cell_type": "markdown",
   "metadata": {},
   "source": [
    "### Import data on donors to state legislative races in 2016"
   ]
  },
  {
   "cell_type": "code",
   "execution_count": 9,
   "metadata": {
    "scrolled": false
   },
   "outputs": [
    {
     "name": "stdout",
     "output_type": "stream",
     "text": [
      "<class 'pandas.core.frame.DataFrame'>\n",
      "RangeIndex: 1466910 entries, 0 to 1466909\n",
      "Data columns (total 60 columns):\n",
      "request                        1466910 non-null object\n",
      "Candidate:token                1466910 non-null object\n",
      "Candidate:id                   1466910 non-null int64\n",
      "Candidate                      1466910 non-null object\n",
      "Candidate_Entity:token         1466910 non-null object\n",
      "Candidate_Entity:id            1466910 non-null int64\n",
      "Candidate_Entity               1466910 non-null object\n",
      "Election_Status:token          1466910 non-null object\n",
      "Election_Status:id             1466910 non-null object\n",
      "Election_Status                1466910 non-null object\n",
      "Status_of_Candidate:token      1466910 non-null object\n",
      "Status_of_Candidate:id         1466910 non-null int64\n",
      "Status_of_Candidate            1466910 non-null object\n",
      "Specific_Party:token           1466910 non-null object\n",
      "Specific_Party:id              1466910 non-null int64\n",
      "Specific_Party                 1466910 non-null object\n",
      "General_Party:token            1466910 non-null object\n",
      "General_Party:id               1466910 non-null int64\n",
      "General_Party                  1466910 non-null object\n",
      "Election_Jurisdiction:token    1466910 non-null object\n",
      "Election_Jurisdiction:id       1466910 non-null object\n",
      "Election_Jurisdiction          1466910 non-null object\n",
      "Election_Year:token            1466910 non-null object\n",
      "Election_Year:id               1466910 non-null int64\n",
      "Election_Year                  1466910 non-null int64\n",
      "Election_Type:token            1466910 non-null object\n",
      "Election_Type:id               1466910 non-null int64\n",
      "Election_Type                  1466910 non-null object\n",
      "Office_Sought:token            1466910 non-null object\n",
      "Office_Sought:id               1466910 non-null int64\n",
      "Office_Sought                  1466910 non-null object\n",
      "Incumbency_Status:token        1466910 non-null object\n",
      "Incumbency_Status:id           1466910 non-null object\n",
      "Incumbency_Status              1466910 non-null object\n",
      "Contributor:token              1466910 non-null object\n",
      "Contributor:id                 1466910 non-null int64\n",
      "Contributor                    1466905 non-null object\n",
      "Type_of_Contributor:token      1466910 non-null object\n",
      "Type_of_Contributor:id         1466910 non-null int64\n",
      "Type_of_Contributor            1466910 non-null object\n",
      "Specific_Business:token        1466910 non-null object\n",
      "Specific_Business:id           1466910 non-null int64\n",
      "Specific_Business              1466910 non-null object\n",
      "General_Industry:token         1466910 non-null object\n",
      "General_Industry:id            1466910 non-null int64\n",
      "General_Industry               1466910 non-null object\n",
      "Broad_Sector:token             1466910 non-null object\n",
      "Broad_Sector:id                1466910 non-null int64\n",
      "Broad_Sector                   1466910 non-null object\n",
      "In-State:token                 1466910 non-null object\n",
      "In-State:id                    1466910 non-null int64\n",
      "In-State                       1466910 non-null int64\n",
      "Employer:token                 1466910 non-null object\n",
      "Employer:id                    1097849 non-null object\n",
      "Employer                       1097849 non-null object\n",
      "Occupation:token               1466910 non-null object\n",
      "Occupation:id                  629506 non-null object\n",
      "Occupation                     629506 non-null object\n",
      "#_of_Records                   1466910 non-null int64\n",
      "Total_$                        1466910 non-null float64\n",
      "dtypes: float64(1), int64(17), object(42)\n",
      "memory usage: 671.5+ MB\n"
     ]
    },
    {
     "data": {
      "application/javascript": [
       "$(document).ready(\n",
       "    function() {\n",
       "        function appendUniqueDiv(){\n",
       "            // append a div with our uuid so we can check that it's already\n",
       "            // been sent and avoid duplicates on page reload\n",
       "            var notifiedDiv = document.createElement(\"div\")\n",
       "            notifiedDiv.id = \"9c5d02ef-6ae1-44cc-b4fe-e104cef30a53\"\n",
       "            element.append(notifiedDiv)\n",
       "        }\n",
       "\n",
       "        // only send notifications if the pageload is complete; this will\n",
       "        // help stop extra notifications when a saved notebook is loaded,\n",
       "        // which during testing gives us state \"interactive\", not \"complete\"\n",
       "        if (document.readyState === 'complete') {\n",
       "            // check for the div that signifies that the notification\n",
       "            // was already sent\n",
       "            if (document.getElementById(\"9c5d02ef-6ae1-44cc-b4fe-e104cef30a53\") === null) {\n",
       "                var notificationPayload = {\"requireInteraction\": false, \"icon\": \"/static/base/images/favicon.ico\", \"body\": \"Cell execution has finished!\"};\n",
       "                if (Notification.permission !== 'denied') {\n",
       "                    if (Notification.permission !== 'granted') { \n",
       "                        Notification.requestPermission(function (permission) {\n",
       "                            if(!('permission' in Notification)) {\n",
       "                                Notification.permission = permission\n",
       "                            }\n",
       "                        })\n",
       "                    }\n",
       "                    if (Notification.permission === 'granted') {\n",
       "                    var notification = new Notification(\"Jupyter Notebook\", notificationPayload)\n",
       "                    appendUniqueDiv()\n",
       "                    notification.onclick = function () {\n",
       "                        window.focus();\n",
       "                        this.close();\n",
       "                        };\n",
       "                    } \n",
       "                }     \n",
       "            }\n",
       "        }\n",
       "    }\n",
       ")\n"
      ],
      "text/plain": [
       "<IPython.core.display.Javascript object>"
      ]
     },
     "metadata": {},
     "output_type": "display_data"
    }
   ],
   "source": [
    "%%notify\n",
    "contribs_16 = pd.read_csv(\"https://www.followthemoney.org/aaengine/aafetch.php?dt=1&y=2016&c-exi=1&c-r-ot=S,H&gro=c-t-id,d-eid,d-ccb,d-ins,d-empl,d-occupation&APIKey=\"+nimp_key+\"&mode=csv\")\n",
    "contribs_16.to_csv(\"data/contribs_16.csv\", index=False)\n",
    "contribs_16 = pd.read_csv(\"data/contribs_16.csv\", encoding=\"ISO-8859-1\")\n",
    "contribs_16.info()"
   ]
  },
  {
   "cell_type": "code",
   "execution_count": 10,
   "metadata": {
    "scrolled": false
   },
   "outputs": [
    {
     "data": {
      "text/html": [
       "<div>\n",
       "<style scoped>\n",
       "    .dataframe tbody tr th:only-of-type {\n",
       "        vertical-align: middle;\n",
       "    }\n",
       "\n",
       "    .dataframe tbody tr th {\n",
       "        vertical-align: top;\n",
       "    }\n",
       "\n",
       "    .dataframe thead th {\n",
       "        text-align: right;\n",
       "    }\n",
       "</style>\n",
       "<table border=\"1\" class=\"dataframe\">\n",
       "  <thead>\n",
       "    <tr style=\"text-align: right;\">\n",
       "      <th></th>\n",
       "      <th>request</th>\n",
       "      <th>Candidate:token</th>\n",
       "      <th>Candidate:id</th>\n",
       "      <th>Candidate</th>\n",
       "      <th>Candidate_Entity:token</th>\n",
       "      <th>Candidate_Entity:id</th>\n",
       "      <th>Candidate_Entity</th>\n",
       "      <th>Election_Status:token</th>\n",
       "      <th>Election_Status:id</th>\n",
       "      <th>Election_Status</th>\n",
       "      <th>Status_of_Candidate:token</th>\n",
       "      <th>Status_of_Candidate:id</th>\n",
       "      <th>Status_of_Candidate</th>\n",
       "      <th>Specific_Party:token</th>\n",
       "      <th>Specific_Party:id</th>\n",
       "      <th>Specific_Party</th>\n",
       "      <th>General_Party:token</th>\n",
       "      <th>General_Party:id</th>\n",
       "      <th>General_Party</th>\n",
       "      <th>Election_Jurisdiction:token</th>\n",
       "      <th>Election_Jurisdiction:id</th>\n",
       "      <th>Election_Jurisdiction</th>\n",
       "      <th>Election_Year:token</th>\n",
       "      <th>Election_Year:id</th>\n",
       "      <th>Election_Year</th>\n",
       "      <th>Election_Type:token</th>\n",
       "      <th>Election_Type:id</th>\n",
       "      <th>Election_Type</th>\n",
       "      <th>Office_Sought:token</th>\n",
       "      <th>Office_Sought:id</th>\n",
       "      <th>Office_Sought</th>\n",
       "      <th>Incumbency_Status:token</th>\n",
       "      <th>Incumbency_Status:id</th>\n",
       "      <th>Incumbency_Status</th>\n",
       "      <th>Contributor:token</th>\n",
       "      <th>Contributor:id</th>\n",
       "      <th>Contributor</th>\n",
       "      <th>Type_of_Contributor:token</th>\n",
       "      <th>Type_of_Contributor:id</th>\n",
       "      <th>Type_of_Contributor</th>\n",
       "      <th>Specific_Business:token</th>\n",
       "      <th>Specific_Business:id</th>\n",
       "      <th>Specific_Business</th>\n",
       "      <th>General_Industry:token</th>\n",
       "      <th>General_Industry:id</th>\n",
       "      <th>General_Industry</th>\n",
       "      <th>Broad_Sector:token</th>\n",
       "      <th>Broad_Sector:id</th>\n",
       "      <th>Broad_Sector</th>\n",
       "      <th>In-State:token</th>\n",
       "      <th>In-State:id</th>\n",
       "      <th>In-State</th>\n",
       "      <th>Employer:token</th>\n",
       "      <th>Employer:id</th>\n",
       "      <th>Employer</th>\n",
       "      <th>Occupation:token</th>\n",
       "      <th>Occupation:id</th>\n",
       "      <th>Occupation</th>\n",
       "      <th>#_of_Records</th>\n",
       "      <th>Total_$</th>\n",
       "    </tr>\n",
       "  </thead>\n",
       "  <tbody>\n",
       "    <tr>\n",
       "      <th>0</th>\n",
       "      <td>show-me?t=1&amp;y=2016&amp;c-exi=1&amp;c-r-ot=S%2CH&amp;c-t-id...</td>\n",
       "      <td>c-t-id</td>\n",
       "      <td>195402</td>\n",
       "      <td>DURKIN, JAMES B (JIM)</td>\n",
       "      <td>c-t-eid</td>\n",
       "      <td>3105296</td>\n",
       "      <td>DURKIN, JAMES B (JIM)</td>\n",
       "      <td>c-t-ftsts</td>\n",
       "      <td>Won-General</td>\n",
       "      <td>Won-General</td>\n",
       "      <td>c-t-sts</td>\n",
       "      <td>1</td>\n",
       "      <td>Won</td>\n",
       "      <td>c-t-pt</td>\n",
       "      <td>139</td>\n",
       "      <td>REPUBLICAN</td>\n",
       "      <td>c-t-p</td>\n",
       "      <td>2</td>\n",
       "      <td>Republican</td>\n",
       "      <td>s</td>\n",
       "      <td>IL</td>\n",
       "      <td>IL</td>\n",
       "      <td>y</td>\n",
       "      <td>2016</td>\n",
       "      <td>2016</td>\n",
       "      <td>c-r-t</td>\n",
       "      <td>1</td>\n",
       "      <td>Standard</td>\n",
       "      <td>c-r-osid</td>\n",
       "      <td>2268</td>\n",
       "      <td>HOUSE DISTRICT 082</td>\n",
       "      <td>c-t-ico</td>\n",
       "      <td>I</td>\n",
       "      <td>Incumbent</td>\n",
       "      <td>d-eid</td>\n",
       "      <td>14414073</td>\n",
       "      <td>RAUNER, BRUCE VINCENT &amp; DIANA MENDLEY</td>\n",
       "      <td>d-et</td>\n",
       "      <td>2</td>\n",
       "      <td>Individual</td>\n",
       "      <td>d-ccb</td>\n",
       "      <td>439</td>\n",
       "      <td>Candidate Contribution</td>\n",
       "      <td>d-cci</td>\n",
       "      <td>133</td>\n",
       "      <td>Candidate Contributions</td>\n",
       "      <td>d-ccg</td>\n",
       "      <td>17</td>\n",
       "      <td>Candidate Contributions</td>\n",
       "      <td>d-ins</td>\n",
       "      <td>1</td>\n",
       "      <td>1</td>\n",
       "      <td>d-empl</td>\n",
       "      <td>STATE OF ILLINOIS</td>\n",
       "      <td>STATE OF ILLINOIS</td>\n",
       "      <td>d-occupation</td>\n",
       "      <td>GOVERNOR</td>\n",
       "      <td>GOVERNOR</td>\n",
       "      <td>1</td>\n",
       "      <td>9000000.0</td>\n",
       "    </tr>\n",
       "  </tbody>\n",
       "</table>\n",
       "</div>"
      ],
      "text/plain": [
       "                                             request Candidate:token  \\\n",
       "0  show-me?t=1&y=2016&c-exi=1&c-r-ot=S%2CH&c-t-id...          c-t-id   \n",
       "\n",
       "   Candidate:id              Candidate Candidate_Entity:token  \\\n",
       "0        195402  DURKIN, JAMES B (JIM)                c-t-eid   \n",
       "\n",
       "   Candidate_Entity:id       Candidate_Entity Election_Status:token  \\\n",
       "0              3105296  DURKIN, JAMES B (JIM)             c-t-ftsts   \n",
       "\n",
       "  Election_Status:id Election_Status Status_of_Candidate:token  \\\n",
       "0        Won-General     Won-General                   c-t-sts   \n",
       "\n",
       "   Status_of_Candidate:id Status_of_Candidate Specific_Party:token  \\\n",
       "0                       1                 Won               c-t-pt   \n",
       "\n",
       "   Specific_Party:id Specific_Party General_Party:token  General_Party:id  \\\n",
       "0                139     REPUBLICAN               c-t-p                 2   \n",
       "\n",
       "  General_Party Election_Jurisdiction:token Election_Jurisdiction:id  \\\n",
       "0    Republican                           s                       IL   \n",
       "\n",
       "  Election_Jurisdiction Election_Year:token  Election_Year:id  Election_Year  \\\n",
       "0                    IL                   y              2016           2016   \n",
       "\n",
       "  Election_Type:token  Election_Type:id Election_Type Office_Sought:token  \\\n",
       "0               c-r-t                 1      Standard            c-r-osid   \n",
       "\n",
       "   Office_Sought:id       Office_Sought Incumbency_Status:token  \\\n",
       "0              2268  HOUSE DISTRICT 082                 c-t-ico   \n",
       "\n",
       "  Incumbency_Status:id Incumbency_Status Contributor:token  Contributor:id  \\\n",
       "0                    I         Incumbent             d-eid        14414073   \n",
       "\n",
       "                             Contributor Type_of_Contributor:token  \\\n",
       "0  RAUNER, BRUCE VINCENT & DIANA MENDLEY                      d-et   \n",
       "\n",
       "   Type_of_Contributor:id Type_of_Contributor Specific_Business:token  \\\n",
       "0                       2          Individual                   d-ccb   \n",
       "\n",
       "   Specific_Business:id       Specific_Business General_Industry:token  \\\n",
       "0                   439  Candidate Contribution                  d-cci   \n",
       "\n",
       "   General_Industry:id         General_Industry Broad_Sector:token  \\\n",
       "0                  133  Candidate Contributions              d-ccg   \n",
       "\n",
       "   Broad_Sector:id             Broad_Sector In-State:token  In-State:id  \\\n",
       "0               17  Candidate Contributions          d-ins            1   \n",
       "\n",
       "   In-State Employer:token        Employer:id           Employer  \\\n",
       "0         1         d-empl  STATE OF ILLINOIS  STATE OF ILLINOIS   \n",
       "\n",
       "  Occupation:token Occupation:id Occupation  #_of_Records    Total_$  \n",
       "0     d-occupation      GOVERNOR   GOVERNOR             1  9000000.0  "
      ]
     },
     "execution_count": 10,
     "metadata": {},
     "output_type": "execute_result"
    }
   ],
   "source": [
    "contribs_16.head(1)"
   ]
  },
  {
   "cell_type": "code",
   "execution_count": 11,
   "metadata": {
    "scrolled": false
   },
   "outputs": [
    {
     "data": {
      "text/html": [
       "<div>\n",
       "<style scoped>\n",
       "    .dataframe tbody tr th:only-of-type {\n",
       "        vertical-align: middle;\n",
       "    }\n",
       "\n",
       "    .dataframe tbody tr th {\n",
       "        vertical-align: top;\n",
       "    }\n",
       "\n",
       "    .dataframe thead th {\n",
       "        text-align: right;\n",
       "    }\n",
       "</style>\n",
       "<table border=\"1\" class=\"dataframe\">\n",
       "  <thead>\n",
       "    <tr style=\"text-align: right;\">\n",
       "      <th></th>\n",
       "      <th>candidate</th>\n",
       "      <th>candidate_id</th>\n",
       "      <th>state</th>\n",
       "      <th>district</th>\n",
       "      <th>year</th>\n",
       "      <th>party</th>\n",
       "      <th>incumbency_status</th>\n",
       "      <th>contributor</th>\n",
       "      <th>contributor_id</th>\n",
       "      <th>contributor_type</th>\n",
       "      <th>business</th>\n",
       "      <th>industry</th>\n",
       "      <th>sector</th>\n",
       "      <th>employer</th>\n",
       "      <th>employer_id</th>\n",
       "      <th>occupation</th>\n",
       "      <th>occupation_id</th>\n",
       "      <th>in_out_state</th>\n",
       "      <th>contributions</th>\n",
       "      <th>records</th>\n",
       "    </tr>\n",
       "  </thead>\n",
       "  <tbody>\n",
       "    <tr>\n",
       "      <th>0</th>\n",
       "      <td>DURKIN, JAMES B (JIM)</td>\n",
       "      <td>195402</td>\n",
       "      <td>IL</td>\n",
       "      <td>HOUSE DISTRICT 082</td>\n",
       "      <td>2016</td>\n",
       "      <td>Republican</td>\n",
       "      <td>Incumbent</td>\n",
       "      <td>RAUNER, BRUCE VINCENT &amp; DIANA MENDLEY</td>\n",
       "      <td>14414073</td>\n",
       "      <td>Individual</td>\n",
       "      <td>Candidate Contribution</td>\n",
       "      <td>Candidate Contributions</td>\n",
       "      <td>Candidate Contributions</td>\n",
       "      <td>STATE OF ILLINOIS</td>\n",
       "      <td>STATE OF ILLINOIS</td>\n",
       "      <td>GOVERNOR</td>\n",
       "      <td>GOVERNOR</td>\n",
       "      <td>1</td>\n",
       "      <td>9000000.0</td>\n",
       "      <td>1</td>\n",
       "    </tr>\n",
       "  </tbody>\n",
       "</table>\n",
       "</div>"
      ],
      "text/plain": [
       "               candidate  candidate_id state            district  year  \\\n",
       "0  DURKIN, JAMES B (JIM)        195402    IL  HOUSE DISTRICT 082  2016   \n",
       "\n",
       "        party incumbency_status                            contributor  \\\n",
       "0  Republican         Incumbent  RAUNER, BRUCE VINCENT & DIANA MENDLEY   \n",
       "\n",
       "   contributor_id contributor_type                business  \\\n",
       "0        14414073       Individual  Candidate Contribution   \n",
       "\n",
       "                  industry                   sector           employer  \\\n",
       "0  Candidate Contributions  Candidate Contributions  STATE OF ILLINOIS   \n",
       "\n",
       "         employer_id occupation occupation_id  in_out_state  contributions  \\\n",
       "0  STATE OF ILLINOIS   GOVERNOR      GOVERNOR             1      9000000.0   \n",
       "\n",
       "   records  \n",
       "0        1  "
      ]
     },
     "execution_count": 11,
     "metadata": {},
     "output_type": "execute_result"
    }
   ],
   "source": [
    "contribs_16 = contribs_16[[\"Candidate\", \"Candidate:id\", \"Election_Jurisdiction\", \"Office_Sought\", \"Election_Year\", \"General_Party\", \"Incumbency_Status\", \"Contributor\", \"Contributor:id\", \"Type_of_Contributor\", \"Specific_Business\", \"General_Industry\", \"Broad_Sector\", \"Employer\", \"Employer:id\", \"Occupation\", \"Occupation:id\", \"In-State\", \"Total_$\", \"#_of_Records\"]]\n",
    "contribs_16.rename(columns={\"Candidate\": \"candidate\", \"Candidate:id\": \"candidate_id\", \"Election_Jurisdiction\": \"state\", \"Office_Sought\": \"district\", \"Election_Year\": \"year\", \"General_Party\": \"party\", \"Incumbency_Status\": \"incumbency_status\", \"Contributor\": \"contributor\", \"Contributor:id\": \"contributor_id\", \"Type_of_Contributor\": \"contributor_type\", \"Specific_Business\": \"business\", \"General_Industry\": \"industry\", \"Broad_Sector\": \"sector\", \"Employer\": \"employer\", \"Employer:id\": \"employer_id\", \"Occupation\": \"occupation\", \"Occupation:id\": \"occupation_id\", \"In-State\": \"in_out_state\", \"Total_$\": \"contributions\", \"#_of_Records\": \"records\"}, inplace=True)\n",
    "contribs_16.head(1)"
   ]
  },
  {
   "cell_type": "markdown",
   "metadata": {},
   "source": [
    "Again rename the categories in the in-vs.-out-of-state column."
   ]
  },
  {
   "cell_type": "code",
   "execution_count": 12,
   "metadata": {
    "scrolled": false
   },
   "outputs": [
    {
     "data": {
      "text/html": [
       "<div>\n",
       "<style scoped>\n",
       "    .dataframe tbody tr th:only-of-type {\n",
       "        vertical-align: middle;\n",
       "    }\n",
       "\n",
       "    .dataframe tbody tr th {\n",
       "        vertical-align: top;\n",
       "    }\n",
       "\n",
       "    .dataframe thead th {\n",
       "        text-align: right;\n",
       "    }\n",
       "</style>\n",
       "<table border=\"1\" class=\"dataframe\">\n",
       "  <thead>\n",
       "    <tr style=\"text-align: right;\">\n",
       "      <th></th>\n",
       "      <th>candidate</th>\n",
       "      <th>candidate_id</th>\n",
       "      <th>state</th>\n",
       "      <th>district</th>\n",
       "      <th>year</th>\n",
       "      <th>party</th>\n",
       "      <th>incumbency_status</th>\n",
       "      <th>contributor</th>\n",
       "      <th>contributor_id</th>\n",
       "      <th>contributor_type</th>\n",
       "      <th>business</th>\n",
       "      <th>industry</th>\n",
       "      <th>sector</th>\n",
       "      <th>employer</th>\n",
       "      <th>employer_id</th>\n",
       "      <th>occupation</th>\n",
       "      <th>occupation_id</th>\n",
       "      <th>in_out_state</th>\n",
       "      <th>contributions</th>\n",
       "      <th>records</th>\n",
       "    </tr>\n",
       "  </thead>\n",
       "  <tbody>\n",
       "    <tr>\n",
       "      <th>0</th>\n",
       "      <td>DURKIN, JAMES B (JIM)</td>\n",
       "      <td>195402</td>\n",
       "      <td>IL</td>\n",
       "      <td>HOUSE DISTRICT 082</td>\n",
       "      <td>2016</td>\n",
       "      <td>Republican</td>\n",
       "      <td>Incumbent</td>\n",
       "      <td>RAUNER, BRUCE VINCENT &amp; DIANA MENDLEY</td>\n",
       "      <td>14414073</td>\n",
       "      <td>Individual</td>\n",
       "      <td>Candidate Contribution</td>\n",
       "      <td>Candidate Contributions</td>\n",
       "      <td>Candidate Contributions</td>\n",
       "      <td>STATE OF ILLINOIS</td>\n",
       "      <td>STATE OF ILLINOIS</td>\n",
       "      <td>GOVERNOR</td>\n",
       "      <td>GOVERNOR</td>\n",
       "      <td>in-state</td>\n",
       "      <td>9000000.0</td>\n",
       "      <td>1</td>\n",
       "    </tr>\n",
       "  </tbody>\n",
       "</table>\n",
       "</div>"
      ],
      "text/plain": [
       "               candidate  candidate_id state            district  year  \\\n",
       "0  DURKIN, JAMES B (JIM)        195402    IL  HOUSE DISTRICT 082  2016   \n",
       "\n",
       "        party incumbency_status                            contributor  \\\n",
       "0  Republican         Incumbent  RAUNER, BRUCE VINCENT & DIANA MENDLEY   \n",
       "\n",
       "   contributor_id contributor_type                business  \\\n",
       "0        14414073       Individual  Candidate Contribution   \n",
       "\n",
       "                  industry                   sector           employer  \\\n",
       "0  Candidate Contributions  Candidate Contributions  STATE OF ILLINOIS   \n",
       "\n",
       "         employer_id occupation occupation_id in_out_state  contributions  \\\n",
       "0  STATE OF ILLINOIS   GOVERNOR      GOVERNOR     in-state      9000000.0   \n",
       "\n",
       "   records  \n",
       "0        1  "
      ]
     },
     "execution_count": 12,
     "metadata": {},
     "output_type": "execute_result"
    }
   ],
   "source": [
    "# 0 = out-of-state, 1 = in-state, 2 = unknown\n",
    "contribs_16[\"in_out_state\"] = contribs_16[\"in_out_state\"].replace({0: \"out-of-state\", 1: \"in-state\", 2: \"unknown\"})\n",
    "contribs_16.head(1)"
   ]
  },
  {
   "cell_type": "markdown",
   "metadata": {},
   "source": [
    "Again filter out unitemized donations."
   ]
  },
  {
   "cell_type": "code",
   "execution_count": 13,
   "metadata": {
    "scrolled": false
   },
   "outputs": [
    {
     "name": "stdout",
     "output_type": "stream",
     "text": [
      "<class 'pandas.core.frame.DataFrame'>\n",
      "Int64Index: 1460407 entries, 0 to 1466909\n",
      "Data columns (total 20 columns):\n",
      "candidate            1460407 non-null object\n",
      "candidate_id         1460407 non-null int64\n",
      "state                1460407 non-null object\n",
      "district             1460407 non-null object\n",
      "year                 1460407 non-null int64\n",
      "party                1460407 non-null object\n",
      "incumbency_status    1460407 non-null object\n",
      "contributor          1460402 non-null object\n",
      "contributor_id       1460407 non-null int64\n",
      "contributor_type     1460407 non-null object\n",
      "business             1460407 non-null object\n",
      "industry             1460407 non-null object\n",
      "sector               1460407 non-null object\n",
      "employer             1094163 non-null object\n",
      "employer_id          1094163 non-null object\n",
      "occupation           629497 non-null object\n",
      "occupation_id        629497 non-null object\n",
      "in_out_state         1460407 non-null object\n",
      "contributions        1460407 non-null float64\n",
      "records              1460407 non-null int64\n",
      "dtypes: float64(1), int64(4), object(15)\n",
      "memory usage: 234.0+ MB\n"
     ]
    }
   ],
   "source": [
    "contribs_16 = contribs_16[contribs_16[\"contributor\"] != \"UNITEMIZED DONATIONS\"]\n",
    "contribs_16.info()"
   ]
  },
  {
   "cell_type": "markdown",
   "metadata": {},
   "source": [
    "### Import and format state population data"
   ]
  },
  {
   "cell_type": "markdown",
   "metadata": {},
   "source": [
    "Import 2017 population estimates from the Census Bureau."
   ]
  },
  {
   "cell_type": "code",
   "execution_count": 14,
   "metadata": {
    "scrolled": true
   },
   "outputs": [
    {
     "name": "stdout",
     "output_type": "stream",
     "text": [
      "<class 'pandas.core.frame.DataFrame'>\n",
      "RangeIndex: 52 entries, 0 to 51\n",
      "Data columns (total 3 columns):\n",
      "population    52 non-null int64\n",
      "state         52 non-null object\n",
      "fips          52 non-null object\n",
      "dtypes: int64(1), object(2)\n",
      "memory usage: 1.3+ KB\n"
     ]
    }
   ],
   "source": [
    "query = \"https://api.census.gov/data/2017/pep/population?get=POP,GEONAME&for=state:*&key=\"+census_key\n",
    "population = pd.read_json(query)\n",
    "population = population.drop(population.index[0]).reset_index(drop=True) # Drop first row containing column names\n",
    "population.columns = [\"population\", \"state\", \"fips\"]\n",
    "population[\"population\"] = pd.to_numeric(population[\"population\"])\n",
    "population.info()"
   ]
  },
  {
   "cell_type": "code",
   "execution_count": 15,
   "metadata": {
    "scrolled": true
   },
   "outputs": [
    {
     "data": {
      "text/html": [
       "<div>\n",
       "<style scoped>\n",
       "    .dataframe tbody tr th:only-of-type {\n",
       "        vertical-align: middle;\n",
       "    }\n",
       "\n",
       "    .dataframe tbody tr th {\n",
       "        vertical-align: top;\n",
       "    }\n",
       "\n",
       "    .dataframe thead th {\n",
       "        text-align: right;\n",
       "    }\n",
       "</style>\n",
       "<table border=\"1\" class=\"dataframe\">\n",
       "  <thead>\n",
       "    <tr style=\"text-align: right;\">\n",
       "      <th></th>\n",
       "      <th>population</th>\n",
       "      <th>state</th>\n",
       "      <th>fips</th>\n",
       "    </tr>\n",
       "  </thead>\n",
       "  <tbody>\n",
       "    <tr>\n",
       "      <th>0</th>\n",
       "      <td>4874747</td>\n",
       "      <td>Alabama</td>\n",
       "      <td>01</td>\n",
       "    </tr>\n",
       "  </tbody>\n",
       "</table>\n",
       "</div>"
      ],
      "text/plain": [
       "   population    state fips\n",
       "0     4874747  Alabama   01"
      ]
     },
     "execution_count": 15,
     "metadata": {},
     "output_type": "execute_result"
    }
   ],
   "source": [
    "population.head(1)"
   ]
  },
  {
   "cell_type": "markdown",
   "metadata": {},
   "source": [
    "We need to add state abbreviations in order to later join the population data with the campaign contributions data. To do so, we will use the [US package](https://github.com/unitedstates/python-us)."
   ]
  },
  {
   "cell_type": "code",
   "execution_count": 16,
   "metadata": {
    "scrolled": true
   },
   "outputs": [
    {
     "name": "stdout",
     "output_type": "stream",
     "text": [
      "<class 'pandas.core.frame.DataFrame'>\n",
      "RangeIndex: 59 entries, 0 to 58\n",
      "Data columns (total 2 columns):\n",
      "abbreviation    59 non-null object\n",
      "fips            56 non-null object\n",
      "dtypes: object(2)\n",
      "memory usage: 1.0+ KB\n"
     ]
    }
   ],
   "source": [
    "states = pd.DataFrame.from_dict(us.states.mapping(\"abbr\", \"fips\"), orient=\"index\", columns=[\"fips\"])\n",
    "states.reset_index(inplace=True)\n",
    "states.rename(columns={\"index\": \"abbreviation\"}, inplace=True)\n",
    "states.info()"
   ]
  },
  {
   "cell_type": "code",
   "execution_count": 17,
   "metadata": {
    "scrolled": true
   },
   "outputs": [
    {
     "name": "stdout",
     "output_type": "stream",
     "text": [
      "<class 'pandas.core.frame.DataFrame'>\n",
      "Int64Index: 52 entries, 0 to 51\n",
      "Data columns (total 3 columns):\n",
      "population      52 non-null int64\n",
      "fips            52 non-null object\n",
      "abbreviation    52 non-null object\n",
      "dtypes: int64(1), object(2)\n",
      "memory usage: 1.6+ KB\n"
     ]
    }
   ],
   "source": [
    "population = population.merge(states, on=\"fips\")\n",
    "population.drop(\"state\", axis=1, inplace=True)\n",
    "population.info()"
   ]
  },
  {
   "cell_type": "code",
   "execution_count": 18,
   "metadata": {
    "scrolled": true
   },
   "outputs": [
    {
     "data": {
      "text/html": [
       "<div>\n",
       "<style scoped>\n",
       "    .dataframe tbody tr th:only-of-type {\n",
       "        vertical-align: middle;\n",
       "    }\n",
       "\n",
       "    .dataframe tbody tr th {\n",
       "        vertical-align: top;\n",
       "    }\n",
       "\n",
       "    .dataframe thead th {\n",
       "        text-align: right;\n",
       "    }\n",
       "</style>\n",
       "<table border=\"1\" class=\"dataframe\">\n",
       "  <thead>\n",
       "    <tr style=\"text-align: right;\">\n",
       "      <th></th>\n",
       "      <th>population</th>\n",
       "      <th>fips</th>\n",
       "      <th>abbreviation</th>\n",
       "    </tr>\n",
       "  </thead>\n",
       "  <tbody>\n",
       "    <tr>\n",
       "      <th>0</th>\n",
       "      <td>4874747</td>\n",
       "      <td>01</td>\n",
       "      <td>AL</td>\n",
       "    </tr>\n",
       "  </tbody>\n",
       "</table>\n",
       "</div>"
      ],
      "text/plain": [
       "   population fips abbreviation\n",
       "0     4874747   01           AL"
      ]
     },
     "execution_count": 18,
     "metadata": {},
     "output_type": "execute_result"
    }
   ],
   "source": [
    "population.head(1)"
   ]
  },
  {
   "cell_type": "markdown",
   "metadata": {},
   "source": [
    "## Join and analyze the data"
   ]
  },
  {
   "cell_type": "markdown",
   "metadata": {},
   "source": [
    "### Calculate out-of-state contributions by state."
   ]
  },
  {
   "cell_type": "markdown",
   "metadata": {},
   "source": [
    "Calculate contributions by in-vs.-out-of-state status and group by state."
   ]
  },
  {
   "cell_type": "code",
   "execution_count": 19,
   "metadata": {
    "scrolled": false
   },
   "outputs": [
    {
     "name": "stdout",
     "output_type": "stream",
     "text": [
      "<class 'pandas.core.frame.DataFrame'>\n",
      "RangeIndex: 116 entries, 0 to 115\n",
      "Data columns (total 3 columns):\n",
      "state            116 non-null object\n",
      "in_out_state     116 non-null object\n",
      "contributions    116 non-null float64\n",
      "dtypes: float64(1), object(2)\n",
      "memory usage: 2.8+ KB\n"
     ]
    }
   ],
   "source": [
    "contribs_by_state_18 = contribs_18.groupby([\"state\", \"in_out_state\"])[\"contributions\"].sum().reset_index()\n",
    "contribs_by_state_18.info()"
   ]
  },
  {
   "cell_type": "code",
   "execution_count": 20,
   "metadata": {
    "scrolled": true
   },
   "outputs": [
    {
     "data": {
      "text/html": [
       "<div>\n",
       "<style scoped>\n",
       "    .dataframe tbody tr th:only-of-type {\n",
       "        vertical-align: middle;\n",
       "    }\n",
       "\n",
       "    .dataframe tbody tr th {\n",
       "        vertical-align: top;\n",
       "    }\n",
       "\n",
       "    .dataframe thead th {\n",
       "        text-align: right;\n",
       "    }\n",
       "</style>\n",
       "<table border=\"1\" class=\"dataframe\">\n",
       "  <thead>\n",
       "    <tr style=\"text-align: right;\">\n",
       "      <th></th>\n",
       "      <th>state</th>\n",
       "      <th>in_out_state</th>\n",
       "      <th>contributions</th>\n",
       "    </tr>\n",
       "  </thead>\n",
       "  <tbody>\n",
       "    <tr>\n",
       "      <th>0</th>\n",
       "      <td>AK</td>\n",
       "      <td>in-state</td>\n",
       "      <td>2423533.25</td>\n",
       "    </tr>\n",
       "    <tr>\n",
       "      <th>1</th>\n",
       "      <td>AK</td>\n",
       "      <td>out-of-state</td>\n",
       "      <td>110922.49</td>\n",
       "    </tr>\n",
       "    <tr>\n",
       "      <th>2</th>\n",
       "      <td>AK</td>\n",
       "      <td>unknown</td>\n",
       "      <td>9285.00</td>\n",
       "    </tr>\n",
       "    <tr>\n",
       "      <th>3</th>\n",
       "      <td>AL</td>\n",
       "      <td>in-state</td>\n",
       "      <td>5185371.17</td>\n",
       "    </tr>\n",
       "    <tr>\n",
       "      <th>4</th>\n",
       "      <td>AL</td>\n",
       "      <td>out-of-state</td>\n",
       "      <td>532085.12</td>\n",
       "    </tr>\n",
       "  </tbody>\n",
       "</table>\n",
       "</div>"
      ],
      "text/plain": [
       "  state  in_out_state  contributions\n",
       "0    AK      in-state     2423533.25\n",
       "1    AK  out-of-state      110922.49\n",
       "2    AK       unknown        9285.00\n",
       "3    AL      in-state     5185371.17\n",
       "4    AL  out-of-state      532085.12"
      ]
     },
     "execution_count": 20,
     "metadata": {},
     "output_type": "execute_result"
    }
   ],
   "source": [
    "contribs_by_state_18.head()"
   ]
  },
  {
   "cell_type": "markdown",
   "metadata": {},
   "source": [
    "Pivot dataframe to aggregate each state's data in a single row."
   ]
  },
  {
   "cell_type": "code",
   "execution_count": 21,
   "metadata": {
    "scrolled": true
   },
   "outputs": [
    {
     "name": "stdout",
     "output_type": "stream",
     "text": [
      "<class 'pandas.core.frame.DataFrame'>\n",
      "RangeIndex: 41 entries, 0 to 40\n",
      "Data columns (total 4 columns):\n",
      "(state, )                        41 non-null object\n",
      "(contributions, in-state)        41 non-null float64\n",
      "(contributions, out-of-state)    41 non-null float64\n",
      "(contributions, unknown)         34 non-null float64\n",
      "dtypes: float64(3), object(1)\n",
      "memory usage: 1.4+ KB\n"
     ]
    }
   ],
   "source": [
    "contribs_by_state_18 = pd.pivot_table(contribs_by_state_18, index=[\"state\"], columns=[\"in_out_state\"]).reset_index()\n",
    "contribs_by_state_18.info()"
   ]
  },
  {
   "cell_type": "markdown",
   "metadata": {},
   "source": [
    "It appears that seven states have no contributions categorized as \"unknown.\" Let's set those values equal to zero to be sure any calculations we run on them are correct."
   ]
  },
  {
   "cell_type": "code",
   "execution_count": 22,
   "metadata": {
    "scrolled": true
   },
   "outputs": [
    {
     "name": "stdout",
     "output_type": "stream",
     "text": [
      "<class 'pandas.core.frame.DataFrame'>\n",
      "RangeIndex: 41 entries, 0 to 40\n",
      "Data columns (total 4 columns):\n",
      "(state, )                        41 non-null object\n",
      "(contributions, in-state)        41 non-null float64\n",
      "(contributions, out-of-state)    41 non-null float64\n",
      "(contributions, unknown)         41 non-null float64\n",
      "dtypes: float64(3), object(1)\n",
      "memory usage: 1.4+ KB\n"
     ]
    }
   ],
   "source": [
    "contribs_by_state_18.fillna(0, inplace=True)\n",
    "contribs_by_state_18.info()"
   ]
  },
  {
   "cell_type": "markdown",
   "metadata": {},
   "source": [
    "Flatten the resulting dataframe's multi-index columns."
   ]
  },
  {
   "cell_type": "code",
   "execution_count": 23,
   "metadata": {
    "scrolled": true
   },
   "outputs": [
    {
     "name": "stdout",
     "output_type": "stream",
     "text": [
      "<class 'pandas.core.frame.DataFrame'>\n",
      "RangeIndex: 41 entries, 0 to 40\n",
      "Data columns (total 4 columns):\n",
      "state                         41 non-null object\n",
      "contributions_in_state        41 non-null float64\n",
      "contributions_out_of_state    41 non-null float64\n",
      "contributions_unknown         41 non-null float64\n",
      "dtypes: float64(3), object(1)\n",
      "memory usage: 1.4+ KB\n"
     ]
    }
   ],
   "source": [
    "contribs_by_state_18.columns = [\"_\".join(column).replace(\"-\",\"_\").strip(\"_\") for column in contribs_by_state_18.columns.values]\n",
    "contribs_by_state_18.info()"
   ]
  },
  {
   "cell_type": "markdown",
   "metadata": {},
   "source": [
    "Join state population and campaign contributions data."
   ]
  },
  {
   "cell_type": "code",
   "execution_count": 24,
   "metadata": {
    "scrolled": false
   },
   "outputs": [
    {
     "name": "stdout",
     "output_type": "stream",
     "text": [
      "<class 'pandas.core.frame.DataFrame'>\n",
      "Int64Index: 41 entries, 0 to 40\n",
      "Data columns (total 6 columns):\n",
      "state                         41 non-null object\n",
      "fips                          41 non-null object\n",
      "contributions_in_state        41 non-null float64\n",
      "contributions_out_of_state    41 non-null float64\n",
      "contributions_unknown         41 non-null float64\n",
      "population                    41 non-null int64\n",
      "dtypes: float64(3), int64(1), object(2)\n",
      "memory usage: 2.2+ KB\n"
     ]
    }
   ],
   "source": [
    "contribs_by_state_18 = contribs_by_state_18.merge(population, left_on=\"state\", right_on=\"abbreviation\")\n",
    "contribs_by_state_18.drop(\"abbreviation\", axis=1, inplace=True)\n",
    "contribs_by_state_18 = contribs_by_state_18[[\"state\", \"fips\", \"contributions_in_state\", \"contributions_out_of_state\", \"contributions_unknown\", \"population\"]]\n",
    "contribs_by_state_18.info()"
   ]
  },
  {
   "cell_type": "code",
   "execution_count": 25,
   "metadata": {
    "scrolled": true
   },
   "outputs": [
    {
     "data": {
      "text/html": [
       "<div>\n",
       "<style scoped>\n",
       "    .dataframe tbody tr th:only-of-type {\n",
       "        vertical-align: middle;\n",
       "    }\n",
       "\n",
       "    .dataframe tbody tr th {\n",
       "        vertical-align: top;\n",
       "    }\n",
       "\n",
       "    .dataframe thead th {\n",
       "        text-align: right;\n",
       "    }\n",
       "</style>\n",
       "<table border=\"1\" class=\"dataframe\">\n",
       "  <thead>\n",
       "    <tr style=\"text-align: right;\">\n",
       "      <th></th>\n",
       "      <th>state</th>\n",
       "      <th>fips</th>\n",
       "      <th>contributions_in_state</th>\n",
       "      <th>contributions_out_of_state</th>\n",
       "      <th>contributions_unknown</th>\n",
       "      <th>population</th>\n",
       "    </tr>\n",
       "  </thead>\n",
       "  <tbody>\n",
       "    <tr>\n",
       "      <th>0</th>\n",
       "      <td>AK</td>\n",
       "      <td>02</td>\n",
       "      <td>2423533.25</td>\n",
       "      <td>110922.49</td>\n",
       "      <td>9285.0</td>\n",
       "      <td>739795</td>\n",
       "    </tr>\n",
       "  </tbody>\n",
       "</table>\n",
       "</div>"
      ],
      "text/plain": [
       "  state fips  contributions_in_state  contributions_out_of_state  \\\n",
       "0    AK   02              2423533.25                   110922.49   \n",
       "\n",
       "   contributions_unknown  population  \n",
       "0                 9285.0      739795  "
      ]
     },
     "execution_count": 25,
     "metadata": {},
     "output_type": "execute_result"
    }
   ],
   "source": [
    "contribs_by_state_18.head(1)"
   ]
  },
  {
   "cell_type": "markdown",
   "metadata": {},
   "source": [
    "Calculate the proportion of in-vs.-out-of-state contributions and the contributions per 1,000 residents."
   ]
  },
  {
   "cell_type": "code",
   "execution_count": 26,
   "metadata": {
    "scrolled": true
   },
   "outputs": [
    {
     "name": "stdout",
     "output_type": "stream",
     "text": [
      "<class 'pandas.core.frame.DataFrame'>\n",
      "Int64Index: 41 entries, 0 to 40\n",
      "Data columns (total 8 columns):\n",
      "state                            41 non-null object\n",
      "fips                             41 non-null object\n",
      "contributions_in_state           41 non-null float64\n",
      "contributions_out_of_state       41 non-null float64\n",
      "contributions_unknown            41 non-null float64\n",
      "population                       41 non-null int64\n",
      "pct_out_of_state                 41 non-null float64\n",
      "out_of_state_per_thousand_pop    41 non-null float64\n",
      "dtypes: float64(5), int64(1), object(2)\n",
      "memory usage: 2.9+ KB\n"
     ]
    }
   ],
   "source": [
    "contribs_by_state_18[\"pct_out_of_state\"] = contribs_by_state_18[\"contributions_out_of_state\"] / (contribs_by_state_18[\"contributions_in_state\"] + contribs_by_state_18[\"contributions_out_of_state\"] + contribs_by_state_18[\"contributions_unknown\"])\n",
    "contribs_by_state_18[\"out_of_state_per_thousand_pop\"] = contribs_by_state_18[\"contributions_out_of_state\"] / contribs_by_state_18[\"population\"] * 1000\n",
    "contribs_by_state_18.info()"
   ]
  },
  {
   "cell_type": "markdown",
   "metadata": {},
   "source": [
    "Which states are seeing the highest proportion of out-of-state fundings, both as a proportion of all contributions and relative to their populations?"
   ]
  },
  {
   "cell_type": "code",
   "execution_count": 27,
   "metadata": {
    "scrolled": true
   },
   "outputs": [
    {
     "data": {
      "text/html": [
       "<div>\n",
       "<style scoped>\n",
       "    .dataframe tbody tr th:only-of-type {\n",
       "        vertical-align: middle;\n",
       "    }\n",
       "\n",
       "    .dataframe tbody tr th {\n",
       "        vertical-align: top;\n",
       "    }\n",
       "\n",
       "    .dataframe thead th {\n",
       "        text-align: right;\n",
       "    }\n",
       "</style>\n",
       "<table border=\"1\" class=\"dataframe\">\n",
       "  <thead>\n",
       "    <tr style=\"text-align: right;\">\n",
       "      <th></th>\n",
       "      <th>state</th>\n",
       "      <th>fips</th>\n",
       "      <th>contributions_in_state</th>\n",
       "      <th>contributions_out_of_state</th>\n",
       "      <th>contributions_unknown</th>\n",
       "      <th>population</th>\n",
       "      <th>pct_out_of_state</th>\n",
       "      <th>out_of_state_per_thousand_pop</th>\n",
       "    </tr>\n",
       "  </thead>\n",
       "  <tbody>\n",
       "    <tr>\n",
       "      <th>40</th>\n",
       "      <td>WY</td>\n",
       "      <td>56</td>\n",
       "      <td>10068.82</td>\n",
       "      <td>11025.00</td>\n",
       "      <td>0.00</td>\n",
       "      <td>579315</td>\n",
       "      <td>0.522665</td>\n",
       "      <td>19.031097</td>\n",
       "    </tr>\n",
       "    <tr>\n",
       "      <th>28</th>\n",
       "      <td>NV</td>\n",
       "      <td>32</td>\n",
       "      <td>204373.96</td>\n",
       "      <td>128025.00</td>\n",
       "      <td>0.00</td>\n",
       "      <td>2998039</td>\n",
       "      <td>0.385155</td>\n",
       "      <td>42.702913</td>\n",
       "    </tr>\n",
       "    <tr>\n",
       "      <th>14</th>\n",
       "      <td>KS</td>\n",
       "      <td>20</td>\n",
       "      <td>839569.09</td>\n",
       "      <td>391701.06</td>\n",
       "      <td>21063.02</td>\n",
       "      <td>2913123</td>\n",
       "      <td>0.312777</td>\n",
       "      <td>134.460872</td>\n",
       "    </tr>\n",
       "    <tr>\n",
       "      <th>27</th>\n",
       "      <td>NM</td>\n",
       "      <td>35</td>\n",
       "      <td>2283457.57</td>\n",
       "      <td>762145.22</td>\n",
       "      <td>21297.19</td>\n",
       "      <td>2088070</td>\n",
       "      <td>0.248507</td>\n",
       "      <td>364.999842</td>\n",
       "    </tr>\n",
       "    <tr>\n",
       "      <th>11</th>\n",
       "      <td>ID</td>\n",
       "      <td>16</td>\n",
       "      <td>864658.82</td>\n",
       "      <td>250755.78</td>\n",
       "      <td>1520.00</td>\n",
       "      <td>1716943</td>\n",
       "      <td>0.224504</td>\n",
       "      <td>146.047819</td>\n",
       "    </tr>\n",
       "  </tbody>\n",
       "</table>\n",
       "</div>"
      ],
      "text/plain": [
       "   state fips  contributions_in_state  contributions_out_of_state  \\\n",
       "40    WY   56                10068.82                    11025.00   \n",
       "28    NV   32               204373.96                   128025.00   \n",
       "14    KS   20               839569.09                   391701.06   \n",
       "27    NM   35              2283457.57                   762145.22   \n",
       "11    ID   16               864658.82                   250755.78   \n",
       "\n",
       "    contributions_unknown  population  pct_out_of_state  \\\n",
       "40                   0.00      579315          0.522665   \n",
       "28                   0.00     2998039          0.385155   \n",
       "14               21063.02     2913123          0.312777   \n",
       "27               21297.19     2088070          0.248507   \n",
       "11                1520.00     1716943          0.224504   \n",
       "\n",
       "    out_of_state_per_thousand_pop  \n",
       "40                      19.031097  \n",
       "28                      42.702913  \n",
       "14                     134.460872  \n",
       "27                     364.999842  \n",
       "11                     146.047819  "
      ]
     },
     "execution_count": 27,
     "metadata": {},
     "output_type": "execute_result"
    }
   ],
   "source": [
    "contribs_by_state_18.sort_values(\"pct_out_of_state\", ascending=False).head()"
   ]
  },
  {
   "cell_type": "code",
   "execution_count": 28,
   "metadata": {
    "scrolled": true
   },
   "outputs": [
    {
     "data": {
      "text/html": [
       "<div>\n",
       "<style scoped>\n",
       "    .dataframe tbody tr th:only-of-type {\n",
       "        vertical-align: middle;\n",
       "    }\n",
       "\n",
       "    .dataframe tbody tr th {\n",
       "        vertical-align: top;\n",
       "    }\n",
       "\n",
       "    .dataframe thead th {\n",
       "        text-align: right;\n",
       "    }\n",
       "</style>\n",
       "<table border=\"1\" class=\"dataframe\">\n",
       "  <thead>\n",
       "    <tr style=\"text-align: right;\">\n",
       "      <th></th>\n",
       "      <th>state</th>\n",
       "      <th>fips</th>\n",
       "      <th>contributions_in_state</th>\n",
       "      <th>contributions_out_of_state</th>\n",
       "      <th>contributions_unknown</th>\n",
       "      <th>population</th>\n",
       "      <th>pct_out_of_state</th>\n",
       "      <th>out_of_state_per_thousand_pop</th>\n",
       "    </tr>\n",
       "  </thead>\n",
       "  <tbody>\n",
       "    <tr>\n",
       "      <th>12</th>\n",
       "      <td>IL</td>\n",
       "      <td>17</td>\n",
       "      <td>50311839.99</td>\n",
       "      <td>11161066.39</td>\n",
       "      <td>78679.49</td>\n",
       "      <td>12802023</td>\n",
       "      <td>0.181329</td>\n",
       "      <td>871.820523</td>\n",
       "    </tr>\n",
       "    <tr>\n",
       "      <th>18</th>\n",
       "      <td>MD</td>\n",
       "      <td>24</td>\n",
       "      <td>23892706.98</td>\n",
       "      <td>5202013.18</td>\n",
       "      <td>2014270.47</td>\n",
       "      <td>6052177</td>\n",
       "      <td>0.167219</td>\n",
       "      <td>859.527601</td>\n",
       "    </tr>\n",
       "    <tr>\n",
       "      <th>27</th>\n",
       "      <td>NM</td>\n",
       "      <td>35</td>\n",
       "      <td>2283457.57</td>\n",
       "      <td>762145.22</td>\n",
       "      <td>21297.19</td>\n",
       "      <td>2088070</td>\n",
       "      <td>0.248507</td>\n",
       "      <td>364.999842</td>\n",
       "    </tr>\n",
       "    <tr>\n",
       "      <th>32</th>\n",
       "      <td>OR</td>\n",
       "      <td>41</td>\n",
       "      <td>6611843.89</td>\n",
       "      <td>1431338.82</td>\n",
       "      <td>170698.23</td>\n",
       "      <td>4142776</td>\n",
       "      <td>0.174259</td>\n",
       "      <td>345.502344</td>\n",
       "    </tr>\n",
       "    <tr>\n",
       "      <th>4</th>\n",
       "      <td>CA</td>\n",
       "      <td>06</td>\n",
       "      <td>78068725.68</td>\n",
       "      <td>13343195.37</td>\n",
       "      <td>79475.13</td>\n",
       "      <td>39536653</td>\n",
       "      <td>0.145841</td>\n",
       "      <td>337.489250</td>\n",
       "    </tr>\n",
       "  </tbody>\n",
       "</table>\n",
       "</div>"
      ],
      "text/plain": [
       "   state fips  contributions_in_state  contributions_out_of_state  \\\n",
       "12    IL   17             50311839.99                 11161066.39   \n",
       "18    MD   24             23892706.98                  5202013.18   \n",
       "27    NM   35              2283457.57                   762145.22   \n",
       "32    OR   41              6611843.89                  1431338.82   \n",
       "4     CA   06             78068725.68                 13343195.37   \n",
       "\n",
       "    contributions_unknown  population  pct_out_of_state  \\\n",
       "12               78679.49    12802023          0.181329   \n",
       "18             2014270.47     6052177          0.167219   \n",
       "27               21297.19     2088070          0.248507   \n",
       "32              170698.23     4142776          0.174259   \n",
       "4                79475.13    39536653          0.145841   \n",
       "\n",
       "    out_of_state_per_thousand_pop  \n",
       "12                     871.820523  \n",
       "18                     859.527601  \n",
       "27                     364.999842  \n",
       "32                     345.502344  \n",
       "4                      337.489250  "
      ]
     },
     "execution_count": 28,
     "metadata": {},
     "output_type": "execute_result"
    }
   ],
   "source": [
    "contribs_by_state_18.sort_values(\"out_of_state_per_thousand_pop\", ascending=False).head()"
   ]
  },
  {
   "cell_type": "markdown",
   "metadata": {},
   "source": [
    "### Calculate out-of-state contributions by race."
   ]
  },
  {
   "cell_type": "markdown",
   "metadata": {},
   "source": [
    "Calculate contributions by in-vs.-out-of-state status and group by district."
   ]
  },
  {
   "cell_type": "code",
   "execution_count": 29,
   "metadata": {
    "scrolled": true
   },
   "outputs": [
    {
     "name": "stdout",
     "output_type": "stream",
     "text": [
      "<class 'pandas.core.frame.DataFrame'>\n",
      "RangeIndex: 8221 entries, 0 to 8220\n",
      "Data columns (total 3 columns):\n",
      "in_out_state      8221 non-null object\n",
      "contributions     8221 non-null float64\n",
      "state_district    8221 non-null object\n",
      "dtypes: float64(1), object(2)\n",
      "memory usage: 192.8+ KB\n"
     ]
    }
   ],
   "source": [
    "contribs_by_race_18 = contribs_18.groupby([\"state\", \"district\", \"in_out_state\"])[\"contributions\"].sum().reset_index()\n",
    "contribs_by_race_18[\"state_district\"] = contribs_by_race_18[\"state\"] + \" \" + contribs_by_race_18[\"district\"] # Create unique cross-state district identifier\n",
    "contribs_by_race_18.drop([\"state\", \"district\"], axis=1, inplace=True)\n",
    "contribs_by_race_18.info()"
   ]
  },
  {
   "cell_type": "code",
   "execution_count": 30,
   "metadata": {
    "scrolled": true
   },
   "outputs": [
    {
     "data": {
      "text/html": [
       "<div>\n",
       "<style scoped>\n",
       "    .dataframe tbody tr th:only-of-type {\n",
       "        vertical-align: middle;\n",
       "    }\n",
       "\n",
       "    .dataframe tbody tr th {\n",
       "        vertical-align: top;\n",
       "    }\n",
       "\n",
       "    .dataframe thead th {\n",
       "        text-align: right;\n",
       "    }\n",
       "</style>\n",
       "<table border=\"1\" class=\"dataframe\">\n",
       "  <thead>\n",
       "    <tr style=\"text-align: right;\">\n",
       "      <th></th>\n",
       "      <th>in_out_state</th>\n",
       "      <th>contributions</th>\n",
       "      <th>state_district</th>\n",
       "    </tr>\n",
       "  </thead>\n",
       "  <tbody>\n",
       "    <tr>\n",
       "      <th>0</th>\n",
       "      <td>in-state</td>\n",
       "      <td>135899.42</td>\n",
       "      <td>AK HOUSE DISTRICT 001</td>\n",
       "    </tr>\n",
       "    <tr>\n",
       "      <th>1</th>\n",
       "      <td>out-of-state</td>\n",
       "      <td>1350.00</td>\n",
       "      <td>AK HOUSE DISTRICT 001</td>\n",
       "    </tr>\n",
       "    <tr>\n",
       "      <th>2</th>\n",
       "      <td>in-state</td>\n",
       "      <td>20618.19</td>\n",
       "      <td>AK HOUSE DISTRICT 002</td>\n",
       "    </tr>\n",
       "    <tr>\n",
       "      <th>3</th>\n",
       "      <td>out-of-state</td>\n",
       "      <td>1801.00</td>\n",
       "      <td>AK HOUSE DISTRICT 002</td>\n",
       "    </tr>\n",
       "    <tr>\n",
       "      <th>4</th>\n",
       "      <td>in-state</td>\n",
       "      <td>1100.00</td>\n",
       "      <td>AK HOUSE DISTRICT 003</td>\n",
       "    </tr>\n",
       "    <tr>\n",
       "      <th>5</th>\n",
       "      <td>in-state</td>\n",
       "      <td>71984.34</td>\n",
       "      <td>AK HOUSE DISTRICT 004</td>\n",
       "    </tr>\n",
       "    <tr>\n",
       "      <th>6</th>\n",
       "      <td>out-of-state</td>\n",
       "      <td>3969.00</td>\n",
       "      <td>AK HOUSE DISTRICT 004</td>\n",
       "    </tr>\n",
       "    <tr>\n",
       "      <th>7</th>\n",
       "      <td>unknown</td>\n",
       "      <td>55.00</td>\n",
       "      <td>AK HOUSE DISTRICT 004</td>\n",
       "    </tr>\n",
       "    <tr>\n",
       "      <th>8</th>\n",
       "      <td>in-state</td>\n",
       "      <td>16708.90</td>\n",
       "      <td>AK HOUSE DISTRICT 005</td>\n",
       "    </tr>\n",
       "    <tr>\n",
       "      <th>9</th>\n",
       "      <td>out-of-state</td>\n",
       "      <td>20.00</td>\n",
       "      <td>AK HOUSE DISTRICT 005</td>\n",
       "    </tr>\n",
       "  </tbody>\n",
       "</table>\n",
       "</div>"
      ],
      "text/plain": [
       "   in_out_state  contributions         state_district\n",
       "0      in-state      135899.42  AK HOUSE DISTRICT 001\n",
       "1  out-of-state        1350.00  AK HOUSE DISTRICT 001\n",
       "2      in-state       20618.19  AK HOUSE DISTRICT 002\n",
       "3  out-of-state        1801.00  AK HOUSE DISTRICT 002\n",
       "4      in-state        1100.00  AK HOUSE DISTRICT 003\n",
       "5      in-state       71984.34  AK HOUSE DISTRICT 004\n",
       "6  out-of-state        3969.00  AK HOUSE DISTRICT 004\n",
       "7       unknown          55.00  AK HOUSE DISTRICT 004\n",
       "8      in-state       16708.90  AK HOUSE DISTRICT 005\n",
       "9  out-of-state          20.00  AK HOUSE DISTRICT 005"
      ]
     },
     "execution_count": 30,
     "metadata": {},
     "output_type": "execute_result"
    }
   ],
   "source": [
    "contribs_by_race_18.head(10)"
   ]
  },
  {
   "cell_type": "markdown",
   "metadata": {},
   "source": [
    "Pivot dataframe to aggregate each district's data in a single row."
   ]
  },
  {
   "cell_type": "code",
   "execution_count": 31,
   "metadata": {
    "scrolled": true
   },
   "outputs": [
    {
     "name": "stdout",
     "output_type": "stream",
     "text": [
      "<class 'pandas.core.frame.DataFrame'>\n",
      "RangeIndex: 3746 entries, 0 to 3745\n",
      "Data columns (total 4 columns):\n",
      "(state_district, )               3746 non-null object\n",
      "(contributions, in-state)        3726 non-null float64\n",
      "(contributions, out-of-state)    3339 non-null float64\n",
      "(contributions, unknown)         1156 non-null float64\n",
      "dtypes: float64(3), object(1)\n",
      "memory usage: 117.1+ KB\n"
     ]
    }
   ],
   "source": [
    "contribs_by_race_18 = pd.pivot_table(contribs_by_race_18, index=[\"state_district\"], columns=[\"in_out_state\"]).reset_index()\n",
    "contribs_by_race_18.info()"
   ]
  },
  {
   "cell_type": "markdown",
   "metadata": {},
   "source": [
    "Again, some records have no contributions for certain categories. Let's set those values equal to zero to be sure any calculations we run on them are correct."
   ]
  },
  {
   "cell_type": "code",
   "execution_count": 32,
   "metadata": {
    "scrolled": true
   },
   "outputs": [
    {
     "name": "stdout",
     "output_type": "stream",
     "text": [
      "<class 'pandas.core.frame.DataFrame'>\n",
      "RangeIndex: 3746 entries, 0 to 3745\n",
      "Data columns (total 4 columns):\n",
      "(state_district, )               3746 non-null object\n",
      "(contributions, in-state)        3746 non-null float64\n",
      "(contributions, out-of-state)    3746 non-null float64\n",
      "(contributions, unknown)         3746 non-null float64\n",
      "dtypes: float64(3), object(1)\n",
      "memory usage: 117.1+ KB\n"
     ]
    }
   ],
   "source": [
    "contribs_by_race_18.fillna(0, inplace=True)\n",
    "contribs_by_race_18.info()"
   ]
  },
  {
   "cell_type": "markdown",
   "metadata": {},
   "source": [
    "Flatten the resulting dataframe's multi-index columns."
   ]
  },
  {
   "cell_type": "code",
   "execution_count": 33,
   "metadata": {
    "scrolled": true
   },
   "outputs": [
    {
     "name": "stdout",
     "output_type": "stream",
     "text": [
      "<class 'pandas.core.frame.DataFrame'>\n",
      "RangeIndex: 3746 entries, 0 to 3745\n",
      "Data columns (total 4 columns):\n",
      "state_district                3746 non-null object\n",
      "contributions_in_state        3746 non-null float64\n",
      "contributions_out_of_state    3746 non-null float64\n",
      "contributions_unknown         3746 non-null float64\n",
      "dtypes: float64(3), object(1)\n",
      "memory usage: 117.1+ KB\n"
     ]
    }
   ],
   "source": [
    "contribs_by_race_18.columns = [\"_\".join(column).replace(\"-\",\"_\").strip(\"_\") for column in contribs_by_race_18.columns.values]\n",
    "contribs_by_race_18.info()"
   ]
  },
  {
   "cell_type": "markdown",
   "metadata": {},
   "source": [
    "Calculate the proportion of in-vs.-out-of-state contributions."
   ]
  },
  {
   "cell_type": "code",
   "execution_count": 34,
   "metadata": {
    "scrolled": true
   },
   "outputs": [
    {
     "name": "stdout",
     "output_type": "stream",
     "text": [
      "<class 'pandas.core.frame.DataFrame'>\n",
      "RangeIndex: 3746 entries, 0 to 3745\n",
      "Data columns (total 5 columns):\n",
      "state_district                3746 non-null object\n",
      "contributions_in_state        3746 non-null float64\n",
      "contributions_out_of_state    3746 non-null float64\n",
      "contributions_unknown         3746 non-null float64\n",
      "pct_out_of_state              3746 non-null float64\n",
      "dtypes: float64(4), object(1)\n",
      "memory usage: 146.4+ KB\n"
     ]
    }
   ],
   "source": [
    "contribs_by_race_18[\"pct_out_of_state\"] = contribs_by_race_18[\"contributions_out_of_state\"] / (contribs_by_race_18[\"contributions_in_state\"] + contribs_by_race_18[\"contributions_out_of_state\"] + contribs_by_race_18[\"contributions_unknown\"])\n",
    "contribs_by_race_18.info()"
   ]
  },
  {
   "cell_type": "markdown",
   "metadata": {},
   "source": [
    "Which races are seeing the highest proportion of out-of-state fundings, both in raw numbers and as a proportion of all contributions?"
   ]
  },
  {
   "cell_type": "code",
   "execution_count": 35,
   "metadata": {
    "scrolled": true
   },
   "outputs": [
    {
     "data": {
      "text/html": [
       "<div>\n",
       "<style scoped>\n",
       "    .dataframe tbody tr th:only-of-type {\n",
       "        vertical-align: middle;\n",
       "    }\n",
       "\n",
       "    .dataframe tbody tr th {\n",
       "        vertical-align: top;\n",
       "    }\n",
       "\n",
       "    .dataframe thead th {\n",
       "        text-align: right;\n",
       "    }\n",
       "</style>\n",
       "<table border=\"1\" class=\"dataframe\">\n",
       "  <thead>\n",
       "    <tr style=\"text-align: right;\">\n",
       "      <th></th>\n",
       "      <th>state_district</th>\n",
       "      <th>contributions_in_state</th>\n",
       "      <th>contributions_out_of_state</th>\n",
       "      <th>contributions_unknown</th>\n",
       "      <th>pct_out_of_state</th>\n",
       "    </tr>\n",
       "  </thead>\n",
       "  <tbody>\n",
       "    <tr>\n",
       "      <th>1212</th>\n",
       "      <td>IL SENATE DISTRICT 006</td>\n",
       "      <td>4388978.15</td>\n",
       "      <td>1500250.63</td>\n",
       "      <td>0.00</td>\n",
       "      <td>0.254745</td>\n",
       "    </tr>\n",
       "    <tr>\n",
       "      <th>1112</th>\n",
       "      <td>IL HOUSE DISTRICT 022</td>\n",
       "      <td>1848372.73</td>\n",
       "      <td>785900.66</td>\n",
       "      <td>0.00</td>\n",
       "      <td>0.298337</td>\n",
       "    </tr>\n",
       "    <tr>\n",
       "      <th>1840</th>\n",
       "      <td>MD HOUSE DISTRICT 046</td>\n",
       "      <td>567605.85</td>\n",
       "      <td>486782.69</td>\n",
       "      <td>74030.03</td>\n",
       "      <td>0.431385</td>\n",
       "    </tr>\n",
       "    <tr>\n",
       "      <th>1234</th>\n",
       "      <td>IL SENATE DISTRICT 039</td>\n",
       "      <td>1678836.52</td>\n",
       "      <td>457602.64</td>\n",
       "      <td>0.00</td>\n",
       "      <td>0.214189</td>\n",
       "    </tr>\n",
       "    <tr>\n",
       "      <th>1172</th>\n",
       "      <td>IL HOUSE DISTRICT 082</td>\n",
       "      <td>2231549.10</td>\n",
       "      <td>416484.37</td>\n",
       "      <td>700.00</td>\n",
       "      <td>0.157239</td>\n",
       "    </tr>\n",
       "    <tr>\n",
       "      <th>3078</th>\n",
       "      <td>PA SENATE DISTRICT 034</td>\n",
       "      <td>1305371.64</td>\n",
       "      <td>412200.00</td>\n",
       "      <td>0.00</td>\n",
       "      <td>0.239990</td>\n",
       "    </tr>\n",
       "    <tr>\n",
       "      <th>1815</th>\n",
       "      <td>MD HOUSE DISTRICT 030A</td>\n",
       "      <td>1249223.71</td>\n",
       "      <td>407824.50</td>\n",
       "      <td>4350.00</td>\n",
       "      <td>0.245471</td>\n",
       "    </tr>\n",
       "    <tr>\n",
       "      <th>419</th>\n",
       "      <td>CA SENATE DISTRICT 034</td>\n",
       "      <td>1787526.30</td>\n",
       "      <td>333430.00</td>\n",
       "      <td>0.00</td>\n",
       "      <td>0.157207</td>\n",
       "    </tr>\n",
       "    <tr>\n",
       "      <th>342</th>\n",
       "      <td>CA ASSEMBLY DISTRICT 021</td>\n",
       "      <td>769408.91</td>\n",
       "      <td>326000.00</td>\n",
       "      <td>0.00</td>\n",
       "      <td>0.297606</td>\n",
       "    </tr>\n",
       "    <tr>\n",
       "      <th>420</th>\n",
       "      <td>CA SENATE DISTRICT 036</td>\n",
       "      <td>1031454.30</td>\n",
       "      <td>320500.00</td>\n",
       "      <td>0.00</td>\n",
       "      <td>0.237064</td>\n",
       "    </tr>\n",
       "    <tr>\n",
       "      <th>418</th>\n",
       "      <td>CA SENATE DISTRICT 032</td>\n",
       "      <td>2201889.52</td>\n",
       "      <td>309656.67</td>\n",
       "      <td>600.00</td>\n",
       "      <td>0.123264</td>\n",
       "    </tr>\n",
       "    <tr>\n",
       "      <th>363</th>\n",
       "      <td>CA ASSEMBLY DISTRICT 042</td>\n",
       "      <td>1189493.60</td>\n",
       "      <td>305754.04</td>\n",
       "      <td>9000.00</td>\n",
       "      <td>0.203260</td>\n",
       "    </tr>\n",
       "    <tr>\n",
       "      <th>330</th>\n",
       "      <td>CA ASSEMBLY DISTRICT 009</td>\n",
       "      <td>765430.01</td>\n",
       "      <td>304408.54</td>\n",
       "      <td>0.00</td>\n",
       "      <td>0.284537</td>\n",
       "    </tr>\n",
       "    <tr>\n",
       "      <th>1203</th>\n",
       "      <td>IL HOUSE DISTRICT 113</td>\n",
       "      <td>725142.66</td>\n",
       "      <td>301116.24</td>\n",
       "      <td>0.00</td>\n",
       "      <td>0.293412</td>\n",
       "    </tr>\n",
       "    <tr>\n",
       "      <th>410</th>\n",
       "      <td>CA SENATE DISTRICT 018</td>\n",
       "      <td>1482562.48</td>\n",
       "      <td>298193.90</td>\n",
       "      <td>0.00</td>\n",
       "      <td>0.167454</td>\n",
       "    </tr>\n",
       "    <tr>\n",
       "      <th>384</th>\n",
       "      <td>CA ASSEMBLY DISTRICT 063</td>\n",
       "      <td>1211997.45</td>\n",
       "      <td>297998.71</td>\n",
       "      <td>0.00</td>\n",
       "      <td>0.197351</td>\n",
       "    </tr>\n",
       "    <tr>\n",
       "      <th>336</th>\n",
       "      <td>CA ASSEMBLY DISTRICT 015</td>\n",
       "      <td>1629409.26</td>\n",
       "      <td>289332.18</td>\n",
       "      <td>300.00</td>\n",
       "      <td>0.150769</td>\n",
       "    </tr>\n",
       "    <tr>\n",
       "      <th>1237</th>\n",
       "      <td>IL SENATE DISTRICT 044</td>\n",
       "      <td>633481.15</td>\n",
       "      <td>289226.32</td>\n",
       "      <td>0.00</td>\n",
       "      <td>0.313454</td>\n",
       "    </tr>\n",
       "    <tr>\n",
       "      <th>1796</th>\n",
       "      <td>MD HOUSE DISTRICT 016</td>\n",
       "      <td>499770.57</td>\n",
       "      <td>279807.87</td>\n",
       "      <td>20906.38</td>\n",
       "      <td>0.349548</td>\n",
       "    </tr>\n",
       "    <tr>\n",
       "      <th>390</th>\n",
       "      <td>CA ASSEMBLY DISTRICT 069</td>\n",
       "      <td>596745.08</td>\n",
       "      <td>263675.46</td>\n",
       "      <td>0.00</td>\n",
       "      <td>0.306450</td>\n",
       "    </tr>\n",
       "    <tr>\n",
       "      <th>369</th>\n",
       "      <td>CA ASSEMBLY DISTRICT 048</td>\n",
       "      <td>593234.31</td>\n",
       "      <td>257175.46</td>\n",
       "      <td>0.00</td>\n",
       "      <td>0.302414</td>\n",
       "    </tr>\n",
       "    <tr>\n",
       "      <th>1240</th>\n",
       "      <td>IL SENATE DISTRICT 048</td>\n",
       "      <td>1073694.73</td>\n",
       "      <td>256651.59</td>\n",
       "      <td>0.00</td>\n",
       "      <td>0.192921</td>\n",
       "    </tr>\n",
       "    <tr>\n",
       "      <th>1118</th>\n",
       "      <td>IL HOUSE DISTRICT 028</td>\n",
       "      <td>728179.25</td>\n",
       "      <td>245850.00</td>\n",
       "      <td>0.00</td>\n",
       "      <td>0.252405</td>\n",
       "    </tr>\n",
       "    <tr>\n",
       "      <th>322</th>\n",
       "      <td>CA ASSEMBLY DISTRICT 001</td>\n",
       "      <td>937663.41</td>\n",
       "      <td>243850.00</td>\n",
       "      <td>0.00</td>\n",
       "      <td>0.206388</td>\n",
       "    </tr>\n",
       "    <tr>\n",
       "      <th>3507</th>\n",
       "      <td>TX SENATE DISTRICT 030</td>\n",
       "      <td>3448482.42</td>\n",
       "      <td>238532.37</td>\n",
       "      <td>0.00</td>\n",
       "      <td>0.064695</td>\n",
       "    </tr>\n",
       "  </tbody>\n",
       "</table>\n",
       "</div>"
      ],
      "text/plain": [
       "                state_district  contributions_in_state  \\\n",
       "1212    IL SENATE DISTRICT 006              4388978.15   \n",
       "1112     IL HOUSE DISTRICT 022              1848372.73   \n",
       "1840     MD HOUSE DISTRICT 046               567605.85   \n",
       "1234    IL SENATE DISTRICT 039              1678836.52   \n",
       "1172     IL HOUSE DISTRICT 082              2231549.10   \n",
       "3078    PA SENATE DISTRICT 034              1305371.64   \n",
       "1815    MD HOUSE DISTRICT 030A              1249223.71   \n",
       "419     CA SENATE DISTRICT 034              1787526.30   \n",
       "342   CA ASSEMBLY DISTRICT 021               769408.91   \n",
       "420     CA SENATE DISTRICT 036              1031454.30   \n",
       "418     CA SENATE DISTRICT 032              2201889.52   \n",
       "363   CA ASSEMBLY DISTRICT 042              1189493.60   \n",
       "330   CA ASSEMBLY DISTRICT 009               765430.01   \n",
       "1203     IL HOUSE DISTRICT 113               725142.66   \n",
       "410     CA SENATE DISTRICT 018              1482562.48   \n",
       "384   CA ASSEMBLY DISTRICT 063              1211997.45   \n",
       "336   CA ASSEMBLY DISTRICT 015              1629409.26   \n",
       "1237    IL SENATE DISTRICT 044               633481.15   \n",
       "1796     MD HOUSE DISTRICT 016               499770.57   \n",
       "390   CA ASSEMBLY DISTRICT 069               596745.08   \n",
       "369   CA ASSEMBLY DISTRICT 048               593234.31   \n",
       "1240    IL SENATE DISTRICT 048              1073694.73   \n",
       "1118     IL HOUSE DISTRICT 028               728179.25   \n",
       "322   CA ASSEMBLY DISTRICT 001               937663.41   \n",
       "3507    TX SENATE DISTRICT 030              3448482.42   \n",
       "\n",
       "      contributions_out_of_state  contributions_unknown  pct_out_of_state  \n",
       "1212                  1500250.63                   0.00          0.254745  \n",
       "1112                   785900.66                   0.00          0.298337  \n",
       "1840                   486782.69               74030.03          0.431385  \n",
       "1234                   457602.64                   0.00          0.214189  \n",
       "1172                   416484.37                 700.00          0.157239  \n",
       "3078                   412200.00                   0.00          0.239990  \n",
       "1815                   407824.50                4350.00          0.245471  \n",
       "419                    333430.00                   0.00          0.157207  \n",
       "342                    326000.00                   0.00          0.297606  \n",
       "420                    320500.00                   0.00          0.237064  \n",
       "418                    309656.67                 600.00          0.123264  \n",
       "363                    305754.04                9000.00          0.203260  \n",
       "330                    304408.54                   0.00          0.284537  \n",
       "1203                   301116.24                   0.00          0.293412  \n",
       "410                    298193.90                   0.00          0.167454  \n",
       "384                    297998.71                   0.00          0.197351  \n",
       "336                    289332.18                 300.00          0.150769  \n",
       "1237                   289226.32                   0.00          0.313454  \n",
       "1796                   279807.87               20906.38          0.349548  \n",
       "390                    263675.46                   0.00          0.306450  \n",
       "369                    257175.46                   0.00          0.302414  \n",
       "1240                   256651.59                   0.00          0.192921  \n",
       "1118                   245850.00                   0.00          0.252405  \n",
       "322                    243850.00                   0.00          0.206388  \n",
       "3507                   238532.37                   0.00          0.064695  "
      ]
     },
     "execution_count": 35,
     "metadata": {},
     "output_type": "execute_result"
    }
   ],
   "source": [
    "contribs_by_race_18.sort_values(\"contributions_out_of_state\", ascending=False).head(25)"
   ]
  },
  {
   "cell_type": "code",
   "execution_count": 36,
   "metadata": {
    "scrolled": true
   },
   "outputs": [
    {
     "data": {
      "text/html": [
       "<div>\n",
       "<style scoped>\n",
       "    .dataframe tbody tr th:only-of-type {\n",
       "        vertical-align: middle;\n",
       "    }\n",
       "\n",
       "    .dataframe tbody tr th {\n",
       "        vertical-align: top;\n",
       "    }\n",
       "\n",
       "    .dataframe thead th {\n",
       "        text-align: right;\n",
       "    }\n",
       "</style>\n",
       "<table border=\"1\" class=\"dataframe\">\n",
       "  <thead>\n",
       "    <tr style=\"text-align: right;\">\n",
       "      <th></th>\n",
       "      <th>state_district</th>\n",
       "      <th>contributions_in_state</th>\n",
       "      <th>contributions_out_of_state</th>\n",
       "      <th>contributions_unknown</th>\n",
       "      <th>pct_out_of_state</th>\n",
       "    </tr>\n",
       "  </thead>\n",
       "  <tbody>\n",
       "    <tr>\n",
       "      <th>1050</th>\n",
       "      <td>ID HOUSE DISTRICT 031-POSITION B</td>\n",
       "      <td>-750.0</td>\n",
       "      <td>1050.0</td>\n",
       "      <td>0.0</td>\n",
       "      <td>3.500000</td>\n",
       "    </tr>\n",
       "    <tr>\n",
       "      <th>3163</th>\n",
       "      <td>SC HOUSE DISTRICT 047</td>\n",
       "      <td>3500.0</td>\n",
       "      <td>8000.0</td>\n",
       "      <td>-3650.0</td>\n",
       "      <td>1.019108</td>\n",
       "    </tr>\n",
       "    <tr>\n",
       "      <th>1037</th>\n",
       "      <td>ID HOUSE DISTRICT 024-POSITION B</td>\n",
       "      <td>0.0</td>\n",
       "      <td>100.0</td>\n",
       "      <td>0.0</td>\n",
       "      <td>1.000000</td>\n",
       "    </tr>\n",
       "    <tr>\n",
       "      <th>3732</th>\n",
       "      <td>WY HOUSE DISTRICT 007</td>\n",
       "      <td>0.0</td>\n",
       "      <td>550.0</td>\n",
       "      <td>0.0</td>\n",
       "      <td>1.000000</td>\n",
       "    </tr>\n",
       "    <tr>\n",
       "      <th>311</th>\n",
       "      <td>AZ SENATE DISTRICT 019</td>\n",
       "      <td>0.0</td>\n",
       "      <td>200.0</td>\n",
       "      <td>0.0</td>\n",
       "      <td>1.000000</td>\n",
       "    </tr>\n",
       "    <tr>\n",
       "      <th>780</th>\n",
       "      <td>GA HOUSE DISTRICT 170</td>\n",
       "      <td>0.0</td>\n",
       "      <td>500.0</td>\n",
       "      <td>0.0</td>\n",
       "      <td>1.000000</td>\n",
       "    </tr>\n",
       "    <tr>\n",
       "      <th>3737</th>\n",
       "      <td>WY HOUSE DISTRICT 032</td>\n",
       "      <td>0.0</td>\n",
       "      <td>200.0</td>\n",
       "      <td>0.0</td>\n",
       "      <td>1.000000</td>\n",
       "    </tr>\n",
       "    <tr>\n",
       "      <th>138</th>\n",
       "      <td>AL SENATE DISTRICT 020</td>\n",
       "      <td>0.0</td>\n",
       "      <td>1500.0</td>\n",
       "      <td>0.0</td>\n",
       "      <td>1.000000</td>\n",
       "    </tr>\n",
       "    <tr>\n",
       "      <th>1004</th>\n",
       "      <td>ID HOUSE DISTRICT 007-POSITION B</td>\n",
       "      <td>0.0</td>\n",
       "      <td>250.0</td>\n",
       "      <td>0.0</td>\n",
       "      <td>1.000000</td>\n",
       "    </tr>\n",
       "    <tr>\n",
       "      <th>3738</th>\n",
       "      <td>WY HOUSE DISTRICT 047</td>\n",
       "      <td>0.0</td>\n",
       "      <td>350.0</td>\n",
       "      <td>0.0</td>\n",
       "      <td>1.000000</td>\n",
       "    </tr>\n",
       "    <tr>\n",
       "      <th>709</th>\n",
       "      <td>GA HOUSE DISTRICT 082</td>\n",
       "      <td>0.0</td>\n",
       "      <td>850.0</td>\n",
       "      <td>0.0</td>\n",
       "      <td>1.000000</td>\n",
       "    </tr>\n",
       "    <tr>\n",
       "      <th>3740</th>\n",
       "      <td>WY HOUSE DISTRICT 050</td>\n",
       "      <td>0.0</td>\n",
       "      <td>600.0</td>\n",
       "      <td>0.0</td>\n",
       "      <td>1.000000</td>\n",
       "    </tr>\n",
       "    <tr>\n",
       "      <th>3742</th>\n",
       "      <td>WY HOUSE DISTRICT 059</td>\n",
       "      <td>0.0</td>\n",
       "      <td>400.0</td>\n",
       "      <td>0.0</td>\n",
       "      <td>1.000000</td>\n",
       "    </tr>\n",
       "    <tr>\n",
       "      <th>2737</th>\n",
       "      <td>OK HOUSE DISTRICT 010</td>\n",
       "      <td>0.0</td>\n",
       "      <td>650.0</td>\n",
       "      <td>0.0</td>\n",
       "      <td>1.000000</td>\n",
       "    </tr>\n",
       "    <tr>\n",
       "      <th>3743</th>\n",
       "      <td>WY SENATE DISTRICT 001</td>\n",
       "      <td>0.0</td>\n",
       "      <td>650.0</td>\n",
       "      <td>0.0</td>\n",
       "      <td>1.000000</td>\n",
       "    </tr>\n",
       "    <tr>\n",
       "      <th>3731</th>\n",
       "      <td>WY HOUSE DISTRICT 001</td>\n",
       "      <td>0.0</td>\n",
       "      <td>1150.0</td>\n",
       "      <td>0.0</td>\n",
       "      <td>1.000000</td>\n",
       "    </tr>\n",
       "    <tr>\n",
       "      <th>3744</th>\n",
       "      <td>WY SENATE DISTRICT 027</td>\n",
       "      <td>0.0</td>\n",
       "      <td>800.0</td>\n",
       "      <td>0.0</td>\n",
       "      <td>1.000000</td>\n",
       "    </tr>\n",
       "    <tr>\n",
       "      <th>699</th>\n",
       "      <td>GA HOUSE DISTRICT 070</td>\n",
       "      <td>0.0</td>\n",
       "      <td>250.0</td>\n",
       "      <td>0.0</td>\n",
       "      <td>1.000000</td>\n",
       "    </tr>\n",
       "    <tr>\n",
       "      <th>2927</th>\n",
       "      <td>PA HOUSE DISTRICT 044</td>\n",
       "      <td>100.0</td>\n",
       "      <td>800.0</td>\n",
       "      <td>0.0</td>\n",
       "      <td>0.888889</td>\n",
       "    </tr>\n",
       "    <tr>\n",
       "      <th>2784</th>\n",
       "      <td>OK HOUSE DISTRICT 086</td>\n",
       "      <td>200.0</td>\n",
       "      <td>750.0</td>\n",
       "      <td>0.0</td>\n",
       "      <td>0.789474</td>\n",
       "    </tr>\n",
       "    <tr>\n",
       "      <th>2591</th>\n",
       "      <td>NM HOUSE DISTRICT 058</td>\n",
       "      <td>1950.0</td>\n",
       "      <td>6300.0</td>\n",
       "      <td>0.0</td>\n",
       "      <td>0.763636</td>\n",
       "    </tr>\n",
       "    <tr>\n",
       "      <th>1474</th>\n",
       "      <td>KS HOUSE DISTRICT 120</td>\n",
       "      <td>700.0</td>\n",
       "      <td>2250.0</td>\n",
       "      <td>0.0</td>\n",
       "      <td>0.762712</td>\n",
       "    </tr>\n",
       "    <tr>\n",
       "      <th>3140</th>\n",
       "      <td>SC HOUSE DISTRICT 024</td>\n",
       "      <td>3000.0</td>\n",
       "      <td>9000.0</td>\n",
       "      <td>0.0</td>\n",
       "      <td>0.750000</td>\n",
       "    </tr>\n",
       "    <tr>\n",
       "      <th>2588</th>\n",
       "      <td>NM HOUSE DISTRICT 055</td>\n",
       "      <td>2600.0</td>\n",
       "      <td>7250.0</td>\n",
       "      <td>0.0</td>\n",
       "      <td>0.736041</td>\n",
       "    </tr>\n",
       "    <tr>\n",
       "      <th>2587</th>\n",
       "      <td>NM HOUSE DISTRICT 054</td>\n",
       "      <td>5100.0</td>\n",
       "      <td>14050.0</td>\n",
       "      <td>0.0</td>\n",
       "      <td>0.733681</td>\n",
       "    </tr>\n",
       "  </tbody>\n",
       "</table>\n",
       "</div>"
      ],
      "text/plain": [
       "                        state_district  contributions_in_state  \\\n",
       "1050  ID HOUSE DISTRICT 031-POSITION B                  -750.0   \n",
       "3163             SC HOUSE DISTRICT 047                  3500.0   \n",
       "1037  ID HOUSE DISTRICT 024-POSITION B                     0.0   \n",
       "3732             WY HOUSE DISTRICT 007                     0.0   \n",
       "311             AZ SENATE DISTRICT 019                     0.0   \n",
       "780              GA HOUSE DISTRICT 170                     0.0   \n",
       "3737             WY HOUSE DISTRICT 032                     0.0   \n",
       "138             AL SENATE DISTRICT 020                     0.0   \n",
       "1004  ID HOUSE DISTRICT 007-POSITION B                     0.0   \n",
       "3738             WY HOUSE DISTRICT 047                     0.0   \n",
       "709              GA HOUSE DISTRICT 082                     0.0   \n",
       "3740             WY HOUSE DISTRICT 050                     0.0   \n",
       "3742             WY HOUSE DISTRICT 059                     0.0   \n",
       "2737             OK HOUSE DISTRICT 010                     0.0   \n",
       "3743            WY SENATE DISTRICT 001                     0.0   \n",
       "3731             WY HOUSE DISTRICT 001                     0.0   \n",
       "3744            WY SENATE DISTRICT 027                     0.0   \n",
       "699              GA HOUSE DISTRICT 070                     0.0   \n",
       "2927             PA HOUSE DISTRICT 044                   100.0   \n",
       "2784             OK HOUSE DISTRICT 086                   200.0   \n",
       "2591             NM HOUSE DISTRICT 058                  1950.0   \n",
       "1474             KS HOUSE DISTRICT 120                   700.0   \n",
       "3140             SC HOUSE DISTRICT 024                  3000.0   \n",
       "2588             NM HOUSE DISTRICT 055                  2600.0   \n",
       "2587             NM HOUSE DISTRICT 054                  5100.0   \n",
       "\n",
       "      contributions_out_of_state  contributions_unknown  pct_out_of_state  \n",
       "1050                      1050.0                    0.0          3.500000  \n",
       "3163                      8000.0                -3650.0          1.019108  \n",
       "1037                       100.0                    0.0          1.000000  \n",
       "3732                       550.0                    0.0          1.000000  \n",
       "311                        200.0                    0.0          1.000000  \n",
       "780                        500.0                    0.0          1.000000  \n",
       "3737                       200.0                    0.0          1.000000  \n",
       "138                       1500.0                    0.0          1.000000  \n",
       "1004                       250.0                    0.0          1.000000  \n",
       "3738                       350.0                    0.0          1.000000  \n",
       "709                        850.0                    0.0          1.000000  \n",
       "3740                       600.0                    0.0          1.000000  \n",
       "3742                       400.0                    0.0          1.000000  \n",
       "2737                       650.0                    0.0          1.000000  \n",
       "3743                       650.0                    0.0          1.000000  \n",
       "3731                      1150.0                    0.0          1.000000  \n",
       "3744                       800.0                    0.0          1.000000  \n",
       "699                        250.0                    0.0          1.000000  \n",
       "2927                       800.0                    0.0          0.888889  \n",
       "2784                       750.0                    0.0          0.789474  \n",
       "2591                      6300.0                    0.0          0.763636  \n",
       "1474                      2250.0                    0.0          0.762712  \n",
       "3140                      9000.0                    0.0          0.750000  \n",
       "2588                      7250.0                    0.0          0.736041  \n",
       "2587                     14050.0                    0.0          0.733681  "
      ]
     },
     "execution_count": 36,
     "metadata": {},
     "output_type": "execute_result"
    }
   ],
   "source": [
    "contribs_by_race_18.sort_values(\"pct_out_of_state\", ascending=False).head(25)"
   ]
  },
  {
   "cell_type": "markdown",
   "metadata": {},
   "source": [
    "### Calculate the largest out-of-state donors in 2018 and compare them with the largest out-of-state donors in 2016."
   ]
  },
  {
   "cell_type": "markdown",
   "metadata": {},
   "source": [
    "Calculate 2018 out-of-state contributions by donor."
   ]
  },
  {
   "cell_type": "code",
   "execution_count": null,
   "metadata": {},
   "outputs": [],
   "source": []
  }
 ],
 "metadata": {
  "kernelspec": {
   "display_name": "Python 3",
   "language": "python",
   "name": "python3"
  },
  "language_info": {
   "codemirror_mode": {
    "name": "ipython",
    "version": 3
   },
   "file_extension": ".py",
   "mimetype": "text/x-python",
   "name": "python",
   "nbconvert_exporter": "python",
   "pygments_lexer": "ipython3",
   "version": "3.6.4"
  }
 },
 "nbformat": 4,
 "nbformat_minor": 2
}
