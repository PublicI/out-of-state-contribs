{
 "cells": [
  {
   "cell_type": "markdown",
   "metadata": {},
   "source": [
    "# Contributions from out-of-state donors"
   ]
  },
  {
   "cell_type": "code",
   "execution_count": 27,
   "metadata": {},
   "outputs": [
    {
     "name": "stdout",
     "output_type": "stream",
     "text": [
      "The jupyternotify extension is already loaded. To reload it, use:\n",
      "  %reload_ext jupyternotify\n"
     ]
    }
   ],
   "source": [
    "import pandas as pd\n",
    "import us\n",
    "\n",
    "%load_ext jupyternotify\n",
    "\n",
    "pd.set_option(\"display.max_columns\", 50)\n",
    "pd.set_option(\"display.max_rows\", 500)"
   ]
  },
  {
   "cell_type": "markdown",
   "metadata": {},
   "source": [
    "Import [National Institute on Money in Politics](https://www.followthemoney.org/) API key."
   ]
  },
  {
   "cell_type": "code",
   "execution_count": 7,
   "metadata": {},
   "outputs": [],
   "source": [
    "nimp_key = open(\"nimp_api_key.txt\", \"r\").readline()"
   ]
  },
  {
   "cell_type": "markdown",
   "metadata": {},
   "source": [
    "Import [Census Bureau](https://www.census.gov/) API key."
   ]
  },
  {
   "cell_type": "code",
   "execution_count": 8,
   "metadata": {
    "collapsed": true
   },
   "outputs": [],
   "source": [
    "census_key = open(\"census_api_key.txt\", \"r\").readline()"
   ]
  },
  {
   "cell_type": "markdown",
   "metadata": {
    "collapsed": true
   },
   "source": [
    "## Import and format the data"
   ]
  },
  {
   "cell_type": "markdown",
   "metadata": {},
   "source": [
    "### Import data on contributions to state legislative races in 2018"
   ]
  },
  {
   "cell_type": "code",
   "execution_count": 3,
   "metadata": {},
   "outputs": [
    {
     "name": "stdout",
     "output_type": "stream",
     "text": [
      "<class 'pandas.core.frame.DataFrame'>\n",
      "RangeIndex: 665936 entries, 0 to 665935\n",
      "Data columns (total 45 columns):\n",
      "request                        665936 non-null object\n",
      "Candidate:token                665936 non-null object\n",
      "Candidate:id                   665936 non-null int64\n",
      "Candidate                      665936 non-null object\n",
      "Candidate_Entity:token         665936 non-null object\n",
      "Candidate_Entity:id            665936 non-null int64\n",
      "Candidate_Entity               665936 non-null object\n",
      "Election_Status:token          665936 non-null object\n",
      "Election_Status:id             665936 non-null object\n",
      "Election_Status                665936 non-null object\n",
      "Status_of_Candidate:token      665936 non-null object\n",
      "Status_of_Candidate:id         665936 non-null int64\n",
      "Status_of_Candidate            665936 non-null object\n",
      "Specific_Party:token           665936 non-null object\n",
      "Specific_Party:id              665936 non-null int64\n",
      "Specific_Party                 665936 non-null object\n",
      "General_Party:token            665936 non-null object\n",
      "General_Party:id               665936 non-null int64\n",
      "General_Party                  665936 non-null object\n",
      "Election_Jurisdiction:token    665936 non-null object\n",
      "Election_Jurisdiction:id       665936 non-null object\n",
      "Election_Jurisdiction          665936 non-null object\n",
      "Election_Year:token            665936 non-null object\n",
      "Election_Year:id               665936 non-null int64\n",
      "Election_Year                  665936 non-null int64\n",
      "Election_Type:token            665936 non-null object\n",
      "Election_Type:id               665936 non-null int64\n",
      "Election_Type                  665936 non-null object\n",
      "Office_Sought:token            665936 non-null object\n",
      "Office_Sought:id               665936 non-null int64\n",
      "Office_Sought                  665936 non-null object\n",
      "Incumbency_Status:token        665936 non-null object\n",
      "Incumbency_Status:id           665936 non-null object\n",
      "Incumbency_Status              665936 non-null object\n",
      "Contributor:token              665936 non-null object\n",
      "Contributor:id                 665936 non-null int64\n",
      "Contributor                    665911 non-null object\n",
      "Type_of_Contributor:token      665936 non-null object\n",
      "Type_of_Contributor:id         665936 non-null int64\n",
      "Type_of_Contributor            665936 non-null object\n",
      "In-State:token                 665936 non-null object\n",
      "In-State:id                    665936 non-null int64\n",
      "In-State                       665936 non-null int64\n",
      "#_of_Records                   665936 non-null int64\n",
      "Total_$                        665936 non-null float64\n",
      "dtypes: float64(1), int64(14), object(30)\n",
      "memory usage: 228.6+ MB\n"
     ]
    },
    {
     "data": {
      "application/javascript": [
       "$(document).ready(\n",
       "    function() {\n",
       "        function appendUniqueDiv(){\n",
       "            // append a div with our uuid so we can check that it's already\n",
       "            // been sent and avoid duplicates on page reload\n",
       "            var notifiedDiv = document.createElement(\"div\")\n",
       "            notifiedDiv.id = \"d9c5c61e-87d0-4d43-9eb3-5c5bdee16c43\"\n",
       "            element.append(notifiedDiv)\n",
       "        }\n",
       "\n",
       "        // only send notifications if the pageload is complete; this will\n",
       "        // help stop extra notifications when a saved notebook is loaded,\n",
       "        // which during testing gives us state \"interactive\", not \"complete\"\n",
       "        if (document.readyState === 'complete') {\n",
       "            // check for the div that signifies that the notification\n",
       "            // was already sent\n",
       "            if (document.getElementById(\"d9c5c61e-87d0-4d43-9eb3-5c5bdee16c43\") === null) {\n",
       "                var notificationPayload = {\"requireInteraction\": false, \"icon\": \"/static/base/images/favicon.ico\", \"body\": \"Cell execution has finished!\"};\n",
       "                if (Notification.permission !== 'denied') {\n",
       "                    if (Notification.permission !== 'granted') { \n",
       "                        Notification.requestPermission(function (permission) {\n",
       "                            if(!('permission' in Notification)) {\n",
       "                                Notification.permission = permission\n",
       "                            }\n",
       "                        })\n",
       "                    }\n",
       "                    if (Notification.permission === 'granted') {\n",
       "                    var notification = new Notification(\"Jupyter Notebook\", notificationPayload)\n",
       "                    appendUniqueDiv()\n",
       "                    notification.onclick = function () {\n",
       "                        window.focus();\n",
       "                        this.close();\n",
       "                        };\n",
       "                    } \n",
       "                }     \n",
       "            }\n",
       "        }\n",
       "    }\n",
       ")\n"
      ],
      "text/plain": [
       "<IPython.core.display.Javascript object>"
      ]
     },
     "metadata": {},
     "output_type": "display_data"
    }
   ],
   "source": [
    "%%notify\n",
    "contribs_18 = pd.read_csv(\"https://www.followthemoney.org/aaengine/aafetch.php?dt=1&y=2018&c-exi=1&c-r-ot=S,H&gro=c-t-id,d-eid,d-ins&APIKey=\"+nimp_key+\"&mode=csv\", encoding=\"ISO-8859-1\")\n",
    "contribs_18.to_csv(\"data/contribs_18.csv\", index=False)\n",
    "contribs_18 = pd.read_csv(\"data/contribs_18.csv\", encoding=\"ISO-8859-1\")\n",
    "contribs_18.info()"
   ]
  },
  {
   "cell_type": "code",
   "execution_count": 4,
   "metadata": {},
   "outputs": [
    {
     "data": {
      "text/html": [
       "<div>\n",
       "<style scoped>\n",
       "    .dataframe tbody tr th:only-of-type {\n",
       "        vertical-align: middle;\n",
       "    }\n",
       "\n",
       "    .dataframe tbody tr th {\n",
       "        vertical-align: top;\n",
       "    }\n",
       "\n",
       "    .dataframe thead th {\n",
       "        text-align: right;\n",
       "    }\n",
       "</style>\n",
       "<table border=\"1\" class=\"dataframe\">\n",
       "  <thead>\n",
       "    <tr style=\"text-align: right;\">\n",
       "      <th></th>\n",
       "      <th>request</th>\n",
       "      <th>Candidate:token</th>\n",
       "      <th>Candidate:id</th>\n",
       "      <th>Candidate</th>\n",
       "      <th>Candidate_Entity:token</th>\n",
       "      <th>Candidate_Entity:id</th>\n",
       "      <th>Candidate_Entity</th>\n",
       "      <th>Election_Status:token</th>\n",
       "      <th>Election_Status:id</th>\n",
       "      <th>Election_Status</th>\n",
       "      <th>Status_of_Candidate:token</th>\n",
       "      <th>Status_of_Candidate:id</th>\n",
       "      <th>Status_of_Candidate</th>\n",
       "      <th>Specific_Party:token</th>\n",
       "      <th>Specific_Party:id</th>\n",
       "      <th>Specific_Party</th>\n",
       "      <th>General_Party:token</th>\n",
       "      <th>General_Party:id</th>\n",
       "      <th>General_Party</th>\n",
       "      <th>Election_Jurisdiction:token</th>\n",
       "      <th>Election_Jurisdiction:id</th>\n",
       "      <th>Election_Jurisdiction</th>\n",
       "      <th>Election_Year:token</th>\n",
       "      <th>Election_Year:id</th>\n",
       "      <th>Election_Year</th>\n",
       "      <th>Election_Type:token</th>\n",
       "      <th>Election_Type:id</th>\n",
       "      <th>Election_Type</th>\n",
       "      <th>Office_Sought:token</th>\n",
       "      <th>Office_Sought:id</th>\n",
       "      <th>Office_Sought</th>\n",
       "      <th>Incumbency_Status:token</th>\n",
       "      <th>Incumbency_Status:id</th>\n",
       "      <th>Incumbency_Status</th>\n",
       "      <th>Contributor:token</th>\n",
       "      <th>Contributor:id</th>\n",
       "      <th>Contributor</th>\n",
       "      <th>Type_of_Contributor:token</th>\n",
       "      <th>Type_of_Contributor:id</th>\n",
       "      <th>Type_of_Contributor</th>\n",
       "      <th>In-State:token</th>\n",
       "      <th>In-State:id</th>\n",
       "      <th>In-State</th>\n",
       "      <th>#_of_Records</th>\n",
       "      <th>Total_$</th>\n",
       "    </tr>\n",
       "  </thead>\n",
       "  <tbody>\n",
       "    <tr>\n",
       "      <th>0</th>\n",
       "      <td>dt=1&amp;y=2018&amp;c-exi=1&amp;c-r-ot=S,H&amp;c-t-id=229342&amp;d...</td>\n",
       "      <td>c-t-id</td>\n",
       "      <td>229342</td>\n",
       "      <td>HUFFINES, PHILLIP WAYNE</td>\n",
       "      <td>c-t-eid</td>\n",
       "      <td>11168692</td>\n",
       "      <td>HUFFINES, PHILLIP WAYNE</td>\n",
       "      <td>c-t-ftsts</td>\n",
       "      <td>Lost-Primary</td>\n",
       "      <td>Lost-Primary</td>\n",
       "      <td>c-t-sts</td>\n",
       "      <td>2</td>\n",
       "      <td>Lost</td>\n",
       "      <td>c-t-pt</td>\n",
       "      <td>139</td>\n",
       "      <td>REPUBLICAN</td>\n",
       "      <td>c-t-p</td>\n",
       "      <td>2</td>\n",
       "      <td>Republican</td>\n",
       "      <td>s</td>\n",
       "      <td>TX</td>\n",
       "      <td>TX</td>\n",
       "      <td>y</td>\n",
       "      <td>2018</td>\n",
       "      <td>2018</td>\n",
       "      <td>c-r-t</td>\n",
       "      <td>1</td>\n",
       "      <td>Standard</td>\n",
       "      <td>c-r-osid</td>\n",
       "      <td>7531</td>\n",
       "      <td>SENATE DISTRICT 008</td>\n",
       "      <td>c-t-ico</td>\n",
       "      <td>O</td>\n",
       "      <td>Open</td>\n",
       "      <td>d-eid</td>\n",
       "      <td>11168692</td>\n",
       "      <td>HUFFINES, PHILLIP WAYNE</td>\n",
       "      <td>d-et</td>\n",
       "      <td>2</td>\n",
       "      <td>Individual</td>\n",
       "      <td>d-ins</td>\n",
       "      <td>1</td>\n",
       "      <td>1</td>\n",
       "      <td>5</td>\n",
       "      <td>5250000.0</td>\n",
       "    </tr>\n",
       "  </tbody>\n",
       "</table>\n",
       "</div>"
      ],
      "text/plain": [
       "                                             request Candidate:token  \\\n",
       "0  dt=1&y=2018&c-exi=1&c-r-ot=S,H&c-t-id=229342&d...          c-t-id   \n",
       "\n",
       "   Candidate:id                Candidate Candidate_Entity:token  \\\n",
       "0        229342  HUFFINES, PHILLIP WAYNE                c-t-eid   \n",
       "\n",
       "   Candidate_Entity:id         Candidate_Entity Election_Status:token  \\\n",
       "0             11168692  HUFFINES, PHILLIP WAYNE             c-t-ftsts   \n",
       "\n",
       "  Election_Status:id Election_Status Status_of_Candidate:token  \\\n",
       "0       Lost-Primary    Lost-Primary                   c-t-sts   \n",
       "\n",
       "   Status_of_Candidate:id Status_of_Candidate Specific_Party:token  \\\n",
       "0                       2                Lost               c-t-pt   \n",
       "\n",
       "   Specific_Party:id Specific_Party General_Party:token  General_Party:id  \\\n",
       "0                139     REPUBLICAN               c-t-p                 2   \n",
       "\n",
       "  General_Party Election_Jurisdiction:token Election_Jurisdiction:id  \\\n",
       "0    Republican                           s                       TX   \n",
       "\n",
       "  Election_Jurisdiction Election_Year:token  Election_Year:id  Election_Year  \\\n",
       "0                    TX                   y              2018           2018   \n",
       "\n",
       "  Election_Type:token  Election_Type:id Election_Type Office_Sought:token  \\\n",
       "0               c-r-t                 1      Standard            c-r-osid   \n",
       "\n",
       "   Office_Sought:id        Office_Sought Incumbency_Status:token  \\\n",
       "0              7531  SENATE DISTRICT 008                 c-t-ico   \n",
       "\n",
       "  Incumbency_Status:id Incumbency_Status Contributor:token  Contributor:id  \\\n",
       "0                    O              Open             d-eid        11168692   \n",
       "\n",
       "               Contributor Type_of_Contributor:token  Type_of_Contributor:id  \\\n",
       "0  HUFFINES, PHILLIP WAYNE                      d-et                       2   \n",
       "\n",
       "  Type_of_Contributor In-State:token  In-State:id  In-State  #_of_Records  \\\n",
       "0          Individual          d-ins            1         1             5   \n",
       "\n",
       "     Total_$  \n",
       "0  5250000.0  "
      ]
     },
     "execution_count": 4,
     "metadata": {},
     "output_type": "execute_result"
    }
   ],
   "source": [
    "contribs_18.head(1)"
   ]
  },
  {
   "cell_type": "code",
   "execution_count": 48,
   "metadata": {},
   "outputs": [
    {
     "data": {
      "text/html": [
       "<div>\n",
       "<style scoped>\n",
       "    .dataframe tbody tr th:only-of-type {\n",
       "        vertical-align: middle;\n",
       "    }\n",
       "\n",
       "    .dataframe tbody tr th {\n",
       "        vertical-align: top;\n",
       "    }\n",
       "\n",
       "    .dataframe thead th {\n",
       "        text-align: right;\n",
       "    }\n",
       "</style>\n",
       "<table border=\"1\" class=\"dataframe\">\n",
       "  <thead>\n",
       "    <tr style=\"text-align: right;\">\n",
       "      <th></th>\n",
       "      <th>candidate</th>\n",
       "      <th>candidate_id</th>\n",
       "      <th>General_Party</th>\n",
       "      <th>state</th>\n",
       "      <th>year</th>\n",
       "      <th>incumbency_status</th>\n",
       "      <th>contributor</th>\n",
       "      <th>contributor_id</th>\n",
       "      <th>type_of_contributor</th>\n",
       "      <th>in_state</th>\n",
       "      <th>contributions</th>\n",
       "    </tr>\n",
       "  </thead>\n",
       "  <tbody>\n",
       "    <tr>\n",
       "      <th>0</th>\n",
       "      <td>HUFFINES, PHILLIP WAYNE</td>\n",
       "      <td>229342</td>\n",
       "      <td>Republican</td>\n",
       "      <td>TX</td>\n",
       "      <td>2018</td>\n",
       "      <td>Open</td>\n",
       "      <td>HUFFINES, PHILLIP WAYNE</td>\n",
       "      <td>11168692</td>\n",
       "      <td>Individual</td>\n",
       "      <td>1</td>\n",
       "      <td>5250000.0</td>\n",
       "    </tr>\n",
       "  </tbody>\n",
       "</table>\n",
       "</div>"
      ],
      "text/plain": [
       "                 candidate  candidate_id General_Party state  year  \\\n",
       "0  HUFFINES, PHILLIP WAYNE        229342    Republican    TX  2018   \n",
       "\n",
       "  incumbency_status              contributor  contributor_id  \\\n",
       "0              Open  HUFFINES, PHILLIP WAYNE        11168692   \n",
       "\n",
       "  type_of_contributor  in_state  contributions  \n",
       "0          Individual         1      5250000.0  "
      ]
     },
     "execution_count": 48,
     "metadata": {},
     "output_type": "execute_result"
    }
   ],
   "source": [
    "donors_18 = donors_18[[\"Candidate\", \"Candidate:id\", \"General_Party\", \"Election_Jurisdiction\", \"Election_Year\", \"Incumbency_Status\",   \"Contributor\", \"Contributor:id\", \"Type_of_Contributor\", \"In-State\", \"Total_$\"]]\n",
    "donors_18.rename(columns={\"Candidate\": \"candidate\", \"Candidate:id\": \"candidate_id\", \"Election_Jurisdiction\": \"state\", \"Election_Year\": \"year\", \"Incumbency_Status\": \"incumbency_status\", \"Contributor\": \"contributor\", \"Contributor:id\": \"contributor_id\", \"Type_of_Contributor\": \"type_of_contributor\", \"In-State\": \"in_state\", \"Total_$\": \"contributions\"}, inplace=True)\n",
    "donors_18.head(1)"
   ]
  },
  {
   "cell_type": "markdown",
   "metadata": {},
   "source": [
    "Filter out unitemized donations as it is impossible to determine where those contributions originated."
   ]
  },
  {
   "cell_type": "code",
   "execution_count": 49,
   "metadata": {},
   "outputs": [
    {
     "name": "stdout",
     "output_type": "stream",
     "text": [
      "<class 'pandas.core.frame.DataFrame'>\n",
      "Int64Index: 629441 entries, 0 to 631990\n",
      "Data columns (total 11 columns):\n",
      "candidate              629441 non-null object\n",
      "candidate_id           629441 non-null int64\n",
      "General_Party          629441 non-null object\n",
      "state                  629441 non-null object\n",
      "year                   629441 non-null int64\n",
      "incumbency_status      629441 non-null object\n",
      "contributor            629417 non-null object\n",
      "contributor_id         629441 non-null int64\n",
      "type_of_contributor    629441 non-null object\n",
      "in_state               629441 non-null int64\n",
      "contributions          629441 non-null float64\n",
      "dtypes: float64(1), int64(4), object(6)\n",
      "memory usage: 57.6+ MB\n"
     ]
    }
   ],
   "source": [
    "donors_18 = donors_18[donors_18[\"contributor\"] != \"UNITEMIZED DONATIONS\"]\n",
    "donors_18.info()"
   ]
  },
  {
   "cell_type": "markdown",
   "metadata": {},
   "source": [
    "### Import and format state population data"
   ]
  },
  {
   "cell_type": "markdown",
   "metadata": {},
   "source": [
    "Import 2017 population estimates from the Census Bureau."
   ]
  },
  {
   "cell_type": "code",
   "execution_count": 85,
   "metadata": {},
   "outputs": [
    {
     "name": "stdout",
     "output_type": "stream",
     "text": [
      "<class 'pandas.core.frame.DataFrame'>\n",
      "RangeIndex: 52 entries, 0 to 51\n",
      "Data columns (total 3 columns):\n",
      "population    52 non-null int64\n",
      "state         52 non-null object\n",
      "fips          52 non-null object\n",
      "dtypes: int64(1), object(2)\n",
      "memory usage: 1.3+ KB\n"
     ]
    }
   ],
   "source": [
    "query = \"https://api.census.gov/data/2017/pep/population?get=POP,GEONAME&for=state:*&key=\"+census_key\n",
    "population = pd.read_json(query)\n",
    "population = population.drop(population.index[0]).reset_index(drop=True) # Drop first row containing column names\n",
    "population.columns = [\"population\", \"state\", \"fips\"]\n",
    "population[\"population\"] = pd.to_numeric(population[\"population\"])\n",
    "population.info()"
   ]
  },
  {
   "cell_type": "code",
   "execution_count": 86,
   "metadata": {},
   "outputs": [
    {
     "data": {
      "text/html": [
       "<div>\n",
       "<style scoped>\n",
       "    .dataframe tbody tr th:only-of-type {\n",
       "        vertical-align: middle;\n",
       "    }\n",
       "\n",
       "    .dataframe tbody tr th {\n",
       "        vertical-align: top;\n",
       "    }\n",
       "\n",
       "    .dataframe thead th {\n",
       "        text-align: right;\n",
       "    }\n",
       "</style>\n",
       "<table border=\"1\" class=\"dataframe\">\n",
       "  <thead>\n",
       "    <tr style=\"text-align: right;\">\n",
       "      <th></th>\n",
       "      <th>population</th>\n",
       "      <th>state</th>\n",
       "      <th>fips</th>\n",
       "    </tr>\n",
       "  </thead>\n",
       "  <tbody>\n",
       "    <tr>\n",
       "      <th>0</th>\n",
       "      <td>4874747</td>\n",
       "      <td>Alabama</td>\n",
       "      <td>01</td>\n",
       "    </tr>\n",
       "  </tbody>\n",
       "</table>\n",
       "</div>"
      ],
      "text/plain": [
       "   population    state fips\n",
       "0     4874747  Alabama   01"
      ]
     },
     "execution_count": 86,
     "metadata": {},
     "output_type": "execute_result"
    }
   ],
   "source": [
    "population.head(1)"
   ]
  },
  {
   "cell_type": "markdown",
   "metadata": {},
   "source": [
    "We need to add state abbreviations in order to later join the population data with the campaign contributions data. To do so, we will use the [US package](https://github.com/unitedstates/python-us)."
   ]
  },
  {
   "cell_type": "code",
   "execution_count": 87,
   "metadata": {},
   "outputs": [
    {
     "name": "stdout",
     "output_type": "stream",
     "text": [
      "<class 'pandas.core.frame.DataFrame'>\n",
      "RangeIndex: 59 entries, 0 to 58\n",
      "Data columns (total 2 columns):\n",
      "abbreviation    59 non-null object\n",
      "fips            56 non-null object\n",
      "dtypes: object(2)\n",
      "memory usage: 1.0+ KB\n"
     ]
    }
   ],
   "source": [
    "states = pd.DataFrame.from_dict(us.states.mapping(\"abbr\", \"fips\"), orient=\"index\", columns=[\"fips\"])\n",
    "states.reset_index(inplace=True)\n",
    "states.rename(columns={\"index\": \"abbreviation\"}, inplace=True)\n",
    "states.info()"
   ]
  },
  {
   "cell_type": "code",
   "execution_count": 88,
   "metadata": {},
   "outputs": [
    {
     "name": "stdout",
     "output_type": "stream",
     "text": [
      "<class 'pandas.core.frame.DataFrame'>\n",
      "Int64Index: 52 entries, 0 to 51\n",
      "Data columns (total 3 columns):\n",
      "population      52 non-null int64\n",
      "fips            52 non-null object\n",
      "abbreviation    52 non-null object\n",
      "dtypes: int64(1), object(2)\n",
      "memory usage: 1.6+ KB\n"
     ]
    }
   ],
   "source": [
    "population = population.merge(states, on=\"fips\")\n",
    "population.drop(\"state\", axis=1, inplace=True)\n",
    "population.info()"
   ]
  },
  {
   "cell_type": "code",
   "execution_count": 89,
   "metadata": {},
   "outputs": [
    {
     "data": {
      "text/html": [
       "<div>\n",
       "<style scoped>\n",
       "    .dataframe tbody tr th:only-of-type {\n",
       "        vertical-align: middle;\n",
       "    }\n",
       "\n",
       "    .dataframe tbody tr th {\n",
       "        vertical-align: top;\n",
       "    }\n",
       "\n",
       "    .dataframe thead th {\n",
       "        text-align: right;\n",
       "    }\n",
       "</style>\n",
       "<table border=\"1\" class=\"dataframe\">\n",
       "  <thead>\n",
       "    <tr style=\"text-align: right;\">\n",
       "      <th></th>\n",
       "      <th>population</th>\n",
       "      <th>fips</th>\n",
       "      <th>abbreviation</th>\n",
       "    </tr>\n",
       "  </thead>\n",
       "  <tbody>\n",
       "    <tr>\n",
       "      <th>0</th>\n",
       "      <td>4874747</td>\n",
       "      <td>01</td>\n",
       "      <td>AL</td>\n",
       "    </tr>\n",
       "  </tbody>\n",
       "</table>\n",
       "</div>"
      ],
      "text/plain": [
       "   population fips abbreviation\n",
       "0     4874747   01           AL"
      ]
     },
     "execution_count": 89,
     "metadata": {},
     "output_type": "execute_result"
    }
   ],
   "source": [
    "population.head(1)"
   ]
  },
  {
   "cell_type": "markdown",
   "metadata": {},
   "source": [
    "## Join and analyze the data"
   ]
  },
  {
   "cell_type": "markdown",
   "metadata": {},
   "source": []
  }
 ],
 "metadata": {
  "kernelspec": {
   "display_name": "Python 3",
   "language": "python",
   "name": "python3"
  },
  "language_info": {
   "codemirror_mode": {
    "name": "ipython",
    "version": 3
   },
   "file_extension": ".py",
   "mimetype": "text/x-python",
   "name": "python",
   "nbconvert_exporter": "python",
   "pygments_lexer": "ipython3",
   "version": "3.6.3"
  }
 },
 "nbformat": 4,
 "nbformat_minor": 2
}
