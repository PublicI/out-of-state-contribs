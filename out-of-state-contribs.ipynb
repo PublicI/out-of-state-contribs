{
 "cells": [
  {
   "cell_type": "markdown",
   "metadata": {},
   "source": [
    "# Contributions from out-of-state donors"
   ]
  },
  {
   "cell_type": "code",
   "execution_count": 1,
   "metadata": {
    "scrolled": true
   },
   "outputs": [
    {
     "data": {
      "application/javascript": [
       "if (!(\"Notification\" in window)) {\n",
       "    alert(\"This browser does not support desktop notifications, so the %%notify magic will not work.\");\n",
       "} else if (Notification.permission !== 'granted' && Notification.permission !== 'denied') {\n",
       "    Notification.requestPermission(function (permission) {\n",
       "        if(!('permission' in Notification)) {\n",
       "            Notification.permission = permission;\n",
       "        }\n",
       "    })\n",
       "}\n"
      ],
      "text/plain": [
       "<IPython.core.display.Javascript object>"
      ]
     },
     "metadata": {},
     "output_type": "display_data"
    }
   ],
   "source": [
    "import pandas as pd\n",
    "import us\n",
    "\n",
    "%load_ext jupyternotify\n",
    "\n",
    "pd.set_option(\"display.max_columns\", 100)\n",
    "pd.set_option(\"display.max_rows\", 500)"
   ]
  },
  {
   "cell_type": "markdown",
   "metadata": {},
   "source": [
    "Import [National Institute on Money in Politics](https://www.followthemoney.org/) API key."
   ]
  },
  {
   "cell_type": "code",
   "execution_count": 2,
   "metadata": {
    "collapsed": true,
    "scrolled": true
   },
   "outputs": [],
   "source": [
    "nimp_key = open(\"nimp_api_key.txt\", \"r\").readline()"
   ]
  },
  {
   "cell_type": "markdown",
   "metadata": {
    "collapsed": true
   },
   "source": [
    "## Import and format the data"
   ]
  },
  {
   "cell_type": "markdown",
   "metadata": {},
   "source": [
    "### Import contribution-level data for gubernatorial, attorney general, secretary of state and state legislative races in 2018"
   ]
  },
  {
   "cell_type": "code",
   "execution_count": null,
   "metadata": {
    "scrolled": true
   },
   "outputs": [],
   "source": [
    "%%notify\n",
    "contribs_18 = pd.read_csv(\"https://www.followthemoney.org/aaengine/aafetch.php?dt=1&y=2018&c-exi=1&c-r-oc=Z10,Z70&c-r-ot=G,S,H&gro=s,d-id&APIKey=\"+nimp_key+\"&mode=csv\",\n",
    "                          encoding=\"ISO-8859-1\", error_bad_lines=False)\n",
    "contribs_18.to_csv(\"data/contribs_18.csv\", index=False)"
   ]
  },
  {
   "cell_type": "code",
   "execution_count": 46,
   "metadata": {
    "scrolled": true
   },
   "outputs": [
    {
     "name": "stderr",
     "output_type": "stream",
     "text": [
      "/home/joe/anaconda3/lib/python3.6/site-packages/IPython/core/interactiveshell.py:2728: DtypeWarning: Columns (8,11,14,17,20,23,24,32,35,44) have mixed types. Specify dtype option on import or set low_memory=False.\n",
      "  interactivity=interactivity, compiler=compiler, result=result)\n"
     ]
    },
    {
     "name": "stdout",
     "output_type": "stream",
     "text": [
      "<class 'pandas.core.frame.DataFrame'>\n",
      "RangeIndex: 2118572 entries, 0 to 2118571\n",
      "Data columns (total 49 columns):\n",
      "request                        object\n",
      "Election_Jurisdiction:token    object\n",
      "Election_Jurisdiction:id       object\n",
      "Election_Jurisdiction          object\n",
      "Original_Name:token            object\n",
      "Original_Name:id               int64\n",
      "Original_Name                  object\n",
      "Contributor:token              object\n",
      "Contributor:id                 object\n",
      "Contributor                    object\n",
      "Type_of_Contributor:token      object\n",
      "Type_of_Contributor:id         object\n",
      "Type_of_Contributor            object\n",
      "Specific_Business:token        object\n",
      "Specific_Business:id           object\n",
      "Specific_Business              object\n",
      "General_Industry:token         object\n",
      "General_Industry:id            object\n",
      "General_Industry               object\n",
      "Broad_Sector:token             object\n",
      "Broad_Sector:id                object\n",
      "Broad_Sector                   object\n",
      "Amount:token                   object\n",
      "Amount:id                      object\n",
      "Amount                         object\n",
      "Date:token                     object\n",
      "Date:id                        object\n",
      "Date                           object\n",
      "Last_Updated:token             object\n",
      "Last_Updated:id                object\n",
      "Last_Updated                   object\n",
      "Type_of_Transaction:token      object\n",
      "Type_of_Transaction:id         object\n",
      "Type_of_Transaction            object\n",
      "Purpose:token                  object\n",
      "Purpose:id                     object\n",
      "Purpose                        object\n",
      "City:token                     object\n",
      "City:id                        object\n",
      "City                           object\n",
      "State:token                    object\n",
      "State:id                       object\n",
      "State                          object\n",
      "Zip:token                      object\n",
      "Zip:id                         object\n",
      "Zip                            float64\n",
      "In-State:token                 object\n",
      "In-State:id                    float64\n",
      "In-State                       float64\n",
      "dtypes: float64(3), int64(1), object(45)\n",
      "memory usage: 792.0+ MB\n"
     ]
    }
   ],
   "source": [
    "contribs_18 = pd.read_csv(\"data/contribs_18.csv\", encoding=\"ISO-8859-1\")\n",
    "contribs_18.info()"
   ]
  },
  {
   "cell_type": "markdown",
   "metadata": {},
   "source": [
    "Convert the contribution amount column to numeric (float) data type."
   ]
  },
  {
   "cell_type": "code",
   "execution_count": 47,
   "metadata": {
    "scrolled": true
   },
   "outputs": [
    {
     "name": "stdout",
     "output_type": "stream",
     "text": [
      "<class 'pandas.core.frame.DataFrame'>\n",
      "RangeIndex: 2118572 entries, 0 to 2118571\n",
      "Data columns (total 49 columns):\n",
      "request                        object\n",
      "Election_Jurisdiction:token    object\n",
      "Election_Jurisdiction:id       object\n",
      "Election_Jurisdiction          object\n",
      "Original_Name:token            object\n",
      "Original_Name:id               int64\n",
      "Original_Name                  object\n",
      "Contributor:token              object\n",
      "Contributor:id                 object\n",
      "Contributor                    object\n",
      "Type_of_Contributor:token      object\n",
      "Type_of_Contributor:id         object\n",
      "Type_of_Contributor            object\n",
      "Specific_Business:token        object\n",
      "Specific_Business:id           object\n",
      "Specific_Business              object\n",
      "General_Industry:token         object\n",
      "General_Industry:id            object\n",
      "General_Industry               object\n",
      "Broad_Sector:token             object\n",
      "Broad_Sector:id                object\n",
      "Broad_Sector                   object\n",
      "Amount:token                   object\n",
      "Amount:id                      object\n",
      "Amount                         float64\n",
      "Date:token                     object\n",
      "Date:id                        object\n",
      "Date                           object\n",
      "Last_Updated:token             object\n",
      "Last_Updated:id                object\n",
      "Last_Updated                   object\n",
      "Type_of_Transaction:token      object\n",
      "Type_of_Transaction:id         object\n",
      "Type_of_Transaction            object\n",
      "Purpose:token                  object\n",
      "Purpose:id                     object\n",
      "Purpose                        object\n",
      "City:token                     object\n",
      "City:id                        object\n",
      "City                           object\n",
      "State:token                    object\n",
      "State:id                       object\n",
      "State                          object\n",
      "Zip:token                      object\n",
      "Zip:id                         object\n",
      "Zip                            float64\n",
      "In-State:token                 object\n",
      "In-State:id                    float64\n",
      "In-State                       float64\n",
      "dtypes: float64(4), int64(1), object(44)\n",
      "memory usage: 792.0+ MB\n"
     ]
    }
   ],
   "source": [
    "contribs_18[\"Amount\"] = pd.to_numeric(contribs_18[\"Amount\"], errors=\"coerce\")\n",
    "contribs_18.info()"
   ]
  },
  {
   "cell_type": "markdown",
   "metadata": {},
   "source": [
    "Convert the contribution date column to datetime data type."
   ]
  },
  {
   "cell_type": "code",
   "execution_count": null,
   "metadata": {
    "collapsed": true
   },
   "outputs": [],
   "source": [
    "contribs_18[\"Date\"] = pd.to_datetime(contribs_18[\"Date\"], errors=\"coerce\")\n",
    "contribs_18.info()"
   ]
  },
  {
   "cell_type": "markdown",
   "metadata": {},
   "source": [
    "Filter out unitemized donations as it is impossible to determine where those contributions originated. Then filter the data to just the state, contribution amount, contribution date and in-vs.-out-of-state columns."
   ]
  },
  {
   "cell_type": "code",
   "execution_count": 49,
   "metadata": {
    "scrolled": false
   },
   "outputs": [
    {
     "data": {
      "text/html": [
       "<div>\n",
       "<style scoped>\n",
       "    .dataframe tbody tr th:only-of-type {\n",
       "        vertical-align: middle;\n",
       "    }\n",
       "\n",
       "    .dataframe tbody tr th {\n",
       "        vertical-align: top;\n",
       "    }\n",
       "\n",
       "    .dataframe thead th {\n",
       "        text-align: right;\n",
       "    }\n",
       "</style>\n",
       "<table border=\"1\" class=\"dataframe\">\n",
       "  <thead>\n",
       "    <tr style=\"text-align: right;\">\n",
       "      <th></th>\n",
       "      <th>state</th>\n",
       "      <th>amount</th>\n",
       "      <th>date</th>\n",
       "    </tr>\n",
       "  </thead>\n",
       "  <tbody>\n",
       "    <tr>\n",
       "      <th>0</th>\n",
       "      <td>IL</td>\n",
       "      <td>50000000.0</td>\n",
       "      <td>2016-12-20</td>\n",
       "    </tr>\n",
       "  </tbody>\n",
       "</table>\n",
       "</div>"
      ],
      "text/plain": [
       "  state      amount        date\n",
       "0    IL  50000000.0  2016-12-20"
      ]
     },
     "execution_count": 49,
     "metadata": {},
     "output_type": "execute_result"
    }
   ],
   "source": [
    "contribs_18 = contribs_18[contribs_18[\"Contributor\"] != \"UNITEMIZED DONATIONS\"]\n",
    "contribs_18 = contribs_18[[\"Election_Jurisdiction\", \"Amount\", \"Date\", \"In-State\"]]\n",
    "contribs_18.rename(columns={\"Election_Jurisdiction\": \"state\", \"Amount\": \"amount\", \"Date\": \"date\", \"In-State\": \"in_out_state\"}, inplace=True)\n",
    "contribs_18.info()"
   ]
  },
  {
   "cell_type": "markdown",
   "metadata": {},
   "source": [
    "Rename the categories in the in-vs.-out-of-state column."
   ]
  },
  {
   "cell_type": "code",
   "execution_count": null,
   "metadata": {
    "collapsed": true
   },
   "outputs": [],
   "source": [
    "# 0 = out-of-state, 1 = in-state, 2 = unknown\n",
    "contribs_18[\"in_out_state\"] = contribs_18[\"in_out_state\"].replace({0: \"out-of-state\", 1: \"in-state\", 2: \"unknown\"})\n",
    "contribs_18.head(1)"
   ]
  },
  {
   "cell_type": "markdown",
   "metadata": {},
   "source": [
    "Extract the month and year from the contribution date column."
   ]
  },
  {
   "cell_type": "code",
   "execution_count": 54,
   "metadata": {
    "scrolled": false
   },
   "outputs": [
    {
     "name": "stdout",
     "output_type": "stream",
     "text": [
      "<class 'pandas.core.frame.DataFrame'>\n",
      "RangeIndex: 2118572 entries, 0 to 2118571\n",
      "Data columns (total 4 columns):\n",
      "state         object\n",
      "amount        float64\n",
      "date          datetime64[ns]\n",
      "month_year    object\n",
      "dtypes: datetime64[ns](1), float64(1), object(2)\n",
      "memory usage: 64.7+ MB\n"
     ]
    }
   ],
   "source": [
    "contribs_18[\"month\"] = contribs_18[\"date\"].dt.to_period(\"M\")\n",
    "contribs_18.info()"
   ]
  },
  {
   "cell_type": "markdown",
   "metadata": {},
   "source": [
    "Group the contributions by state and month."
   ]
  },
  {
   "cell_type": "code",
   "execution_count": 70,
   "metadata": {
    "scrolled": false
   },
   "outputs": [
    {
     "name": "stdout",
     "output_type": "stream",
     "text": [
      "<class 'pandas.core.frame.DataFrame'>\n",
      "RangeIndex: 1464 entries, 0 to 1463\n",
      "Data columns (total 3 columns):\n",
      "state         1464 non-null object\n",
      "month_year    1464 non-null object\n",
      "amount        1464 non-null float64\n",
      "dtypes: float64(1), object(2)\n",
      "memory usage: 34.4+ KB\n"
     ]
    }
   ],
   "source": [
    "grouped_by_month = contribs_18.groupby([\"state\", \"month\"])[\"amount\"].sum().reset_index()\n",
    "contribs_18.drop(\"month\", axis=1) # The month column is no longer needed\n",
    "grouped_by_month.info()"
   ]
  },
  {
   "cell_type": "markdown",
   "metadata": {},
   "source": [
    "Because we eventually want to use each state's month column as the cut-off date for contributions, we need to add a day to the month and the year and then convert the column into datetime data type."
   ]
  },
  {
   "cell_type": "code",
   "execution_count": 71,
   "metadata": {
    "scrolled": false
   },
   "outputs": [
    {
     "name": "stdout",
     "output_type": "stream",
     "text": [
      "<class 'pandas.core.frame.DataFrame'>\n",
      "RangeIndex: 1464 entries, 0 to 1463\n",
      "Data columns (total 3 columns):\n",
      "state         1464 non-null object\n",
      "month_year    1464 non-null object\n",
      "amount        1464 non-null float64\n",
      "dtypes: float64(1), object(2)\n",
      "memory usage: 34.4+ KB\n"
     ]
    }
   ],
   "source": [
    "grouped_by_month[\"month\"] = grouped_by_month[\"month\"].astype(str) + \"-28\" # No month has fewer than 28 days\n",
    "grouped_by_month[\"month\"] = pd.to_datetime(grouped_by_month[\"month\"], errors=\"coerce\")\n",
    "grouped_by_month.info()"
   ]
  },
  {
   "cell_type": "code",
   "execution_count": 74,
   "metadata": {
    "scrolled": false
   },
   "outputs": [
    {
     "data": {
      "text/html": [
       "<div>\n",
       "<style scoped>\n",
       "    .dataframe tbody tr th:only-of-type {\n",
       "        vertical-align: middle;\n",
       "    }\n",
       "\n",
       "    .dataframe tbody tr th {\n",
       "        vertical-align: top;\n",
       "    }\n",
       "\n",
       "    .dataframe thead th {\n",
       "        text-align: right;\n",
       "    }\n",
       "</style>\n",
       "<table border=\"1\" class=\"dataframe\">\n",
       "  <thead>\n",
       "    <tr style=\"text-align: right;\">\n",
       "      <th></th>\n",
       "      <th>state</th>\n",
       "      <th>month_year</th>\n",
       "      <th>amount</th>\n",
       "    </tr>\n",
       "  </thead>\n",
       "  <tbody>\n",
       "    <tr>\n",
       "      <th>0</th>\n",
       "      <td>AK</td>\n",
       "      <td>2017-04-28</td>\n",
       "      <td>223.93</td>\n",
       "    </tr>\n",
       "    <tr>\n",
       "      <th>1</th>\n",
       "      <td>AK</td>\n",
       "      <td>2017-05-28</td>\n",
       "      <td>1177.04</td>\n",
       "    </tr>\n",
       "    <tr>\n",
       "      <th>2</th>\n",
       "      <td>AK</td>\n",
       "      <td>2017-06-28</td>\n",
       "      <td>1750.00</td>\n",
       "    </tr>\n",
       "    <tr>\n",
       "      <th>3</th>\n",
       "      <td>AK</td>\n",
       "      <td>2017-07-28</td>\n",
       "      <td>9684.21</td>\n",
       "    </tr>\n",
       "    <tr>\n",
       "      <th>4</th>\n",
       "      <td>AK</td>\n",
       "      <td>2017-08-28</td>\n",
       "      <td>63999.19</td>\n",
       "    </tr>\n",
       "  </tbody>\n",
       "</table>\n",
       "</div>"
      ],
      "text/plain": [
       "  state month_year    amount\n",
       "0    AK 2017-04-28    223.93\n",
       "1    AK 2017-05-28   1177.04\n",
       "2    AK 2017-06-28   1750.00\n",
       "3    AK 2017-07-28   9684.21\n",
       "4    AK 2017-08-28  63999.19"
      ]
     },
     "execution_count": 74,
     "metadata": {},
     "output_type": "execute_result"
    }
   ],
   "source": [
    "grouped_by_month.head()"
   ]
  },
  {
   "cell_type": "markdown",
   "metadata": {},
   "source": [
    "We know some of the contribution dates are wrong. We know this because some of the dates occur in the future and, unless we've got some time travelling campaign donors, these are data entry errors. To eliminate this noise, we will filter out months after August 2018 or months with fewer than $2,500 in contributions. This latter filter will catch contributions that were miscoded as occuring during or before August 2018."
   ]
  },
  {
   "cell_type": "code",
   "execution_count": 75,
   "metadata": {
    "scrolled": false
   },
   "outputs": [
    {
     "name": "stdout",
     "output_type": "stream",
     "text": [
      "<class 'pandas.core.frame.DataFrame'>\n",
      "Int64Index: 1173 entries, 3 to 1463\n",
      "Data columns (total 3 columns):\n",
      "state         1173 non-null object\n",
      "month_year    1173 non-null datetime64[ns]\n",
      "amount        1173 non-null float64\n",
      "dtypes: datetime64[ns](1), float64(1), object(1)\n",
      "memory usage: 36.7+ KB\n"
     ]
    }
   ],
   "source": [
    "grouped_by_month = grouped_by_month[(grouped_by_month[\"month\"] <= \"2018-08-28\") & (grouped_by_month[\"amount\"] >= 2500)]\n",
    "grouped_by_month.info()"
   ]
  },
  {
   "cell_type": "markdown",
   "metadata": {},
   "source": [
    "Return the most recent month with at least $2,500 in contributions for each state."
   ]
  },
  {
   "cell_type": "code",
   "execution_count": 76,
   "metadata": {
    "scrolled": true
   },
   "outputs": [
    {
     "data": {
      "text/html": [
       "<div>\n",
       "<style scoped>\n",
       "    .dataframe tbody tr th:only-of-type {\n",
       "        vertical-align: middle;\n",
       "    }\n",
       "\n",
       "    .dataframe tbody tr th {\n",
       "        vertical-align: top;\n",
       "    }\n",
       "\n",
       "    .dataframe thead th {\n",
       "        text-align: right;\n",
       "    }\n",
       "</style>\n",
       "<table border=\"1\" class=\"dataframe\">\n",
       "  <thead>\n",
       "    <tr style=\"text-align: right;\">\n",
       "      <th></th>\n",
       "      <th>state</th>\n",
       "      <th>month_year</th>\n",
       "    </tr>\n",
       "  </thead>\n",
       "  <tbody>\n",
       "    <tr>\n",
       "      <th>0</th>\n",
       "      <td>AK</td>\n",
       "      <td>2018-07-28</td>\n",
       "    </tr>\n",
       "    <tr>\n",
       "      <th>1</th>\n",
       "      <td>AL</td>\n",
       "      <td>2018-07-28</td>\n",
       "    </tr>\n",
       "    <tr>\n",
       "      <th>2</th>\n",
       "      <td>AR</td>\n",
       "      <td>2018-03-28</td>\n",
       "    </tr>\n",
       "    <tr>\n",
       "      <th>3</th>\n",
       "      <td>AZ</td>\n",
       "      <td>2017-12-28</td>\n",
       "    </tr>\n",
       "    <tr>\n",
       "      <th>4</th>\n",
       "      <td>CA</td>\n",
       "      <td>2018-07-28</td>\n",
       "    </tr>\n",
       "    <tr>\n",
       "      <th>5</th>\n",
       "      <td>CO</td>\n",
       "      <td>2018-06-28</td>\n",
       "    </tr>\n",
       "    <tr>\n",
       "      <th>6</th>\n",
       "      <td>CT</td>\n",
       "      <td>2018-03-28</td>\n",
       "    </tr>\n",
       "    <tr>\n",
       "      <th>7</th>\n",
       "      <td>FL</td>\n",
       "      <td>2018-08-28</td>\n",
       "    </tr>\n",
       "    <tr>\n",
       "      <th>8</th>\n",
       "      <td>GA</td>\n",
       "      <td>2018-07-28</td>\n",
       "    </tr>\n",
       "    <tr>\n",
       "      <th>9</th>\n",
       "      <td>HI</td>\n",
       "      <td>2017-12-28</td>\n",
       "    </tr>\n",
       "    <tr>\n",
       "      <th>10</th>\n",
       "      <td>IA</td>\n",
       "      <td>2018-07-28</td>\n",
       "    </tr>\n",
       "    <tr>\n",
       "      <th>11</th>\n",
       "      <td>ID</td>\n",
       "      <td>2018-08-28</td>\n",
       "    </tr>\n",
       "    <tr>\n",
       "      <th>12</th>\n",
       "      <td>IL</td>\n",
       "      <td>2018-06-28</td>\n",
       "    </tr>\n",
       "    <tr>\n",
       "      <th>13</th>\n",
       "      <td>IN</td>\n",
       "      <td>2018-04-28</td>\n",
       "    </tr>\n",
       "    <tr>\n",
       "      <th>14</th>\n",
       "      <td>KS</td>\n",
       "      <td>2017-12-28</td>\n",
       "    </tr>\n",
       "    <tr>\n",
       "      <th>15</th>\n",
       "      <td>KY</td>\n",
       "      <td>2018-07-28</td>\n",
       "    </tr>\n",
       "    <tr>\n",
       "      <th>16</th>\n",
       "      <td>LA</td>\n",
       "      <td>2018-03-28</td>\n",
       "    </tr>\n",
       "    <tr>\n",
       "      <th>17</th>\n",
       "      <td>MA</td>\n",
       "      <td>2018-06-28</td>\n",
       "    </tr>\n",
       "    <tr>\n",
       "      <th>18</th>\n",
       "      <td>MD</td>\n",
       "      <td>2018-06-28</td>\n",
       "    </tr>\n",
       "    <tr>\n",
       "      <th>19</th>\n",
       "      <td>ME</td>\n",
       "      <td>2018-05-28</td>\n",
       "    </tr>\n",
       "    <tr>\n",
       "      <th>20</th>\n",
       "      <td>MI</td>\n",
       "      <td>2018-07-28</td>\n",
       "    </tr>\n",
       "    <tr>\n",
       "      <th>21</th>\n",
       "      <td>MN</td>\n",
       "      <td>2017-12-28</td>\n",
       "    </tr>\n",
       "    <tr>\n",
       "      <th>22</th>\n",
       "      <td>MO</td>\n",
       "      <td>2017-12-28</td>\n",
       "    </tr>\n",
       "    <tr>\n",
       "      <th>23</th>\n",
       "      <td>NC</td>\n",
       "      <td>2018-04-28</td>\n",
       "    </tr>\n",
       "    <tr>\n",
       "      <th>24</th>\n",
       "      <td>NE</td>\n",
       "      <td>2018-05-28</td>\n",
       "    </tr>\n",
       "    <tr>\n",
       "      <th>25</th>\n",
       "      <td>NH</td>\n",
       "      <td>2017-12-28</td>\n",
       "    </tr>\n",
       "    <tr>\n",
       "      <th>26</th>\n",
       "      <td>NM</td>\n",
       "      <td>2018-06-28</td>\n",
       "    </tr>\n",
       "    <tr>\n",
       "      <th>27</th>\n",
       "      <td>NV</td>\n",
       "      <td>2017-12-28</td>\n",
       "    </tr>\n",
       "    <tr>\n",
       "      <th>28</th>\n",
       "      <td>NY</td>\n",
       "      <td>2018-05-28</td>\n",
       "    </tr>\n",
       "    <tr>\n",
       "      <th>29</th>\n",
       "      <td>OH</td>\n",
       "      <td>2018-06-28</td>\n",
       "    </tr>\n",
       "    <tr>\n",
       "      <th>30</th>\n",
       "      <td>OK</td>\n",
       "      <td>2017-12-28</td>\n",
       "    </tr>\n",
       "    <tr>\n",
       "      <th>31</th>\n",
       "      <td>OR</td>\n",
       "      <td>2018-05-28</td>\n",
       "    </tr>\n",
       "    <tr>\n",
       "      <th>32</th>\n",
       "      <td>PA</td>\n",
       "      <td>2018-05-28</td>\n",
       "    </tr>\n",
       "    <tr>\n",
       "      <th>33</th>\n",
       "      <td>RI</td>\n",
       "      <td>2017-12-28</td>\n",
       "    </tr>\n",
       "    <tr>\n",
       "      <th>34</th>\n",
       "      <td>SC</td>\n",
       "      <td>2018-05-28</td>\n",
       "    </tr>\n",
       "    <tr>\n",
       "      <th>35</th>\n",
       "      <td>SD</td>\n",
       "      <td>2016-12-28</td>\n",
       "    </tr>\n",
       "    <tr>\n",
       "      <th>36</th>\n",
       "      <td>TN</td>\n",
       "      <td>2018-04-28</td>\n",
       "    </tr>\n",
       "    <tr>\n",
       "      <th>37</th>\n",
       "      <td>TX</td>\n",
       "      <td>2018-06-28</td>\n",
       "    </tr>\n",
       "    <tr>\n",
       "      <th>38</th>\n",
       "      <td>VT</td>\n",
       "      <td>2016-12-28</td>\n",
       "    </tr>\n",
       "    <tr>\n",
       "      <th>39</th>\n",
       "      <td>WA</td>\n",
       "      <td>2018-04-28</td>\n",
       "    </tr>\n",
       "    <tr>\n",
       "      <th>40</th>\n",
       "      <td>WI</td>\n",
       "      <td>2018-06-28</td>\n",
       "    </tr>\n",
       "    <tr>\n",
       "      <th>41</th>\n",
       "      <td>WY</td>\n",
       "      <td>2017-12-28</td>\n",
       "    </tr>\n",
       "  </tbody>\n",
       "</table>\n",
       "</div>"
      ],
      "text/plain": [
       "   state month_year\n",
       "0     AK 2018-07-28\n",
       "1     AL 2018-07-28\n",
       "2     AR 2018-03-28\n",
       "3     AZ 2017-12-28\n",
       "4     CA 2018-07-28\n",
       "5     CO 2018-06-28\n",
       "6     CT 2018-03-28\n",
       "7     FL 2018-08-28\n",
       "8     GA 2018-07-28\n",
       "9     HI 2017-12-28\n",
       "10    IA 2018-07-28\n",
       "11    ID 2018-08-28\n",
       "12    IL 2018-06-28\n",
       "13    IN 2018-04-28\n",
       "14    KS 2017-12-28\n",
       "15    KY 2018-07-28\n",
       "16    LA 2018-03-28\n",
       "17    MA 2018-06-28\n",
       "18    MD 2018-06-28\n",
       "19    ME 2018-05-28\n",
       "20    MI 2018-07-28\n",
       "21    MN 2017-12-28\n",
       "22    MO 2017-12-28\n",
       "23    NC 2018-04-28\n",
       "24    NE 2018-05-28\n",
       "25    NH 2017-12-28\n",
       "26    NM 2018-06-28\n",
       "27    NV 2017-12-28\n",
       "28    NY 2018-05-28\n",
       "29    OH 2018-06-28\n",
       "30    OK 2017-12-28\n",
       "31    OR 2018-05-28\n",
       "32    PA 2018-05-28\n",
       "33    RI 2017-12-28\n",
       "34    SC 2018-05-28\n",
       "35    SD 2016-12-28\n",
       "36    TN 2018-04-28\n",
       "37    TX 2018-06-28\n",
       "38    VT 2016-12-28\n",
       "39    WA 2018-04-28\n",
       "40    WI 2018-06-28\n",
       "41    WY 2017-12-28"
      ]
     },
     "execution_count": 76,
     "metadata": {},
     "output_type": "execute_result"
    }
   ],
   "source": [
    "latest_month = grouped_by_month.groupby(\"state\")[\"month\"].max().reset_index()\n",
    "latest_month.rename(columns={\"month\": \"latest_month\"}, inplace=True)\n",
    "latest_month"
   ]
  },
  {
   "cell_type": "markdown",
   "metadata": {},
   "source": [
    "### Import contribution-level data for gubernatorial, attorney general, secretary of state and state legislative races in 2014"
   ]
  },
  {
   "cell_type": "code",
   "execution_count": null,
   "metadata": {
    "collapsed": true,
    "scrolled": true
   },
   "outputs": [],
   "source": [
    "%%notify\n",
    "contribs_14 = pd.read_csv(\"https://www.followthemoney.org/aaengine/aafetch.php?dt=1&y=2014&c-exi=1&c-r-oc=Z10,Z70&c-r-ot=G,S,H&gro=s,d-id&APIKey=\"+nimp_key+\"&mode=csv\",\n",
    "                          encoding=\"ISO-8859-1\", error_bad_lines=False)\n",
    "contribs_14.to_csv(\"data/contribs_14.csv\", index=False)"
   ]
  },
  {
   "cell_type": "code",
   "execution_count": 46,
   "metadata": {
    "scrolled": true
   },
   "outputs": [
    {
     "name": "stderr",
     "output_type": "stream",
     "text": [
      "/home/joe/anaconda3/lib/python3.6/site-packages/IPython/core/interactiveshell.py:2728: DtypeWarning: Columns (8,11,14,17,20,23,24,32,35,44) have mixed types. Specify dtype option on import or set low_memory=False.\n",
      "  interactivity=interactivity, compiler=compiler, result=result)\n"
     ]
    },
    {
     "name": "stdout",
     "output_type": "stream",
     "text": [
      "<class 'pandas.core.frame.DataFrame'>\n",
      "RangeIndex: 2118572 entries, 0 to 2118571\n",
      "Data columns (total 49 columns):\n",
      "request                        object\n",
      "Election_Jurisdiction:token    object\n",
      "Election_Jurisdiction:id       object\n",
      "Election_Jurisdiction          object\n",
      "Original_Name:token            object\n",
      "Original_Name:id               int64\n",
      "Original_Name                  object\n",
      "Contributor:token              object\n",
      "Contributor:id                 object\n",
      "Contributor                    object\n",
      "Type_of_Contributor:token      object\n",
      "Type_of_Contributor:id         object\n",
      "Type_of_Contributor            object\n",
      "Specific_Business:token        object\n",
      "Specific_Business:id           object\n",
      "Specific_Business              object\n",
      "General_Industry:token         object\n",
      "General_Industry:id            object\n",
      "General_Industry               object\n",
      "Broad_Sector:token             object\n",
      "Broad_Sector:id                object\n",
      "Broad_Sector                   object\n",
      "Amount:token                   object\n",
      "Amount:id                      object\n",
      "Amount                         object\n",
      "Date:token                     object\n",
      "Date:id                        object\n",
      "Date                           object\n",
      "Last_Updated:token             object\n",
      "Last_Updated:id                object\n",
      "Last_Updated                   object\n",
      "Type_of_Transaction:token      object\n",
      "Type_of_Transaction:id         object\n",
      "Type_of_Transaction            object\n",
      "Purpose:token                  object\n",
      "Purpose:id                     object\n",
      "Purpose                        object\n",
      "City:token                     object\n",
      "City:id                        object\n",
      "City                           object\n",
      "State:token                    object\n",
      "State:id                       object\n",
      "State                          object\n",
      "Zip:token                      object\n",
      "Zip:id                         object\n",
      "Zip                            float64\n",
      "In-State:token                 object\n",
      "In-State:id                    float64\n",
      "In-State                       float64\n",
      "dtypes: float64(3), int64(1), object(45)\n",
      "memory usage: 792.0+ MB\n"
     ]
    }
   ],
   "source": [
    "contribs_14 = pd.read_csv(\"data/contribs_14.csv\", encoding=\"ISO-8859-1\")\n",
    "contribs_14.info()"
   ]
  },
  {
   "cell_type": "markdown",
   "metadata": {},
   "source": [
    "Convert contribution amount column to numeric (float) data type."
   ]
  },
  {
   "cell_type": "code",
   "execution_count": 47,
   "metadata": {
    "scrolled": true
   },
   "outputs": [
    {
     "name": "stdout",
     "output_type": "stream",
     "text": [
      "<class 'pandas.core.frame.DataFrame'>\n",
      "RangeIndex: 2118572 entries, 0 to 2118571\n",
      "Data columns (total 49 columns):\n",
      "request                        object\n",
      "Election_Jurisdiction:token    object\n",
      "Election_Jurisdiction:id       object\n",
      "Election_Jurisdiction          object\n",
      "Original_Name:token            object\n",
      "Original_Name:id               int64\n",
      "Original_Name                  object\n",
      "Contributor:token              object\n",
      "Contributor:id                 object\n",
      "Contributor                    object\n",
      "Type_of_Contributor:token      object\n",
      "Type_of_Contributor:id         object\n",
      "Type_of_Contributor            object\n",
      "Specific_Business:token        object\n",
      "Specific_Business:id           object\n",
      "Specific_Business              object\n",
      "General_Industry:token         object\n",
      "General_Industry:id            object\n",
      "General_Industry               object\n",
      "Broad_Sector:token             object\n",
      "Broad_Sector:id                object\n",
      "Broad_Sector                   object\n",
      "Amount:token                   object\n",
      "Amount:id                      object\n",
      "Amount                         float64\n",
      "Date:token                     object\n",
      "Date:id                        object\n",
      "Date                           object\n",
      "Last_Updated:token             object\n",
      "Last_Updated:id                object\n",
      "Last_Updated                   object\n",
      "Type_of_Transaction:token      object\n",
      "Type_of_Transaction:id         object\n",
      "Type_of_Transaction            object\n",
      "Purpose:token                  object\n",
      "Purpose:id                     object\n",
      "Purpose                        object\n",
      "City:token                     object\n",
      "City:id                        object\n",
      "City                           object\n",
      "State:token                    object\n",
      "State:id                       object\n",
      "State                          object\n",
      "Zip:token                      object\n",
      "Zip:id                         object\n",
      "Zip                            float64\n",
      "In-State:token                 object\n",
      "In-State:id                    float64\n",
      "In-State                       float64\n",
      "dtypes: float64(4), int64(1), object(44)\n",
      "memory usage: 792.0+ MB\n"
     ]
    }
   ],
   "source": [
    "contribs_14[\"Amount\"] = pd.to_numeric(contribs_14[\"Amount\"], errors=\"coerce\")\n",
    "contribs_14.info()"
   ]
  },
  {
   "cell_type": "markdown",
   "metadata": {},
   "source": [
    "Convert the contribution date column to datetime data type."
   ]
  },
  {
   "cell_type": "code",
   "execution_count": null,
   "metadata": {
    "collapsed": true
   },
   "outputs": [],
   "source": [
    "contribs_14[\"Date\"] = pd.to_datetime(contribs_14[\"Date\"], errors=\"coerce\")\n",
    "contribs_14.info()"
   ]
  },
  {
   "cell_type": "markdown",
   "metadata": {},
   "source": [
    "Filter out unitemized donations as it is impossible to determine where those contributions originated. Then filter the data to just the state, contribution amount, contribution date and in-vs.-out-of-state columns."
   ]
  },
  {
   "cell_type": "code",
   "execution_count": null,
   "metadata": {
    "collapsed": true,
    "scrolled": false
   },
   "outputs": [],
   "source": [
    "contribs_14 = contribs_14[contribs_14[\"Contributor\"] != \"UNITEMIZED DONATIONS\"]\n",
    "contribs_14 = contribs_14[[\"Election_Jurisdiction\", \"Amount\", \"Date\", \"In-State\"]]\n",
    "contribs_14.rename(columns={\"Election_Jurisdiction\": \"state\", \"Amount\": \"amount\", \"Date\": \"date\", \"In-State\": \"in_out_state\"}, inplace=True)\n",
    "contribs_14.head(1)"
   ]
  },
  {
   "cell_type": "markdown",
   "metadata": {},
   "source": [
    "Rename the categories in the in-vs.-out-of-state column."
   ]
  },
  {
   "cell_type": "code",
   "execution_count": null,
   "metadata": {
    "collapsed": true
   },
   "outputs": [],
   "source": [
    "# 0 = out-of-state, 1 = in-state, 2 = unknown\n",
    "contribs_14[\"in_out_state\"] = contribs_14[\"in_out_state\"].replace({0: \"out-of-state\", 1: \"in-state\", 2: \"unknown\"})\n",
    "contribs_14.head(1)"
   ]
  },
  {
   "cell_type": "markdown",
   "metadata": {},
   "source": [
    "### Import contribution-level data for gubernatorial, attorney general, secretary of state and state legislative races in 2010"
   ]
  },
  {
   "cell_type": "code",
   "execution_count": null,
   "metadata": {
    "collapsed": true,
    "scrolled": true
   },
   "outputs": [],
   "source": [
    "%%notify\n",
    "contribs_10 = pd.read_csv(\"https://www.followthemoney.org/aaengine/aafetch.php?dt=1&y=2010&c-exi=1&c-r-oc=Z10,Z70&c-r-ot=G,S,H&gro=s,d-id&APIKey=\"+nimp_key+\"&mode=csv\",\n",
    "                          encoding=\"ISO-8859-1\", error_bad_lines=False)\n",
    "contribs_10.to_csv(\"data/contribs_10.csv\", index=False)"
   ]
  },
  {
   "cell_type": "code",
   "execution_count": 46,
   "metadata": {
    "scrolled": true
   },
   "outputs": [
    {
     "name": "stderr",
     "output_type": "stream",
     "text": [
      "/home/joe/anaconda3/lib/python3.6/site-packages/IPython/core/interactiveshell.py:2728: DtypeWarning: Columns (8,11,14,17,20,23,24,32,35,44) have mixed types. Specify dtype option on import or set low_memory=False.\n",
      "  interactivity=interactivity, compiler=compiler, result=result)\n"
     ]
    },
    {
     "name": "stdout",
     "output_type": "stream",
     "text": [
      "<class 'pandas.core.frame.DataFrame'>\n",
      "RangeIndex: 2118572 entries, 0 to 2118571\n",
      "Data columns (total 49 columns):\n",
      "request                        object\n",
      "Election_Jurisdiction:token    object\n",
      "Election_Jurisdiction:id       object\n",
      "Election_Jurisdiction          object\n",
      "Original_Name:token            object\n",
      "Original_Name:id               int64\n",
      "Original_Name                  object\n",
      "Contributor:token              object\n",
      "Contributor:id                 object\n",
      "Contributor                    object\n",
      "Type_of_Contributor:token      object\n",
      "Type_of_Contributor:id         object\n",
      "Type_of_Contributor            object\n",
      "Specific_Business:token        object\n",
      "Specific_Business:id           object\n",
      "Specific_Business              object\n",
      "General_Industry:token         object\n",
      "General_Industry:id            object\n",
      "General_Industry               object\n",
      "Broad_Sector:token             object\n",
      "Broad_Sector:id                object\n",
      "Broad_Sector                   object\n",
      "Amount:token                   object\n",
      "Amount:id                      object\n",
      "Amount                         object\n",
      "Date:token                     object\n",
      "Date:id                        object\n",
      "Date                           object\n",
      "Last_Updated:token             object\n",
      "Last_Updated:id                object\n",
      "Last_Updated                   object\n",
      "Type_of_Transaction:token      object\n",
      "Type_of_Transaction:id         object\n",
      "Type_of_Transaction            object\n",
      "Purpose:token                  object\n",
      "Purpose:id                     object\n",
      "Purpose                        object\n",
      "City:token                     object\n",
      "City:id                        object\n",
      "City                           object\n",
      "State:token                    object\n",
      "State:id                       object\n",
      "State                          object\n",
      "Zip:token                      object\n",
      "Zip:id                         object\n",
      "Zip                            float64\n",
      "In-State:token                 object\n",
      "In-State:id                    float64\n",
      "In-State                       float64\n",
      "dtypes: float64(3), int64(1), object(45)\n",
      "memory usage: 792.0+ MB\n"
     ]
    }
   ],
   "source": [
    "contribs_10 = pd.read_csv(\"data/contribs_10.csv\", encoding=\"ISO-8859-1\")\n",
    "contribs_10.info()"
   ]
  },
  {
   "cell_type": "markdown",
   "metadata": {},
   "source": [
    "Convert contribution amount column to numeric (float) data type."
   ]
  },
  {
   "cell_type": "code",
   "execution_count": 47,
   "metadata": {
    "scrolled": true
   },
   "outputs": [
    {
     "name": "stdout",
     "output_type": "stream",
     "text": [
      "<class 'pandas.core.frame.DataFrame'>\n",
      "RangeIndex: 2118572 entries, 0 to 2118571\n",
      "Data columns (total 49 columns):\n",
      "request                        object\n",
      "Election_Jurisdiction:token    object\n",
      "Election_Jurisdiction:id       object\n",
      "Election_Jurisdiction          object\n",
      "Original_Name:token            object\n",
      "Original_Name:id               int64\n",
      "Original_Name                  object\n",
      "Contributor:token              object\n",
      "Contributor:id                 object\n",
      "Contributor                    object\n",
      "Type_of_Contributor:token      object\n",
      "Type_of_Contributor:id         object\n",
      "Type_of_Contributor            object\n",
      "Specific_Business:token        object\n",
      "Specific_Business:id           object\n",
      "Specific_Business              object\n",
      "General_Industry:token         object\n",
      "General_Industry:id            object\n",
      "General_Industry               object\n",
      "Broad_Sector:token             object\n",
      "Broad_Sector:id                object\n",
      "Broad_Sector                   object\n",
      "Amount:token                   object\n",
      "Amount:id                      object\n",
      "Amount                         float64\n",
      "Date:token                     object\n",
      "Date:id                        object\n",
      "Date                           object\n",
      "Last_Updated:token             object\n",
      "Last_Updated:id                object\n",
      "Last_Updated                   object\n",
      "Type_of_Transaction:token      object\n",
      "Type_of_Transaction:id         object\n",
      "Type_of_Transaction            object\n",
      "Purpose:token                  object\n",
      "Purpose:id                     object\n",
      "Purpose                        object\n",
      "City:token                     object\n",
      "City:id                        object\n",
      "City                           object\n",
      "State:token                    object\n",
      "State:id                       object\n",
      "State                          object\n",
      "Zip:token                      object\n",
      "Zip:id                         object\n",
      "Zip                            float64\n",
      "In-State:token                 object\n",
      "In-State:id                    float64\n",
      "In-State                       float64\n",
      "dtypes: float64(4), int64(1), object(44)\n",
      "memory usage: 792.0+ MB\n"
     ]
    }
   ],
   "source": [
    "contribs_10[\"Amount\"] = pd.to_numeric(contribs_10[\"Amount\"], errors=\"coerce\")\n",
    "contribs_10.info()"
   ]
  },
  {
   "cell_type": "markdown",
   "metadata": {},
   "source": [
    "Convert the contribution date column to datetime data type."
   ]
  },
  {
   "cell_type": "code",
   "execution_count": null,
   "metadata": {
    "collapsed": true
   },
   "outputs": [],
   "source": [
    "contribs_10[\"Date\"] = pd.to_datetime(contribs_10[\"Date\"], errors=\"coerce\")\n",
    "contribs_10.info()"
   ]
  },
  {
   "cell_type": "markdown",
   "metadata": {},
   "source": [
    "Filter out unitemized donations as it is impossible to determine where those contributions originated. Then filter the data to just the state, contribution amount, contribution date and in-vs.-out-of-state columns."
   ]
  },
  {
   "cell_type": "code",
   "execution_count": null,
   "metadata": {
    "collapsed": true,
    "scrolled": false
   },
   "outputs": [],
   "source": [
    "contribs_10 = contribs_10[contribs_10[\"Contributor\"] != \"UNITEMIZED DONATIONS\"]\n",
    "contribs_10 = contribs_10[[\"Election_Jurisdiction\", \"Amount\", \"Date\", \"In-State\"]]\n",
    "contribs_10.rename(columns={\"Election_Jurisdiction\": \"state\", \"Amount\": \"amount\", \"Date\": \"date\", \"In-State\": \"in_out_state\"}, inplace=True)\n",
    "contribs_10.head(1)"
   ]
  },
  {
   "cell_type": "markdown",
   "metadata": {},
   "source": [
    "Rename the categories in the in-vs.-out-of-state column."
   ]
  },
  {
   "cell_type": "code",
   "execution_count": null,
   "metadata": {
    "collapsed": true
   },
   "outputs": [],
   "source": [
    "# 0 = out-of-state, 1 = in-state, 2 = unknown\n",
    "contribs_10[\"in_out_state\"] = contribs_10[\"in_out_state\"].replace({0: \"out-of-state\", 1: \"in-state\", 2: \"unknown\"})\n",
    "contribs_10.head(1)"
   ]
  },
  {
   "cell_type": "markdown",
   "metadata": {},
   "source": [
    "### Import candidate-level data for gubernatorial, attorney general, secretary of state and state legislative races in 2018"
   ]
  },
  {
   "cell_type": "code",
   "execution_count": null,
   "metadata": {
    "collapsed": true
   },
   "outputs": [],
   "source": [
    "%%notify\n",
    "candidates_18 = pd.read_csv(\"https://www.followthemoney.org/aaengine/aafetch.php?dt=1&y=2018&c-exi=1&c-r-oc=Z10,Z70&c-r-ot=G,S,H&gro=c-t-id,d-ins&APIKey=\"+nimp_key+\"&mode=csv\",\n",
    "                          encoding=\"ISO-8859-1\", error_bad_lines=False)\n",
    "candidates_18.to_csv(\"data/candidates_18.csv\", index=False)"
   ]
  },
  {
   "cell_type": "code",
   "execution_count": null,
   "metadata": {
    "collapsed": true
   },
   "outputs": [],
   "source": [
    "candidates_18 = pd.read_csv(\"data/candidates_18.csv\", encoding=\"ISO-8859-1\")\n",
    "candidates_18.info()"
   ]
  },
  {
   "cell_type": "markdown",
   "metadata": {},
   "source": [
    "Filter out unitemized donations as it is impossible to determine where those contributions originated. Then filter the data to just the candidate, candidate ID, state, district, in-vs.-out-of-state and total contributions columns."
   ]
  },
  {
   "cell_type": "code",
   "execution_count": null,
   "metadata": {
    "collapsed": true
   },
   "outputs": [],
   "source": [
    "candidates_18 = candidates_18[candidates_18[\"Contributor\"] != \"UNITEMIZED DONATIONS\"]\n",
    "candidates_18 = candidates_18[[\"Candidate\", \"Candidate:id\", \"Election_Jurisdiction\", \"Office_Sought\", \"In-State\", \"Total_$\"]]\n",
    "candidates_18.rename(columns={\"Candidate\": \"candidate\", \"Candidate:id\": \"candidate_id\", \"Election_Jurisdiction\": \"state\", \"Office_Sought\": \"district\", \"In-State\": \"in_out_state\", \"Total_$\": \"contributions\"}, inplace=True)\n",
    "candidates_18.head(1)"
   ]
  },
  {
   "cell_type": "markdown",
   "metadata": {},
   "source": [
    "Rename the categories in the in-vs.-out-of-state column."
   ]
  },
  {
   "cell_type": "code",
   "execution_count": null,
   "metadata": {
    "collapsed": true
   },
   "outputs": [],
   "source": [
    "# 0 = out-of-state, 1 = in-state, 2 = unknown\n",
    "candidates_18[\"in_out_state\"] = candidates_18[\"in_out_state\"].replace({0: \"out-of-state\", 1: \"in-state\", 2: \"unknown\"})\n",
    "candidates_18.head(1)"
   ]
  },
  {
   "cell_type": "markdown",
   "metadata": {},
   "source": [
    "## Join and filter the data"
   ]
  },
  {
   "cell_type": "markdown",
   "metadata": {},
   "source": [
    "### Join the table of the 2018 cycle's latest contribution months with the 2018, 2014 and 2010 contribution-level data"
   ]
  },
  {
   "cell_type": "code",
   "execution_count": null,
   "metadata": {
    "collapsed": true
   },
   "outputs": [],
   "source": [
    "contribs_18 = contribs_18.merge(latest_month, on=\"state\")\n",
    "contribs_18.info()"
   ]
  },
  {
   "cell_type": "code",
   "execution_count": null,
   "metadata": {
    "collapsed": true
   },
   "outputs": [],
   "source": [
    "contribs_18.head(1)"
   ]
  },
  {
   "cell_type": "code",
   "execution_count": null,
   "metadata": {
    "collapsed": true
   },
   "outputs": [],
   "source": [
    "contribs_14 = contribs_14.merge(latest_month, on=\"state\")\n",
    "contribs_14.info()"
   ]
  },
  {
   "cell_type": "code",
   "execution_count": null,
   "metadata": {
    "collapsed": true
   },
   "outputs": [],
   "source": [
    "contribs_10.head(1)"
   ]
  },
  {
   "cell_type": "code",
   "execution_count": null,
   "metadata": {
    "collapsed": true,
    "scrolled": false
   },
   "outputs": [],
   "source": [
    "contribs_10 = contribs_10.merge(latest_month, on=\"state\")\n",
    "contribs_10.info()"
   ]
  },
  {
   "cell_type": "code",
   "execution_count": null,
   "metadata": {
    "collapsed": true,
    "scrolled": false
   },
   "outputs": [],
   "source": [
    "contribs_10.head(1)"
   ]
  },
  {
   "cell_type": "markdown",
   "metadata": {},
   "source": [
    "### Filter the data to eliminate contributions after the 2018 cycle's latest contribution month in each state"
   ]
  },
  {
   "cell_type": "code",
   "execution_count": null,
   "metadata": {
    "collapsed": true
   },
   "outputs": [],
   "source": [
    "contribs_18 = contribs_18[contribs_18[\"contribution_date\"] <= contribs_18[\"latest_month\"]]\n",
    "contribs_18.info()"
   ]
  },
  {
   "cell_type": "code",
   "execution_count": null,
   "metadata": {
    "collapsed": true
   },
   "outputs": [],
   "source": [
    "contribs_18.head(1)"
   ]
  },
  {
   "cell_type": "code",
   "execution_count": null,
   "metadata": {
    "collapsed": true
   },
   "outputs": [],
   "source": [
    "contribs_14 = contribs_14[contribs_14[\"contribution_date\"] <= contribs_14[\"latest_month\"]]\n",
    "contribs_14.info()"
   ]
  },
  {
   "cell_type": "code",
   "execution_count": null,
   "metadata": {
    "collapsed": true
   },
   "outputs": [],
   "source": [
    "contribs_14.head(1)"
   ]
  },
  {
   "cell_type": "code",
   "execution_count": null,
   "metadata": {
    "collapsed": true
   },
   "outputs": [],
   "source": [
    "contribs_10 = contribs_10[contribs_10[\"contribution_date\"] <= contribs_10[\"latest_month\"]]\n",
    "contribs_10.info()"
   ]
  },
  {
   "cell_type": "code",
   "execution_count": null,
   "metadata": {
    "collapsed": true
   },
   "outputs": [],
   "source": [
    "contribs_10.head(1)"
   ]
  },
  {
   "cell_type": "markdown",
   "metadata": {},
   "source": [
    "## Analyze the data"
   ]
  },
  {
   "cell_type": "markdown",
   "metadata": {},
   "source": [
    "### Calculate out-of-state contributions by state in 2018"
   ]
  },
  {
   "cell_type": "markdown",
   "metadata": {},
   "source": [
    "Calculate contributions by in-vs.-out-of-state status and group by state."
   ]
  },
  {
   "cell_type": "code",
   "execution_count": 19,
   "metadata": {
    "scrolled": false
   },
   "outputs": [
    {
     "name": "stdout",
     "output_type": "stream",
     "text": [
      "<class 'pandas.core.frame.DataFrame'>\n",
      "RangeIndex: 116 entries, 0 to 115\n",
      "Data columns (total 3 columns):\n",
      "state            116 non-null object\n",
      "in_out_state     116 non-null object\n",
      "contributions    116 non-null float64\n",
      "dtypes: float64(1), object(2)\n",
      "memory usage: 2.8+ KB\n"
     ]
    }
   ],
   "source": [
    "contribs_by_state_18 = contribs_18.groupby([\"state\", \"in_out_state\"])[\"contributions_18\"].sum().reset_index()\n",
    "contribs_by_state_18.info()"
   ]
  },
  {
   "cell_type": "code",
   "execution_count": 20,
   "metadata": {
    "scrolled": false
   },
   "outputs": [
    {
     "data": {
      "text/html": [
       "<div>\n",
       "<style scoped>\n",
       "    .dataframe tbody tr th:only-of-type {\n",
       "        vertical-align: middle;\n",
       "    }\n",
       "\n",
       "    .dataframe tbody tr th {\n",
       "        vertical-align: top;\n",
       "    }\n",
       "\n",
       "    .dataframe thead th {\n",
       "        text-align: right;\n",
       "    }\n",
       "</style>\n",
       "<table border=\"1\" class=\"dataframe\">\n",
       "  <thead>\n",
       "    <tr style=\"text-align: right;\">\n",
       "      <th></th>\n",
       "      <th>state</th>\n",
       "      <th>in_out_state</th>\n",
       "      <th>contributions</th>\n",
       "    </tr>\n",
       "  </thead>\n",
       "  <tbody>\n",
       "    <tr>\n",
       "      <th>0</th>\n",
       "      <td>AK</td>\n",
       "      <td>in-state</td>\n",
       "      <td>2423533.25</td>\n",
       "    </tr>\n",
       "    <tr>\n",
       "      <th>1</th>\n",
       "      <td>AK</td>\n",
       "      <td>out-of-state</td>\n",
       "      <td>110922.49</td>\n",
       "    </tr>\n",
       "    <tr>\n",
       "      <th>2</th>\n",
       "      <td>AK</td>\n",
       "      <td>unknown</td>\n",
       "      <td>9285.00</td>\n",
       "    </tr>\n",
       "    <tr>\n",
       "      <th>3</th>\n",
       "      <td>AL</td>\n",
       "      <td>in-state</td>\n",
       "      <td>5185371.17</td>\n",
       "    </tr>\n",
       "    <tr>\n",
       "      <th>4</th>\n",
       "      <td>AL</td>\n",
       "      <td>out-of-state</td>\n",
       "      <td>532085.12</td>\n",
       "    </tr>\n",
       "  </tbody>\n",
       "</table>\n",
       "</div>"
      ],
      "text/plain": [
       "  state  in_out_state  contributions\n",
       "0    AK      in-state     2423533.25\n",
       "1    AK  out-of-state      110922.49\n",
       "2    AK       unknown        9285.00\n",
       "3    AL      in-state     5185371.17\n",
       "4    AL  out-of-state      532085.12"
      ]
     },
     "execution_count": 20,
     "metadata": {},
     "output_type": "execute_result"
    }
   ],
   "source": [
    "contribs_by_state_18.head()"
   ]
  },
  {
   "cell_type": "markdown",
   "metadata": {},
   "source": [
    "Pivot dataframe to aggregate each state's data in a single row."
   ]
  },
  {
   "cell_type": "code",
   "execution_count": 21,
   "metadata": {
    "scrolled": true
   },
   "outputs": [
    {
     "name": "stdout",
     "output_type": "stream",
     "text": [
      "<class 'pandas.core.frame.DataFrame'>\n",
      "RangeIndex: 41 entries, 0 to 40\n",
      "Data columns (total 4 columns):\n",
      "(state, )                        41 non-null object\n",
      "(contributions, in-state)        41 non-null float64\n",
      "(contributions, out-of-state)    41 non-null float64\n",
      "(contributions, unknown)         34 non-null float64\n",
      "dtypes: float64(3), object(1)\n",
      "memory usage: 1.4+ KB\n"
     ]
    }
   ],
   "source": [
    "contribs_by_state_18 = pd.pivot_table(contribs_by_state_18, index=[\"state\"], columns=[\"in_out_state\"]).reset_index()\n",
    "contribs_by_state_18.info()"
   ]
  },
  {
   "cell_type": "markdown",
   "metadata": {},
   "source": [
    "It appears that some states have no contributions categorized as \"unknown.\" Let's set those values equal to zero to be sure any calculations we run on them are correct."
   ]
  },
  {
   "cell_type": "code",
   "execution_count": 22,
   "metadata": {
    "scrolled": true
   },
   "outputs": [
    {
     "name": "stdout",
     "output_type": "stream",
     "text": [
      "<class 'pandas.core.frame.DataFrame'>\n",
      "RangeIndex: 41 entries, 0 to 40\n",
      "Data columns (total 4 columns):\n",
      "(state, )                        41 non-null object\n",
      "(contributions, in-state)        41 non-null float64\n",
      "(contributions, out-of-state)    41 non-null float64\n",
      "(contributions, unknown)         41 non-null float64\n",
      "dtypes: float64(3), object(1)\n",
      "memory usage: 1.4+ KB\n"
     ]
    }
   ],
   "source": [
    "contribs_by_state_18.fillna(0, inplace=True)\n",
    "contribs_by_state_18.info()"
   ]
  },
  {
   "cell_type": "markdown",
   "metadata": {},
   "source": [
    "Flatten the resulting dataframe's multi-index columns."
   ]
  },
  {
   "cell_type": "code",
   "execution_count": 23,
   "metadata": {
    "scrolled": true
   },
   "outputs": [
    {
     "name": "stdout",
     "output_type": "stream",
     "text": [
      "<class 'pandas.core.frame.DataFrame'>\n",
      "RangeIndex: 41 entries, 0 to 40\n",
      "Data columns (total 4 columns):\n",
      "state                         41 non-null object\n",
      "contributions_in_state        41 non-null float64\n",
      "contributions_out_of_state    41 non-null float64\n",
      "contributions_unknown         41 non-null float64\n",
      "dtypes: float64(3), object(1)\n",
      "memory usage: 1.4+ KB\n"
     ]
    }
   ],
   "source": [
    "contribs_by_state_18.columns = [\"_\".join(column).replace(\"-\",\"_\").strip(\"_\") for column in contribs_by_state_18.columns.values]\n",
    "contribs_by_state_18.info()"
   ]
  },
  {
   "cell_type": "markdown",
   "metadata": {},
   "source": [
    "Calculate the proportion of out-of-state contributions."
   ]
  },
  {
   "cell_type": "code",
   "execution_count": 26,
   "metadata": {
    "scrolled": true
   },
   "outputs": [
    {
     "name": "stdout",
     "output_type": "stream",
     "text": [
      "<class 'pandas.core.frame.DataFrame'>\n",
      "Int64Index: 41 entries, 0 to 40\n",
      "Data columns (total 8 columns):\n",
      "state                            41 non-null object\n",
      "fips                             41 non-null object\n",
      "contributions_in_state           41 non-null float64\n",
      "contributions_out_of_state       41 non-null float64\n",
      "contributions_unknown            41 non-null float64\n",
      "population                       41 non-null int64\n",
      "pct_out_of_state                 41 non-null float64\n",
      "out_of_state_per_thousand_pop    41 non-null float64\n",
      "dtypes: float64(5), int64(1), object(2)\n",
      "memory usage: 2.9+ KB\n"
     ]
    }
   ],
   "source": [
    "contribs_by_state_18[\"pct_18_out_of_state\"] = contribs_by_state_18[\"contributions_18_out_of_state\"] / (contribs_by_state_18[\"contributions_18_in_state\"] + contribs_by_state_18[\"contributions_18_out_of_state\"] + contribs_by_state_18[\"contributions_18_unknown\"])\n",
    "contribs_by_state_18.info()"
   ]
  },
  {
   "cell_type": "markdown",
   "metadata": {},
   "source": [
    "### Calculate out-of-state contributions by state in 2014"
   ]
  },
  {
   "cell_type": "markdown",
   "metadata": {},
   "source": [
    "Calculate contributions by in-vs.-out-of-state status and group by state."
   ]
  },
  {
   "cell_type": "code",
   "execution_count": 19,
   "metadata": {
    "scrolled": false
   },
   "outputs": [
    {
     "name": "stdout",
     "output_type": "stream",
     "text": [
      "<class 'pandas.core.frame.DataFrame'>\n",
      "RangeIndex: 116 entries, 0 to 115\n",
      "Data columns (total 3 columns):\n",
      "state            116 non-null object\n",
      "in_out_state     116 non-null object\n",
      "contributions    116 non-null float64\n",
      "dtypes: float64(1), object(2)\n",
      "memory usage: 2.8+ KB\n"
     ]
    }
   ],
   "source": [
    "contribs_by_state_14 = contribs_14.groupby([\"state\", \"in_out_state\"])[\"contributions_14\"].sum().reset_index()\n",
    "contribs_by_state_14.info()"
   ]
  },
  {
   "cell_type": "code",
   "execution_count": 20,
   "metadata": {
    "scrolled": false
   },
   "outputs": [
    {
     "data": {
      "text/html": [
       "<div>\n",
       "<style scoped>\n",
       "    .dataframe tbody tr th:only-of-type {\n",
       "        vertical-align: middle;\n",
       "    }\n",
       "\n",
       "    .dataframe tbody tr th {\n",
       "        vertical-align: top;\n",
       "    }\n",
       "\n",
       "    .dataframe thead th {\n",
       "        text-align: right;\n",
       "    }\n",
       "</style>\n",
       "<table border=\"1\" class=\"dataframe\">\n",
       "  <thead>\n",
       "    <tr style=\"text-align: right;\">\n",
       "      <th></th>\n",
       "      <th>state</th>\n",
       "      <th>in_out_state</th>\n",
       "      <th>contributions</th>\n",
       "    </tr>\n",
       "  </thead>\n",
       "  <tbody>\n",
       "    <tr>\n",
       "      <th>0</th>\n",
       "      <td>AK</td>\n",
       "      <td>in-state</td>\n",
       "      <td>2423533.25</td>\n",
       "    </tr>\n",
       "    <tr>\n",
       "      <th>1</th>\n",
       "      <td>AK</td>\n",
       "      <td>out-of-state</td>\n",
       "      <td>110922.49</td>\n",
       "    </tr>\n",
       "    <tr>\n",
       "      <th>2</th>\n",
       "      <td>AK</td>\n",
       "      <td>unknown</td>\n",
       "      <td>9285.00</td>\n",
       "    </tr>\n",
       "    <tr>\n",
       "      <th>3</th>\n",
       "      <td>AL</td>\n",
       "      <td>in-state</td>\n",
       "      <td>5185371.17</td>\n",
       "    </tr>\n",
       "    <tr>\n",
       "      <th>4</th>\n",
       "      <td>AL</td>\n",
       "      <td>out-of-state</td>\n",
       "      <td>532085.12</td>\n",
       "    </tr>\n",
       "  </tbody>\n",
       "</table>\n",
       "</div>"
      ],
      "text/plain": [
       "  state  in_out_state  contributions\n",
       "0    AK      in-state     2423533.25\n",
       "1    AK  out-of-state      110922.49\n",
       "2    AK       unknown        9285.00\n",
       "3    AL      in-state     5185371.17\n",
       "4    AL  out-of-state      532085.12"
      ]
     },
     "execution_count": 20,
     "metadata": {},
     "output_type": "execute_result"
    }
   ],
   "source": [
    "contribs_by_state_14.head()"
   ]
  },
  {
   "cell_type": "markdown",
   "metadata": {},
   "source": [
    "Pivot dataframe to aggregate each state's data in a single row."
   ]
  },
  {
   "cell_type": "code",
   "execution_count": 21,
   "metadata": {
    "scrolled": true
   },
   "outputs": [
    {
     "name": "stdout",
     "output_type": "stream",
     "text": [
      "<class 'pandas.core.frame.DataFrame'>\n",
      "RangeIndex: 41 entries, 0 to 40\n",
      "Data columns (total 4 columns):\n",
      "(state, )                        41 non-null object\n",
      "(contributions, in-state)        41 non-null float64\n",
      "(contributions, out-of-state)    41 non-null float64\n",
      "(contributions, unknown)         34 non-null float64\n",
      "dtypes: float64(3), object(1)\n",
      "memory usage: 1.4+ KB\n"
     ]
    }
   ],
   "source": [
    "contribs_by_state_14 = pd.pivot_table(contribs_by_state_14, index=[\"state\"], columns=[\"in_out_state\"]).reset_index()\n",
    "contribs_by_state_14.info()"
   ]
  },
  {
   "cell_type": "markdown",
   "metadata": {},
   "source": [
    "It appears that some states have no contributions categorized as \"unknown.\" Let's set those values equal to zero to be sure any calculations we run on them are correct."
   ]
  },
  {
   "cell_type": "code",
   "execution_count": 22,
   "metadata": {
    "scrolled": true
   },
   "outputs": [
    {
     "name": "stdout",
     "output_type": "stream",
     "text": [
      "<class 'pandas.core.frame.DataFrame'>\n",
      "RangeIndex: 41 entries, 0 to 40\n",
      "Data columns (total 4 columns):\n",
      "(state, )                        41 non-null object\n",
      "(contributions, in-state)        41 non-null float64\n",
      "(contributions, out-of-state)    41 non-null float64\n",
      "(contributions, unknown)         41 non-null float64\n",
      "dtypes: float64(3), object(1)\n",
      "memory usage: 1.4+ KB\n"
     ]
    }
   ],
   "source": [
    "contribs_by_state_14.fillna(0, inplace=True)\n",
    "contribs_by_state_14.info()"
   ]
  },
  {
   "cell_type": "markdown",
   "metadata": {},
   "source": [
    "Flatten the resulting dataframe's multi-index columns."
   ]
  },
  {
   "cell_type": "code",
   "execution_count": 23,
   "metadata": {
    "scrolled": true
   },
   "outputs": [
    {
     "name": "stdout",
     "output_type": "stream",
     "text": [
      "<class 'pandas.core.frame.DataFrame'>\n",
      "RangeIndex: 41 entries, 0 to 40\n",
      "Data columns (total 4 columns):\n",
      "state                         41 non-null object\n",
      "contributions_in_state        41 non-null float64\n",
      "contributions_out_of_state    41 non-null float64\n",
      "contributions_unknown         41 non-null float64\n",
      "dtypes: float64(3), object(1)\n",
      "memory usage: 1.4+ KB\n"
     ]
    }
   ],
   "source": [
    "contribs_by_state_14.columns = [\"_\".join(column).replace(\"-\",\"_\").strip(\"_\") for column in contribs_by_state_14.columns.values]\n",
    "contribs_by_state_14.info()"
   ]
  },
  {
   "cell_type": "markdown",
   "metadata": {},
   "source": [
    "Calculate the proportion of out-of-state contributions."
   ]
  },
  {
   "cell_type": "code",
   "execution_count": 26,
   "metadata": {
    "scrolled": true
   },
   "outputs": [
    {
     "name": "stdout",
     "output_type": "stream",
     "text": [
      "<class 'pandas.core.frame.DataFrame'>\n",
      "Int64Index: 41 entries, 0 to 40\n",
      "Data columns (total 8 columns):\n",
      "state                            41 non-null object\n",
      "fips                             41 non-null object\n",
      "contributions_in_state           41 non-null float64\n",
      "contributions_out_of_state       41 non-null float64\n",
      "contributions_unknown            41 non-null float64\n",
      "population                       41 non-null int64\n",
      "pct_out_of_state                 41 non-null float64\n",
      "out_of_state_per_thousand_pop    41 non-null float64\n",
      "dtypes: float64(5), int64(1), object(2)\n",
      "memory usage: 2.9+ KB\n"
     ]
    }
   ],
   "source": [
    "contribs_by_state_14[\"pct_14_out_of_state\"] = contribs_by_state_14[\"contributions_14_out_of_state\"] / (contribs_by_state_14[\"contributions_14_in_state\"] + contribs_by_state_14[\"contributions_14_out_of_state\"] + contribs_by_state_14[\"contributions_14_unknown\"])\n",
    "contribs_by_state_14.info()"
   ]
  },
  {
   "cell_type": "markdown",
   "metadata": {},
   "source": [
    "### Calculate out-of-state contributions by state in 2010"
   ]
  },
  {
   "cell_type": "markdown",
   "metadata": {},
   "source": [
    "Calculate contributions by in-vs.-out-of-state status and group by state."
   ]
  },
  {
   "cell_type": "code",
   "execution_count": 19,
   "metadata": {
    "scrolled": false
   },
   "outputs": [
    {
     "name": "stdout",
     "output_type": "stream",
     "text": [
      "<class 'pandas.core.frame.DataFrame'>\n",
      "RangeIndex: 116 entries, 0 to 115\n",
      "Data columns (total 3 columns):\n",
      "state            116 non-null object\n",
      "in_out_state     116 non-null object\n",
      "contributions    116 non-null float64\n",
      "dtypes: float64(1), object(2)\n",
      "memory usage: 2.8+ KB\n"
     ]
    }
   ],
   "source": [
    "contribs_by_state_10 = contribs_10.groupby([\"state\", \"in_out_state\"])[\"contributions_10\"].sum().reset_index()\n",
    "contribs_by_state_10.info()"
   ]
  },
  {
   "cell_type": "code",
   "execution_count": 20,
   "metadata": {
    "scrolled": false
   },
   "outputs": [
    {
     "data": {
      "text/html": [
       "<div>\n",
       "<style scoped>\n",
       "    .dataframe tbody tr th:only-of-type {\n",
       "        vertical-align: middle;\n",
       "    }\n",
       "\n",
       "    .dataframe tbody tr th {\n",
       "        vertical-align: top;\n",
       "    }\n",
       "\n",
       "    .dataframe thead th {\n",
       "        text-align: right;\n",
       "    }\n",
       "</style>\n",
       "<table border=\"1\" class=\"dataframe\">\n",
       "  <thead>\n",
       "    <tr style=\"text-align: right;\">\n",
       "      <th></th>\n",
       "      <th>state</th>\n",
       "      <th>in_out_state</th>\n",
       "      <th>contributions</th>\n",
       "    </tr>\n",
       "  </thead>\n",
       "  <tbody>\n",
       "    <tr>\n",
       "      <th>0</th>\n",
       "      <td>AK</td>\n",
       "      <td>in-state</td>\n",
       "      <td>2423533.25</td>\n",
       "    </tr>\n",
       "    <tr>\n",
       "      <th>1</th>\n",
       "      <td>AK</td>\n",
       "      <td>out-of-state</td>\n",
       "      <td>110922.49</td>\n",
       "    </tr>\n",
       "    <tr>\n",
       "      <th>2</th>\n",
       "      <td>AK</td>\n",
       "      <td>unknown</td>\n",
       "      <td>9285.00</td>\n",
       "    </tr>\n",
       "    <tr>\n",
       "      <th>3</th>\n",
       "      <td>AL</td>\n",
       "      <td>in-state</td>\n",
       "      <td>5185371.17</td>\n",
       "    </tr>\n",
       "    <tr>\n",
       "      <th>4</th>\n",
       "      <td>AL</td>\n",
       "      <td>out-of-state</td>\n",
       "      <td>532085.12</td>\n",
       "    </tr>\n",
       "  </tbody>\n",
       "</table>\n",
       "</div>"
      ],
      "text/plain": [
       "  state  in_out_state  contributions\n",
       "0    AK      in-state     2423533.25\n",
       "1    AK  out-of-state      110922.49\n",
       "2    AK       unknown        9285.00\n",
       "3    AL      in-state     5185371.17\n",
       "4    AL  out-of-state      532085.12"
      ]
     },
     "execution_count": 20,
     "metadata": {},
     "output_type": "execute_result"
    }
   ],
   "source": [
    "contribs_by_state_10.head()"
   ]
  },
  {
   "cell_type": "markdown",
   "metadata": {},
   "source": [
    "Pivot dataframe to aggregate each state's data in a single row."
   ]
  },
  {
   "cell_type": "code",
   "execution_count": 21,
   "metadata": {
    "scrolled": true
   },
   "outputs": [
    {
     "name": "stdout",
     "output_type": "stream",
     "text": [
      "<class 'pandas.core.frame.DataFrame'>\n",
      "RangeIndex: 41 entries, 0 to 40\n",
      "Data columns (total 4 columns):\n",
      "(state, )                        41 non-null object\n",
      "(contributions, in-state)        41 non-null float64\n",
      "(contributions, out-of-state)    41 non-null float64\n",
      "(contributions, unknown)         34 non-null float64\n",
      "dtypes: float64(3), object(1)\n",
      "memory usage: 1.4+ KB\n"
     ]
    }
   ],
   "source": [
    "contribs_by_state_10 = pd.pivot_table(contribs_by_state_10, index=[\"state\"], columns=[\"in_out_state\"]).reset_index()\n",
    "contribs_by_state_10.info()"
   ]
  },
  {
   "cell_type": "markdown",
   "metadata": {},
   "source": [
    "It appears that some states have no contributions categorized as \"unknown.\" Let's set those values equal to zero to be sure any calculations we run on them are correct."
   ]
  },
  {
   "cell_type": "code",
   "execution_count": 22,
   "metadata": {
    "scrolled": true
   },
   "outputs": [
    {
     "name": "stdout",
     "output_type": "stream",
     "text": [
      "<class 'pandas.core.frame.DataFrame'>\n",
      "RangeIndex: 41 entries, 0 to 40\n",
      "Data columns (total 4 columns):\n",
      "(state, )                        41 non-null object\n",
      "(contributions, in-state)        41 non-null float64\n",
      "(contributions, out-of-state)    41 non-null float64\n",
      "(contributions, unknown)         41 non-null float64\n",
      "dtypes: float64(3), object(1)\n",
      "memory usage: 1.4+ KB\n"
     ]
    }
   ],
   "source": [
    "contribs_by_state_10.fillna(0, inplace=True)\n",
    "contribs_by_state_10.info()"
   ]
  },
  {
   "cell_type": "markdown",
   "metadata": {},
   "source": [
    "Flatten the resulting dataframe's multi-index columns."
   ]
  },
  {
   "cell_type": "code",
   "execution_count": 23,
   "metadata": {
    "scrolled": true
   },
   "outputs": [
    {
     "name": "stdout",
     "output_type": "stream",
     "text": [
      "<class 'pandas.core.frame.DataFrame'>\n",
      "RangeIndex: 41 entries, 0 to 40\n",
      "Data columns (total 4 columns):\n",
      "state                         41 non-null object\n",
      "contributions_in_state        41 non-null float64\n",
      "contributions_out_of_state    41 non-null float64\n",
      "contributions_unknown         41 non-null float64\n",
      "dtypes: float64(3), object(1)\n",
      "memory usage: 1.4+ KB\n"
     ]
    }
   ],
   "source": [
    "contribs_by_state_10.columns = [\"_\".join(column).replace(\"-\",\"_\").strip(\"_\") for column in contribs_by_state_10.columns.values]\n",
    "contribs_by_state_10.info()"
   ]
  },
  {
   "cell_type": "markdown",
   "metadata": {},
   "source": [
    "Calculate the proportion of out-of-state contributions."
   ]
  },
  {
   "cell_type": "code",
   "execution_count": 26,
   "metadata": {
    "scrolled": false
   },
   "outputs": [
    {
     "name": "stdout",
     "output_type": "stream",
     "text": [
      "<class 'pandas.core.frame.DataFrame'>\n",
      "Int64Index: 41 entries, 0 to 40\n",
      "Data columns (total 8 columns):\n",
      "state                            41 non-null object\n",
      "fips                             41 non-null object\n",
      "contributions_in_state           41 non-null float64\n",
      "contributions_out_of_state       41 non-null float64\n",
      "contributions_unknown            41 non-null float64\n",
      "population                       41 non-null int64\n",
      "pct_out_of_state                 41 non-null float64\n",
      "out_of_state_per_thousand_pop    41 non-null float64\n",
      "dtypes: float64(5), int64(1), object(2)\n",
      "memory usage: 2.9+ KB\n"
     ]
    }
   ],
   "source": [
    "contribs_by_state_10[\"pct_10_out_of_state_10\"] = contribs_by_state_10[\"contributions_10_out_of_state\"] / (contribs_by_state_10[\"contributions_10_in_state\"] + contribs_by_state_10[\"contributions_10_out_of_state\"] + contribs_by_state_10[\"contributions_10_unknown\"])\n",
    "contribs_by_state_10.info()"
   ]
  },
  {
   "cell_type": "markdown",
   "metadata": {},
   "source": [
    "### Join the 2018, 2014 and 2010 contributions by state data and calculate out-of-state figures"
   ]
  },
  {
   "cell_type": "code",
   "execution_count": null,
   "metadata": {
    "collapsed": true
   },
   "outputs": [],
   "source": [
    "list_of_contribs_by_state = [contribs_by_state_18, contribs_by_state_14, contribs_by_state_10]\n",
    "contribs_by_state = reduce(lambda left, right: pd.merge(left, right, on=\"state\"), list_of_contribs_by_state)\n",
    "contribs_by_state"
   ]
  },
  {
   "cell_type": "markdown",
   "metadata": {},
   "source": [
    "Calculate the change in out-of-state spending, in absolute and proportional terms."
   ]
  },
  {
   "cell_type": "code",
   "execution_count": null,
   "metadata": {
    "collapsed": true
   },
   "outputs": [],
   "source": [
    "contribs_by_state[\"change_from_14\"] = contribs_by_state[\"contributions_18_out_of_state\"] - contribs_by_state[\"contributions_14_out_of_state\"]\n",
    "contribs_by_state[\"change_from_10\"] = contribs_by_state[\"contributions_18_out_of_state\"] - contribs_by_state[\"contributions_10_out_of_state\"]\n",
    "contribs_by_state[\"pct_change_from_14\"] = (contribs_by_state[\"contributions_18_out_of_state\"] - contribs_by_state[\"contributions_14_out_of_state\"]) / contribs_by_state[\"contributions_14_out_of_state\"]\n",
    "contribs_by_state[\"pct_change_from_10\"] = (contribs_by_state[\"contributions_18_out_of_state\"] - contribs_by_state[\"contributions_14_out_of_state\"]) / contribs_by_state[\"contributions_14_out_of_state\"]"
   ]
  },
  {
   "cell_type": "markdown",
   "metadata": {},
   "source": [
    "### Calculate out-of-state contributions by candidate in 2018"
   ]
  },
  {
   "cell_type": "code",
   "execution_count": null,
   "metadata": {
    "collapsed": true
   },
   "outputs": [],
   "source": [
    "contribs_by_candidate_18 = candidates_18.groupby([\"candidate\", \"in_out_state\"])[\"contributions\"].sum().reset_index()\n",
    "contribs_by_candidate_18.info()"
   ]
  },
  {
   "cell_type": "code",
   "execution_count": 30,
   "metadata": {
    "scrolled": true
   },
   "outputs": [
    {
     "data": {
      "text/html": [
       "<div>\n",
       "<style scoped>\n",
       "    .dataframe tbody tr th:only-of-type {\n",
       "        vertical-align: middle;\n",
       "    }\n",
       "\n",
       "    .dataframe tbody tr th {\n",
       "        vertical-align: top;\n",
       "    }\n",
       "\n",
       "    .dataframe thead th {\n",
       "        text-align: right;\n",
       "    }\n",
       "</style>\n",
       "<table border=\"1\" class=\"dataframe\">\n",
       "  <thead>\n",
       "    <tr style=\"text-align: right;\">\n",
       "      <th></th>\n",
       "      <th>in_out_state</th>\n",
       "      <th>contributions</th>\n",
       "      <th>state_district</th>\n",
       "    </tr>\n",
       "  </thead>\n",
       "  <tbody>\n",
       "    <tr>\n",
       "      <th>0</th>\n",
       "      <td>in-state</td>\n",
       "      <td>135899.42</td>\n",
       "      <td>AK HOUSE DISTRICT 001</td>\n",
       "    </tr>\n",
       "    <tr>\n",
       "      <th>1</th>\n",
       "      <td>out-of-state</td>\n",
       "      <td>1350.00</td>\n",
       "      <td>AK HOUSE DISTRICT 001</td>\n",
       "    </tr>\n",
       "    <tr>\n",
       "      <th>2</th>\n",
       "      <td>in-state</td>\n",
       "      <td>20618.19</td>\n",
       "      <td>AK HOUSE DISTRICT 002</td>\n",
       "    </tr>\n",
       "    <tr>\n",
       "      <th>3</th>\n",
       "      <td>out-of-state</td>\n",
       "      <td>1801.00</td>\n",
       "      <td>AK HOUSE DISTRICT 002</td>\n",
       "    </tr>\n",
       "    <tr>\n",
       "      <th>4</th>\n",
       "      <td>in-state</td>\n",
       "      <td>1100.00</td>\n",
       "      <td>AK HOUSE DISTRICT 003</td>\n",
       "    </tr>\n",
       "    <tr>\n",
       "      <th>5</th>\n",
       "      <td>in-state</td>\n",
       "      <td>71984.34</td>\n",
       "      <td>AK HOUSE DISTRICT 004</td>\n",
       "    </tr>\n",
       "    <tr>\n",
       "      <th>6</th>\n",
       "      <td>out-of-state</td>\n",
       "      <td>3969.00</td>\n",
       "      <td>AK HOUSE DISTRICT 004</td>\n",
       "    </tr>\n",
       "    <tr>\n",
       "      <th>7</th>\n",
       "      <td>unknown</td>\n",
       "      <td>55.00</td>\n",
       "      <td>AK HOUSE DISTRICT 004</td>\n",
       "    </tr>\n",
       "    <tr>\n",
       "      <th>8</th>\n",
       "      <td>in-state</td>\n",
       "      <td>16708.90</td>\n",
       "      <td>AK HOUSE DISTRICT 005</td>\n",
       "    </tr>\n",
       "    <tr>\n",
       "      <th>9</th>\n",
       "      <td>out-of-state</td>\n",
       "      <td>20.00</td>\n",
       "      <td>AK HOUSE DISTRICT 005</td>\n",
       "    </tr>\n",
       "  </tbody>\n",
       "</table>\n",
       "</div>"
      ],
      "text/plain": [
       "   in_out_state  contributions         state_district\n",
       "0      in-state      135899.42  AK HOUSE DISTRICT 001\n",
       "1  out-of-state        1350.00  AK HOUSE DISTRICT 001\n",
       "2      in-state       20618.19  AK HOUSE DISTRICT 002\n",
       "3  out-of-state        1801.00  AK HOUSE DISTRICT 002\n",
       "4      in-state        1100.00  AK HOUSE DISTRICT 003\n",
       "5      in-state       71984.34  AK HOUSE DISTRICT 004\n",
       "6  out-of-state        3969.00  AK HOUSE DISTRICT 004\n",
       "7       unknown          55.00  AK HOUSE DISTRICT 004\n",
       "8      in-state       16708.90  AK HOUSE DISTRICT 005\n",
       "9  out-of-state          20.00  AK HOUSE DISTRICT 005"
      ]
     },
     "execution_count": 30,
     "metadata": {},
     "output_type": "execute_result"
    }
   ],
   "source": [
    "contribs_by_candidate_18.head()"
   ]
  },
  {
   "cell_type": "markdown",
   "metadata": {},
   "source": [
    "Pivot dataframe to aggregate each district's data in a single row."
   ]
  },
  {
   "cell_type": "code",
   "execution_count": 31,
   "metadata": {
    "scrolled": true
   },
   "outputs": [
    {
     "name": "stdout",
     "output_type": "stream",
     "text": [
      "<class 'pandas.core.frame.DataFrame'>\n",
      "RangeIndex: 3746 entries, 0 to 3745\n",
      "Data columns (total 4 columns):\n",
      "(state_district, )               3746 non-null object\n",
      "(contributions, in-state)        3726 non-null float64\n",
      "(contributions, out-of-state)    3339 non-null float64\n",
      "(contributions, unknown)         1156 non-null float64\n",
      "dtypes: float64(3), object(1)\n",
      "memory usage: 117.1+ KB\n"
     ]
    }
   ],
   "source": [
    "contribs_by_candidate_18 = pd.pivot_table(contribs_by_candidate_18, index=[\"candidate\"], columns=[\"in_out_state\"]).reset_index()\n",
    "contribs_by_candidate_18.info()"
   ]
  },
  {
   "cell_type": "markdown",
   "metadata": {},
   "source": [
    "Again, some records have no contributions for certain categories. Let's set those values equal to zero to be sure any calculations we run on them are correct."
   ]
  },
  {
   "cell_type": "code",
   "execution_count": 32,
   "metadata": {
    "scrolled": true
   },
   "outputs": [
    {
     "name": "stdout",
     "output_type": "stream",
     "text": [
      "<class 'pandas.core.frame.DataFrame'>\n",
      "RangeIndex: 3746 entries, 0 to 3745\n",
      "Data columns (total 4 columns):\n",
      "(state_district, )               3746 non-null object\n",
      "(contributions, in-state)        3746 non-null float64\n",
      "(contributions, out-of-state)    3746 non-null float64\n",
      "(contributions, unknown)         3746 non-null float64\n",
      "dtypes: float64(3), object(1)\n",
      "memory usage: 117.1+ KB\n"
     ]
    }
   ],
   "source": [
    "contribs_by_candidate_18.fillna(0, inplace=True)\n",
    "contribs_by_candidate_18.info()"
   ]
  },
  {
   "cell_type": "markdown",
   "metadata": {},
   "source": [
    "Flatten the resulting dataframe's multi-index columns."
   ]
  },
  {
   "cell_type": "code",
   "execution_count": 33,
   "metadata": {
    "scrolled": true
   },
   "outputs": [
    {
     "name": "stdout",
     "output_type": "stream",
     "text": [
      "<class 'pandas.core.frame.DataFrame'>\n",
      "RangeIndex: 3746 entries, 0 to 3745\n",
      "Data columns (total 4 columns):\n",
      "state_district                3746 non-null object\n",
      "contributions_in_state        3746 non-null float64\n",
      "contributions_out_of_state    3746 non-null float64\n",
      "contributions_unknown         3746 non-null float64\n",
      "dtypes: float64(3), object(1)\n",
      "memory usage: 117.1+ KB\n"
     ]
    }
   ],
   "source": [
    "contribs_by_candidate_18.columns = [\"_\".join(column).replace(\"-\",\"_\").strip(\"_\") for column in contribs_by_candidate_18.columns.values]\n",
    "contribs_by_candidate_18.info()"
   ]
  },
  {
   "cell_type": "markdown",
   "metadata": {},
   "source": [
    "Calculate the proportion of in-vs.-out-of-state contributions."
   ]
  },
  {
   "cell_type": "code",
   "execution_count": 34,
   "metadata": {
    "scrolled": true
   },
   "outputs": [
    {
     "name": "stdout",
     "output_type": "stream",
     "text": [
      "<class 'pandas.core.frame.DataFrame'>\n",
      "RangeIndex: 3746 entries, 0 to 3745\n",
      "Data columns (total 5 columns):\n",
      "state_district                3746 non-null object\n",
      "contributions_in_state        3746 non-null float64\n",
      "contributions_out_of_state    3746 non-null float64\n",
      "contributions_unknown         3746 non-null float64\n",
      "pct_out_of_state              3746 non-null float64\n",
      "dtypes: float64(4), object(1)\n",
      "memory usage: 146.4+ KB\n"
     ]
    }
   ],
   "source": [
    "contribs_by_candidate_18[\"pct_out_of_state\"] = contribs_by_candidate_18[\"contributions_out_of_state\"] / (contribs_by_candidate_18[\"contributions_in_state\"] + contribs_by_candidate_18[\"contributions_out_of_state\"] + contribs_by_candidate_18[\"contributions_unknown\"])\n",
    "contribs_by_candidate_18.info()"
   ]
  },
  {
   "cell_type": "code",
   "execution_count": null,
   "metadata": {
    "collapsed": true,
    "scrolled": false
   },
   "outputs": [],
   "source": []
  }
 ],
 "metadata": {
  "kernelspec": {
   "display_name": "Python 3",
   "language": "python",
   "name": "python3"
  },
  "language_info": {
   "codemirror_mode": {
    "name": "ipython",
    "version": 3
   },
   "file_extension": ".py",
   "mimetype": "text/x-python",
   "name": "python",
   "nbconvert_exporter": "python",
   "pygments_lexer": "ipython3",
   "version": "3.6.3"
  }
 },
 "nbformat": 4,
 "nbformat_minor": 2
}
