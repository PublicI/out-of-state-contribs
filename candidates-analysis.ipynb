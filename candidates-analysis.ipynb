{
 "cells": [
  {
   "cell_type": "markdown",
   "metadata": {},
   "source": [
    "# Out-of-State-Contributions: Candidates Analysis"
   ]
  },
  {
   "cell_type": "code",
   "execution_count": 1,
   "metadata": {},
   "outputs": [
    {
     "data": {
      "application/javascript": [
       "if (!(\"Notification\" in window)) {\n",
       "    alert(\"This browser does not support desktop notifications, so the %%notify magic will not work.\");\n",
       "} else if (Notification.permission !== 'granted' && Notification.permission !== 'denied') {\n",
       "    Notification.requestPermission(function (permission) {\n",
       "        if(!('permission' in Notification)) {\n",
       "            Notification.permission = permission;\n",
       "        }\n",
       "    })\n",
       "}\n"
      ],
      "text/plain": [
       "<IPython.core.display.Javascript object>"
      ]
     },
     "metadata": {},
     "output_type": "display_data"
    }
   ],
   "source": [
    "from functools import reduce\n",
    "import numpy as np\n",
    "import pandas as pd\n",
    "\n",
    "%load_ext jupyternotify\n",
    "\n",
    "pd.set_option(\"display.max_columns\", 100)\n",
    "pd.set_option(\"display.max_rows\", 500)\n",
    "pd.options.display.float_format = \"{:,.2f}\".format # Format floats"
   ]
  },
  {
   "cell_type": "markdown",
   "metadata": {},
   "source": []
  },
  {
   "cell_type": "markdown",
   "metadata": {},
   "source": [
    "Import contribution-level data."
   ]
  },
  {
   "cell_type": "code",
   "execution_count": 2,
   "metadata": {
    "scrolled": true
   },
   "outputs": [
    {
     "name": "stderr",
     "output_type": "stream",
     "text": [
      "/home/joe/anaconda3/lib/python3.6/site-packages/IPython/core/interactiveshell.py:2728: DtypeWarning: Columns (9,12,13,14,17) have mixed types. Specify dtype option on import or set low_memory=False.\n",
      "  interactivity=interactivity, compiler=compiler, result=result)\n"
     ]
    },
    {
     "name": "stdout",
     "output_type": "stream",
     "text": [
      "<class 'pandas.core.frame.DataFrame'>\n",
      "RangeIndex: 6051953 entries, 0 to 6051952\n",
      "Data columns (total 18 columns):\n",
      "candidate                 object\n",
      "year                      int64\n",
      "state                     object\n",
      "party                     object\n",
      "election_status           object\n",
      "contributor               object\n",
      "amount                    float64\n",
      "date                      object\n",
      "in_out_state              object\n",
      "no_veto                   object\n",
      "office                    object\n",
      "latest_month              object\n",
      "redistricting_role        object\n",
      "independent_commission    object\n",
      "single_house_district     object\n",
      "standardized_office       object\n",
      "standardized_status       object\n",
      "two_year_term             object\n",
      "dtypes: float64(1), int64(1), object(16)\n",
      "memory usage: 831.1+ MB\n"
     ]
    }
   ],
   "source": [
    "contributions = pd.read_csv(\"data/contributions.csv\")\n",
    "contributions.info()"
   ]
  },
  {
   "cell_type": "markdown",
   "metadata": {},
   "source": [
    "Convert the contribution date and latest month columns to datetime data type."
   ]
  },
  {
   "cell_type": "code",
   "execution_count": 3,
   "metadata": {
    "scrolled": true
   },
   "outputs": [],
   "source": [
    "contributions[\"date\"] = pd.to_datetime(contributions[\"date\"], errors=\"coerce\")\n",
    "contributions[\"latest_month\"] = pd.to_datetime(contributions[\"latest_month\"], errors=\"coerce\")"
   ]
  },
  {
   "cell_type": "markdown",
   "metadata": {},
   "source": [
    "## How much out-of-state money are candidates raising in the 2018 election cycle, in absolute and proportional terms, thus far and how does that compare with the 2014 and 2010 cycles?"
   ]
  },
  {
   "cell_type": "markdown",
   "metadata": {},
   "source": [
    "Separate the data by election cycle."
   ]
  },
  {
   "cell_type": "code",
   "execution_count": 47,
   "metadata": {},
   "outputs": [],
   "source": [
    "contributions_18 = contributions[contributions[\"year\"] == 2018]\n",
    "contributions_14 = contributions[contributions[\"year\"] == 2014]\n",
    "contributions_10 = contributions[contributions[\"year\"] == 2010]"
   ]
  },
  {
   "cell_type": "code",
   "execution_count": 50,
   "metadata": {
    "scrolled": true
   },
   "outputs": [],
   "source": [
    "contributions_by_candidate_18 = contributions_18.groupby([\"candidate\", \"state\", \"year\", \"standardized_office\", \"standardized_status\", \"redistricting_role\", \"in_out_state\"])[\"amount\"].sum().reset_index()\n",
    "contributions_by_candidate_18.rename(columns={\"amount\": \"amount_18\"}, inplace=True)\n",
    "contributions_by_candidate_14 = contributions_14.groupby([\"candidate\", \"state\", \"year\", \"standardized_office\", \"standardized_status\", \"in_out_state\"])[\"amount\"].sum().reset_index()\n",
    "contributions_by_candidate_14.rename(columns={\"amount\": \"amount_14\"}, inplace=True)\n",
    "contributions_by_candidate_10 = contributions_10.groupby([\"candidate\", \"state\", \"year\", \"standardized_office\", \"standardized_status\", \"in_out_state\"])[\"amount\"].sum().reset_index()\n",
    "contributions_by_candidate_10.rename(columns={\"amount\": \"amount_10\"}, inplace=True)"
   ]
  },
  {
   "cell_type": "markdown",
   "metadata": {
    "collapsed": true
   },
   "source": [
    "Pivot the dataframes to aggregate each candidate's data in a single row."
   ]
  },
  {
   "cell_type": "code",
   "execution_count": 51,
   "metadata": {},
   "outputs": [],
   "source": [
    "contributions_by_candidate_18 = pd.pivot_table(contributions_by_candidate_18, index=[\"candidate\", \"state\", \"year\", \"standardized_office\", \"standardized_status\", \"redistricting_role\"], columns=[\"in_out_state\"]).reset_index()\n",
    "contributions_by_candidate_14 = pd.pivot_table(contributions_by_candidate_14, index=[\"candidate\", \"state\", \"year\", \"standardized_office\", \"standardized_status\"], columns=[\"in_out_state\"]).reset_index()\n",
    "contributions_by_candidate_10 = pd.pivot_table(contributions_by_candidate_10, index=[\"candidate\", \"state\", \"year\", \"standardized_office\", \"standardized_status\"], columns=[\"in_out_state\"]).reset_index()"
   ]
  },
  {
   "cell_type": "markdown",
   "metadata": {
    "collapsed": true
   },
   "source": [
    "Some records have no contributions for certain categories. Let's set those values equal to zero to be sure any calculations we run on them are correct."
   ]
  },
  {
   "cell_type": "code",
   "execution_count": 55,
   "metadata": {},
   "outputs": [],
   "source": [
    "contributions_by_candidate_18.fillna(0, inplace=True)\n",
    "contributions_by_candidate_14.fillna(0, inplace=True)\n",
    "contributions_by_candidate_10.fillna(0, inplace=True)"
   ]
  },
  {
   "cell_type": "markdown",
   "metadata": {
    "collapsed": true
   },
   "source": [
    "Flatten the resulting dataframes' multi-index columns."
   ]
  },
  {
   "cell_type": "code",
   "execution_count": 56,
   "metadata": {},
   "outputs": [],
   "source": [
    "contributions_by_candidate_18.columns = [\"_\".join(column).replace(\"-\",\"_\").strip(\"_\") for column in contributions_by_candidate_18.columns.values]\n",
    "contributions_by_candidate_14.columns = [\"_\".join(column).replace(\"-\",\"_\").strip(\"_\") for column in contributions_by_candidate_14.columns.values]\n",
    "contributions_by_candidate_10.columns = [\"_\".join(column).replace(\"-\",\"_\").strip(\"_\") for column in contributions_by_candidate_10.columns.values]"
   ]
  },
  {
   "cell_type": "code",
   "execution_count": 60,
   "metadata": {},
   "outputs": [],
   "source": [
    "contributions_by_candidate_18.rename(columns={\"standardized_office\": \"standardized_office_18\"}, inplace=True)\n",
    "contributions_by_candidate_14.rename(columns={\"standardized_office\": \"standardized_office_14\"}, inplace=True)\n",
    "contributions_by_candidate_10.rename(columns={\"standardized_office\": \"standardized_office_10\"}, inplace=True)"
   ]
  },
  {
   "cell_type": "markdown",
   "metadata": {
    "collapsed": true
   },
   "source": [
    "Calculate the proportion of in-state, out-of-state and unknown contributions."
   ]
  },
  {
   "cell_type": "code",
   "execution_count": 61,
   "metadata": {},
   "outputs": [],
   "source": [
    "contributions_by_candidate_18[\"pct_18_in_state\"] = contributions_by_candidate_18[\"amount_18_in_state\"] / (contributions_by_candidate_18[\"amount_18_in_state\"] + contributions_by_candidate_18[\"amount_18_out_of_state\"] + contributions_by_candidate_18[\"amount_18_unknown\"])\n",
    "contributions_by_candidate_18[\"pct_18_out_of_state\"] = contributions_by_candidate_18[\"amount_18_out_of_state\"] / (contributions_by_candidate_18[\"amount_18_in_state\"] + contributions_by_candidate_18[\"amount_18_out_of_state\"] + contributions_by_candidate_18[\"amount_18_unknown\"])\n",
    "contributions_by_candidate_18[\"pct_18_unknown\"] = contributions_by_candidate_18[\"amount_18_unknown\"] / (contributions_by_candidate_18[\"amount_18_in_state\"] + contributions_by_candidate_18[\"amount_18_out_of_state\"] + contributions_by_candidate_18[\"amount_18_unknown\"])\n",
    "contributions_by_candidate_14[\"pct_14_in_state\"] = contributions_by_candidate_14[\"amount_14_in_state\"] / (contributions_by_candidate_14[\"amount_14_in_state\"] + contributions_by_candidate_14[\"amount_14_out_of_state\"] + contributions_by_candidate_14[\"amount_14_unknown\"])\n",
    "contributions_by_candidate_14[\"pct_14_out_of_state\"] = contributions_by_candidate_14[\"amount_14_out_of_state\"] / (contributions_by_candidate_14[\"amount_14_in_state\"] + contributions_by_candidate_14[\"amount_14_out_of_state\"] + contributions_by_candidate_14[\"amount_14_unknown\"])\n",
    "contributions_by_candidate_14[\"pct_14_unknown\"] = contributions_by_candidate_14[\"amount_14_unknown\"] / (contributions_by_candidate_14[\"amount_14_in_state\"] + contributions_by_candidate_14[\"amount_14_out_of_state\"] + contributions_by_candidate_14[\"amount_14_unknown\"])\n",
    "contributions_by_candidate_10[\"pct_10_in_state\"] = contributions_by_candidate_10[\"amount_10_in_state\"] / (contributions_by_candidate_10[\"amount_10_in_state\"] + contributions_by_candidate_10[\"amount_10_out_of_state\"] + contributions_by_candidate_10[\"amount_10_unknown\"])\n",
    "contributions_by_candidate_10[\"pct_10_out_of_state\"] = contributions_by_candidate_10[\"amount_10_out_of_state\"] / (contributions_by_candidate_10[\"amount_10_in_state\"] + contributions_by_candidate_10[\"amount_10_out_of_state\"] + contributions_by_candidate_10[\"amount_10_unknown\"])\n",
    "contributions_by_candidate_10[\"pct_10_unknown\"] = contributions_by_candidate_10[\"amount_10_unknown\"] / (contributions_by_candidate_10[\"amount_10_in_state\"] + contributions_by_candidate_10[\"amount_10_out_of_state\"] + contributions_by_candidate_10[\"amount_10_unknown\"])"
   ]
  },
  {
   "cell_type": "markdown",
   "metadata": {
    "collapsed": true
   },
   "source": [
    "Join the 2018, 2014 and 2010 contributions by candidate data"
   ]
  },
  {
   "cell_type": "code",
   "execution_count": 63,
   "metadata": {},
   "outputs": [
    {
     "data": {
      "text/html": [
       "<div>\n",
       "<style scoped>\n",
       "    .dataframe tbody tr th:only-of-type {\n",
       "        vertical-align: middle;\n",
       "    }\n",
       "\n",
       "    .dataframe tbody tr th {\n",
       "        vertical-align: top;\n",
       "    }\n",
       "\n",
       "    .dataframe thead th {\n",
       "        text-align: right;\n",
       "    }\n",
       "</style>\n",
       "<table border=\"1\" class=\"dataframe\">\n",
       "  <thead>\n",
       "    <tr style=\"text-align: right;\">\n",
       "      <th></th>\n",
       "      <th>candidate</th>\n",
       "      <th>state</th>\n",
       "      <th>standardized_office_18</th>\n",
       "      <th>standardized_status_x</th>\n",
       "      <th>redistricting_role</th>\n",
       "      <th>amount_18_in_state</th>\n",
       "      <th>amount_18_out_of_state</th>\n",
       "      <th>amount_18_unknown</th>\n",
       "      <th>pct_18_in_state</th>\n",
       "      <th>pct_18_out_of_state</th>\n",
       "      <th>pct_18_unknown</th>\n",
       "      <th>standardized_office_14</th>\n",
       "      <th>standardized_status_y</th>\n",
       "      <th>amount_14_in_state</th>\n",
       "      <th>amount_14_out_of_state</th>\n",
       "      <th>amount_14_unknown</th>\n",
       "      <th>pct_14_in_state</th>\n",
       "      <th>pct_14_out_of_state</th>\n",
       "      <th>pct_14_unknown</th>\n",
       "      <th>standardized_office_10</th>\n",
       "      <th>standardized_status</th>\n",
       "      <th>amount_10_in_state</th>\n",
       "      <th>amount_10_out_of_state</th>\n",
       "      <th>amount_10_unknown</th>\n",
       "      <th>pct_10_in_state</th>\n",
       "      <th>pct_10_out_of_state</th>\n",
       "      <th>pct_10_unknown</th>\n",
       "    </tr>\n",
       "  </thead>\n",
       "  <tbody>\n",
       "    <tr>\n",
       "      <th>0</th>\n",
       "      <td>ABBOTT, DAVID H</td>\n",
       "      <td>IN</td>\n",
       "      <td>STATE HOUSE/ASSEMBLY</td>\n",
       "      <td>ADVANCED TO GENERAL</td>\n",
       "      <td>Y</td>\n",
       "      <td>26,065.00</td>\n",
       "      <td>0.00</td>\n",
       "      <td>0.00</td>\n",
       "      <td>1.00</td>\n",
       "      <td>0.00</td>\n",
       "      <td>0.00</td>\n",
       "      <td>NaN</td>\n",
       "      <td>NaN</td>\n",
       "      <td>nan</td>\n",
       "      <td>nan</td>\n",
       "      <td>nan</td>\n",
       "      <td>nan</td>\n",
       "      <td>nan</td>\n",
       "      <td>nan</td>\n",
       "      <td>NaN</td>\n",
       "      <td>NaN</td>\n",
       "      <td>nan</td>\n",
       "      <td>nan</td>\n",
       "      <td>nan</td>\n",
       "      <td>nan</td>\n",
       "      <td>nan</td>\n",
       "      <td>nan</td>\n",
       "    </tr>\n",
       "    <tr>\n",
       "      <th>1</th>\n",
       "      <td>ABBOTT, GHERT</td>\n",
       "      <td>AK</td>\n",
       "      <td>STATE HOUSE/ASSEMBLY</td>\n",
       "      <td>ADVANCED TO GENERAL</td>\n",
       "      <td>N</td>\n",
       "      <td>45.90</td>\n",
       "      <td>0.00</td>\n",
       "      <td>0.00</td>\n",
       "      <td>1.00</td>\n",
       "      <td>0.00</td>\n",
       "      <td>0.00</td>\n",
       "      <td>NaN</td>\n",
       "      <td>NaN</td>\n",
       "      <td>nan</td>\n",
       "      <td>nan</td>\n",
       "      <td>nan</td>\n",
       "      <td>nan</td>\n",
       "      <td>nan</td>\n",
       "      <td>nan</td>\n",
       "      <td>NaN</td>\n",
       "      <td>NaN</td>\n",
       "      <td>nan</td>\n",
       "      <td>nan</td>\n",
       "      <td>nan</td>\n",
       "      <td>nan</td>\n",
       "      <td>nan</td>\n",
       "      <td>nan</td>\n",
       "    </tr>\n",
       "    <tr>\n",
       "      <th>2</th>\n",
       "      <td>ABBOTT, GREG</td>\n",
       "      <td>TX</td>\n",
       "      <td>GOVERNOR/LIEUTENANT GOVERNOR</td>\n",
       "      <td>ADVANCED TO GENERAL</td>\n",
       "      <td>Y</td>\n",
       "      <td>59,614,107.87</td>\n",
       "      <td>4,528,077.58</td>\n",
       "      <td>1,020.00</td>\n",
       "      <td>0.93</td>\n",
       "      <td>0.07</td>\n",
       "      <td>0.00</td>\n",
       "      <td>GOVERNOR/LIEUTENANT GOVERNOR</td>\n",
       "      <td>ADVANCED TO GENERAL</td>\n",
       "      <td>22,988,410.36</td>\n",
       "      <td>1,488,413.64</td>\n",
       "      <td>4,791,017.12</td>\n",
       "      <td>0.79</td>\n",
       "      <td>0.05</td>\n",
       "      <td>0.16</td>\n",
       "      <td>NaN</td>\n",
       "      <td>NaN</td>\n",
       "      <td>nan</td>\n",
       "      <td>nan</td>\n",
       "      <td>nan</td>\n",
       "      <td>nan</td>\n",
       "      <td>nan</td>\n",
       "      <td>nan</td>\n",
       "    </tr>\n",
       "    <tr>\n",
       "      <th>3</th>\n",
       "      <td>ABDUL-RAHIM, ANEES</td>\n",
       "      <td>MD</td>\n",
       "      <td>STATE HOUSE/ASSEMBLY</td>\n",
       "      <td>DID NOT ADVANCE</td>\n",
       "      <td>Y</td>\n",
       "      <td>8,841.07</td>\n",
       "      <td>0.00</td>\n",
       "      <td>0.00</td>\n",
       "      <td>1.00</td>\n",
       "      <td>0.00</td>\n",
       "      <td>0.00</td>\n",
       "      <td>NaN</td>\n",
       "      <td>NaN</td>\n",
       "      <td>nan</td>\n",
       "      <td>nan</td>\n",
       "      <td>nan</td>\n",
       "      <td>nan</td>\n",
       "      <td>nan</td>\n",
       "      <td>nan</td>\n",
       "      <td>NaN</td>\n",
       "      <td>NaN</td>\n",
       "      <td>nan</td>\n",
       "      <td>nan</td>\n",
       "      <td>nan</td>\n",
       "      <td>nan</td>\n",
       "      <td>nan</td>\n",
       "      <td>nan</td>\n",
       "    </tr>\n",
       "    <tr>\n",
       "      <th>4</th>\n",
       "      <td>ABERCROMBIE, CATHERINE F</td>\n",
       "      <td>CT</td>\n",
       "      <td>STATE HOUSE/ASSEMBLY</td>\n",
       "      <td>ADVANCED TO GENERAL</td>\n",
       "      <td>N</td>\n",
       "      <td>2,485.00</td>\n",
       "      <td>0.00</td>\n",
       "      <td>0.00</td>\n",
       "      <td>1.00</td>\n",
       "      <td>0.00</td>\n",
       "      <td>0.00</td>\n",
       "      <td>STATE HOUSE/ASSEMBLY</td>\n",
       "      <td>ADVANCED TO GENERAL</td>\n",
       "      <td>5,130.00</td>\n",
       "      <td>7.00</td>\n",
       "      <td>20.00</td>\n",
       "      <td>0.99</td>\n",
       "      <td>0.00</td>\n",
       "      <td>0.00</td>\n",
       "      <td>NaN</td>\n",
       "      <td>NaN</td>\n",
       "      <td>nan</td>\n",
       "      <td>nan</td>\n",
       "      <td>nan</td>\n",
       "      <td>nan</td>\n",
       "      <td>nan</td>\n",
       "      <td>nan</td>\n",
       "    </tr>\n",
       "  </tbody>\n",
       "</table>\n",
       "</div>"
      ],
      "text/plain": [
       "                  candidate state        standardized_office_18  \\\n",
       "0           ABBOTT, DAVID H    IN          STATE HOUSE/ASSEMBLY   \n",
       "1             ABBOTT, GHERT    AK          STATE HOUSE/ASSEMBLY   \n",
       "2              ABBOTT, GREG    TX  GOVERNOR/LIEUTENANT GOVERNOR   \n",
       "3        ABDUL-RAHIM, ANEES    MD          STATE HOUSE/ASSEMBLY   \n",
       "4  ABERCROMBIE, CATHERINE F    CT          STATE HOUSE/ASSEMBLY   \n",
       "\n",
       "  standardized_status_x redistricting_role  amount_18_in_state  \\\n",
       "0   ADVANCED TO GENERAL                  Y           26,065.00   \n",
       "1   ADVANCED TO GENERAL                  N               45.90   \n",
       "2   ADVANCED TO GENERAL                  Y       59,614,107.87   \n",
       "3       DID NOT ADVANCE                  Y            8,841.07   \n",
       "4   ADVANCED TO GENERAL                  N            2,485.00   \n",
       "\n",
       "   amount_18_out_of_state  amount_18_unknown  pct_18_in_state  \\\n",
       "0                    0.00               0.00             1.00   \n",
       "1                    0.00               0.00             1.00   \n",
       "2            4,528,077.58           1,020.00             0.93   \n",
       "3                    0.00               0.00             1.00   \n",
       "4                    0.00               0.00             1.00   \n",
       "\n",
       "   pct_18_out_of_state  pct_18_unknown        standardized_office_14  \\\n",
       "0                 0.00            0.00                           NaN   \n",
       "1                 0.00            0.00                           NaN   \n",
       "2                 0.07            0.00  GOVERNOR/LIEUTENANT GOVERNOR   \n",
       "3                 0.00            0.00                           NaN   \n",
       "4                 0.00            0.00          STATE HOUSE/ASSEMBLY   \n",
       "\n",
       "  standardized_status_y  amount_14_in_state  amount_14_out_of_state  \\\n",
       "0                   NaN                 nan                     nan   \n",
       "1                   NaN                 nan                     nan   \n",
       "2   ADVANCED TO GENERAL       22,988,410.36            1,488,413.64   \n",
       "3                   NaN                 nan                     nan   \n",
       "4   ADVANCED TO GENERAL            5,130.00                    7.00   \n",
       "\n",
       "   amount_14_unknown  pct_14_in_state  pct_14_out_of_state  pct_14_unknown  \\\n",
       "0                nan              nan                  nan             nan   \n",
       "1                nan              nan                  nan             nan   \n",
       "2       4,791,017.12             0.79                 0.05            0.16   \n",
       "3                nan              nan                  nan             nan   \n",
       "4              20.00             0.99                 0.00            0.00   \n",
       "\n",
       "  standardized_office_10 standardized_status  amount_10_in_state  \\\n",
       "0                    NaN                 NaN                 nan   \n",
       "1                    NaN                 NaN                 nan   \n",
       "2                    NaN                 NaN                 nan   \n",
       "3                    NaN                 NaN                 nan   \n",
       "4                    NaN                 NaN                 nan   \n",
       "\n",
       "   amount_10_out_of_state  amount_10_unknown  pct_10_in_state  \\\n",
       "0                     nan                nan              nan   \n",
       "1                     nan                nan              nan   \n",
       "2                     nan                nan              nan   \n",
       "3                     nan                nan              nan   \n",
       "4                     nan                nan              nan   \n",
       "\n",
       "   pct_10_out_of_state  pct_10_unknown  \n",
       "0                  nan             nan  \n",
       "1                  nan             nan  \n",
       "2                  nan             nan  \n",
       "3                  nan             nan  \n",
       "4                  nan             nan  "
      ]
     },
     "execution_count": 63,
     "metadata": {},
     "output_type": "execute_result"
    }
   ],
   "source": [
    "list_of_contributions_by_candidate = [contributions_by_candidate_18, contributions_by_candidate_14, contributions_by_candidate_10]\n",
    "contributions_by_candidate = reduce(lambda left, right: pd.merge(left, right, on=[\"candidate\", \"state\"], how=\"outer\"), list_of_contributions_by_candidate)\n",
    "contributions_by_candidate.drop([\"year_x\", \"year_y\", \"year\"], axis=1, inplace=True)\n",
    "contributions_by_candidate.rename(columns={\"standardized_status_x\": \"18_standardized_status\", \"standardized_status_y\": \"14_standardized_status\"})\n",
    "contributions_by_candidate.head()"
   ]
  },
  {
   "cell_type": "markdown",
   "metadata": {
    "collapsed": true
   },
   "source": [
    "Export the data to Excel."
   ]
  },
  {
   "cell_type": "code",
   "execution_count": 65,
   "metadata": {},
   "outputs": [
    {
     "data": {
      "application/javascript": [
       "$(document).ready(\n",
       "    function() {\n",
       "        function appendUniqueDiv(){\n",
       "            // append a div with our uuid so we can check that it's already\n",
       "            // been sent and avoid duplicates on page reload\n",
       "            var notifiedDiv = document.createElement(\"div\")\n",
       "            notifiedDiv.id = \"645abd8b-0ca0-4b67-8b0c-9ebceae8f082\"\n",
       "            element.append(notifiedDiv)\n",
       "        }\n",
       "\n",
       "        // only send notifications if the pageload is complete; this will\n",
       "        // help stop extra notifications when a saved notebook is loaded,\n",
       "        // which during testing gives us state \"interactive\", not \"complete\"\n",
       "        if (document.readyState === 'complete') {\n",
       "            // check for the div that signifies that the notification\n",
       "            // was already sent\n",
       "            if (document.getElementById(\"645abd8b-0ca0-4b67-8b0c-9ebceae8f082\") === null) {\n",
       "                var notificationPayload = {\"requireInteraction\": false, \"icon\": \"/static/base/images/favicon.ico\", \"body\": \"Cell execution has finished!\"};\n",
       "                if (Notification.permission !== 'denied') {\n",
       "                    if (Notification.permission !== 'granted') { \n",
       "                        Notification.requestPermission(function (permission) {\n",
       "                            if(!('permission' in Notification)) {\n",
       "                                Notification.permission = permission\n",
       "                            }\n",
       "                        })\n",
       "                    }\n",
       "                    if (Notification.permission === 'granted') {\n",
       "                    var notification = new Notification(\"Jupyter Notebook\", notificationPayload)\n",
       "                    appendUniqueDiv()\n",
       "                    notification.onclick = function () {\n",
       "                        window.focus();\n",
       "                        this.close();\n",
       "                        };\n",
       "                    } \n",
       "                }     \n",
       "            }\n",
       "        }\n",
       "    }\n",
       ")\n"
      ],
      "text/plain": [
       "<IPython.core.display.Javascript object>"
      ]
     },
     "metadata": {},
     "output_type": "display_data"
    }
   ],
   "source": [
    "%%notify\n",
    "contributions_by_candidate.to_excel(\"data/contributions_by_candidate.xlsx\", index=False)"
   ]
  },
  {
   "cell_type": "code",
   "execution_count": null,
   "metadata": {},
   "outputs": [],
   "source": []
  }
 ],
 "metadata": {
  "kernelspec": {
   "display_name": "Python 3",
   "language": "python",
   "name": "python3"
  },
  "language_info": {
   "codemirror_mode": {
    "name": "ipython",
    "version": 3
   },
   "file_extension": ".py",
   "mimetype": "text/x-python",
   "name": "python",
   "nbconvert_exporter": "python",
   "pygments_lexer": "ipython3",
   "version": "3.6.4"
  }
 },
 "nbformat": 4,
 "nbformat_minor": 2
}
