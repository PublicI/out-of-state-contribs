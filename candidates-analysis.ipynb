{
 "cells": [
  {
   "cell_type": "markdown",
   "metadata": {},
   "source": [
    "# Out-of-State-Contributions: Candidates Analysis"
   ]
  },
  {
   "cell_type": "code",
   "execution_count": 1,
   "metadata": {},
   "outputs": [
    {
     "data": {
      "application/javascript": [
       "if (!(\"Notification\" in window)) {\n",
       "    alert(\"This browser does not support desktop notifications, so the %%notify magic will not work.\");\n",
       "} else if (Notification.permission !== 'granted' && Notification.permission !== 'denied') {\n",
       "    Notification.requestPermission(function (permission) {\n",
       "        if(!('permission' in Notification)) {\n",
       "            Notification.permission = permission;\n",
       "        }\n",
       "    })\n",
       "}\n"
      ],
      "text/plain": [
       "<IPython.core.display.Javascript object>"
      ]
     },
     "metadata": {},
     "output_type": "display_data"
    }
   ],
   "source": [
    "from functools import reduce\n",
    "import numpy as np\n",
    "import pandas as pd\n",
    "\n",
    "%load_ext jupyternotify\n",
    "\n",
    "pd.set_option(\"display.max_columns\", 50)\n",
    "pd.set_option(\"display.max_rows\", 50)\n",
    "pd.options.display.float_format = \"{:,.2f}\".format"
   ]
  },
  {
   "cell_type": "markdown",
   "metadata": {},
   "source": [
    "Import [National Institute on Money in Politics](https://www.followthemoney.org/) API key."
   ]
  },
  {
   "cell_type": "code",
   "execution_count": 2,
   "metadata": {
    "collapsed": true
   },
   "outputs": [],
   "source": [
    "nimp_key = open(\"nimp_api_key.txt\", \"r\").readline()"
   ]
  },
  {
   "cell_type": "markdown",
   "metadata": {},
   "source": [
    "## Question: How much out-of-state money are candidates raising in the 2018 election cycle, in absolute and proportional terms, thus far and how does that compare with the 2014 and 2010 cycles?"
   ]
  },
  {
   "cell_type": "markdown",
   "metadata": {},
   "source": [
    "### Import and format contribution-level data on donations to gubernatorial, attorney general, secretary of state, state supreme court, state senate and state house candidates in 2018, 2014 and 2010."
   ]
  },
  {
   "cell_type": "markdown",
   "metadata": {},
   "source": [
    "Our first task is to determine a data cut-off point for prior election cycles so we can make accurate comparisons across cycles."
   ]
  },
  {
   "cell_type": "markdown",
   "metadata": {},
   "source": [
    "Download and save each cycle's contributions data."
   ]
  },
  {
   "cell_type": "code",
   "execution_count": null,
   "metadata": {
    "collapsed": true
   },
   "outputs": [],
   "source": [
    "#%%notify\n",
    "#%%time\n",
    "#contributions_18 = pd.read_csv(\"https://www.followthemoney.org/aaengine/aafetch.php?dt=1&y=2018&c-exi=1&c-r-oc=Z10,Z70&c-r-ot=G,S,H,J&gro=c-t-id,d-id&APIKey=\"+nimp_key+\"&mode=csv\")\n",
    "#contributions_18.to_csv(\"data/contributions_18.csv\", index=False)\n",
    "#contributions_14 = pd.read_csv(\"https://www.followthemoney.org/aaengine/aafetch.php?dt=1&y=2014&c-exi=1&c-r-oc=Z10,Z70&c-r-ot=G,S,H,J&gro=c-t-id,d-id&APIKey=\"+nimp_key+\"&mode=csv\")\n",
    "#contributions_14.read_csv(\"data/contributions_14.csv\", index=False)\n",
    "#contributions_10 = pd.read_csv(\"https://www.followthemoney.org/aaengine/aafetch.php?dt=1&y=2010&c-exi=1&c-r-oc=Z10,Z70&c-r-ot=G,S,H,J&gro=c-t-id,d-id&APIKey=\"+nimp_key+\"&mode=csv\")\n",
    "#contributions_10.read_csv(\"data/contributions_10.csv\", index=False)"
   ]
  },
  {
   "cell_type": "markdown",
   "metadata": {},
   "source": [
    "Concatenate the data."
   ]
  },
  {
   "cell_type": "code",
   "execution_count": 3,
   "metadata": {
    "collapsed": true
   },
   "outputs": [],
   "source": [
    "%%bash\n",
    "head -1 \"data/raw/contributions_18.csv\" >> \"data/raw/contributions.csv\"\n",
    "sed '1d' \"data/raw/contributions_18.csv\" >> \"data/raw/contributions.csv\"\n",
    "sed '1d' \"data/raw/contributions_14.csv\" >> \"data/raw/contributions.csv\"\n",
    "sed '1d' \"data/raw/contributions_10.csv\" >> \"data/raw/contributions.csv\""
   ]
  },
  {
   "cell_type": "markdown",
   "metadata": {},
   "source": [
    "Import the data."
   ]
  },
  {
   "cell_type": "code",
   "execution_count": 4,
   "metadata": {
    "scrolled": true
   },
   "outputs": [
    {
     "name": "stderr",
     "output_type": "stream",
     "text": [
      "/home/jyerardi/anaconda3/lib/python3.6/site-packages/IPython/core/interactiveshell.py:2698: DtypeWarning: Columns (54) have mixed types. Specify dtype option on import or set low_memory=False.\n",
      "  interactivity=interactivity, compiler=compiler, result=result)\n"
     ]
    },
    {
     "data": {
      "text/html": [
       "<div>\n",
       "<style scoped>\n",
       "    .dataframe tbody tr th:only-of-type {\n",
       "        vertical-align: middle;\n",
       "    }\n",
       "\n",
       "    .dataframe tbody tr th {\n",
       "        vertical-align: top;\n",
       "    }\n",
       "\n",
       "    .dataframe thead th {\n",
       "        text-align: right;\n",
       "    }\n",
       "</style>\n",
       "<table border=\"1\" class=\"dataframe\">\n",
       "  <thead>\n",
       "    <tr style=\"text-align: right;\">\n",
       "      <th></th>\n",
       "      <th>candidate</th>\n",
       "      <th>state</th>\n",
       "      <th>year</th>\n",
       "      <th>office</th>\n",
       "      <th>contributor</th>\n",
       "      <th>amount</th>\n",
       "      <th>date</th>\n",
       "      <th>in_out_state</th>\n",
       "    </tr>\n",
       "  </thead>\n",
       "  <tbody>\n",
       "    <tr>\n",
       "      <th>0</th>\n",
       "      <td>RAUNER, BRUCE VINCENT &amp; SANGUINETTI, EVELYN PA...</td>\n",
       "      <td>IL</td>\n",
       "      <td>2018</td>\n",
       "      <td>GOVERNOR / LIEUTENANT GOVERNOR</td>\n",
       "      <td>RAUNER, BRUCE VINCENT</td>\n",
       "      <td>50,000,000.00</td>\n",
       "      <td>2016-12-20</td>\n",
       "      <td>1.00</td>\n",
       "    </tr>\n",
       "  </tbody>\n",
       "</table>\n",
       "</div>"
      ],
      "text/plain": [
       "                                           candidate state  year  \\\n",
       "0  RAUNER, BRUCE VINCENT & SANGUINETTI, EVELYN PA...    IL  2018   \n",
       "\n",
       "                           office            contributor        amount  \\\n",
       "0  GOVERNOR / LIEUTENANT GOVERNOR  RAUNER, BRUCE VINCENT 50,000,000.00   \n",
       "\n",
       "         date  in_out_state  \n",
       "0  2016-12-20          1.00  "
      ]
     },
     "execution_count": 4,
     "metadata": {},
     "output_type": "execute_result"
    }
   ],
   "source": [
    "contributions = pd.read_csv(\"data/raw/contributions.csv\", usecols=[\"Candidate\", \"Election_Jurisdiction\", \"Election_Year\", \"Office_Sought\", \"Contributor\", \"Amount\", \"Date\", \"In-State\"], error_bad_lines=False)\n",
    "contributions.columns = [\"candidate\", \"state\", \"year\", \"office\", \"contributor\", \"amount\", \"date\", \"in_out_state\"]\n",
    "contributions.head(1)"
   ]
  },
  {
   "cell_type": "markdown",
   "metadata": {},
   "source": [
    "Delete the data."
   ]
  },
  {
   "cell_type": "code",
   "execution_count": 7,
   "metadata": {},
   "outputs": [],
   "source": [
    "%%bash\n",
    "rm \"data/raw/contributions_18.csv\"\n",
    "rm \"data/raw/contributions_14.csv\"\n",
    "rm \"data/raw/contributions_10.csv\"\n",
    "rm \"data/raw/contributions.csv\""
   ]
  },
  {
   "cell_type": "markdown",
   "metadata": {},
   "source": [
    "Convert the contribution amount column to numeric (float) data type and convert the contribution date column to datetime data type."
   ]
  },
  {
   "cell_type": "code",
   "execution_count": 8,
   "metadata": {
    "collapsed": true,
    "scrolled": true
   },
   "outputs": [],
   "source": [
    "contributions[\"amount\"] = pd.to_numeric(contributions[\"amount\"], errors=\"coerce\")\n",
    "contributions[\"date\"] = pd.to_datetime(contributions[\"date\"], errors=\"coerce\")"
   ]
  },
  {
   "cell_type": "markdown",
   "metadata": {},
   "source": [
    "Filter out unitemized donations as it is impossible to determine where those contributions originated."
   ]
  },
  {
   "cell_type": "code",
   "execution_count": 9,
   "metadata": {
    "collapsed": true
   },
   "outputs": [],
   "source": [
    "contributions = contributions[contributions[\"contributor\"] != \"UNITEMIZED DONATIONS\"]"
   ]
  },
  {
   "cell_type": "markdown",
   "metadata": {},
   "source": [
    "Rename the categories in the in-vs.-out-of-state column."
   ]
  },
  {
   "cell_type": "code",
   "execution_count": 10,
   "metadata": {
    "collapsed": true
   },
   "outputs": [],
   "source": [
    "# 0 = out-of-state, 1 = in-state, 2 = unknown\n",
    "contributions[\"in_out_state\"] = contributions[\"in_out_state\"].replace({0: \"out-of-state\", 1: \"in-state\", 2: \"unknown\"})"
   ]
  },
  {
   "cell_type": "markdown",
   "metadata": {},
   "source": [
    "Create a standardized office column."
   ]
  },
  {
   "cell_type": "code",
   "execution_count": 11,
   "metadata": {
    "scrolled": true
   },
   "outputs": [
    {
     "data": {
      "text/html": [
       "<div>\n",
       "<style scoped>\n",
       "    .dataframe tbody tr th:only-of-type {\n",
       "        vertical-align: middle;\n",
       "    }\n",
       "\n",
       "    .dataframe tbody tr th {\n",
       "        vertical-align: top;\n",
       "    }\n",
       "\n",
       "    .dataframe thead th {\n",
       "        text-align: right;\n",
       "    }\n",
       "</style>\n",
       "<table border=\"1\" class=\"dataframe\">\n",
       "  <thead>\n",
       "    <tr style=\"text-align: right;\">\n",
       "      <th></th>\n",
       "      <th>candidate</th>\n",
       "      <th>state</th>\n",
       "      <th>year</th>\n",
       "      <th>office</th>\n",
       "      <th>contributor</th>\n",
       "      <th>amount</th>\n",
       "      <th>date</th>\n",
       "      <th>in_out_state</th>\n",
       "      <th>standardized_office</th>\n",
       "    </tr>\n",
       "  </thead>\n",
       "  <tbody>\n",
       "    <tr>\n",
       "      <th>0</th>\n",
       "      <td>RAUNER, BRUCE VINCENT &amp; SANGUINETTI, EVELYN PA...</td>\n",
       "      <td>IL</td>\n",
       "      <td>2018</td>\n",
       "      <td>GOVERNOR / LIEUTENANT GOVERNOR</td>\n",
       "      <td>RAUNER, BRUCE VINCENT</td>\n",
       "      <td>50,000,000.00</td>\n",
       "      <td>2016-12-20</td>\n",
       "      <td>in-state</td>\n",
       "      <td>GOVERNOR/LIEUTENANT GOVERNOR</td>\n",
       "    </tr>\n",
       "  </tbody>\n",
       "</table>\n",
       "</div>"
      ],
      "text/plain": [
       "                                           candidate state  year  \\\n",
       "0  RAUNER, BRUCE VINCENT & SANGUINETTI, EVELYN PA...    IL  2018   \n",
       "\n",
       "                           office            contributor        amount  \\\n",
       "0  GOVERNOR / LIEUTENANT GOVERNOR  RAUNER, BRUCE VINCENT 50,000,000.00   \n",
       "\n",
       "        date in_out_state           standardized_office  \n",
       "0 2016-12-20     in-state  GOVERNOR/LIEUTENANT GOVERNOR  "
      ]
     },
     "execution_count": 11,
     "metadata": {},
     "output_type": "execute_result"
    }
   ],
   "source": [
    "contributions[\"standardized_office\"] = np.where(contributions[\"office\"].str.contains(\"governor\", case=False), \"GOVERNOR/LIEUTENANT GOVERNOR\",\n",
    "                              np.where(contributions[\"office\"].str.contains(\"attorney general\", case=False), \"ATTORNEY GENERAL\",\n",
    "                              np.where(contributions[\"office\"].str.contains(\"secretary of state\", case=False), \"SECRETARY OF STATE\",\n",
    "                              np.where(contributions[\"office\"].str.contains(\"court\", case=False), \"SUPREME COURT\",\n",
    "                              np.where(contributions[\"office\"].str.contains(\"senate\", case=False), \"STATE SENATE\",\n",
    "                              np.where(contributions[\"office\"].str.contains(\"house\", case=False), \"STATE HOUSE\", \"\"))))))\n",
    "\n",
    "contributions.head(1)"
   ]
  },
  {
   "cell_type": "markdown",
   "metadata": {},
   "source": [
    "### Calculate each state's data cut-off point for the 2018 cycle's data."
   ]
  },
  {
   "cell_type": "markdown",
   "metadata": {},
   "source": [
    "Filter the data to just 2018 cycle contributions. Then extract the month and year from the contribution date column."
   ]
  },
  {
   "cell_type": "code",
   "execution_count": 12,
   "metadata": {
    "scrolled": true
   },
   "outputs": [
    {
     "name": "stderr",
     "output_type": "stream",
     "text": [
      "/home/jyerardi/anaconda3/lib/python3.6/site-packages/ipykernel_launcher.py:2: SettingWithCopyWarning: \n",
      "A value is trying to be set on a copy of a slice from a DataFrame.\n",
      "Try using .loc[row_indexer,col_indexer] = value instead\n",
      "\n",
      "See the caveats in the documentation: http://pandas.pydata.org/pandas-docs/stable/indexing.html#indexing-view-versus-copy\n",
      "  \n"
     ]
    },
    {
     "name": "stdout",
     "output_type": "stream",
     "text": [
      "<class 'pandas.core.frame.DataFrame'>\n",
      "Int64Index: 2150964 entries, 0 to 2180762\n",
      "Data columns (total 10 columns):\n",
      "candidate              object\n",
      "state                  object\n",
      "year                   int64\n",
      "office                 object\n",
      "contributor            object\n",
      "amount                 float64\n",
      "date                   datetime64[ns]\n",
      "in_out_state           object\n",
      "standardized_office    object\n",
      "month                  object\n",
      "dtypes: datetime64[ns](1), float64(1), int64(1), object(7)\n",
      "memory usage: 180.5+ MB\n"
     ]
    }
   ],
   "source": [
    "contributions_18 = contributions[contributions[\"year\"] == 2018]\n",
    "contributions_18[\"month\"] = contributions_18[\"date\"].dt.to_period(\"M\")\n",
    "contributions_18.info()"
   ]
  },
  {
   "cell_type": "markdown",
   "metadata": {},
   "source": [
    "Group the contributions by state and month."
   ]
  },
  {
   "cell_type": "code",
   "execution_count": 13,
   "metadata": {
    "scrolled": true
   },
   "outputs": [
    {
     "name": "stdout",
     "output_type": "stream",
     "text": [
      "<class 'pandas.core.frame.DataFrame'>\n",
      "RangeIndex: 1489 entries, 0 to 1488\n",
      "Data columns (total 3 columns):\n",
      "state     1489 non-null object\n",
      "month     1489 non-null object\n",
      "amount    1489 non-null float64\n",
      "dtypes: float64(1), object(2)\n",
      "memory usage: 35.0+ KB\n"
     ]
    }
   ],
   "source": [
    "grouped_by_month = contributions_18.groupby([\"state\", \"month\"])[\"amount\"].sum().reset_index()\n",
    "grouped_by_month.info()"
   ]
  },
  {
   "cell_type": "markdown",
   "metadata": {},
   "source": [
    "Because we eventually want to use each state's month column as the cut-off date for contributions, we need to add a day to the month and the year and then convert the column into datetime data type."
   ]
  },
  {
   "cell_type": "code",
   "execution_count": 14,
   "metadata": {
    "scrolled": true
   },
   "outputs": [
    {
     "name": "stdout",
     "output_type": "stream",
     "text": [
      "<class 'pandas.core.frame.DataFrame'>\n",
      "RangeIndex: 1489 entries, 0 to 1488\n",
      "Data columns (total 3 columns):\n",
      "state     1489 non-null object\n",
      "month     1489 non-null datetime64[ns]\n",
      "amount    1489 non-null float64\n",
      "dtypes: datetime64[ns](1), float64(1), object(1)\n",
      "memory usage: 35.0+ KB\n"
     ]
    }
   ],
   "source": [
    "grouped_by_month[\"month\"] = grouped_by_month[\"month\"].astype(str) + \"-28\" # No month has fewer than 28 days\n",
    "grouped_by_month[\"month\"] = pd.to_datetime(grouped_by_month[\"month\"], errors=\"coerce\")\n",
    "grouped_by_month.info()"
   ]
  },
  {
   "cell_type": "markdown",
   "metadata": {},
   "source": [
    "We know some of the contribution dates are wrong. We know this because some of the dates occur in the future and, unless we've got some time travelling campaign donors, these are data entry errors. To eliminate this noise, we will filter out months after August 2018."
   ]
  },
  {
   "cell_type": "code",
   "execution_count": 15,
   "metadata": {
    "collapsed": true,
    "scrolled": false
   },
   "outputs": [],
   "source": [
    "grouped_by_month = grouped_by_month[grouped_by_month[\"month\"] <= \"2018-08-28\"]"
   ]
  },
  {
   "cell_type": "markdown",
   "metadata": {},
   "source": [
    "Return the most recent month of contributions for each state."
   ]
  },
  {
   "cell_type": "code",
   "execution_count": 16,
   "metadata": {
    "scrolled": true
   },
   "outputs": [
    {
     "data": {
      "text/html": [
       "<div>\n",
       "<style scoped>\n",
       "    .dataframe tbody tr th:only-of-type {\n",
       "        vertical-align: middle;\n",
       "    }\n",
       "\n",
       "    .dataframe tbody tr th {\n",
       "        vertical-align: top;\n",
       "    }\n",
       "\n",
       "    .dataframe thead th {\n",
       "        text-align: right;\n",
       "    }\n",
       "</style>\n",
       "<table border=\"1\" class=\"dataframe\">\n",
       "  <thead>\n",
       "    <tr style=\"text-align: right;\">\n",
       "      <th></th>\n",
       "      <th>state</th>\n",
       "      <th>latest_month</th>\n",
       "    </tr>\n",
       "  </thead>\n",
       "  <tbody>\n",
       "    <tr>\n",
       "      <th>0</th>\n",
       "      <td>AK</td>\n",
       "      <td>2018-07-28</td>\n",
       "    </tr>\n",
       "    <tr>\n",
       "      <th>1</th>\n",
       "      <td>AL</td>\n",
       "      <td>2018-07-28</td>\n",
       "    </tr>\n",
       "    <tr>\n",
       "      <th>2</th>\n",
       "      <td>AR</td>\n",
       "      <td>2018-03-28</td>\n",
       "    </tr>\n",
       "    <tr>\n",
       "      <th>3</th>\n",
       "      <td>AZ</td>\n",
       "      <td>2017-12-28</td>\n",
       "    </tr>\n",
       "    <tr>\n",
       "      <th>4</th>\n",
       "      <td>CA</td>\n",
       "      <td>2018-07-28</td>\n",
       "    </tr>\n",
       "    <tr>\n",
       "      <th>5</th>\n",
       "      <td>CO</td>\n",
       "      <td>2018-07-28</td>\n",
       "    </tr>\n",
       "    <tr>\n",
       "      <th>6</th>\n",
       "      <td>CT</td>\n",
       "      <td>2018-07-28</td>\n",
       "    </tr>\n",
       "    <tr>\n",
       "      <th>7</th>\n",
       "      <td>DE</td>\n",
       "      <td>2017-11-28</td>\n",
       "    </tr>\n",
       "    <tr>\n",
       "      <th>8</th>\n",
       "      <td>FL</td>\n",
       "      <td>2018-08-28</td>\n",
       "    </tr>\n",
       "    <tr>\n",
       "      <th>9</th>\n",
       "      <td>GA</td>\n",
       "      <td>2018-07-28</td>\n",
       "    </tr>\n",
       "    <tr>\n",
       "      <th>10</th>\n",
       "      <td>HI</td>\n",
       "      <td>2017-12-28</td>\n",
       "    </tr>\n",
       "    <tr>\n",
       "      <th>11</th>\n",
       "      <td>IA</td>\n",
       "      <td>2018-07-28</td>\n",
       "    </tr>\n",
       "    <tr>\n",
       "      <th>12</th>\n",
       "      <td>ID</td>\n",
       "      <td>2018-08-28</td>\n",
       "    </tr>\n",
       "    <tr>\n",
       "      <th>13</th>\n",
       "      <td>IL</td>\n",
       "      <td>2018-06-28</td>\n",
       "    </tr>\n",
       "    <tr>\n",
       "      <th>14</th>\n",
       "      <td>IN</td>\n",
       "      <td>2018-06-28</td>\n",
       "    </tr>\n",
       "    <tr>\n",
       "      <th>15</th>\n",
       "      <td>KS</td>\n",
       "      <td>2018-01-28</td>\n",
       "    </tr>\n",
       "    <tr>\n",
       "      <th>16</th>\n",
       "      <td>KY</td>\n",
       "      <td>2018-08-28</td>\n",
       "    </tr>\n",
       "    <tr>\n",
       "      <th>17</th>\n",
       "      <td>LA</td>\n",
       "      <td>2018-04-28</td>\n",
       "    </tr>\n",
       "    <tr>\n",
       "      <th>18</th>\n",
       "      <td>MA</td>\n",
       "      <td>2018-06-28</td>\n",
       "    </tr>\n",
       "    <tr>\n",
       "      <th>19</th>\n",
       "      <td>MD</td>\n",
       "      <td>2018-06-28</td>\n",
       "    </tr>\n",
       "    <tr>\n",
       "      <th>20</th>\n",
       "      <td>ME</td>\n",
       "      <td>2018-07-28</td>\n",
       "    </tr>\n",
       "    <tr>\n",
       "      <th>21</th>\n",
       "      <td>MI</td>\n",
       "      <td>2018-07-28</td>\n",
       "    </tr>\n",
       "    <tr>\n",
       "      <th>22</th>\n",
       "      <td>MN</td>\n",
       "      <td>2017-12-28</td>\n",
       "    </tr>\n",
       "    <tr>\n",
       "      <th>23</th>\n",
       "      <td>MO</td>\n",
       "      <td>2017-12-28</td>\n",
       "    </tr>\n",
       "    <tr>\n",
       "      <th>24</th>\n",
       "      <td>MT</td>\n",
       "      <td>2018-02-28</td>\n",
       "    </tr>\n",
       "    <tr>\n",
       "      <th>25</th>\n",
       "      <td>NC</td>\n",
       "      <td>2018-04-28</td>\n",
       "    </tr>\n",
       "    <tr>\n",
       "      <th>26</th>\n",
       "      <td>NE</td>\n",
       "      <td>2018-05-28</td>\n",
       "    </tr>\n",
       "    <tr>\n",
       "      <th>27</th>\n",
       "      <td>NH</td>\n",
       "      <td>2017-12-28</td>\n",
       "    </tr>\n",
       "    <tr>\n",
       "      <th>28</th>\n",
       "      <td>NM</td>\n",
       "      <td>2018-06-28</td>\n",
       "    </tr>\n",
       "    <tr>\n",
       "      <th>29</th>\n",
       "      <td>NV</td>\n",
       "      <td>2017-12-28</td>\n",
       "    </tr>\n",
       "    <tr>\n",
       "      <th>30</th>\n",
       "      <td>NY</td>\n",
       "      <td>2018-05-28</td>\n",
       "    </tr>\n",
       "    <tr>\n",
       "      <th>31</th>\n",
       "      <td>OH</td>\n",
       "      <td>2018-07-28</td>\n",
       "    </tr>\n",
       "    <tr>\n",
       "      <th>32</th>\n",
       "      <td>OK</td>\n",
       "      <td>2017-12-28</td>\n",
       "    </tr>\n",
       "    <tr>\n",
       "      <th>33</th>\n",
       "      <td>OR</td>\n",
       "      <td>2018-05-28</td>\n",
       "    </tr>\n",
       "    <tr>\n",
       "      <th>34</th>\n",
       "      <td>PA</td>\n",
       "      <td>2018-05-28</td>\n",
       "    </tr>\n",
       "    <tr>\n",
       "      <th>35</th>\n",
       "      <td>RI</td>\n",
       "      <td>2017-12-28</td>\n",
       "    </tr>\n",
       "    <tr>\n",
       "      <th>36</th>\n",
       "      <td>SC</td>\n",
       "      <td>2018-05-28</td>\n",
       "    </tr>\n",
       "    <tr>\n",
       "      <th>37</th>\n",
       "      <td>SD</td>\n",
       "      <td>2016-12-28</td>\n",
       "    </tr>\n",
       "    <tr>\n",
       "      <th>38</th>\n",
       "      <td>TN</td>\n",
       "      <td>2018-04-28</td>\n",
       "    </tr>\n",
       "    <tr>\n",
       "      <th>39</th>\n",
       "      <td>TX</td>\n",
       "      <td>2018-06-28</td>\n",
       "    </tr>\n",
       "    <tr>\n",
       "      <th>40</th>\n",
       "      <td>VT</td>\n",
       "      <td>2017-07-28</td>\n",
       "    </tr>\n",
       "    <tr>\n",
       "      <th>41</th>\n",
       "      <td>WA</td>\n",
       "      <td>2018-04-28</td>\n",
       "    </tr>\n",
       "    <tr>\n",
       "      <th>42</th>\n",
       "      <td>WI</td>\n",
       "      <td>2018-06-28</td>\n",
       "    </tr>\n",
       "    <tr>\n",
       "      <th>43</th>\n",
       "      <td>WY</td>\n",
       "      <td>2017-12-28</td>\n",
       "    </tr>\n",
       "  </tbody>\n",
       "</table>\n",
       "</div>"
      ],
      "text/plain": [
       "   state latest_month\n",
       "0     AK   2018-07-28\n",
       "1     AL   2018-07-28\n",
       "2     AR   2018-03-28\n",
       "3     AZ   2017-12-28\n",
       "4     CA   2018-07-28\n",
       "5     CO   2018-07-28\n",
       "6     CT   2018-07-28\n",
       "7     DE   2017-11-28\n",
       "8     FL   2018-08-28\n",
       "9     GA   2018-07-28\n",
       "10    HI   2017-12-28\n",
       "11    IA   2018-07-28\n",
       "12    ID   2018-08-28\n",
       "13    IL   2018-06-28\n",
       "14    IN   2018-06-28\n",
       "15    KS   2018-01-28\n",
       "16    KY   2018-08-28\n",
       "17    LA   2018-04-28\n",
       "18    MA   2018-06-28\n",
       "19    MD   2018-06-28\n",
       "20    ME   2018-07-28\n",
       "21    MI   2018-07-28\n",
       "22    MN   2017-12-28\n",
       "23    MO   2017-12-28\n",
       "24    MT   2018-02-28\n",
       "25    NC   2018-04-28\n",
       "26    NE   2018-05-28\n",
       "27    NH   2017-12-28\n",
       "28    NM   2018-06-28\n",
       "29    NV   2017-12-28\n",
       "30    NY   2018-05-28\n",
       "31    OH   2018-07-28\n",
       "32    OK   2017-12-28\n",
       "33    OR   2018-05-28\n",
       "34    PA   2018-05-28\n",
       "35    RI   2017-12-28\n",
       "36    SC   2018-05-28\n",
       "37    SD   2016-12-28\n",
       "38    TN   2018-04-28\n",
       "39    TX   2018-06-28\n",
       "40    VT   2017-07-28\n",
       "41    WA   2018-04-28\n",
       "42    WI   2018-06-28\n",
       "43    WY   2017-12-28"
      ]
     },
     "execution_count": 16,
     "metadata": {},
     "output_type": "execute_result"
    }
   ],
   "source": [
    "latest_month = grouped_by_month.groupby(\"state\")[\"month\"].max().reset_index()\n",
    "latest_month.rename(columns={\"month\": \"latest_month\"}, inplace=True)\n",
    "latest_month"
   ]
  },
  {
   "cell_type": "markdown",
   "metadata": {
    "collapsed": true
   },
   "source": [
    "### Apply the cut-off date to the 2014 and 2010 election cycles' data."
   ]
  },
  {
   "cell_type": "markdown",
   "metadata": {},
   "source": [
    "Filter the data by election cycle."
   ]
  },
  {
   "cell_type": "code",
   "execution_count": 27,
   "metadata": {
    "collapsed": true
   },
   "outputs": [],
   "source": [
    "contributions_14 = contributions[contributions[\"year\"] == 2014]\n",
    "contributions_10 = contributions[contributions[\"year\"] == 2010]"
   ]
  },
  {
   "cell_type": "markdown",
   "metadata": {
    "collapsed": true
   },
   "source": [
    "Join the table of the 2018 cycle's latest contribution months with the 2014 and 2010 contribution-level data."
   ]
  },
  {
   "cell_type": "code",
   "execution_count": 28,
   "metadata": {
    "collapsed": true
   },
   "outputs": [],
   "source": [
    "contributions_14 = contributions_14.merge(latest_month, on=\"state\")\n",
    "contributions_10 = contributions_10.merge(latest_month, on=\"state\")"
   ]
  },
  {
   "cell_type": "markdown",
   "metadata": {
    "collapsed": true
   },
   "source": [
    "Convert the year in the latest month column to its equivalent in the relevant election cycle."
   ]
  },
  {
   "cell_type": "code",
   "execution_count": 29,
   "metadata": {},
   "outputs": [
    {
     "name": "stderr",
     "output_type": "stream",
     "text": [
      "/home/jyerardi/anaconda3/lib/python3.6/site-packages/pandas/core/indexes/datetimes.py:962: PerformanceWarning: Non-vectorized DateOffset being applied to Series or DatetimeIndex\n",
      "  \"or DatetimeIndex\", PerformanceWarning)\n"
     ]
    }
   ],
   "source": [
    "# 2017 = 2013, 2018 = 2014\n",
    "contributions_14[\"latest_month\"] = contributions_14[\"latest_month\"].mask(contributions_14[\"latest_month\"].dt.year == 2017, contributions_14[\"latest_month\"] + pd.offsets.DateOffset(year=2013))\n",
    "contributions_14[\"latest_month\"] = contributions_14[\"latest_month\"].mask(contributions_14[\"latest_month\"].dt.year == 2018, contributions_14[\"latest_month\"] + pd.offsets.DateOffset(year=2014))\n",
    "# 2017 = 2009, 2018 = 2010\n",
    "contributions_10[\"latest_month\"] = contributions_10[\"latest_month\"].mask(contributions_10[\"latest_month\"].dt.year == 2017, contributions_10[\"latest_month\"] + pd.offsets.DateOffset(year=2009))\n",
    "contributions_10[\"latest_month\"] = contributions_10[\"latest_month\"].mask(contributions_10[\"latest_month\"].dt.year == 2018, contributions_10[\"latest_month\"] + pd.offsets.DateOffset(year=2010))"
   ]
  },
  {
   "cell_type": "markdown",
   "metadata": {
    "collapsed": true
   },
   "source": [
    "Filter the data to eliminate contributions after the 2018 cycle's latest contribution month in each state."
   ]
  },
  {
   "cell_type": "code",
   "execution_count": 30,
   "metadata": {
    "collapsed": true
   },
   "outputs": [],
   "source": [
    "contributions_14 = contributions_14[contributions_14[\"date\"] <= contributions_14[\"latest_month\"]]\n",
    "contributions_10 = contributions_10[contributions_10[\"date\"] <= contributions_10[\"latest_month\"]]"
   ]
  },
  {
   "cell_type": "markdown",
   "metadata": {},
   "source": [
    "### Calculate out-of-state contributions"
   ]
  },
  {
   "cell_type": "code",
   "execution_count": 31,
   "metadata": {
    "collapsed": true,
    "scrolled": true
   },
   "outputs": [],
   "source": [
    "contributions_by_candidate_18 = contributions_18.groupby([\"candidate\", \"state\", \"year\", \"standardized_office\", \"in_out_state\"])[\"amount\"].sum().reset_index()\n",
    "contributions_by_candidate_18.rename(columns={\"amount\": \"amount_18\"}, inplace=True)\n",
    "contributions_by_candidate_14 = contributions_14.groupby([\"candidate\", \"state\", \"year\", \"standardized_office\", \"in_out_state\"])[\"amount\"].sum().reset_index()\n",
    "contributions_by_candidate_14.rename(columns={\"amount\": \"amount_14\"}, inplace=True)\n",
    "contributions_by_candidate_10 = contributions_10.groupby([\"candidate\", \"state\", \"year\", \"standardized_office\", \"in_out_state\"])[\"amount\"].sum().reset_index()\n",
    "contributions_by_candidate_10.rename(columns={\"amount\": \"amount_10\"}, inplace=True)"
   ]
  },
  {
   "cell_type": "markdown",
   "metadata": {
    "collapsed": true
   },
   "source": [
    "Pivot dataframe to aggregate each candidate's data in a single row."
   ]
  },
  {
   "cell_type": "code",
   "execution_count": 32,
   "metadata": {
    "collapsed": true
   },
   "outputs": [],
   "source": [
    "contributions_by_candidate_18 = pd.pivot_table(contributions_by_candidate_18, index=[\"candidate\", \"state\", \"year\", \"standardized_office\"], columns=[\"in_out_state\"]).reset_index()\n",
    "contributions_by_candidate_14 = pd.pivot_table(contributions_by_candidate_14, index=[\"candidate\", \"state\", \"year\", \"standardized_office\"], columns=[\"in_out_state\"]).reset_index()\n",
    "contributions_by_candidate_10 = pd.pivot_table(contributions_by_candidate_10, index=[\"candidate\", \"state\", \"year\", \"standardized_office\"], columns=[\"in_out_state\"]).reset_index()"
   ]
  },
  {
   "cell_type": "markdown",
   "metadata": {
    "collapsed": true
   },
   "source": [
    "Some records have no contributions for certain categories. Let's set those values equal to zero to be sure any calculations we run on them are correct."
   ]
  },
  {
   "cell_type": "code",
   "execution_count": 33,
   "metadata": {
    "collapsed": true
   },
   "outputs": [],
   "source": [
    "contributions_by_candidate_18.fillna(0, inplace=True)\n",
    "contributions_by_candidate_14.fillna(0, inplace=True)\n",
    "contributions_by_candidate_10.fillna(0, inplace=True)"
   ]
  },
  {
   "cell_type": "markdown",
   "metadata": {
    "collapsed": true
   },
   "source": [
    "Flatten the resulting dataframes' multi-index columns."
   ]
  },
  {
   "cell_type": "code",
   "execution_count": 34,
   "metadata": {
    "collapsed": true
   },
   "outputs": [],
   "source": [
    "contributions_by_candidate_18.columns = [\"_\".join(column).replace(\"-\",\"_\").strip(\"_\") for column in contributions_by_candidate_18.columns.values]\n",
    "contributions_by_candidate_14.columns = [\"_\".join(column).replace(\"-\",\"_\").strip(\"_\") for column in contributions_by_candidate_14.columns.values]\n",
    "contributions_by_candidate_10.columns = [\"_\".join(column).replace(\"-\",\"_\").strip(\"_\") for column in contributions_by_candidate_10.columns.values]"
   ]
  },
  {
   "cell_type": "code",
   "execution_count": 35,
   "metadata": {},
   "outputs": [
    {
     "data": {
      "text/html": [
       "<div>\n",
       "<style scoped>\n",
       "    .dataframe tbody tr th:only-of-type {\n",
       "        vertical-align: middle;\n",
       "    }\n",
       "\n",
       "    .dataframe tbody tr th {\n",
       "        vertical-align: top;\n",
       "    }\n",
       "\n",
       "    .dataframe thead th {\n",
       "        text-align: right;\n",
       "    }\n",
       "</style>\n",
       "<table border=\"1\" class=\"dataframe\">\n",
       "  <thead>\n",
       "    <tr style=\"text-align: right;\">\n",
       "      <th></th>\n",
       "      <th>candidate</th>\n",
       "      <th>state</th>\n",
       "      <th>year</th>\n",
       "      <th>standardized_office</th>\n",
       "      <th>amount_18_in_state</th>\n",
       "      <th>amount_18_out_of_state</th>\n",
       "      <th>amount_18_unknown</th>\n",
       "    </tr>\n",
       "  </thead>\n",
       "  <tbody>\n",
       "    <tr>\n",
       "      <th>0</th>\n",
       "      <td>ABBOTT, DAVID H</td>\n",
       "      <td>IN</td>\n",
       "      <td>2018</td>\n",
       "      <td>STATE HOUSE</td>\n",
       "      <td>26,065.00</td>\n",
       "      <td>0.00</td>\n",
       "      <td>0.00</td>\n",
       "    </tr>\n",
       "  </tbody>\n",
       "</table>\n",
       "</div>"
      ],
      "text/plain": [
       "         candidate state  year standardized_office  amount_18_in_state  \\\n",
       "0  ABBOTT, DAVID H    IN  2018         STATE HOUSE           26,065.00   \n",
       "\n",
       "   amount_18_out_of_state  amount_18_unknown  \n",
       "0                    0.00               0.00  "
      ]
     },
     "execution_count": 35,
     "metadata": {},
     "output_type": "execute_result"
    }
   ],
   "source": [
    "contributions_by_candidate_18.head(1)"
   ]
  },
  {
   "cell_type": "code",
   "execution_count": 36,
   "metadata": {
    "collapsed": true
   },
   "outputs": [],
   "source": [
    "contributions_by_candidate_18.rename(columns={\"standardized_office\": \"standardized_office_18\"}, inplace=True)\n",
    "contributions_by_candidate_14.rename(columns={\"standardized_office\": \"standardized_office_14\"}, inplace=True)\n",
    "contributions_by_candidate_10.rename(columns={\"standardized_office\": \"standardized_office_10\"}, inplace=True)"
   ]
  },
  {
   "cell_type": "markdown",
   "metadata": {
    "collapsed": true
   },
   "source": [
    "Calculate the proportion of in-state, out-of-state and unknown contributions."
   ]
  },
  {
   "cell_type": "code",
   "execution_count": 37,
   "metadata": {
    "collapsed": true
   },
   "outputs": [],
   "source": [
    "contributions_by_candidate_18[\"pct_18_in_state\"] = contributions_by_candidate_18[\"amount_18_in_state\"] / (contributions_by_candidate_18[\"amount_18_in_state\"] + contributions_by_candidate_18[\"amount_18_out_of_state\"] + contributions_by_candidate_18[\"amount_18_unknown\"])\n",
    "contributions_by_candidate_18[\"pct_18_out_of_state\"] = contributions_by_candidate_18[\"amount_18_out_of_state\"] / (contributions_by_candidate_18[\"amount_18_in_state\"] + contributions_by_candidate_18[\"amount_18_out_of_state\"] + contributions_by_candidate_18[\"amount_18_unknown\"])\n",
    "contributions_by_candidate_18[\"pct_18_unknown\"] = contributions_by_candidate_18[\"amount_18_unknown\"] / (contributions_by_candidate_18[\"amount_18_in_state\"] + contributions_by_candidate_18[\"amount_18_out_of_state\"] + contributions_by_candidate_18[\"amount_18_unknown\"])\n",
    "contributions_by_candidate_14[\"pct_14_in_state\"] = contributions_by_candidate_14[\"amount_14_in_state\"] / (contributions_by_candidate_14[\"amount_14_in_state\"] + contributions_by_candidate_14[\"amount_14_out_of_state\"] + contributions_by_candidate_14[\"amount_14_unknown\"])\n",
    "contributions_by_candidate_14[\"pct_14_out_of_state\"] = contributions_by_candidate_14[\"amount_14_out_of_state\"] / (contributions_by_candidate_14[\"amount_14_in_state\"] + contributions_by_candidate_14[\"amount_14_out_of_state\"] + contributions_by_candidate_14[\"amount_14_unknown\"])\n",
    "contributions_by_candidate_14[\"pct_14_unknown\"] = contributions_by_candidate_14[\"amount_14_unknown\"] / (contributions_by_candidate_14[\"amount_14_in_state\"] + contributions_by_candidate_14[\"amount_14_out_of_state\"] + contributions_by_candidate_14[\"amount_14_unknown\"])\n",
    "contributions_by_candidate_10[\"pct_10_in_state\"] = contributions_by_candidate_10[\"amount_10_in_state\"] / (contributions_by_candidate_10[\"amount_10_in_state\"] + contributions_by_candidate_10[\"amount_10_out_of_state\"] + contributions_by_candidate_10[\"amount_10_unknown\"])\n",
    "contributions_by_candidate_10[\"pct_10_out_of_state\"] = contributions_by_candidate_10[\"amount_10_out_of_state\"] / (contributions_by_candidate_10[\"amount_10_in_state\"] + contributions_by_candidate_10[\"amount_10_out_of_state\"] + contributions_by_candidate_10[\"amount_10_unknown\"])\n",
    "contributions_by_candidate_10[\"pct_10_unknown\"] = contributions_by_candidate_10[\"amount_10_unknown\"] / (contributions_by_candidate_10[\"amount_10_in_state\"] + contributions_by_candidate_10[\"amount_10_out_of_state\"] + contributions_by_candidate_10[\"amount_10_unknown\"])"
   ]
  },
  {
   "cell_type": "markdown",
   "metadata": {
    "collapsed": true
   },
   "source": [
    "Join the 2018, 2014 and 2010 contributions by candidate data"
   ]
  },
  {
   "cell_type": "code",
   "execution_count": 38,
   "metadata": {},
   "outputs": [
    {
     "data": {
      "text/html": [
       "<div>\n",
       "<style scoped>\n",
       "    .dataframe tbody tr th:only-of-type {\n",
       "        vertical-align: middle;\n",
       "    }\n",
       "\n",
       "    .dataframe tbody tr th {\n",
       "        vertical-align: top;\n",
       "    }\n",
       "\n",
       "    .dataframe thead th {\n",
       "        text-align: right;\n",
       "    }\n",
       "</style>\n",
       "<table border=\"1\" class=\"dataframe\">\n",
       "  <thead>\n",
       "    <tr style=\"text-align: right;\">\n",
       "      <th></th>\n",
       "      <th>candidate</th>\n",
       "      <th>state</th>\n",
       "      <th>standardized_office_18</th>\n",
       "      <th>amount_18_in_state</th>\n",
       "      <th>amount_18_out_of_state</th>\n",
       "      <th>amount_18_unknown</th>\n",
       "      <th>pct_18_in_state</th>\n",
       "      <th>pct_18_out_of_state</th>\n",
       "      <th>pct_18_unknown</th>\n",
       "      <th>standardized_office_14</th>\n",
       "      <th>amount_14_in_state</th>\n",
       "      <th>amount_14_out_of_state</th>\n",
       "      <th>amount_14_unknown</th>\n",
       "      <th>pct_14_in_state</th>\n",
       "      <th>pct_14_out_of_state</th>\n",
       "      <th>pct_14_unknown</th>\n",
       "      <th>standardized_office_10</th>\n",
       "      <th>amount_10_in_state</th>\n",
       "      <th>amount_10_out_of_state</th>\n",
       "      <th>amount_10_unknown</th>\n",
       "      <th>pct_10_in_state</th>\n",
       "      <th>pct_10_out_of_state</th>\n",
       "      <th>pct_10_unknown</th>\n",
       "    </tr>\n",
       "  </thead>\n",
       "  <tbody>\n",
       "    <tr>\n",
       "      <th>0</th>\n",
       "      <td>ABBOTT, DAVID H</td>\n",
       "      <td>IN</td>\n",
       "      <td>STATE HOUSE</td>\n",
       "      <td>26,065.00</td>\n",
       "      <td>0.00</td>\n",
       "      <td>0.00</td>\n",
       "      <td>1.00</td>\n",
       "      <td>0.00</td>\n",
       "      <td>0.00</td>\n",
       "      <td>NaN</td>\n",
       "      <td>nan</td>\n",
       "      <td>nan</td>\n",
       "      <td>nan</td>\n",
       "      <td>nan</td>\n",
       "      <td>nan</td>\n",
       "      <td>nan</td>\n",
       "      <td>NaN</td>\n",
       "      <td>nan</td>\n",
       "      <td>nan</td>\n",
       "      <td>nan</td>\n",
       "      <td>nan</td>\n",
       "      <td>nan</td>\n",
       "      <td>nan</td>\n",
       "    </tr>\n",
       "    <tr>\n",
       "      <th>1</th>\n",
       "      <td>ABBOTT, GHERT</td>\n",
       "      <td>AK</td>\n",
       "      <td>STATE HOUSE</td>\n",
       "      <td>45.90</td>\n",
       "      <td>0.00</td>\n",
       "      <td>0.00</td>\n",
       "      <td>1.00</td>\n",
       "      <td>0.00</td>\n",
       "      <td>0.00</td>\n",
       "      <td>NaN</td>\n",
       "      <td>nan</td>\n",
       "      <td>nan</td>\n",
       "      <td>nan</td>\n",
       "      <td>nan</td>\n",
       "      <td>nan</td>\n",
       "      <td>nan</td>\n",
       "      <td>NaN</td>\n",
       "      <td>nan</td>\n",
       "      <td>nan</td>\n",
       "      <td>nan</td>\n",
       "      <td>nan</td>\n",
       "      <td>nan</td>\n",
       "      <td>nan</td>\n",
       "    </tr>\n",
       "    <tr>\n",
       "      <th>2</th>\n",
       "      <td>ABBOTT, GREG</td>\n",
       "      <td>TX</td>\n",
       "      <td>GOVERNOR/LIEUTENANT GOVERNOR</td>\n",
       "      <td>61,189,628.95</td>\n",
       "      <td>4,590,344.58</td>\n",
       "      <td>1,020.00</td>\n",
       "      <td>0.93</td>\n",
       "      <td>0.07</td>\n",
       "      <td>0.00</td>\n",
       "      <td>GOVERNOR/LIEUTENANT GOVERNOR</td>\n",
       "      <td>22,988,410.36</td>\n",
       "      <td>1,488,413.64</td>\n",
       "      <td>4,791,017.12</td>\n",
       "      <td>0.79</td>\n",
       "      <td>0.05</td>\n",
       "      <td>0.16</td>\n",
       "      <td>ATTORNEY GENERAL</td>\n",
       "      <td>7,447,937.18</td>\n",
       "      <td>570,824.87</td>\n",
       "      <td>0.00</td>\n",
       "      <td>0.93</td>\n",
       "      <td>0.07</td>\n",
       "      <td>0.00</td>\n",
       "    </tr>\n",
       "    <tr>\n",
       "      <th>3</th>\n",
       "      <td>ABDUL-RAHIM, ANEES</td>\n",
       "      <td>MD</td>\n",
       "      <td>STATE HOUSE</td>\n",
       "      <td>8,841.07</td>\n",
       "      <td>0.00</td>\n",
       "      <td>0.00</td>\n",
       "      <td>1.00</td>\n",
       "      <td>0.00</td>\n",
       "      <td>0.00</td>\n",
       "      <td>NaN</td>\n",
       "      <td>nan</td>\n",
       "      <td>nan</td>\n",
       "      <td>nan</td>\n",
       "      <td>nan</td>\n",
       "      <td>nan</td>\n",
       "      <td>nan</td>\n",
       "      <td>NaN</td>\n",
       "      <td>nan</td>\n",
       "      <td>nan</td>\n",
       "      <td>nan</td>\n",
       "      <td>nan</td>\n",
       "      <td>nan</td>\n",
       "      <td>nan</td>\n",
       "    </tr>\n",
       "    <tr>\n",
       "      <th>4</th>\n",
       "      <td>ABERCROMBIE, CATHERINE F</td>\n",
       "      <td>CT</td>\n",
       "      <td>STATE HOUSE</td>\n",
       "      <td>550.00</td>\n",
       "      <td>0.00</td>\n",
       "      <td>0.00</td>\n",
       "      <td>1.00</td>\n",
       "      <td>0.00</td>\n",
       "      <td>0.00</td>\n",
       "      <td>STATE HOUSE</td>\n",
       "      <td>4,625.00</td>\n",
       "      <td>0.00</td>\n",
       "      <td>20.00</td>\n",
       "      <td>1.00</td>\n",
       "      <td>0.00</td>\n",
       "      <td>0.00</td>\n",
       "      <td>NaN</td>\n",
       "      <td>nan</td>\n",
       "      <td>nan</td>\n",
       "      <td>nan</td>\n",
       "      <td>nan</td>\n",
       "      <td>nan</td>\n",
       "      <td>nan</td>\n",
       "    </tr>\n",
       "  </tbody>\n",
       "</table>\n",
       "</div>"
      ],
      "text/plain": [
       "                  candidate state        standardized_office_18  \\\n",
       "0           ABBOTT, DAVID H    IN                   STATE HOUSE   \n",
       "1             ABBOTT, GHERT    AK                   STATE HOUSE   \n",
       "2              ABBOTT, GREG    TX  GOVERNOR/LIEUTENANT GOVERNOR   \n",
       "3        ABDUL-RAHIM, ANEES    MD                   STATE HOUSE   \n",
       "4  ABERCROMBIE, CATHERINE F    CT                   STATE HOUSE   \n",
       "\n",
       "   amount_18_in_state  amount_18_out_of_state  amount_18_unknown  \\\n",
       "0           26,065.00                    0.00               0.00   \n",
       "1               45.90                    0.00               0.00   \n",
       "2       61,189,628.95            4,590,344.58           1,020.00   \n",
       "3            8,841.07                    0.00               0.00   \n",
       "4              550.00                    0.00               0.00   \n",
       "\n",
       "   pct_18_in_state  pct_18_out_of_state  pct_18_unknown  \\\n",
       "0             1.00                 0.00            0.00   \n",
       "1             1.00                 0.00            0.00   \n",
       "2             0.93                 0.07            0.00   \n",
       "3             1.00                 0.00            0.00   \n",
       "4             1.00                 0.00            0.00   \n",
       "\n",
       "         standardized_office_14  amount_14_in_state  amount_14_out_of_state  \\\n",
       "0                           NaN                 nan                     nan   \n",
       "1                           NaN                 nan                     nan   \n",
       "2  GOVERNOR/LIEUTENANT GOVERNOR       22,988,410.36            1,488,413.64   \n",
       "3                           NaN                 nan                     nan   \n",
       "4                   STATE HOUSE            4,625.00                    0.00   \n",
       "\n",
       "   amount_14_unknown  pct_14_in_state  pct_14_out_of_state  pct_14_unknown  \\\n",
       "0                nan              nan                  nan             nan   \n",
       "1                nan              nan                  nan             nan   \n",
       "2       4,791,017.12             0.79                 0.05            0.16   \n",
       "3                nan              nan                  nan             nan   \n",
       "4              20.00             1.00                 0.00            0.00   \n",
       "\n",
       "  standardized_office_10  amount_10_in_state  amount_10_out_of_state  \\\n",
       "0                    NaN                 nan                     nan   \n",
       "1                    NaN                 nan                     nan   \n",
       "2       ATTORNEY GENERAL        7,447,937.18              570,824.87   \n",
       "3                    NaN                 nan                     nan   \n",
       "4                    NaN                 nan                     nan   \n",
       "\n",
       "   amount_10_unknown  pct_10_in_state  pct_10_out_of_state  pct_10_unknown  \n",
       "0                nan              nan                  nan             nan  \n",
       "1                nan              nan                  nan             nan  \n",
       "2               0.00             0.93                 0.07            0.00  \n",
       "3                nan              nan                  nan             nan  \n",
       "4                nan              nan                  nan             nan  "
      ]
     },
     "execution_count": 38,
     "metadata": {},
     "output_type": "execute_result"
    }
   ],
   "source": [
    "list_of_contributions_by_candidate = [contributions_by_candidate_18, contributions_by_candidate_14, contributions_by_candidate_10]\n",
    "contributions_by_candidate = reduce(lambda left, right: pd.merge(left, right, on=[\"candidate\", \"state\"], how=\"outer\"), list_of_contributions_by_candidate)\n",
    "contributions_by_candidate.drop([\"year_x\", \"year_y\", \"year\"], axis=1, inplace=True)\n",
    "contributions_by_candidate.head()"
   ]
  },
  {
   "cell_type": "markdown",
   "metadata": {
    "collapsed": true
   },
   "source": [
    "Export the data to Excel."
   ]
  },
  {
   "cell_type": "code",
   "execution_count": 39,
   "metadata": {
    "collapsed": true
   },
   "outputs": [],
   "source": [
    "contributions_by_candidate.to_excel(\"data/analyzed/contributions_by_candidate.xlsx\", index=False)"
   ]
  },
  {
   "cell_type": "code",
   "execution_count": null,
   "metadata": {
    "collapsed": true
   },
   "outputs": [],
   "source": []
  },
  {
   "cell_type": "code",
   "execution_count": null,
   "metadata": {
    "collapsed": true
   },
   "outputs": [],
   "source": []
  },
  {
   "cell_type": "code",
   "execution_count": null,
   "metadata": {
    "collapsed": true
   },
   "outputs": [],
   "source": []
  },
  {
   "cell_type": "code",
   "execution_count": null,
   "metadata": {
    "collapsed": true
   },
   "outputs": [],
   "source": []
  },
  {
   "cell_type": "code",
   "execution_count": null,
   "metadata": {
    "collapsed": true
   },
   "outputs": [],
   "source": []
  },
  {
   "cell_type": "code",
   "execution_count": null,
   "metadata": {
    "collapsed": true
   },
   "outputs": [],
   "source": []
  }
 ],
 "metadata": {
  "kernelspec": {
   "display_name": "Python 3",
   "language": "python",
   "name": "python3"
  },
  "language_info": {
   "codemirror_mode": {
    "name": "ipython",
    "version": 3
   },
   "file_extension": ".py",
   "mimetype": "text/x-python",
   "name": "python",
   "nbconvert_exporter": "python",
   "pygments_lexer": "ipython3",
   "version": "3.6.3"
  }
 },
 "nbformat": 4,
 "nbformat_minor": 2
}
