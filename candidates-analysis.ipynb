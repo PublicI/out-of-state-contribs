{
 "cells": [
  {
   "cell_type": "markdown",
   "metadata": {},
   "source": [
    "# Out-of-State-Contributions: Candidates Analysis"
   ]
  },
  {
   "cell_type": "markdown",
   "metadata": {},
   "source": [
    "How much out-of-state money are candidates raising in the 2018 election cycle, in absolute and proportional terms, thus far and how does that compare with this point in the 2014 and 2010 cycles?"
   ]
  },
  {
   "cell_type": "code",
   "execution_count": 1,
   "metadata": {},
   "outputs": [],
   "source": [
    "from functools import reduce\n",
    "import numpy as np\n",
    "import pandas as pd\n",
    "\n",
    "pd.set_option(\"display.max_columns\", 100)\n",
    "pd.set_option(\"display.max_rows\", 500)\n",
    "pd.options.display.float_format = \"{:,.2f}\".format # Format floats"
   ]
  },
  {
   "cell_type": "markdown",
   "metadata": {},
   "source": [
    "Import contributions data."
   ]
  },
  {
   "cell_type": "code",
   "execution_count": 2,
   "metadata": {
    "scrolled": true
   },
   "outputs": [
    {
     "name": "stderr",
     "output_type": "stream",
     "text": [
      "/home/jyerardi/anaconda3/lib/python3.6/site-packages/IPython/core/interactiveshell.py:2698: DtypeWarning: Columns (14,17,18,19,22) have mixed types. Specify dtype option on import or set low_memory=False.\n",
      "  interactivity=interactivity, compiler=compiler, result=result)\n"
     ]
    },
    {
     "name": "stdout",
     "output_type": "stream",
     "text": [
      "<class 'pandas.core.frame.DataFrame'>\n",
      "RangeIndex: 6947770 entries, 0 to 6947769\n",
      "Data columns (total 23 columns):\n",
      "candidate                 object\n",
      "candidate_id              int64\n",
      "year                      int64\n",
      "state                     object\n",
      "party                     object\n",
      "election_status           object\n",
      "contributor               object\n",
      "amount                    float64\n",
      "date                      object\n",
      "contributor_street        object\n",
      "contributor_city          object\n",
      "contributor_state         object\n",
      "contributor_zip           float64\n",
      "in_out_state              object\n",
      "no_veto                   object\n",
      "office                    object\n",
      "last_day                  object\n",
      "redistricting_role        object\n",
      "independent_commission    object\n",
      "single_house_district     object\n",
      "standardized_office       object\n",
      "standardized_status       object\n",
      "two_year_term             object\n",
      "dtypes: float64(2), int64(2), object(19)\n",
      "memory usage: 1.2+ GB\n"
     ]
    }
   ],
   "source": [
    "contributions = pd.read_csv(\"data/contributions.csv\")\n",
    "contributions.info()"
   ]
  },
  {
   "cell_type": "markdown",
   "metadata": {},
   "source": [
    "Convert the contribution date and latest month columns to datetime data type."
   ]
  },
  {
   "cell_type": "code",
   "execution_count": 3,
   "metadata": {
    "scrolled": true
   },
   "outputs": [
    {
     "name": "stdout",
     "output_type": "stream",
     "text": [
      "<class 'pandas.core.frame.DataFrame'>\n",
      "RangeIndex: 6947770 entries, 0 to 6947769\n",
      "Data columns (total 23 columns):\n",
      "candidate                 object\n",
      "candidate_id              int64\n",
      "year                      int64\n",
      "state                     object\n",
      "party                     object\n",
      "election_status           object\n",
      "contributor               object\n",
      "amount                    float64\n",
      "date                      datetime64[ns]\n",
      "contributor_street        object\n",
      "contributor_city          object\n",
      "contributor_state         object\n",
      "contributor_zip           float64\n",
      "in_out_state              object\n",
      "no_veto                   object\n",
      "office                    object\n",
      "last_day                  datetime64[ns]\n",
      "redistricting_role        object\n",
      "independent_commission    object\n",
      "single_house_district     object\n",
      "standardized_office       object\n",
      "standardized_status       object\n",
      "two_year_term             object\n",
      "dtypes: datetime64[ns](2), float64(2), int64(2), object(17)\n",
      "memory usage: 1.2+ GB\n"
     ]
    }
   ],
   "source": [
    "contributions[\"date\"] = pd.to_datetime(contributions[\"date\"], errors=\"coerce\")\n",
    "contributions[\"last_day\"] = pd.to_datetime(contributions[\"last_day\"], errors=\"coerce\")\n",
    "contributions.info()"
   ]
  },
  {
   "cell_type": "markdown",
   "metadata": {},
   "source": [
    "## Calculate out-of-state contributions by candidate"
   ]
  },
  {
   "cell_type": "markdown",
   "metadata": {},
   "source": [
    "Filter the data by election cycle."
   ]
  },
  {
   "cell_type": "code",
   "execution_count": 4,
   "metadata": {
    "collapsed": true
   },
   "outputs": [],
   "source": [
    "contributions_18 = contributions[contributions[\"year\"] == 2018]\n",
    "contributions_14 = contributions[contributions[\"year\"] == 2014]\n",
    "contributions_10 = contributions[contributions[\"year\"] == 2010]"
   ]
  },
  {
   "cell_type": "markdown",
   "metadata": {},
   "source": [
    "Group by candidate, state, year, office status, redistricting role (for 2018 cycle data) and in-vs.-out-of-state contribution status and sum contributions."
   ]
  },
  {
   "cell_type": "code",
   "execution_count": 5,
   "metadata": {
    "collapsed": true,
    "scrolled": true
   },
   "outputs": [],
   "source": [
    "contributions_by_candidate_18 = contributions_18.groupby([\"candidate\", \"state\", \"year\", \"standardized_office\", \"standardized_status\", \"redistricting_role\", \"in_out_state\"])[\"amount\"].sum().reset_index()\n",
    "contributions_by_candidate_18.rename(columns={\"amount\": \"amount_18\"}, inplace=True)\n",
    "contributions_by_candidate_14 = contributions_14.groupby([\"candidate\", \"state\", \"year\", \"standardized_office\", \"standardized_status\", \"in_out_state\"])[\"amount\"].sum().reset_index()\n",
    "contributions_by_candidate_14.rename(columns={\"amount\": \"amount_14\"}, inplace=True)\n",
    "contributions_by_candidate_10 = contributions_10.groupby([\"candidate\", \"state\", \"year\", \"standardized_office\", \"standardized_status\", \"in_out_state\"])[\"amount\"].sum().reset_index()\n",
    "contributions_by_candidate_10.rename(columns={\"amount\": \"amount_10\"}, inplace=True)"
   ]
  },
  {
   "cell_type": "markdown",
   "metadata": {},
   "source": [
    "Pivot the dataframes to aggregate each candidate's data in a single row."
   ]
  },
  {
   "cell_type": "code",
   "execution_count": 6,
   "metadata": {
    "collapsed": true
   },
   "outputs": [],
   "source": [
    "contributions_by_candidate_18 = pd.pivot_table(contributions_by_candidate_18, index=[\"candidate\", \"state\", \"year\", \"standardized_office\", \"standardized_status\", \"redistricting_role\"], columns=[\"in_out_state\"]).reset_index()\n",
    "contributions_by_candidate_14 = pd.pivot_table(contributions_by_candidate_14, index=[\"candidate\", \"state\", \"year\", \"standardized_office\", \"standardized_status\"], columns=[\"in_out_state\"]).reset_index()\n",
    "contributions_by_candidate_10 = pd.pivot_table(contributions_by_candidate_10, index=[\"candidate\", \"state\", \"year\", \"standardized_office\", \"standardized_status\"], columns=[\"in_out_state\"]).reset_index()"
   ]
  },
  {
   "cell_type": "markdown",
   "metadata": {},
   "source": [
    "Some records have no contributions for certain categories. Let's set those values equal to zero to be sure any calculations we run on them are correct."
   ]
  },
  {
   "cell_type": "code",
   "execution_count": 7,
   "metadata": {
    "collapsed": true
   },
   "outputs": [],
   "source": [
    "contributions_by_candidate_18.fillna(0, inplace=True)\n",
    "contributions_by_candidate_14.fillna(0, inplace=True)\n",
    "contributions_by_candidate_10.fillna(0, inplace=True)"
   ]
  },
  {
   "cell_type": "markdown",
   "metadata": {},
   "source": [
    "Flatten the resulting dataframes' multi-index columns."
   ]
  },
  {
   "cell_type": "code",
   "execution_count": 8,
   "metadata": {
    "collapsed": true
   },
   "outputs": [],
   "source": [
    "contributions_by_candidate_18.columns = [\"_\".join(column).replace(\"-\",\"_\").strip(\"_\") for column in contributions_by_candidate_18.columns.values]\n",
    "contributions_by_candidate_18.rename(columns={\"standardized_office\": \"standardized_office_18\"}, inplace=True)\n",
    "contributions_by_candidate_14.columns = [\"_\".join(column).replace(\"-\",\"_\").strip(\"_\") for column in contributions_by_candidate_14.columns.values]\n",
    "contributions_by_candidate_14.rename(columns={\"standardized_office\": \"standardized_office_14\"}, inplace=True)\n",
    "contributions_by_candidate_10.columns = [\"_\".join(column).replace(\"-\",\"_\").strip(\"_\") for column in contributions_by_candidate_10.columns.values]\n",
    "contributions_by_candidate_10.rename(columns={\"standardized_office\": \"standardized_office_10\"}, inplace=True)"
   ]
  },
  {
   "cell_type": "markdown",
   "metadata": {},
   "source": [
    "Calculate the proportion of in-state, out-of-state and unknown contributions."
   ]
  },
  {
   "cell_type": "code",
   "execution_count": 9,
   "metadata": {
    "collapsed": true
   },
   "outputs": [],
   "source": [
    "contributions_by_candidate_18[\"pct_18_in_state\"] = contributions_by_candidate_18[\"amount_18_in_state\"] / (contributions_by_candidate_18[\"amount_18_in_state\"] + contributions_by_candidate_18[\"amount_18_out_of_state\"] + contributions_by_candidate_18[\"amount_18_unknown\"])\n",
    "contributions_by_candidate_18[\"pct_18_out_of_state\"] = contributions_by_candidate_18[\"amount_18_out_of_state\"] / (contributions_by_candidate_18[\"amount_18_in_state\"] + contributions_by_candidate_18[\"amount_18_out_of_state\"] + contributions_by_candidate_18[\"amount_18_unknown\"])\n",
    "contributions_by_candidate_18[\"pct_18_unknown\"] = contributions_by_candidate_18[\"amount_18_unknown\"] / (contributions_by_candidate_18[\"amount_18_in_state\"] + contributions_by_candidate_18[\"amount_18_out_of_state\"] + contributions_by_candidate_18[\"amount_18_unknown\"])\n",
    "contributions_by_candidate_14[\"pct_14_in_state\"] = contributions_by_candidate_14[\"amount_14_in_state\"] / (contributions_by_candidate_14[\"amount_14_in_state\"] + contributions_by_candidate_14[\"amount_14_out_of_state\"] + contributions_by_candidate_14[\"amount_14_unknown\"])\n",
    "contributions_by_candidate_14[\"pct_14_out_of_state\"] = contributions_by_candidate_14[\"amount_14_out_of_state\"] / (contributions_by_candidate_14[\"amount_14_in_state\"] + contributions_by_candidate_14[\"amount_14_out_of_state\"] + contributions_by_candidate_14[\"amount_14_unknown\"])\n",
    "contributions_by_candidate_14[\"pct_14_unknown\"] = contributions_by_candidate_14[\"amount_14_unknown\"] / (contributions_by_candidate_14[\"amount_14_in_state\"] + contributions_by_candidate_14[\"amount_14_out_of_state\"] + contributions_by_candidate_14[\"amount_14_unknown\"])\n",
    "contributions_by_candidate_10[\"pct_10_in_state\"] = contributions_by_candidate_10[\"amount_10_in_state\"] / (contributions_by_candidate_10[\"amount_10_in_state\"] + contributions_by_candidate_10[\"amount_10_out_of_state\"] + contributions_by_candidate_10[\"amount_10_unknown\"])\n",
    "contributions_by_candidate_10[\"pct_10_out_of_state\"] = contributions_by_candidate_10[\"amount_10_out_of_state\"] / (contributions_by_candidate_10[\"amount_10_in_state\"] + contributions_by_candidate_10[\"amount_10_out_of_state\"] + contributions_by_candidate_10[\"amount_10_unknown\"])\n",
    "contributions_by_candidate_10[\"pct_10_unknown\"] = contributions_by_candidate_10[\"amount_10_unknown\"] / (contributions_by_candidate_10[\"amount_10_in_state\"] + contributions_by_candidate_10[\"amount_10_out_of_state\"] + contributions_by_candidate_10[\"amount_10_unknown\"])"
   ]
  },
  {
   "cell_type": "markdown",
   "metadata": {},
   "source": [
    "Join the 2018, 2014 and 2010 contributions by candidate data"
   ]
  },
  {
   "cell_type": "code",
   "execution_count": 10,
   "metadata": {
    "scrolled": false
   },
   "outputs": [
    {
     "data": {
      "text/html": [
       "<div>\n",
       "<style scoped>\n",
       "    .dataframe tbody tr th:only-of-type {\n",
       "        vertical-align: middle;\n",
       "    }\n",
       "\n",
       "    .dataframe tbody tr th {\n",
       "        vertical-align: top;\n",
       "    }\n",
       "\n",
       "    .dataframe thead th {\n",
       "        text-align: right;\n",
       "    }\n",
       "</style>\n",
       "<table border=\"1\" class=\"dataframe\">\n",
       "  <thead>\n",
       "    <tr style=\"text-align: right;\">\n",
       "      <th></th>\n",
       "      <th>candidate</th>\n",
       "      <th>state</th>\n",
       "      <th>standardized_office_18</th>\n",
       "      <th>standardized_status_18</th>\n",
       "      <th>redistricting_role</th>\n",
       "      <th>amount_18_in_state</th>\n",
       "      <th>amount_18_out_of_state</th>\n",
       "      <th>amount_18_unknown</th>\n",
       "      <th>pct_18_in_state</th>\n",
       "      <th>pct_18_out_of_state</th>\n",
       "      <th>pct_18_unknown</th>\n",
       "      <th>standardized_office_14</th>\n",
       "      <th>standardized_status_14</th>\n",
       "      <th>amount_14_in_state</th>\n",
       "      <th>amount_14_out_of_state</th>\n",
       "      <th>amount_14_unknown</th>\n",
       "      <th>pct_14_in_state</th>\n",
       "      <th>pct_14_out_of_state</th>\n",
       "      <th>pct_14_unknown</th>\n",
       "      <th>standardized_office_10</th>\n",
       "      <th>standardized_status</th>\n",
       "      <th>amount_10_in_state</th>\n",
       "      <th>amount_10_out_of_state</th>\n",
       "      <th>amount_10_unknown</th>\n",
       "      <th>pct_10_in_state</th>\n",
       "      <th>pct_10_out_of_state</th>\n",
       "      <th>pct_10_unknown</th>\n",
       "      <th>amount_18_total</th>\n",
       "      <th>amount_14_total</th>\n",
       "      <th>amount_10_total</th>\n",
       "    </tr>\n",
       "  </thead>\n",
       "  <tbody>\n",
       "    <tr>\n",
       "      <th>0</th>\n",
       "      <td>ABBATE, PETER</td>\n",
       "      <td>NY</td>\n",
       "      <td>STATE HOUSE/ASSEMBLY/SENATE</td>\n",
       "      <td>ADVANCED TO GENERAL</td>\n",
       "      <td>N</td>\n",
       "      <td>183,575.00</td>\n",
       "      <td>18,350.00</td>\n",
       "      <td>31,925.00</td>\n",
       "      <td>0.79</td>\n",
       "      <td>0.08</td>\n",
       "      <td>0.14</td>\n",
       "      <td>NaN</td>\n",
       "      <td>NaN</td>\n",
       "      <td>nan</td>\n",
       "      <td>nan</td>\n",
       "      <td>nan</td>\n",
       "      <td>nan</td>\n",
       "      <td>nan</td>\n",
       "      <td>nan</td>\n",
       "      <td>NaN</td>\n",
       "      <td>NaN</td>\n",
       "      <td>nan</td>\n",
       "      <td>nan</td>\n",
       "      <td>nan</td>\n",
       "      <td>nan</td>\n",
       "      <td>nan</td>\n",
       "      <td>nan</td>\n",
       "      <td>233,850.00</td>\n",
       "      <td>nan</td>\n",
       "      <td>nan</td>\n",
       "    </tr>\n",
       "    <tr>\n",
       "      <th>1</th>\n",
       "      <td>ABBOTT, DAVID H</td>\n",
       "      <td>IN</td>\n",
       "      <td>STATE HOUSE/ASSEMBLY/SENATE</td>\n",
       "      <td>ADVANCED TO GENERAL</td>\n",
       "      <td>Y</td>\n",
       "      <td>26,065.00</td>\n",
       "      <td>0.00</td>\n",
       "      <td>0.00</td>\n",
       "      <td>1.00</td>\n",
       "      <td>0.00</td>\n",
       "      <td>0.00</td>\n",
       "      <td>NaN</td>\n",
       "      <td>NaN</td>\n",
       "      <td>nan</td>\n",
       "      <td>nan</td>\n",
       "      <td>nan</td>\n",
       "      <td>nan</td>\n",
       "      <td>nan</td>\n",
       "      <td>nan</td>\n",
       "      <td>NaN</td>\n",
       "      <td>NaN</td>\n",
       "      <td>nan</td>\n",
       "      <td>nan</td>\n",
       "      <td>nan</td>\n",
       "      <td>nan</td>\n",
       "      <td>nan</td>\n",
       "      <td>nan</td>\n",
       "      <td>26,065.00</td>\n",
       "      <td>nan</td>\n",
       "      <td>nan</td>\n",
       "    </tr>\n",
       "    <tr>\n",
       "      <th>2</th>\n",
       "      <td>ABBOTT, GREG</td>\n",
       "      <td>TX</td>\n",
       "      <td>GOVERNOR/LIEUTENANT GOVERNOR</td>\n",
       "      <td>ADVANCED TO GENERAL</td>\n",
       "      <td>Y</td>\n",
       "      <td>61,189,628.95</td>\n",
       "      <td>4,590,344.58</td>\n",
       "      <td>1,020.00</td>\n",
       "      <td>0.93</td>\n",
       "      <td>0.07</td>\n",
       "      <td>0.00</td>\n",
       "      <td>GOVERNOR/LIEUTENANT GOVERNOR</td>\n",
       "      <td>ADVANCED TO GENERAL</td>\n",
       "      <td>23,579,018.32</td>\n",
       "      <td>1,526,043.75</td>\n",
       "      <td>4,791,017.12</td>\n",
       "      <td>0.79</td>\n",
       "      <td>0.05</td>\n",
       "      <td>0.16</td>\n",
       "      <td>NaN</td>\n",
       "      <td>NaN</td>\n",
       "      <td>nan</td>\n",
       "      <td>nan</td>\n",
       "      <td>nan</td>\n",
       "      <td>nan</td>\n",
       "      <td>nan</td>\n",
       "      <td>nan</td>\n",
       "      <td>65,780,993.53</td>\n",
       "      <td>29,896,079.19</td>\n",
       "      <td>nan</td>\n",
       "    </tr>\n",
       "    <tr>\n",
       "      <th>3</th>\n",
       "      <td>ABDUL-RAHIM, ANEES</td>\n",
       "      <td>MD</td>\n",
       "      <td>STATE HOUSE/ASSEMBLY/SENATE</td>\n",
       "      <td>DID NOT ADVANCE</td>\n",
       "      <td>Y</td>\n",
       "      <td>3,165.00</td>\n",
       "      <td>0.00</td>\n",
       "      <td>0.00</td>\n",
       "      <td>1.00</td>\n",
       "      <td>0.00</td>\n",
       "      <td>0.00</td>\n",
       "      <td>NaN</td>\n",
       "      <td>NaN</td>\n",
       "      <td>nan</td>\n",
       "      <td>nan</td>\n",
       "      <td>nan</td>\n",
       "      <td>nan</td>\n",
       "      <td>nan</td>\n",
       "      <td>nan</td>\n",
       "      <td>NaN</td>\n",
       "      <td>NaN</td>\n",
       "      <td>nan</td>\n",
       "      <td>nan</td>\n",
       "      <td>nan</td>\n",
       "      <td>nan</td>\n",
       "      <td>nan</td>\n",
       "      <td>nan</td>\n",
       "      <td>3,165.00</td>\n",
       "      <td>nan</td>\n",
       "      <td>nan</td>\n",
       "    </tr>\n",
       "    <tr>\n",
       "      <th>4</th>\n",
       "      <td>ABERCROMBIE, CATHERINE F</td>\n",
       "      <td>CT</td>\n",
       "      <td>STATE HOUSE/ASSEMBLY/SENATE</td>\n",
       "      <td>ADVANCED TO GENERAL</td>\n",
       "      <td>N</td>\n",
       "      <td>2,485.00</td>\n",
       "      <td>0.00</td>\n",
       "      <td>0.00</td>\n",
       "      <td>1.00</td>\n",
       "      <td>0.00</td>\n",
       "      <td>0.00</td>\n",
       "      <td>STATE HOUSE/ASSEMBLY/SENATE</td>\n",
       "      <td>ADVANCED TO GENERAL</td>\n",
       "      <td>5,130.06</td>\n",
       "      <td>7.00</td>\n",
       "      <td>20.00</td>\n",
       "      <td>0.99</td>\n",
       "      <td>0.00</td>\n",
       "      <td>0.00</td>\n",
       "      <td>NaN</td>\n",
       "      <td>NaN</td>\n",
       "      <td>nan</td>\n",
       "      <td>nan</td>\n",
       "      <td>nan</td>\n",
       "      <td>nan</td>\n",
       "      <td>nan</td>\n",
       "      <td>nan</td>\n",
       "      <td>2,485.00</td>\n",
       "      <td>5,157.06</td>\n",
       "      <td>nan</td>\n",
       "    </tr>\n",
       "  </tbody>\n",
       "</table>\n",
       "</div>"
      ],
      "text/plain": [
       "                  candidate state        standardized_office_18  \\\n",
       "0             ABBATE, PETER    NY   STATE HOUSE/ASSEMBLY/SENATE   \n",
       "1           ABBOTT, DAVID H    IN   STATE HOUSE/ASSEMBLY/SENATE   \n",
       "2              ABBOTT, GREG    TX  GOVERNOR/LIEUTENANT GOVERNOR   \n",
       "3        ABDUL-RAHIM, ANEES    MD   STATE HOUSE/ASSEMBLY/SENATE   \n",
       "4  ABERCROMBIE, CATHERINE F    CT   STATE HOUSE/ASSEMBLY/SENATE   \n",
       "\n",
       "  standardized_status_18 redistricting_role  amount_18_in_state  \\\n",
       "0    ADVANCED TO GENERAL                  N          183,575.00   \n",
       "1    ADVANCED TO GENERAL                  Y           26,065.00   \n",
       "2    ADVANCED TO GENERAL                  Y       61,189,628.95   \n",
       "3        DID NOT ADVANCE                  Y            3,165.00   \n",
       "4    ADVANCED TO GENERAL                  N            2,485.00   \n",
       "\n",
       "   amount_18_out_of_state  amount_18_unknown  pct_18_in_state  \\\n",
       "0               18,350.00          31,925.00             0.79   \n",
       "1                    0.00               0.00             1.00   \n",
       "2            4,590,344.58           1,020.00             0.93   \n",
       "3                    0.00               0.00             1.00   \n",
       "4                    0.00               0.00             1.00   \n",
       "\n",
       "   pct_18_out_of_state  pct_18_unknown        standardized_office_14  \\\n",
       "0                 0.08            0.14                           NaN   \n",
       "1                 0.00            0.00                           NaN   \n",
       "2                 0.07            0.00  GOVERNOR/LIEUTENANT GOVERNOR   \n",
       "3                 0.00            0.00                           NaN   \n",
       "4                 0.00            0.00   STATE HOUSE/ASSEMBLY/SENATE   \n",
       "\n",
       "  standardized_status_14  amount_14_in_state  amount_14_out_of_state  \\\n",
       "0                    NaN                 nan                     nan   \n",
       "1                    NaN                 nan                     nan   \n",
       "2    ADVANCED TO GENERAL       23,579,018.32            1,526,043.75   \n",
       "3                    NaN                 nan                     nan   \n",
       "4    ADVANCED TO GENERAL            5,130.06                    7.00   \n",
       "\n",
       "   amount_14_unknown  pct_14_in_state  pct_14_out_of_state  pct_14_unknown  \\\n",
       "0                nan              nan                  nan             nan   \n",
       "1                nan              nan                  nan             nan   \n",
       "2       4,791,017.12             0.79                 0.05            0.16   \n",
       "3                nan              nan                  nan             nan   \n",
       "4              20.00             0.99                 0.00            0.00   \n",
       "\n",
       "  standardized_office_10 standardized_status  amount_10_in_state  \\\n",
       "0                    NaN                 NaN                 nan   \n",
       "1                    NaN                 NaN                 nan   \n",
       "2                    NaN                 NaN                 nan   \n",
       "3                    NaN                 NaN                 nan   \n",
       "4                    NaN                 NaN                 nan   \n",
       "\n",
       "   amount_10_out_of_state  amount_10_unknown  pct_10_in_state  \\\n",
       "0                     nan                nan              nan   \n",
       "1                     nan                nan              nan   \n",
       "2                     nan                nan              nan   \n",
       "3                     nan                nan              nan   \n",
       "4                     nan                nan              nan   \n",
       "\n",
       "   pct_10_out_of_state  pct_10_unknown  amount_18_total  amount_14_total  \\\n",
       "0                  nan             nan       233,850.00              nan   \n",
       "1                  nan             nan        26,065.00              nan   \n",
       "2                  nan             nan    65,780,993.53    29,896,079.19   \n",
       "3                  nan             nan         3,165.00              nan   \n",
       "4                  nan             nan         2,485.00         5,157.06   \n",
       "\n",
       "   amount_10_total  \n",
       "0              nan  \n",
       "1              nan  \n",
       "2              nan  \n",
       "3              nan  \n",
       "4              nan  "
      ]
     },
     "execution_count": 10,
     "metadata": {},
     "output_type": "execute_result"
    }
   ],
   "source": [
    "list_of_contributions_by_candidate = [contributions_by_candidate_18, contributions_by_candidate_14, contributions_by_candidate_10]\n",
    "contributions_by_candidate = reduce(lambda left, right: pd.merge(left, right, on=[\"candidate\", \"state\"], how=\"outer\"), list_of_contributions_by_candidate)\n",
    "contributions_by_candidate.drop([\"year_x\", \"year_y\", \"year\"], axis=1, inplace=True)\n",
    "contributions_by_candidate.rename(columns={\"standardized_status_x\": \"standardized_status_18\", \"standardized_status_y\": \"standardized_status_14\"}, inplace=True)\n",
    "contributions_by_candidate[\"amount_18_total\"] = contributions_by_candidate[\"amount_18_in_state\"] + contributions_by_candidate[\"amount_18_out_of_state\"] + contributions_by_candidate[\"amount_18_unknown\"]\n",
    "contributions_by_candidate[\"amount_14_total\"] = contributions_by_candidate[\"amount_14_in_state\"] + contributions_by_candidate[\"amount_14_out_of_state\"] + contributions_by_candidate[\"amount_14_unknown\"]\n",
    "contributions_by_candidate[\"amount_10_total\"] = contributions_by_candidate[\"amount_10_in_state\"] = contributions_by_candidate[\"amount_10_out_of_state\"] + contributions_by_candidate[\"amount_10_unknown\"]\n",
    "contributions_by_candidate.head()"
   ]
  },
  {
   "cell_type": "markdown",
   "metadata": {},
   "source": [
    "## Calculate the average contributions to 2018 state legislative candidates and the average proportion of out-of-state contributions to them"
   ]
  },
  {
   "cell_type": "markdown",
   "metadata": {},
   "source": [
    "Filter the data to just candidates running for state house or senate in 2018."
   ]
  },
  {
   "cell_type": "code",
   "execution_count": 11,
   "metadata": {
    "scrolled": true
   },
   "outputs": [
    {
     "name": "stdout",
     "output_type": "stream",
     "text": [
      "<class 'pandas.core.frame.DataFrame'>\n",
      "Int64Index: 8614 entries, 0 to 8947\n",
      "Data columns (total 30 columns):\n",
      "candidate                 8614 non-null object\n",
      "state                     8614 non-null object\n",
      "standardized_office_18    8614 non-null object\n",
      "standardized_status_18    8614 non-null object\n",
      "redistricting_role        8614 non-null object\n",
      "amount_18_in_state        8614 non-null float64\n",
      "amount_18_out_of_state    8614 non-null float64\n",
      "amount_18_unknown         8614 non-null float64\n",
      "pct_18_in_state           8614 non-null float64\n",
      "pct_18_out_of_state       8614 non-null float64\n",
      "pct_18_unknown            8614 non-null float64\n",
      "standardized_office_14    2834 non-null object\n",
      "standardized_status_14    2834 non-null object\n",
      "amount_14_in_state        2834 non-null float64\n",
      "amount_14_out_of_state    2834 non-null float64\n",
      "amount_14_unknown         2834 non-null float64\n",
      "pct_14_in_state           2834 non-null float64\n",
      "pct_14_out_of_state       2834 non-null float64\n",
      "pct_14_unknown            2834 non-null float64\n",
      "standardized_office_10    1560 non-null object\n",
      "standardized_status       1560 non-null object\n",
      "amount_10_in_state        1560 non-null float64\n",
      "amount_10_out_of_state    1560 non-null float64\n",
      "amount_10_unknown         1560 non-null float64\n",
      "pct_10_in_state           1560 non-null float64\n",
      "pct_10_out_of_state       1560 non-null float64\n",
      "pct_10_unknown            1560 non-null float64\n",
      "amount_18_total           8614 non-null float64\n",
      "amount_14_total           2834 non-null float64\n",
      "amount_10_total           1560 non-null float64\n",
      "dtypes: float64(21), object(9)\n",
      "memory usage: 2.0+ MB\n"
     ]
    }
   ],
   "source": [
    "legislative_candidates = contributions_by_candidate[contributions_by_candidate[\"standardized_office_18\"] == \"STATE HOUSE/ASSEMBLY/SENATE\"]\n",
    "legislative_candidates.info()"
   ]
  },
  {
   "cell_type": "markdown",
   "metadata": {},
   "source": [
    "Calculate the mean total contributions."
   ]
  },
  {
   "cell_type": "code",
   "execution_count": 12,
   "metadata": {},
   "outputs": [
    {
     "data": {
      "text/plain": [
       "72349.1902333409"
      ]
     },
     "execution_count": 12,
     "metadata": {},
     "output_type": "execute_result"
    }
   ],
   "source": [
    "legislative_candidates[\"amount_18_total\"].mean()"
   ]
  },
  {
   "cell_type": "markdown",
   "metadata": {},
   "source": [
    "Calculate the mean out-of-state contributions."
   ]
  },
  {
   "cell_type": "code",
   "execution_count": 13,
   "metadata": {},
   "outputs": [
    {
     "data": {
      "text/plain": [
       "8233.98652426283"
      ]
     },
     "execution_count": 13,
     "metadata": {},
     "output_type": "execute_result"
    }
   ],
   "source": [
    "legislative_candidates[\"amount_18_out_of_state\"].mean()"
   ]
  },
  {
   "cell_type": "markdown",
   "metadata": {},
   "source": [
    "Calculate the average proportion of out-of-state contributions."
   ]
  },
  {
   "cell_type": "code",
   "execution_count": 14,
   "metadata": {},
   "outputs": [
    {
     "data": {
      "text/plain": [
       "0.1138089659014364"
      ]
     },
     "execution_count": 14,
     "metadata": {},
     "output_type": "execute_result"
    }
   ],
   "source": [
    "legislative_candidates[\"amount_18_out_of_state\"].mean() / legislative_candidates[\"amount_18_total\"].mean()"
   ]
  },
  {
   "cell_type": "markdown",
   "metadata": {},
   "source": [
    "## Calculate 2018 out-of-state contributions for New Mexico's Jimmie Hall and Melanie Stansbury."
   ]
  },
  {
   "cell_type": "markdown",
   "metadata": {},
   "source": [
    "Filter the data to return contributions to Jimmie Hall and Melanie Stansbury in the 2018 cycle."
   ]
  },
  {
   "cell_type": "code",
   "execution_count": 15,
   "metadata": {
    "collapsed": true
   },
   "outputs": [],
   "source": [
    "hall_contributions = contributions[(contributions[\"candidate_id\"] == 240408) & (contributions[\"year\"] == 2018)]\n",
    "stansbury_contributions = contributions[(contributions[\"candidate_id\"] == 240407) & (contributions[\"year\"] == 2018)]"
   ]
  },
  {
   "cell_type": "code",
   "execution_count": 16,
   "metadata": {},
   "outputs": [
    {
     "data": {
      "text/plain": [
       "in_out_state\n",
       "in-state       18,965.00\n",
       "out-of-state   15,250.00\n",
       "Name: amount, dtype: float64"
      ]
     },
     "execution_count": 16,
     "metadata": {},
     "output_type": "execute_result"
    }
   ],
   "source": [
    "hall_contributions.groupby(\"in_out_state\")[\"amount\"].sum()"
   ]
  },
  {
   "cell_type": "code",
   "execution_count": 17,
   "metadata": {},
   "outputs": [
    {
     "data": {
      "text/plain": [
       "in_out_state\n",
       "in-state       52,858.85\n",
       "out-of-state   32,776.76\n",
       "unknown           185.00\n",
       "Name: amount, dtype: float64"
      ]
     },
     "execution_count": 17,
     "metadata": {},
     "output_type": "execute_result"
    }
   ],
   "source": [
    "stansbury_contributions.groupby(\"in_out_state\")[\"amount\"].sum()"
   ]
  },
  {
   "cell_type": "markdown",
   "metadata": {},
   "source": [
    "## Calculate the top contributors to the 2018 campaign of Wisconsin's Scott Walker."
   ]
  },
  {
   "cell_type": "markdown",
   "metadata": {},
   "source": [
    "And how many people maxed out at the $20,000 level?"
   ]
  },
  {
   "cell_type": "code",
   "execution_count": 18,
   "metadata": {},
   "outputs": [
    {
     "data": {
      "text/html": [
       "<div>\n",
       "<style scoped>\n",
       "    .dataframe tbody tr th:only-of-type {\n",
       "        vertical-align: middle;\n",
       "    }\n",
       "\n",
       "    .dataframe tbody tr th {\n",
       "        vertical-align: top;\n",
       "    }\n",
       "\n",
       "    .dataframe thead th {\n",
       "        text-align: right;\n",
       "    }\n",
       "</style>\n",
       "<table border=\"1\" class=\"dataframe\">\n",
       "  <thead>\n",
       "    <tr style=\"text-align: right;\">\n",
       "      <th></th>\n",
       "      <th>contributor</th>\n",
       "      <th>in_out_state</th>\n",
       "      <th>amount</th>\n",
       "    </tr>\n",
       "  </thead>\n",
       "  <tbody>\n",
       "    <tr>\n",
       "      <th>0</th>\n",
       "      <td>ROBERTS, TIMOTHY J</td>\n",
       "      <td>out-of-state</td>\n",
       "      <td>25,000.00</td>\n",
       "    </tr>\n",
       "    <tr>\n",
       "      <th>1</th>\n",
       "      <td>GROSS, DIETRICH M</td>\n",
       "      <td>out-of-state</td>\n",
       "      <td>22,500.00</td>\n",
       "    </tr>\n",
       "    <tr>\n",
       "      <th>2</th>\n",
       "      <td>MOROUN, LINDSAY S</td>\n",
       "      <td>out-of-state</td>\n",
       "      <td>20,000.00</td>\n",
       "    </tr>\n",
       "    <tr>\n",
       "      <th>3</th>\n",
       "      <td>HERZOG, STANLEY M (STAN)</td>\n",
       "      <td>out-of-state</td>\n",
       "      <td>20,000.00</td>\n",
       "    </tr>\n",
       "    <tr>\n",
       "      <th>4</th>\n",
       "      <td>MOROUN, MATTHEW T</td>\n",
       "      <td>out-of-state</td>\n",
       "      <td>20,000.00</td>\n",
       "    </tr>\n",
       "    <tr>\n",
       "      <th>5</th>\n",
       "      <td>MURRAY, ROBERT EUGENE (BOB)</td>\n",
       "      <td>out-of-state</td>\n",
       "      <td>20,000.00</td>\n",
       "    </tr>\n",
       "    <tr>\n",
       "      <th>6</th>\n",
       "      <td>DARROW, SUSAN J (SUE)</td>\n",
       "      <td>out-of-state</td>\n",
       "      <td>20,000.00</td>\n",
       "    </tr>\n",
       "    <tr>\n",
       "      <th>7</th>\n",
       "      <td>CRAFT, JOE W</td>\n",
       "      <td>out-of-state</td>\n",
       "      <td>20,000.00</td>\n",
       "    </tr>\n",
       "    <tr>\n",
       "      <th>8</th>\n",
       "      <td>HERTOG, ROGER</td>\n",
       "      <td>out-of-state</td>\n",
       "      <td>20,000.00</td>\n",
       "    </tr>\n",
       "    <tr>\n",
       "      <th>9</th>\n",
       "      <td>SMITH, THOMAS WILLIAM</td>\n",
       "      <td>out-of-state</td>\n",
       "      <td>20,000.00</td>\n",
       "    </tr>\n",
       "    <tr>\n",
       "      <th>10</th>\n",
       "      <td>RAUNER, BRUCE VINCENT</td>\n",
       "      <td>out-of-state</td>\n",
       "      <td>20,000.00</td>\n",
       "    </tr>\n",
       "    <tr>\n",
       "      <th>11</th>\n",
       "      <td>BUCKLEY, WALTER W</td>\n",
       "      <td>out-of-state</td>\n",
       "      <td>20,000.00</td>\n",
       "    </tr>\n",
       "    <tr>\n",
       "      <th>12</th>\n",
       "      <td>OZINGA III, MARTIN</td>\n",
       "      <td>out-of-state</td>\n",
       "      <td>20,000.00</td>\n",
       "    </tr>\n",
       "    <tr>\n",
       "      <th>13</th>\n",
       "      <td>FOLLETT, BRIAN R</td>\n",
       "      <td>out-of-state</td>\n",
       "      <td>20,000.00</td>\n",
       "    </tr>\n",
       "    <tr>\n",
       "      <th>14</th>\n",
       "      <td>GRAEBEL, LINDA</td>\n",
       "      <td>out-of-state</td>\n",
       "      <td>20,000.00</td>\n",
       "    </tr>\n",
       "    <tr>\n",
       "      <th>15</th>\n",
       "      <td>GRAEBEL, DAVID</td>\n",
       "      <td>out-of-state</td>\n",
       "      <td>20,000.00</td>\n",
       "    </tr>\n",
       "    <tr>\n",
       "      <th>16</th>\n",
       "      <td>PEROT JR, HENRY ROSS</td>\n",
       "      <td>out-of-state</td>\n",
       "      <td>20,000.00</td>\n",
       "    </tr>\n",
       "    <tr>\n",
       "      <th>17</th>\n",
       "      <td>KENDRICK JR, EARL G (KEN)</td>\n",
       "      <td>out-of-state</td>\n",
       "      <td>20,000.00</td>\n",
       "    </tr>\n",
       "    <tr>\n",
       "      <th>18</th>\n",
       "      <td>ROBERTS, DVORAH</td>\n",
       "      <td>out-of-state</td>\n",
       "      <td>20,000.00</td>\n",
       "    </tr>\n",
       "    <tr>\n",
       "      <th>19</th>\n",
       "      <td>KENDRICK, RANDY PARRIS</td>\n",
       "      <td>out-of-state</td>\n",
       "      <td>20,000.00</td>\n",
       "    </tr>\n",
       "    <tr>\n",
       "      <th>20</th>\n",
       "      <td>JOYCE, CHARLES P</td>\n",
       "      <td>out-of-state</td>\n",
       "      <td>20,000.00</td>\n",
       "    </tr>\n",
       "    <tr>\n",
       "      <th>21</th>\n",
       "      <td>CATSIMATIDIS, JOHN A</td>\n",
       "      <td>out-of-state</td>\n",
       "      <td>20,000.00</td>\n",
       "    </tr>\n",
       "    <tr>\n",
       "      <th>22</th>\n",
       "      <td>JAMES, VIRGINIA</td>\n",
       "      <td>out-of-state</td>\n",
       "      <td>20,000.00</td>\n",
       "    </tr>\n",
       "    <tr>\n",
       "      <th>23</th>\n",
       "      <td>BUNTROCK, DEAN L</td>\n",
       "      <td>out-of-state</td>\n",
       "      <td>20,000.00</td>\n",
       "    </tr>\n",
       "    <tr>\n",
       "      <th>24</th>\n",
       "      <td>GRAINGER, DAVID W</td>\n",
       "      <td>out-of-state</td>\n",
       "      <td>20,000.00</td>\n",
       "    </tr>\n",
       "    <tr>\n",
       "      <th>25</th>\n",
       "      <td>RASMUS, ROBERT E</td>\n",
       "      <td>out-of-state</td>\n",
       "      <td>20,000.00</td>\n",
       "    </tr>\n",
       "    <tr>\n",
       "      <th>26</th>\n",
       "      <td>VERSTANDIG, GRANT</td>\n",
       "      <td>out-of-state</td>\n",
       "      <td>20,000.00</td>\n",
       "    </tr>\n",
       "    <tr>\n",
       "      <th>27</th>\n",
       "      <td>SINQUEFIELD, REX A</td>\n",
       "      <td>out-of-state</td>\n",
       "      <td>20,000.00</td>\n",
       "    </tr>\n",
       "    <tr>\n",
       "      <th>28</th>\n",
       "      <td>BUNTROCK, ROSEMARIE</td>\n",
       "      <td>out-of-state</td>\n",
       "      <td>20,000.00</td>\n",
       "    </tr>\n",
       "    <tr>\n",
       "      <th>29</th>\n",
       "      <td>SHANNON, MARY SUE</td>\n",
       "      <td>out-of-state</td>\n",
       "      <td>20,000.00</td>\n",
       "    </tr>\n",
       "    <tr>\n",
       "      <th>30</th>\n",
       "      <td>SHANNON, MICHAEL SCOTT (MIKE)</td>\n",
       "      <td>out-of-state</td>\n",
       "      <td>20,000.00</td>\n",
       "    </tr>\n",
       "    <tr>\n",
       "      <th>31</th>\n",
       "      <td>OREN, DONALD G</td>\n",
       "      <td>out-of-state</td>\n",
       "      <td>20,000.00</td>\n",
       "    </tr>\n",
       "    <tr>\n",
       "      <th>32</th>\n",
       "      <td>STAYER, LAUNA</td>\n",
       "      <td>out-of-state</td>\n",
       "      <td>20,000.00</td>\n",
       "    </tr>\n",
       "    <tr>\n",
       "      <th>33</th>\n",
       "      <td>PRITZKER, JENNIFER N</td>\n",
       "      <td>out-of-state</td>\n",
       "      <td>20,000.00</td>\n",
       "    </tr>\n",
       "    <tr>\n",
       "      <th>34</th>\n",
       "      <td>LEVY JR, EDWARD C</td>\n",
       "      <td>out-of-state</td>\n",
       "      <td>20,000.00</td>\n",
       "    </tr>\n",
       "    <tr>\n",
       "      <th>35</th>\n",
       "      <td>CAMERON, RONALD M (RON)</td>\n",
       "      <td>out-of-state</td>\n",
       "      <td>20,000.00</td>\n",
       "    </tr>\n",
       "    <tr>\n",
       "      <th>36</th>\n",
       "      <td>LOEB, DANEIL S (DAN)</td>\n",
       "      <td>out-of-state</td>\n",
       "      <td>20,000.00</td>\n",
       "    </tr>\n",
       "    <tr>\n",
       "      <th>37</th>\n",
       "      <td>UIHLEIN, RICHARD ELLIS (DICK)</td>\n",
       "      <td>out-of-state</td>\n",
       "      <td>20,000.00</td>\n",
       "    </tr>\n",
       "    <tr>\n",
       "      <th>38</th>\n",
       "      <td>HUBBARD, KAREN HOLMEN</td>\n",
       "      <td>out-of-state</td>\n",
       "      <td>20,000.00</td>\n",
       "    </tr>\n",
       "    <tr>\n",
       "      <th>39</th>\n",
       "      <td>HUBBARD, STANLEY S</td>\n",
       "      <td>out-of-state</td>\n",
       "      <td>20,000.00</td>\n",
       "    </tr>\n",
       "    <tr>\n",
       "      <th>40</th>\n",
       "      <td>UIHLEIN, ELIZABETH A (LIZ)</td>\n",
       "      <td>out-of-state</td>\n",
       "      <td>20,000.00</td>\n",
       "    </tr>\n",
       "    <tr>\n",
       "      <th>41</th>\n",
       "      <td>JOHNSON, CHARLES B</td>\n",
       "      <td>out-of-state</td>\n",
       "      <td>20,000.00</td>\n",
       "    </tr>\n",
       "    <tr>\n",
       "      <th>42</th>\n",
       "      <td>FEINGOLD, JEFFERY P (JEFF)</td>\n",
       "      <td>out-of-state</td>\n",
       "      <td>20,000.00</td>\n",
       "    </tr>\n",
       "    <tr>\n",
       "      <th>43</th>\n",
       "      <td>SMITH, DIANE G</td>\n",
       "      <td>out-of-state</td>\n",
       "      <td>20,000.00</td>\n",
       "    </tr>\n",
       "    <tr>\n",
       "      <th>44</th>\n",
       "      <td>MIZEL, LAWRENCE A (LARRY)</td>\n",
       "      <td>out-of-state</td>\n",
       "      <td>20,000.00</td>\n",
       "    </tr>\n",
       "    <tr>\n",
       "      <th>45</th>\n",
       "      <td>KASTEN JR, GEORGE FREDERICK</td>\n",
       "      <td>out-of-state</td>\n",
       "      <td>20,000.00</td>\n",
       "    </tr>\n",
       "    <tr>\n",
       "      <th>46</th>\n",
       "      <td>KEISER, MICHAEL L</td>\n",
       "      <td>out-of-state</td>\n",
       "      <td>20,000.00</td>\n",
       "    </tr>\n",
       "    <tr>\n",
       "      <th>47</th>\n",
       "      <td>CZUKER, EDWARD M</td>\n",
       "      <td>out-of-state</td>\n",
       "      <td>20,000.00</td>\n",
       "    </tr>\n",
       "    <tr>\n",
       "      <th>48</th>\n",
       "      <td>LANGONE, KENNETH G</td>\n",
       "      <td>out-of-state</td>\n",
       "      <td>20,000.00</td>\n",
       "    </tr>\n",
       "    <tr>\n",
       "      <th>49</th>\n",
       "      <td>CECCHI, GIUSEPPE</td>\n",
       "      <td>out-of-state</td>\n",
       "      <td>20,000.00</td>\n",
       "    </tr>\n",
       "    <tr>\n",
       "      <th>50</th>\n",
       "      <td>MACLEAN, BARRY L</td>\n",
       "      <td>out-of-state</td>\n",
       "      <td>20,000.00</td>\n",
       "    </tr>\n",
       "    <tr>\n",
       "      <th>51</th>\n",
       "      <td>PRICE, STEVEN</td>\n",
       "      <td>out-of-state</td>\n",
       "      <td>20,000.00</td>\n",
       "    </tr>\n",
       "    <tr>\n",
       "      <th>52</th>\n",
       "      <td>WENDT, GREGORY W</td>\n",
       "      <td>out-of-state</td>\n",
       "      <td>20,000.00</td>\n",
       "    </tr>\n",
       "    <tr>\n",
       "      <th>53</th>\n",
       "      <td>ROOD, JOHN D</td>\n",
       "      <td>out-of-state</td>\n",
       "      <td>20,000.00</td>\n",
       "    </tr>\n",
       "    <tr>\n",
       "      <th>54</th>\n",
       "      <td>HILLIS, GENEVIEVE ELIZABETH</td>\n",
       "      <td>out-of-state</td>\n",
       "      <td>20,000.00</td>\n",
       "    </tr>\n",
       "    <tr>\n",
       "      <th>55</th>\n",
       "      <td>STAYER, RALPH C</td>\n",
       "      <td>out-of-state</td>\n",
       "      <td>20,000.00</td>\n",
       "    </tr>\n",
       "    <tr>\n",
       "      <th>56</th>\n",
       "      <td>BERGMAN, JAY D</td>\n",
       "      <td>out-of-state</td>\n",
       "      <td>20,000.00</td>\n",
       "    </tr>\n",
       "    <tr>\n",
       "      <th>57</th>\n",
       "      <td>HILLIS, ROBERT J (BOB)</td>\n",
       "      <td>out-of-state</td>\n",
       "      <td>20,000.00</td>\n",
       "    </tr>\n",
       "    <tr>\n",
       "      <th>58</th>\n",
       "      <td>MASTERSON, NANCY</td>\n",
       "      <td>out-of-state</td>\n",
       "      <td>20,000.00</td>\n",
       "    </tr>\n",
       "    <tr>\n",
       "      <th>59</th>\n",
       "      <td>STEPHENS, WARREN AMERINE</td>\n",
       "      <td>out-of-state</td>\n",
       "      <td>20,000.00</td>\n",
       "    </tr>\n",
       "  </tbody>\n",
       "</table>\n",
       "</div>"
      ],
      "text/plain": [
       "                      contributor  in_out_state    amount\n",
       "0              ROBERTS, TIMOTHY J  out-of-state 25,000.00\n",
       "1               GROSS, DIETRICH M  out-of-state 22,500.00\n",
       "2               MOROUN, LINDSAY S  out-of-state 20,000.00\n",
       "3        HERZOG, STANLEY M (STAN)  out-of-state 20,000.00\n",
       "4               MOROUN, MATTHEW T  out-of-state 20,000.00\n",
       "5     MURRAY, ROBERT EUGENE (BOB)  out-of-state 20,000.00\n",
       "6           DARROW, SUSAN J (SUE)  out-of-state 20,000.00\n",
       "7                    CRAFT, JOE W  out-of-state 20,000.00\n",
       "8                   HERTOG, ROGER  out-of-state 20,000.00\n",
       "9           SMITH, THOMAS WILLIAM  out-of-state 20,000.00\n",
       "10          RAUNER, BRUCE VINCENT  out-of-state 20,000.00\n",
       "11              BUCKLEY, WALTER W  out-of-state 20,000.00\n",
       "12             OZINGA III, MARTIN  out-of-state 20,000.00\n",
       "13               FOLLETT, BRIAN R  out-of-state 20,000.00\n",
       "14                 GRAEBEL, LINDA  out-of-state 20,000.00\n",
       "15                 GRAEBEL, DAVID  out-of-state 20,000.00\n",
       "16           PEROT JR, HENRY ROSS  out-of-state 20,000.00\n",
       "17      KENDRICK JR, EARL G (KEN)  out-of-state 20,000.00\n",
       "18                ROBERTS, DVORAH  out-of-state 20,000.00\n",
       "19         KENDRICK, RANDY PARRIS  out-of-state 20,000.00\n",
       "20               JOYCE, CHARLES P  out-of-state 20,000.00\n",
       "21           CATSIMATIDIS, JOHN A  out-of-state 20,000.00\n",
       "22                JAMES, VIRGINIA  out-of-state 20,000.00\n",
       "23               BUNTROCK, DEAN L  out-of-state 20,000.00\n",
       "24              GRAINGER, DAVID W  out-of-state 20,000.00\n",
       "25               RASMUS, ROBERT E  out-of-state 20,000.00\n",
       "26              VERSTANDIG, GRANT  out-of-state 20,000.00\n",
       "27             SINQUEFIELD, REX A  out-of-state 20,000.00\n",
       "28            BUNTROCK, ROSEMARIE  out-of-state 20,000.00\n",
       "29              SHANNON, MARY SUE  out-of-state 20,000.00\n",
       "30  SHANNON, MICHAEL SCOTT (MIKE)  out-of-state 20,000.00\n",
       "31                 OREN, DONALD G  out-of-state 20,000.00\n",
       "32                  STAYER, LAUNA  out-of-state 20,000.00\n",
       "33           PRITZKER, JENNIFER N  out-of-state 20,000.00\n",
       "34              LEVY JR, EDWARD C  out-of-state 20,000.00\n",
       "35        CAMERON, RONALD M (RON)  out-of-state 20,000.00\n",
       "36           LOEB, DANEIL S (DAN)  out-of-state 20,000.00\n",
       "37  UIHLEIN, RICHARD ELLIS (DICK)  out-of-state 20,000.00\n",
       "38          HUBBARD, KAREN HOLMEN  out-of-state 20,000.00\n",
       "39             HUBBARD, STANLEY S  out-of-state 20,000.00\n",
       "40     UIHLEIN, ELIZABETH A (LIZ)  out-of-state 20,000.00\n",
       "41             JOHNSON, CHARLES B  out-of-state 20,000.00\n",
       "42     FEINGOLD, JEFFERY P (JEFF)  out-of-state 20,000.00\n",
       "43                 SMITH, DIANE G  out-of-state 20,000.00\n",
       "44      MIZEL, LAWRENCE A (LARRY)  out-of-state 20,000.00\n",
       "45    KASTEN JR, GEORGE FREDERICK  out-of-state 20,000.00\n",
       "46              KEISER, MICHAEL L  out-of-state 20,000.00\n",
       "47               CZUKER, EDWARD M  out-of-state 20,000.00\n",
       "48             LANGONE, KENNETH G  out-of-state 20,000.00\n",
       "49               CECCHI, GIUSEPPE  out-of-state 20,000.00\n",
       "50               MACLEAN, BARRY L  out-of-state 20,000.00\n",
       "51                  PRICE, STEVEN  out-of-state 20,000.00\n",
       "52               WENDT, GREGORY W  out-of-state 20,000.00\n",
       "53                   ROOD, JOHN D  out-of-state 20,000.00\n",
       "54    HILLIS, GENEVIEVE ELIZABETH  out-of-state 20,000.00\n",
       "55                STAYER, RALPH C  out-of-state 20,000.00\n",
       "56                 BERGMAN, JAY D  out-of-state 20,000.00\n",
       "57         HILLIS, ROBERT J (BOB)  out-of-state 20,000.00\n",
       "58               MASTERSON, NANCY  out-of-state 20,000.00\n",
       "59       STEPHENS, WARREN AMERINE  out-of-state 20,000.00"
      ]
     },
     "execution_count": 18,
     "metadata": {},
     "output_type": "execute_result"
    }
   ],
   "source": [
    "walker_contributions = contributions[contributions[\"candidate_id\"] == 224207]\n",
    "walker_contributors = walker_contributions.groupby([\"contributor\", \"in_out_state\"])[\"amount\"].sum().reset_index().sort_values(\"amount\", ascending=False)\n",
    "# All people are identified as \"Last Name, First Name\"\n",
    "walker_contributors[(walker_contributors[\"contributor\"].str.contains(\", \")) & (walker_contributors[\"amount\"] >= 20000) & (walker_contributors[\"in_out_state\"] == \"out-of-state\")].reset_index(drop=True)"
   ]
  },
  {
   "cell_type": "markdown",
   "metadata": {},
   "source": [
    "## Calculate out-of-state contributions for Iowa's Cathy Glasson and Fred Hubbell through the primary election"
   ]
  },
  {
   "cell_type": "markdown",
   "metadata": {},
   "source": [
    "Filter the data to return contributions to Fred Hubbell and Cathy Glasson through the June 5, 2018 primary."
   ]
  },
  {
   "cell_type": "code",
   "execution_count": 19,
   "metadata": {
    "collapsed": true
   },
   "outputs": [],
   "source": [
    "hubbell_primary_contributions = contributions[(contributions[\"candidate_id\"] == 264335) & (contributions[\"date\"] <= \"2018-06-05\")]\n",
    "glasson_primary_contributions = contributions[(contributions[\"candidate_id\"] == 223996) & (contributions[\"date\"] <= \"2018-06-05\")]"
   ]
  },
  {
   "cell_type": "code",
   "execution_count": 20,
   "metadata": {},
   "outputs": [
    {
     "data": {
      "text/plain": [
       "in_out_state\n",
       "in-state       5,072,593.32\n",
       "out-of-state   1,019,312.25\n",
       "unknown            8,415.00\n",
       "Name: amount, dtype: float64"
      ]
     },
     "execution_count": 20,
     "metadata": {},
     "output_type": "execute_result"
    }
   ],
   "source": [
    "hubbell_primary_contributions.groupby(\"in_out_state\")[\"amount\"].sum()"
   ]
  },
  {
   "cell_type": "code",
   "execution_count": 21,
   "metadata": {},
   "outputs": [
    {
     "data": {
      "text/plain": [
       "6100320.5700000003"
      ]
     },
     "execution_count": 21,
     "metadata": {},
     "output_type": "execute_result"
    }
   ],
   "source": [
    "hubbell_primary_contributions[\"amount\"].sum()"
   ]
  },
  {
   "cell_type": "code",
   "execution_count": 22,
   "metadata": {},
   "outputs": [
    {
     "data": {
      "text/plain": [
       "in_out_state\n",
       "in-state         109,689.90\n",
       "out-of-state   2,064,815.92\n",
       "Name: amount, dtype: float64"
      ]
     },
     "execution_count": 22,
     "metadata": {},
     "output_type": "execute_result"
    }
   ],
   "source": [
    "glasson_primary_contributions.groupby(\"in_out_state\")[\"amount\"].sum()"
   ]
  },
  {
   "cell_type": "code",
   "execution_count": 23,
   "metadata": {},
   "outputs": [
    {
     "data": {
      "text/plain": [
       "2174505.8200000003"
      ]
     },
     "execution_count": 23,
     "metadata": {},
     "output_type": "execute_result"
    }
   ],
   "source": [
    "glasson_primary_contributions[\"amount\"].sum()"
   ]
  },
  {
   "cell_type": "markdown",
   "metadata": {},
   "source": [
    "## Export the data to Excel."
   ]
  },
  {
   "cell_type": "code",
   "execution_count": 24,
   "metadata": {},
   "outputs": [],
   "source": [
    "contributions_by_candidate.to_excel(\"data/contributions_by_candidate.xlsx\", index=False)"
   ]
  },
  {
   "cell_type": "code",
   "execution_count": null,
   "metadata": {},
   "outputs": [],
   "source": []
  }
 ],
 "metadata": {
  "kernelspec": {
   "display_name": "Python 3",
   "language": "python",
   "name": "python3"
  },
  "language_info": {
   "codemirror_mode": {
    "name": "ipython",
    "version": 3
   },
   "file_extension": ".py",
   "mimetype": "text/x-python",
   "name": "python",
   "nbconvert_exporter": "python",
   "pygments_lexer": "ipython3",
   "version": "3.6.3"
  }
 },
 "nbformat": 4,
 "nbformat_minor": 2
}
