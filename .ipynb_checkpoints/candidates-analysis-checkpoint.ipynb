{
 "cells": [
  {
   "cell_type": "markdown",
   "metadata": {},
   "source": [
    "# Out-of-State-Contributions: Candidates Analysis"
   ]
  },
  {
   "cell_type": "markdown",
   "metadata": {},
   "source": [
    "How much out-of-state money are candidates raising in the 2018 election cycle, in absolute and proportional terms, thus far and how does that compare with this point in the 2014 and 2010 cycles?"
   ]
  },
  {
   "cell_type": "code",
   "execution_count": 1,
   "metadata": {},
   "outputs": [
    {
     "data": {
      "application/javascript": [
       "if (!(\"Notification\" in window)) {\n",
       "    alert(\"This browser does not support desktop notifications, so the %%notify magic will not work.\");\n",
       "} else if (Notification.permission !== 'granted' && Notification.permission !== 'denied') {\n",
       "    Notification.requestPermission(function (permission) {\n",
       "        if(!('permission' in Notification)) {\n",
       "            Notification.permission = permission;\n",
       "        }\n",
       "    })\n",
       "}\n"
      ],
      "text/plain": [
       "<IPython.core.display.Javascript object>"
      ]
     },
     "metadata": {},
     "output_type": "display_data"
    }
   ],
   "source": [
    "from functools import reduce\n",
    "import numpy as np\n",
    "import pandas as pd\n",
    "\n",
    "%load_ext jupyternotify\n",
    "\n",
    "pd.set_option(\"display.max_columns\", 100)\n",
    "pd.set_option(\"display.max_rows\", 500)\n",
    "pd.options.display.float_format = \"{:,.2f}\".format # Format floats"
   ]
  },
  {
   "cell_type": "markdown",
   "metadata": {},
   "source": [
    "Import contributions data."
   ]
  },
  {
   "cell_type": "code",
   "execution_count": 2,
   "metadata": {
    "scrolled": true
   },
   "outputs": [
    {
     "name": "stderr",
     "output_type": "stream",
     "text": [
      "/home/jyerardi/anaconda3/lib/python3.6/site-packages/IPython/core/interactiveshell.py:2698: DtypeWarning: Columns (14,17,18,19,22) have mixed types. Specify dtype option on import or set low_memory=False.\n",
      "  interactivity=interactivity, compiler=compiler, result=result)\n"
     ]
    },
    {
     "name": "stdout",
     "output_type": "stream",
     "text": [
      "<class 'pandas.core.frame.DataFrame'>\n",
      "RangeIndex: 6867306 entries, 0 to 6867305\n",
      "Data columns (total 23 columns):\n",
      "candidate                 object\n",
      "candidate_id              int64\n",
      "year                      int64\n",
      "state                     object\n",
      "party                     object\n",
      "election_status           object\n",
      "contributor               object\n",
      "amount                    float64\n",
      "date                      object\n",
      "contributor_street        object\n",
      "contributor_city          object\n",
      "contributor_state         object\n",
      "contributor_zip           float64\n",
      "in_out_state              object\n",
      "no_veto                   object\n",
      "office                    object\n",
      "latest_month              object\n",
      "redistricting_role        object\n",
      "independent_commission    object\n",
      "single_house_district     object\n",
      "standardized_office       object\n",
      "standardized_status       object\n",
      "two_year_term             object\n",
      "dtypes: float64(2), int64(2), object(19)\n",
      "memory usage: 1.2+ GB\n"
     ]
    },
    {
     "data": {
      "application/javascript": [
       "$(document).ready(\n",
       "    function() {\n",
       "        function appendUniqueDiv(){\n",
       "            // append a div with our uuid so we can check that it's already\n",
       "            // been sent and avoid duplicates on page reload\n",
       "            var notifiedDiv = document.createElement(\"div\")\n",
       "            notifiedDiv.id = \"6bcc40e5-de09-441f-80fc-583b7df6e326\"\n",
       "            element.append(notifiedDiv)\n",
       "        }\n",
       "\n",
       "        // only send notifications if the pageload is complete; this will\n",
       "        // help stop extra notifications when a saved notebook is loaded,\n",
       "        // which during testing gives us state \"interactive\", not \"complete\"\n",
       "        if (document.readyState === 'complete') {\n",
       "            // check for the div that signifies that the notification\n",
       "            // was already sent\n",
       "            if (document.getElementById(\"6bcc40e5-de09-441f-80fc-583b7df6e326\") === null) {\n",
       "                var notificationPayload = {\"requireInteraction\": false, \"icon\": \"/static/base/images/favicon.ico\", \"body\": \"Cell execution has finished!\"};\n",
       "                if (Notification.permission !== 'denied') {\n",
       "                    if (Notification.permission !== 'granted') { \n",
       "                        Notification.requestPermission(function (permission) {\n",
       "                            if(!('permission' in Notification)) {\n",
       "                                Notification.permission = permission\n",
       "                            }\n",
       "                        })\n",
       "                    }\n",
       "                    if (Notification.permission === 'granted') {\n",
       "                    var notification = new Notification(\"Jupyter Notebook\", notificationPayload)\n",
       "                    appendUniqueDiv()\n",
       "                    notification.onclick = function () {\n",
       "                        window.focus();\n",
       "                        this.close();\n",
       "                        };\n",
       "                    } \n",
       "                }     \n",
       "            }\n",
       "        }\n",
       "    }\n",
       ")\n"
      ],
      "text/plain": [
       "<IPython.core.display.Javascript object>"
      ]
     },
     "metadata": {},
     "output_type": "display_data"
    }
   ],
   "source": [
    "%%notify\n",
    "contributions = pd.read_csv(\"data/contributions.csv\")\n",
    "contributions.info()"
   ]
  },
  {
   "cell_type": "markdown",
   "metadata": {},
   "source": [
    "Convert the contribution date and latest month columns to datetime data type."
   ]
  },
  {
   "cell_type": "code",
   "execution_count": 3,
   "metadata": {
    "scrolled": true
   },
   "outputs": [
    {
     "name": "stdout",
     "output_type": "stream",
     "text": [
      "<class 'pandas.core.frame.DataFrame'>\n",
      "RangeIndex: 6867306 entries, 0 to 6867305\n",
      "Data columns (total 23 columns):\n",
      "candidate                 object\n",
      "candidate_id              int64\n",
      "year                      int64\n",
      "state                     object\n",
      "party                     object\n",
      "election_status           object\n",
      "contributor               object\n",
      "amount                    float64\n",
      "date                      datetime64[ns]\n",
      "contributor_street        object\n",
      "contributor_city          object\n",
      "contributor_state         object\n",
      "contributor_zip           float64\n",
      "in_out_state              object\n",
      "no_veto                   object\n",
      "office                    object\n",
      "latest_month              datetime64[ns]\n",
      "redistricting_role        object\n",
      "independent_commission    object\n",
      "single_house_district     object\n",
      "standardized_office       object\n",
      "standardized_status       object\n",
      "two_year_term             object\n",
      "dtypes: datetime64[ns](2), float64(2), int64(2), object(17)\n",
      "memory usage: 1.2+ GB\n"
     ]
    }
   ],
   "source": [
    "contributions[\"date\"] = pd.to_datetime(contributions[\"date\"], errors=\"coerce\")\n",
    "contributions[\"latest_month\"] = pd.to_datetime(contributions[\"latest_month\"], errors=\"coerce\")\n",
    "contributions.info()"
   ]
  },
  {
   "cell_type": "markdown",
   "metadata": {},
   "source": [
    "## Calculate out-of-state contributions by candidate"
   ]
  },
  {
   "cell_type": "markdown",
   "metadata": {},
   "source": [
    "Filter the data by election cycle."
   ]
  },
  {
   "cell_type": "code",
   "execution_count": 4,
   "metadata": {
    "collapsed": true
   },
   "outputs": [],
   "source": [
    "contributions_18 = contributions[contributions[\"year\"] == 2018]\n",
    "contributions_14 = contributions[contributions[\"year\"] == 2014]\n",
    "contributions_10 = contributions[contributions[\"year\"] == 2010]"
   ]
  },
  {
   "cell_type": "markdown",
   "metadata": {},
   "source": [
    "Group by candidate, state, year, office status, redistricting role (for 2018 cycle data) and in-vs.-out-of-state contribution status and sum contributions."
   ]
  },
  {
   "cell_type": "code",
   "execution_count": 5,
   "metadata": {
    "collapsed": true,
    "scrolled": true
   },
   "outputs": [],
   "source": [
    "contributions_by_candidate_18 = contributions_18.groupby([\"candidate\", \"state\", \"year\", \"standardized_office\", \"standardized_status\", \"redistricting_role\", \"in_out_state\"])[\"amount\"].sum().reset_index()\n",
    "contributions_by_candidate_18.rename(columns={\"amount\": \"amount_18\"}, inplace=True)\n",
    "contributions_by_candidate_14 = contributions_14.groupby([\"candidate\", \"state\", \"year\", \"standardized_office\", \"standardized_status\", \"in_out_state\"])[\"amount\"].sum().reset_index()\n",
    "contributions_by_candidate_14.rename(columns={\"amount\": \"amount_14\"}, inplace=True)\n",
    "contributions_by_candidate_10 = contributions_10.groupby([\"candidate\", \"state\", \"year\", \"standardized_office\", \"standardized_status\", \"in_out_state\"])[\"amount\"].sum().reset_index()\n",
    "contributions_by_candidate_10.rename(columns={\"amount\": \"amount_10\"}, inplace=True)"
   ]
  },
  {
   "cell_type": "markdown",
   "metadata": {
    "collapsed": true
   },
   "source": [
    "Pivot the dataframes to aggregate each candidate's data in a single row."
   ]
  },
  {
   "cell_type": "code",
   "execution_count": 6,
   "metadata": {
    "collapsed": true
   },
   "outputs": [],
   "source": [
    "contributions_by_candidate_18 = pd.pivot_table(contributions_by_candidate_18, index=[\"candidate\", \"state\", \"year\", \"standardized_office\", \"standardized_status\", \"redistricting_role\"], columns=[\"in_out_state\"]).reset_index()\n",
    "contributions_by_candidate_14 = pd.pivot_table(contributions_by_candidate_14, index=[\"candidate\", \"state\", \"year\", \"standardized_office\", \"standardized_status\"], columns=[\"in_out_state\"]).reset_index()\n",
    "contributions_by_candidate_10 = pd.pivot_table(contributions_by_candidate_10, index=[\"candidate\", \"state\", \"year\", \"standardized_office\", \"standardized_status\"], columns=[\"in_out_state\"]).reset_index()"
   ]
  },
  {
   "cell_type": "markdown",
   "metadata": {
    "collapsed": true
   },
   "source": [
    "Some records have no contributions for certain categories. Let's set those values equal to zero to be sure any calculations we run on them are correct."
   ]
  },
  {
   "cell_type": "code",
   "execution_count": 7,
   "metadata": {
    "collapsed": true
   },
   "outputs": [],
   "source": [
    "contributions_by_candidate_18.fillna(0, inplace=True)\n",
    "contributions_by_candidate_14.fillna(0, inplace=True)\n",
    "contributions_by_candidate_10.fillna(0, inplace=True)"
   ]
  },
  {
   "cell_type": "markdown",
   "metadata": {
    "collapsed": true
   },
   "source": [
    "Flatten the resulting dataframes' multi-index columns."
   ]
  },
  {
   "cell_type": "code",
   "execution_count": 8,
   "metadata": {
    "collapsed": true
   },
   "outputs": [],
   "source": [
    "contributions_by_candidate_18.columns = [\"_\".join(column).replace(\"-\",\"_\").strip(\"_\") for column in contributions_by_candidate_18.columns.values]\n",
    "contributions_by_candidate_18.rename(columns={\"standardized_office\": \"standardized_office_18\"}, inplace=True)\n",
    "contributions_by_candidate_14.columns = [\"_\".join(column).replace(\"-\",\"_\").strip(\"_\") for column in contributions_by_candidate_14.columns.values]\n",
    "contributions_by_candidate_14.rename(columns={\"standardized_office\": \"standardized_office_14\"}, inplace=True)\n",
    "contributions_by_candidate_10.columns = [\"_\".join(column).replace(\"-\",\"_\").strip(\"_\") for column in contributions_by_candidate_10.columns.values]\n",
    "contributions_by_candidate_10.rename(columns={\"standardized_office\": \"standardized_office_10\"}, inplace=True)"
   ]
  },
  {
   "cell_type": "markdown",
   "metadata": {
    "collapsed": true
   },
   "source": [
    "Calculate the proportion of in-state, out-of-state and unknown contributions."
   ]
  },
  {
   "cell_type": "code",
   "execution_count": 9,
   "metadata": {
    "collapsed": true
   },
   "outputs": [],
   "source": [
    "contributions_by_candidate_18[\"pct_18_in_state\"] = contributions_by_candidate_18[\"amount_18_in_state\"] / (contributions_by_candidate_18[\"amount_18_in_state\"] + contributions_by_candidate_18[\"amount_18_out_of_state\"] + contributions_by_candidate_18[\"amount_18_unknown\"])\n",
    "contributions_by_candidate_18[\"pct_18_out_of_state\"] = contributions_by_candidate_18[\"amount_18_out_of_state\"] / (contributions_by_candidate_18[\"amount_18_in_state\"] + contributions_by_candidate_18[\"amount_18_out_of_state\"] + contributions_by_candidate_18[\"amount_18_unknown\"])\n",
    "contributions_by_candidate_18[\"pct_18_unknown\"] = contributions_by_candidate_18[\"amount_18_unknown\"] / (contributions_by_candidate_18[\"amount_18_in_state\"] + contributions_by_candidate_18[\"amount_18_out_of_state\"] + contributions_by_candidate_18[\"amount_18_unknown\"])\n",
    "contributions_by_candidate_14[\"pct_14_in_state\"] = contributions_by_candidate_14[\"amount_14_in_state\"] / (contributions_by_candidate_14[\"amount_14_in_state\"] + contributions_by_candidate_14[\"amount_14_out_of_state\"] + contributions_by_candidate_14[\"amount_14_unknown\"])\n",
    "contributions_by_candidate_14[\"pct_14_out_of_state\"] = contributions_by_candidate_14[\"amount_14_out_of_state\"] / (contributions_by_candidate_14[\"amount_14_in_state\"] + contributions_by_candidate_14[\"amount_14_out_of_state\"] + contributions_by_candidate_14[\"amount_14_unknown\"])\n",
    "contributions_by_candidate_14[\"pct_14_unknown\"] = contributions_by_candidate_14[\"amount_14_unknown\"] / (contributions_by_candidate_14[\"amount_14_in_state\"] + contributions_by_candidate_14[\"amount_14_out_of_state\"] + contributions_by_candidate_14[\"amount_14_unknown\"])\n",
    "contributions_by_candidate_10[\"pct_10_in_state\"] = contributions_by_candidate_10[\"amount_10_in_state\"] / (contributions_by_candidate_10[\"amount_10_in_state\"] + contributions_by_candidate_10[\"amount_10_out_of_state\"] + contributions_by_candidate_10[\"amount_10_unknown\"])\n",
    "contributions_by_candidate_10[\"pct_10_out_of_state\"] = contributions_by_candidate_10[\"amount_10_out_of_state\"] / (contributions_by_candidate_10[\"amount_10_in_state\"] + contributions_by_candidate_10[\"amount_10_out_of_state\"] + contributions_by_candidate_10[\"amount_10_unknown\"])\n",
    "contributions_by_candidate_10[\"pct_10_unknown\"] = contributions_by_candidate_10[\"amount_10_unknown\"] / (contributions_by_candidate_10[\"amount_10_in_state\"] + contributions_by_candidate_10[\"amount_10_out_of_state\"] + contributions_by_candidate_10[\"amount_10_unknown\"])"
   ]
  },
  {
   "cell_type": "markdown",
   "metadata": {
    "collapsed": true
   },
   "source": [
    "Join the 2018, 2014 and 2010 contributions by candidate data"
   ]
  },
  {
   "cell_type": "code",
   "execution_count": 10,
   "metadata": {
    "scrolled": false
   },
   "outputs": [
    {
     "data": {
      "text/html": [
       "<div>\n",
       "<style scoped>\n",
       "    .dataframe tbody tr th:only-of-type {\n",
       "        vertical-align: middle;\n",
       "    }\n",
       "\n",
       "    .dataframe tbody tr th {\n",
       "        vertical-align: top;\n",
       "    }\n",
       "\n",
       "    .dataframe thead th {\n",
       "        text-align: right;\n",
       "    }\n",
       "</style>\n",
       "<table border=\"1\" class=\"dataframe\">\n",
       "  <thead>\n",
       "    <tr style=\"text-align: right;\">\n",
       "      <th></th>\n",
       "      <th>candidate</th>\n",
       "      <th>state</th>\n",
       "      <th>standardized_office_18</th>\n",
       "      <th>standardized_status_18</th>\n",
       "      <th>redistricting_role</th>\n",
       "      <th>amount_18_in_state</th>\n",
       "      <th>amount_18_out_of_state</th>\n",
       "      <th>amount_18_unknown</th>\n",
       "      <th>pct_18_in_state</th>\n",
       "      <th>pct_18_out_of_state</th>\n",
       "      <th>pct_18_unknown</th>\n",
       "      <th>standardized_office_14</th>\n",
       "      <th>standardized_status_14</th>\n",
       "      <th>amount_14_in_state</th>\n",
       "      <th>amount_14_out_of_state</th>\n",
       "      <th>amount_14_unknown</th>\n",
       "      <th>pct_14_in_state</th>\n",
       "      <th>pct_14_out_of_state</th>\n",
       "      <th>pct_14_unknown</th>\n",
       "      <th>standardized_office_10</th>\n",
       "      <th>standardized_status</th>\n",
       "      <th>amount_10_in_state</th>\n",
       "      <th>amount_10_out_of_state</th>\n",
       "      <th>amount_10_unknown</th>\n",
       "      <th>pct_10_in_state</th>\n",
       "      <th>pct_10_out_of_state</th>\n",
       "      <th>pct_10_unknown</th>\n",
       "      <th>amount_18_total</th>\n",
       "      <th>amount_14_total</th>\n",
       "      <th>amount_10_total</th>\n",
       "    </tr>\n",
       "  </thead>\n",
       "  <tbody>\n",
       "    <tr>\n",
       "      <th>0</th>\n",
       "      <td>ABBATE, PETER</td>\n",
       "      <td>NY</td>\n",
       "      <td>STATE HOUSE/ASSEMBLY/SENATE</td>\n",
       "      <td>ADVANCED TO GENERAL</td>\n",
       "      <td>Y</td>\n",
       "      <td>183,575.00</td>\n",
       "      <td>18,350.00</td>\n",
       "      <td>31,925.00</td>\n",
       "      <td>0.79</td>\n",
       "      <td>0.08</td>\n",
       "      <td>0.14</td>\n",
       "      <td>NaN</td>\n",
       "      <td>NaN</td>\n",
       "      <td>nan</td>\n",
       "      <td>nan</td>\n",
       "      <td>nan</td>\n",
       "      <td>nan</td>\n",
       "      <td>nan</td>\n",
       "      <td>nan</td>\n",
       "      <td>NaN</td>\n",
       "      <td>NaN</td>\n",
       "      <td>nan</td>\n",
       "      <td>nan</td>\n",
       "      <td>nan</td>\n",
       "      <td>nan</td>\n",
       "      <td>nan</td>\n",
       "      <td>nan</td>\n",
       "      <td>233,850.00</td>\n",
       "      <td>nan</td>\n",
       "      <td>nan</td>\n",
       "    </tr>\n",
       "    <tr>\n",
       "      <th>1</th>\n",
       "      <td>ABBOTT, DAVID H</td>\n",
       "      <td>IN</td>\n",
       "      <td>STATE HOUSE/ASSEMBLY/SENATE</td>\n",
       "      <td>ADVANCED TO GENERAL</td>\n",
       "      <td>Y</td>\n",
       "      <td>26,065.00</td>\n",
       "      <td>0.00</td>\n",
       "      <td>0.00</td>\n",
       "      <td>1.00</td>\n",
       "      <td>0.00</td>\n",
       "      <td>0.00</td>\n",
       "      <td>NaN</td>\n",
       "      <td>NaN</td>\n",
       "      <td>nan</td>\n",
       "      <td>nan</td>\n",
       "      <td>nan</td>\n",
       "      <td>nan</td>\n",
       "      <td>nan</td>\n",
       "      <td>nan</td>\n",
       "      <td>NaN</td>\n",
       "      <td>NaN</td>\n",
       "      <td>nan</td>\n",
       "      <td>nan</td>\n",
       "      <td>nan</td>\n",
       "      <td>nan</td>\n",
       "      <td>nan</td>\n",
       "      <td>nan</td>\n",
       "      <td>26,065.00</td>\n",
       "      <td>nan</td>\n",
       "      <td>nan</td>\n",
       "    </tr>\n",
       "    <tr>\n",
       "      <th>2</th>\n",
       "      <td>ABBOTT, GREG</td>\n",
       "      <td>TX</td>\n",
       "      <td>GOVERNOR/LIEUTENANT GOVERNOR</td>\n",
       "      <td>ADVANCED TO GENERAL</td>\n",
       "      <td>Y</td>\n",
       "      <td>59,614,107.87</td>\n",
       "      <td>4,528,077.58</td>\n",
       "      <td>1,020.00</td>\n",
       "      <td>0.93</td>\n",
       "      <td>0.07</td>\n",
       "      <td>0.00</td>\n",
       "      <td>GOVERNOR/LIEUTENANT GOVERNOR</td>\n",
       "      <td>ADVANCED TO GENERAL</td>\n",
       "      <td>22,988,410.36</td>\n",
       "      <td>1,488,413.64</td>\n",
       "      <td>4,791,017.12</td>\n",
       "      <td>0.79</td>\n",
       "      <td>0.05</td>\n",
       "      <td>0.16</td>\n",
       "      <td>NaN</td>\n",
       "      <td>NaN</td>\n",
       "      <td>nan</td>\n",
       "      <td>nan</td>\n",
       "      <td>nan</td>\n",
       "      <td>nan</td>\n",
       "      <td>nan</td>\n",
       "      <td>nan</td>\n",
       "      <td>64,143,205.45</td>\n",
       "      <td>29,267,841.12</td>\n",
       "      <td>nan</td>\n",
       "    </tr>\n",
       "    <tr>\n",
       "      <th>3</th>\n",
       "      <td>ABDUL-RAHIM, ANEES</td>\n",
       "      <td>MD</td>\n",
       "      <td>STATE HOUSE/ASSEMBLY/SENATE</td>\n",
       "      <td>DID NOT ADVANCE</td>\n",
       "      <td>Y</td>\n",
       "      <td>3,165.00</td>\n",
       "      <td>0.00</td>\n",
       "      <td>0.00</td>\n",
       "      <td>1.00</td>\n",
       "      <td>0.00</td>\n",
       "      <td>0.00</td>\n",
       "      <td>NaN</td>\n",
       "      <td>NaN</td>\n",
       "      <td>nan</td>\n",
       "      <td>nan</td>\n",
       "      <td>nan</td>\n",
       "      <td>nan</td>\n",
       "      <td>nan</td>\n",
       "      <td>nan</td>\n",
       "      <td>NaN</td>\n",
       "      <td>NaN</td>\n",
       "      <td>nan</td>\n",
       "      <td>nan</td>\n",
       "      <td>nan</td>\n",
       "      <td>nan</td>\n",
       "      <td>nan</td>\n",
       "      <td>nan</td>\n",
       "      <td>3,165.00</td>\n",
       "      <td>nan</td>\n",
       "      <td>nan</td>\n",
       "    </tr>\n",
       "    <tr>\n",
       "      <th>4</th>\n",
       "      <td>ABERCROMBIE, CATHERINE F</td>\n",
       "      <td>CT</td>\n",
       "      <td>STATE HOUSE/ASSEMBLY/SENATE</td>\n",
       "      <td>ADVANCED TO GENERAL</td>\n",
       "      <td>N</td>\n",
       "      <td>2,485.00</td>\n",
       "      <td>0.00</td>\n",
       "      <td>0.00</td>\n",
       "      <td>1.00</td>\n",
       "      <td>0.00</td>\n",
       "      <td>0.00</td>\n",
       "      <td>STATE HOUSE/ASSEMBLY/SENATE</td>\n",
       "      <td>ADVANCED TO GENERAL</td>\n",
       "      <td>5,130.00</td>\n",
       "      <td>7.00</td>\n",
       "      <td>20.00</td>\n",
       "      <td>0.99</td>\n",
       "      <td>0.00</td>\n",
       "      <td>0.00</td>\n",
       "      <td>NaN</td>\n",
       "      <td>NaN</td>\n",
       "      <td>nan</td>\n",
       "      <td>nan</td>\n",
       "      <td>nan</td>\n",
       "      <td>nan</td>\n",
       "      <td>nan</td>\n",
       "      <td>nan</td>\n",
       "      <td>2,485.00</td>\n",
       "      <td>5,157.00</td>\n",
       "      <td>nan</td>\n",
       "    </tr>\n",
       "  </tbody>\n",
       "</table>\n",
       "</div>"
      ],
      "text/plain": [
       "                  candidate state        standardized_office_18  \\\n",
       "0             ABBATE, PETER    NY   STATE HOUSE/ASSEMBLY/SENATE   \n",
       "1           ABBOTT, DAVID H    IN   STATE HOUSE/ASSEMBLY/SENATE   \n",
       "2              ABBOTT, GREG    TX  GOVERNOR/LIEUTENANT GOVERNOR   \n",
       "3        ABDUL-RAHIM, ANEES    MD   STATE HOUSE/ASSEMBLY/SENATE   \n",
       "4  ABERCROMBIE, CATHERINE F    CT   STATE HOUSE/ASSEMBLY/SENATE   \n",
       "\n",
       "  standardized_status_18 redistricting_role  amount_18_in_state  \\\n",
       "0    ADVANCED TO GENERAL                  Y          183,575.00   \n",
       "1    ADVANCED TO GENERAL                  Y           26,065.00   \n",
       "2    ADVANCED TO GENERAL                  Y       59,614,107.87   \n",
       "3        DID NOT ADVANCE                  Y            3,165.00   \n",
       "4    ADVANCED TO GENERAL                  N            2,485.00   \n",
       "\n",
       "   amount_18_out_of_state  amount_18_unknown  pct_18_in_state  \\\n",
       "0               18,350.00          31,925.00             0.79   \n",
       "1                    0.00               0.00             1.00   \n",
       "2            4,528,077.58           1,020.00             0.93   \n",
       "3                    0.00               0.00             1.00   \n",
       "4                    0.00               0.00             1.00   \n",
       "\n",
       "   pct_18_out_of_state  pct_18_unknown        standardized_office_14  \\\n",
       "0                 0.08            0.14                           NaN   \n",
       "1                 0.00            0.00                           NaN   \n",
       "2                 0.07            0.00  GOVERNOR/LIEUTENANT GOVERNOR   \n",
       "3                 0.00            0.00                           NaN   \n",
       "4                 0.00            0.00   STATE HOUSE/ASSEMBLY/SENATE   \n",
       "\n",
       "  standardized_status_14  amount_14_in_state  amount_14_out_of_state  \\\n",
       "0                    NaN                 nan                     nan   \n",
       "1                    NaN                 nan                     nan   \n",
       "2    ADVANCED TO GENERAL       22,988,410.36            1,488,413.64   \n",
       "3                    NaN                 nan                     nan   \n",
       "4    ADVANCED TO GENERAL            5,130.00                    7.00   \n",
       "\n",
       "   amount_14_unknown  pct_14_in_state  pct_14_out_of_state  pct_14_unknown  \\\n",
       "0                nan              nan                  nan             nan   \n",
       "1                nan              nan                  nan             nan   \n",
       "2       4,791,017.12             0.79                 0.05            0.16   \n",
       "3                nan              nan                  nan             nan   \n",
       "4              20.00             0.99                 0.00            0.00   \n",
       "\n",
       "  standardized_office_10 standardized_status  amount_10_in_state  \\\n",
       "0                    NaN                 NaN                 nan   \n",
       "1                    NaN                 NaN                 nan   \n",
       "2                    NaN                 NaN                 nan   \n",
       "3                    NaN                 NaN                 nan   \n",
       "4                    NaN                 NaN                 nan   \n",
       "\n",
       "   amount_10_out_of_state  amount_10_unknown  pct_10_in_state  \\\n",
       "0                     nan                nan              nan   \n",
       "1                     nan                nan              nan   \n",
       "2                     nan                nan              nan   \n",
       "3                     nan                nan              nan   \n",
       "4                     nan                nan              nan   \n",
       "\n",
       "   pct_10_out_of_state  pct_10_unknown  amount_18_total  amount_14_total  \\\n",
       "0                  nan             nan       233,850.00              nan   \n",
       "1                  nan             nan        26,065.00              nan   \n",
       "2                  nan             nan    64,143,205.45    29,267,841.12   \n",
       "3                  nan             nan         3,165.00              nan   \n",
       "4                  nan             nan         2,485.00         5,157.00   \n",
       "\n",
       "   amount_10_total  \n",
       "0              nan  \n",
       "1              nan  \n",
       "2              nan  \n",
       "3              nan  \n",
       "4              nan  "
      ]
     },
     "execution_count": 10,
     "metadata": {},
     "output_type": "execute_result"
    }
   ],
   "source": [
    "list_of_contributions_by_candidate = [contributions_by_candidate_18, contributions_by_candidate_14, contributions_by_candidate_10]\n",
    "contributions_by_candidate = reduce(lambda left, right: pd.merge(left, right, on=[\"candidate\", \"state\"], how=\"outer\"), list_of_contributions_by_candidate)\n",
    "contributions_by_candidate.drop([\"year_x\", \"year_y\", \"year\"], axis=1, inplace=True)\n",
    "contributions_by_candidate.rename(columns={\"standardized_status_x\": \"standardized_status_18\", \"standardized_status_y\": \"standardized_status_14\"}, inplace=True)\n",
    "contributions_by_candidate[\"amount_18_total\"] = contributions_by_candidate[\"amount_18_in_state\"] + contributions_by_candidate[\"amount_18_out_of_state\"] + contributions_by_candidate[\"amount_18_unknown\"]\n",
    "contributions_by_candidate[\"amount_14_total\"] = contributions_by_candidate[\"amount_14_in_state\"] + contributions_by_candidate[\"amount_14_out_of_state\"] + contributions_by_candidate[\"amount_14_unknown\"]\n",
    "contributions_by_candidate[\"amount_10_total\"] = contributions_by_candidate[\"amount_10_in_state\"] = contributions_by_candidate[\"amount_10_out_of_state\"] + contributions_by_candidate[\"amount_10_unknown\"]\n",
    "contributions_by_candidate.head()"
   ]
  },
  {
   "cell_type": "markdown",
   "metadata": {},
   "source": [
    "## Calculate the average contributions to 2018 state legislative candidates and the average proportion of out-of-state contributions to them"
   ]
  },
  {
   "cell_type": "markdown",
   "metadata": {},
   "source": [
    "Filter the data to just candidates running for state house or senate in 2018."
   ]
  },
  {
   "cell_type": "code",
   "execution_count": 11,
   "metadata": {
    "scrolled": true
   },
   "outputs": [
    {
     "name": "stdout",
     "output_type": "stream",
     "text": [
      "<class 'pandas.core.frame.DataFrame'>\n",
      "Int64Index: 8614 entries, 0 to 8947\n",
      "Data columns (total 30 columns):\n",
      "candidate                 8614 non-null object\n",
      "state                     8614 non-null object\n",
      "standardized_office_18    8614 non-null object\n",
      "standardized_status_18    8614 non-null object\n",
      "redistricting_role        8614 non-null object\n",
      "amount_18_in_state        8614 non-null float64\n",
      "amount_18_out_of_state    8614 non-null float64\n",
      "amount_18_unknown         8614 non-null float64\n",
      "pct_18_in_state           8614 non-null float64\n",
      "pct_18_out_of_state       8614 non-null float64\n",
      "pct_18_unknown            8614 non-null float64\n",
      "standardized_office_14    2834 non-null object\n",
      "standardized_status_14    2834 non-null object\n",
      "amount_14_in_state        2834 non-null float64\n",
      "amount_14_out_of_state    2834 non-null float64\n",
      "amount_14_unknown         2834 non-null float64\n",
      "pct_14_in_state           2834 non-null float64\n",
      "pct_14_out_of_state       2834 non-null float64\n",
      "pct_14_unknown            2834 non-null float64\n",
      "standardized_office_10    1558 non-null object\n",
      "standardized_status       1558 non-null object\n",
      "amount_10_in_state        1558 non-null float64\n",
      "amount_10_out_of_state    1558 non-null float64\n",
      "amount_10_unknown         1558 non-null float64\n",
      "pct_10_in_state           1558 non-null float64\n",
      "pct_10_out_of_state       1558 non-null float64\n",
      "pct_10_unknown            1558 non-null float64\n",
      "amount_18_total           8614 non-null float64\n",
      "amount_14_total           2834 non-null float64\n",
      "amount_10_total           1558 non-null float64\n",
      "dtypes: float64(21), object(9)\n",
      "memory usage: 2.0+ MB\n"
     ]
    }
   ],
   "source": [
    "legislative_candidates = contributions_by_candidate[contributions_by_candidate[\"standardized_office_18\"] == \"STATE HOUSE/ASSEMBLY/SENATE\"]\n",
    "legislative_candidates.info()"
   ]
  },
  {
   "cell_type": "markdown",
   "metadata": {},
   "source": [
    "Calculate the mean total contributions."
   ]
  },
  {
   "cell_type": "code",
   "execution_count": 12,
   "metadata": {},
   "outputs": [
    {
     "data": {
      "text/plain": [
       "71948.60074413725"
      ]
     },
     "execution_count": 12,
     "metadata": {},
     "output_type": "execute_result"
    }
   ],
   "source": [
    "legislative_candidates[\"amount_18_total\"].mean()"
   ]
  },
  {
   "cell_type": "markdown",
   "metadata": {},
   "source": [
    "Calculate the mean out-of-state contributions."
   ]
  },
  {
   "cell_type": "code",
   "execution_count": 13,
   "metadata": {},
   "outputs": [
    {
     "data": {
      "text/plain": [
       "8196.989194334807"
      ]
     },
     "execution_count": 13,
     "metadata": {},
     "output_type": "execute_result"
    }
   ],
   "source": [
    "legislative_candidates[\"amount_18_out_of_state\"].mean()"
   ]
  },
  {
   "cell_type": "markdown",
   "metadata": {},
   "source": [
    "Calculate the average proportion of out-of-state contributions."
   ]
  },
  {
   "cell_type": "code",
   "execution_count": 14,
   "metadata": {},
   "outputs": [
    {
     "data": {
      "text/plain": [
       "0.11392840318722586"
      ]
     },
     "execution_count": 14,
     "metadata": {},
     "output_type": "execute_result"
    }
   ],
   "source": [
    "legislative_candidates[\"amount_18_out_of_state\"].mean() / legislative_candidates[\"amount_18_total\"].mean()"
   ]
  },
  {
   "cell_type": "markdown",
   "metadata": {},
   "source": [
    "## Calculate 2018 out-of-state contributions for New Mexico's Jimmie Hall and Melanie Stansbury."
   ]
  },
  {
   "cell_type": "markdown",
   "metadata": {},
   "source": [
    "Filter the data to return contributions to Jimmie Hall and Melanie Stansbury in the 2018 cycle."
   ]
  },
  {
   "cell_type": "code",
   "execution_count": 15,
   "metadata": {
    "collapsed": true
   },
   "outputs": [],
   "source": [
    "hall_contributions = contributions[(contributions[\"candidate\"].str.contains(\"hall, jimmie\", case=False)) & (contributions[\"state\"] == \"NM\") & (contributions[\"year\"] == 2018)]\n",
    "stansbury_contributions = contributions[(contributions[\"candidate\"].str.contains(\"stansbury, melanie\", case=False)) & (contributions[\"state\"] == \"NM\") & (contributions[\"year\"] == 2018)]"
   ]
  },
  {
   "cell_type": "code",
   "execution_count": 16,
   "metadata": {},
   "outputs": [
    {
     "data": {
      "text/plain": [
       "in_out_state\n",
       "in-state       18,965.00\n",
       "out-of-state   15,250.00\n",
       "Name: amount, dtype: float64"
      ]
     },
     "execution_count": 16,
     "metadata": {},
     "output_type": "execute_result"
    }
   ],
   "source": [
    "hall_contributions.groupby(\"in_out_state\")[\"amount\"].sum()"
   ]
  },
  {
   "cell_type": "code",
   "execution_count": 17,
   "metadata": {},
   "outputs": [
    {
     "data": {
      "text/plain": [
       "in_out_state\n",
       "in-state       51,906.85\n",
       "out-of-state   26,131.76\n",
       "unknown           185.00\n",
       "Name: amount, dtype: float64"
      ]
     },
     "execution_count": 17,
     "metadata": {},
     "output_type": "execute_result"
    }
   ],
   "source": [
    "stansbury_contributions.groupby(\"in_out_state\")[\"amount\"].sum()"
   ]
  },
  {
   "cell_type": "markdown",
   "metadata": {},
   "source": [
    "## Calculate out-of-state contributions for Iowa's Cathy Glasson and Fred Hubbell through the primary election"
   ]
  },
  {
   "cell_type": "markdown",
   "metadata": {},
   "source": [
    "Filter the data to return contributions to Fred Hubbell and Cathy Glasson through the June 5, 2018 primary."
   ]
  },
  {
   "cell_type": "code",
   "execution_count": 18,
   "metadata": {
    "collapsed": true
   },
   "outputs": [],
   "source": [
    "hubbell_primary_contributions = contributions[(contributions[\"candidate\"].str.contains(\"hubbell,\", case=False)) & (contributions[\"state\"] == \"IA\") & (contributions[\"date\"] <= \"2018-06-05\")]\n",
    "glasson_primary_contributions = contributions[(contributions[\"candidate\"].str.contains(\"glasson,\", case=False)) & (contributions[\"state\"] == \"IA\") & (contributions[\"date\"] <= \"2018-06-05\")]"
   ]
  },
  {
   "cell_type": "code",
   "execution_count": 19,
   "metadata": {},
   "outputs": [
    {
     "data": {
      "text/plain": [
       "in_out_state\n",
       "in-state       5,072,593.32\n",
       "out-of-state   1,019,312.25\n",
       "unknown            8,415.00\n",
       "Name: amount, dtype: float64"
      ]
     },
     "execution_count": 19,
     "metadata": {},
     "output_type": "execute_result"
    }
   ],
   "source": [
    "hubbell_primary_contributions.groupby(\"in_out_state\")[\"amount\"].sum()"
   ]
  },
  {
   "cell_type": "code",
   "execution_count": 20,
   "metadata": {},
   "outputs": [
    {
     "data": {
      "text/plain": [
       "6100320.5700000003"
      ]
     },
     "execution_count": 20,
     "metadata": {},
     "output_type": "execute_result"
    }
   ],
   "source": [
    "hubbell_primary_contributions[\"amount\"].sum()"
   ]
  },
  {
   "cell_type": "code",
   "execution_count": 21,
   "metadata": {},
   "outputs": [
    {
     "data": {
      "text/plain": [
       "in_out_state\n",
       "in-state         109,689.90\n",
       "out-of-state   2,064,815.92\n",
       "Name: amount, dtype: float64"
      ]
     },
     "execution_count": 21,
     "metadata": {},
     "output_type": "execute_result"
    }
   ],
   "source": [
    "glasson_primary_contributions.groupby(\"in_out_state\")[\"amount\"].sum()"
   ]
  },
  {
   "cell_type": "code",
   "execution_count": 22,
   "metadata": {},
   "outputs": [
    {
     "data": {
      "text/plain": [
       "2174505.8200000003"
      ]
     },
     "execution_count": 22,
     "metadata": {},
     "output_type": "execute_result"
    }
   ],
   "source": [
    "glasson_primary_contributions[\"amount\"].sum()"
   ]
  },
  {
   "cell_type": "markdown",
   "metadata": {},
   "source": [
    "Export the data to Excel."
   ]
  },
  {
   "cell_type": "code",
   "execution_count": 23,
   "metadata": {},
   "outputs": [
    {
     "data": {
      "application/javascript": [
       "$(document).ready(\n",
       "    function() {\n",
       "        function appendUniqueDiv(){\n",
       "            // append a div with our uuid so we can check that it's already\n",
       "            // been sent and avoid duplicates on page reload\n",
       "            var notifiedDiv = document.createElement(\"div\")\n",
       "            notifiedDiv.id = \"17e2ccc9-1e19-4768-9e38-19c0ba059946\"\n",
       "            element.append(notifiedDiv)\n",
       "        }\n",
       "\n",
       "        // only send notifications if the pageload is complete; this will\n",
       "        // help stop extra notifications when a saved notebook is loaded,\n",
       "        // which during testing gives us state \"interactive\", not \"complete\"\n",
       "        if (document.readyState === 'complete') {\n",
       "            // check for the div that signifies that the notification\n",
       "            // was already sent\n",
       "            if (document.getElementById(\"17e2ccc9-1e19-4768-9e38-19c0ba059946\") === null) {\n",
       "                var notificationPayload = {\"requireInteraction\": false, \"icon\": \"/static/base/images/favicon.ico\", \"body\": \"Cell execution has finished!\"};\n",
       "                if (Notification.permission !== 'denied') {\n",
       "                    if (Notification.permission !== 'granted') { \n",
       "                        Notification.requestPermission(function (permission) {\n",
       "                            if(!('permission' in Notification)) {\n",
       "                                Notification.permission = permission\n",
       "                            }\n",
       "                        })\n",
       "                    }\n",
       "                    if (Notification.permission === 'granted') {\n",
       "                    var notification = new Notification(\"Jupyter Notebook\", notificationPayload)\n",
       "                    appendUniqueDiv()\n",
       "                    notification.onclick = function () {\n",
       "                        window.focus();\n",
       "                        this.close();\n",
       "                        };\n",
       "                    } \n",
       "                }     \n",
       "            }\n",
       "        }\n",
       "    }\n",
       ")\n"
      ],
      "text/plain": [
       "<IPython.core.display.Javascript object>"
      ]
     },
     "metadata": {},
     "output_type": "display_data"
    }
   ],
   "source": [
    "%%notify\n",
    "contributions_by_candidate.to_excel(\"data/contributions_by_candidate.xlsx\", index=False)"
   ]
  },
  {
   "cell_type": "code",
   "execution_count": 24,
   "metadata": {
    "scrolled": true
   },
   "outputs": [
    {
     "data": {
      "text/html": [
       "<div>\n",
       "<style scoped>\n",
       "    .dataframe tbody tr th:only-of-type {\n",
       "        vertical-align: middle;\n",
       "    }\n",
       "\n",
       "    .dataframe tbody tr th {\n",
       "        vertical-align: top;\n",
       "    }\n",
       "\n",
       "    .dataframe thead th {\n",
       "        text-align: right;\n",
       "    }\n",
       "</style>\n",
       "<table border=\"1\" class=\"dataframe\">\n",
       "  <thead>\n",
       "    <tr style=\"text-align: right;\">\n",
       "      <th></th>\n",
       "      <th>candidate</th>\n",
       "      <th>candidate_id</th>\n",
       "      <th>year</th>\n",
       "      <th>state</th>\n",
       "      <th>party</th>\n",
       "      <th>election_status</th>\n",
       "      <th>contributor</th>\n",
       "      <th>amount</th>\n",
       "      <th>date</th>\n",
       "      <th>contributor_street</th>\n",
       "      <th>contributor_city</th>\n",
       "      <th>contributor_state</th>\n",
       "      <th>contributor_zip</th>\n",
       "      <th>in_out_state</th>\n",
       "      <th>no_veto</th>\n",
       "      <th>office</th>\n",
       "      <th>latest_month</th>\n",
       "      <th>redistricting_role</th>\n",
       "      <th>independent_commission</th>\n",
       "      <th>single_house_district</th>\n",
       "      <th>standardized_office</th>\n",
       "      <th>standardized_status</th>\n",
       "      <th>two_year_term</th>\n",
       "    </tr>\n",
       "  </thead>\n",
       "  <tbody>\n",
       "    <tr>\n",
       "      <th>1239179</th>\n",
       "      <td>GLASSON, CATHY</td>\n",
       "      <td>223996</td>\n",
       "      <td>2018</td>\n",
       "      <td>IA</td>\n",
       "      <td>Democratic</td>\n",
       "      <td>Lost-Primary</td>\n",
       "      <td>SAXE, DOROTHY</td>\n",
       "      <td>50.00</td>\n",
       "      <td>2018-05-13</td>\n",
       "      <td>IA</td>\n",
       "      <td>MENLO PARK</td>\n",
       "      <td>CA</td>\n",
       "      <td>94,025.00</td>\n",
       "      <td>out-of-state</td>\n",
       "      <td>N</td>\n",
       "      <td>GOVERNOR</td>\n",
       "      <td>2018-07-28</td>\n",
       "      <td>Y</td>\n",
       "      <td>N</td>\n",
       "      <td>N</td>\n",
       "      <td>GOVERNOR/LIEUTENANT GOVERNOR</td>\n",
       "      <td>DID NOT ADVANCE</td>\n",
       "      <td>N</td>\n",
       "    </tr>\n",
       "    <tr>\n",
       "      <th>1243959</th>\n",
       "      <td>GLASSON, CATHY</td>\n",
       "      <td>223996</td>\n",
       "      <td>2018</td>\n",
       "      <td>IA</td>\n",
       "      <td>Democratic</td>\n",
       "      <td>Lost-Primary</td>\n",
       "      <td>ENGLAND, NANCY</td>\n",
       "      <td>1.00</td>\n",
       "      <td>2018-05-13</td>\n",
       "      <td>IA</td>\n",
       "      <td>OAK RIDGE</td>\n",
       "      <td>TN</td>\n",
       "      <td>37,830.00</td>\n",
       "      <td>out-of-state</td>\n",
       "      <td>N</td>\n",
       "      <td>GOVERNOR</td>\n",
       "      <td>2018-07-28</td>\n",
       "      <td>Y</td>\n",
       "      <td>N</td>\n",
       "      <td>N</td>\n",
       "      <td>GOVERNOR/LIEUTENANT GOVERNOR</td>\n",
       "      <td>DID NOT ADVANCE</td>\n",
       "      <td>N</td>\n",
       "    </tr>\n",
       "    <tr>\n",
       "      <th>1239183</th>\n",
       "      <td>GLASSON, CATHY</td>\n",
       "      <td>223996</td>\n",
       "      <td>2018</td>\n",
       "      <td>IA</td>\n",
       "      <td>Democratic</td>\n",
       "      <td>Lost-Primary</td>\n",
       "      <td>CANADAY, SCOTT J</td>\n",
       "      <td>50.00</td>\n",
       "      <td>2018-05-13</td>\n",
       "      <td>IA</td>\n",
       "      <td>TULALIP</td>\n",
       "      <td>WA</td>\n",
       "      <td>98,271.00</td>\n",
       "      <td>out-of-state</td>\n",
       "      <td>N</td>\n",
       "      <td>GOVERNOR</td>\n",
       "      <td>2018-07-28</td>\n",
       "      <td>Y</td>\n",
       "      <td>N</td>\n",
       "      <td>N</td>\n",
       "      <td>GOVERNOR/LIEUTENANT GOVERNOR</td>\n",
       "      <td>DID NOT ADVANCE</td>\n",
       "      <td>N</td>\n",
       "    </tr>\n",
       "    <tr>\n",
       "      <th>1239181</th>\n",
       "      <td>GLASSON, CATHY</td>\n",
       "      <td>223996</td>\n",
       "      <td>2018</td>\n",
       "      <td>IA</td>\n",
       "      <td>Democratic</td>\n",
       "      <td>Lost-Primary</td>\n",
       "      <td>MURRA, LAURA SHAW</td>\n",
       "      <td>50.00</td>\n",
       "      <td>2018-05-13</td>\n",
       "      <td>IA</td>\n",
       "      <td>BERKELEY</td>\n",
       "      <td>CA</td>\n",
       "      <td>94,708.00</td>\n",
       "      <td>out-of-state</td>\n",
       "      <td>N</td>\n",
       "      <td>GOVERNOR</td>\n",
       "      <td>2018-07-28</td>\n",
       "      <td>Y</td>\n",
       "      <td>N</td>\n",
       "      <td>N</td>\n",
       "      <td>GOVERNOR/LIEUTENANT GOVERNOR</td>\n",
       "      <td>DID NOT ADVANCE</td>\n",
       "      <td>N</td>\n",
       "    </tr>\n",
       "    <tr>\n",
       "      <th>1239175</th>\n",
       "      <td>GLASSON, CATHY</td>\n",
       "      <td>223996</td>\n",
       "      <td>2018</td>\n",
       "      <td>IA</td>\n",
       "      <td>Democratic</td>\n",
       "      <td>Lost-Primary</td>\n",
       "      <td>QUIGLEY, JACK</td>\n",
       "      <td>50.00</td>\n",
       "      <td>2018-05-13</td>\n",
       "      <td>IA</td>\n",
       "      <td>CHICAGO</td>\n",
       "      <td>IL</td>\n",
       "      <td>60,640.00</td>\n",
       "      <td>out-of-state</td>\n",
       "      <td>N</td>\n",
       "      <td>GOVERNOR</td>\n",
       "      <td>2018-07-28</td>\n",
       "      <td>Y</td>\n",
       "      <td>N</td>\n",
       "      <td>N</td>\n",
       "      <td>GOVERNOR/LIEUTENANT GOVERNOR</td>\n",
       "      <td>DID NOT ADVANCE</td>\n",
       "      <td>N</td>\n",
       "    </tr>\n",
       "  </tbody>\n",
       "</table>\n",
       "</div>"
      ],
      "text/plain": [
       "              candidate  candidate_id  year state       party election_status  \\\n",
       "1239179  GLASSON, CATHY        223996  2018    IA  Democratic    Lost-Primary   \n",
       "1243959  GLASSON, CATHY        223996  2018    IA  Democratic    Lost-Primary   \n",
       "1239183  GLASSON, CATHY        223996  2018    IA  Democratic    Lost-Primary   \n",
       "1239181  GLASSON, CATHY        223996  2018    IA  Democratic    Lost-Primary   \n",
       "1239175  GLASSON, CATHY        223996  2018    IA  Democratic    Lost-Primary   \n",
       "\n",
       "               contributor  amount       date contributor_street  \\\n",
       "1239179      SAXE, DOROTHY   50.00 2018-05-13                 IA   \n",
       "1243959     ENGLAND, NANCY    1.00 2018-05-13                 IA   \n",
       "1239183   CANADAY, SCOTT J   50.00 2018-05-13                 IA   \n",
       "1239181  MURRA, LAURA SHAW   50.00 2018-05-13                 IA   \n",
       "1239175      QUIGLEY, JACK   50.00 2018-05-13                 IA   \n",
       "\n",
       "        contributor_city contributor_state  contributor_zip  in_out_state  \\\n",
       "1239179       MENLO PARK                CA        94,025.00  out-of-state   \n",
       "1243959        OAK RIDGE                TN        37,830.00  out-of-state   \n",
       "1239183          TULALIP                WA        98,271.00  out-of-state   \n",
       "1239181         BERKELEY                CA        94,708.00  out-of-state   \n",
       "1239175          CHICAGO                IL        60,640.00  out-of-state   \n",
       "\n",
       "        no_veto    office latest_month redistricting_role  \\\n",
       "1239179       N  GOVERNOR   2018-07-28                  Y   \n",
       "1243959       N  GOVERNOR   2018-07-28                  Y   \n",
       "1239183       N  GOVERNOR   2018-07-28                  Y   \n",
       "1239181       N  GOVERNOR   2018-07-28                  Y   \n",
       "1239175       N  GOVERNOR   2018-07-28                  Y   \n",
       "\n",
       "        independent_commission single_house_district  \\\n",
       "1239179                      N                     N   \n",
       "1243959                      N                     N   \n",
       "1239183                      N                     N   \n",
       "1239181                      N                     N   \n",
       "1239175                      N                     N   \n",
       "\n",
       "                  standardized_office standardized_status two_year_term  \n",
       "1239179  GOVERNOR/LIEUTENANT GOVERNOR     DID NOT ADVANCE             N  \n",
       "1243959  GOVERNOR/LIEUTENANT GOVERNOR     DID NOT ADVANCE             N  \n",
       "1239183  GOVERNOR/LIEUTENANT GOVERNOR     DID NOT ADVANCE             N  \n",
       "1239181  GOVERNOR/LIEUTENANT GOVERNOR     DID NOT ADVANCE             N  \n",
       "1239175  GOVERNOR/LIEUTENANT GOVERNOR     DID NOT ADVANCE             N  "
      ]
     },
     "execution_count": 24,
     "metadata": {},
     "output_type": "execute_result"
    }
   ],
   "source": [
    "glasson_primary_contributions.sort_values(\"date\", ascending=False).head()"
   ]
  },
  {
   "cell_type": "code",
   "execution_count": 25,
   "metadata": {
    "scrolled": true
   },
   "outputs": [
    {
     "data": {
      "text/html": [
       "<div>\n",
       "<style scoped>\n",
       "    .dataframe tbody tr th:only-of-type {\n",
       "        vertical-align: middle;\n",
       "    }\n",
       "\n",
       "    .dataframe tbody tr th {\n",
       "        vertical-align: top;\n",
       "    }\n",
       "\n",
       "    .dataframe thead th {\n",
       "        text-align: right;\n",
       "    }\n",
       "</style>\n",
       "<table border=\"1\" class=\"dataframe\">\n",
       "  <thead>\n",
       "    <tr style=\"text-align: right;\">\n",
       "      <th></th>\n",
       "      <th>candidate</th>\n",
       "      <th>candidate_id</th>\n",
       "      <th>year</th>\n",
       "      <th>state</th>\n",
       "      <th>party</th>\n",
       "      <th>election_status</th>\n",
       "      <th>contributor</th>\n",
       "      <th>amount</th>\n",
       "      <th>date</th>\n",
       "      <th>contributor_street</th>\n",
       "      <th>contributor_city</th>\n",
       "      <th>contributor_state</th>\n",
       "      <th>contributor_zip</th>\n",
       "      <th>in_out_state</th>\n",
       "      <th>no_veto</th>\n",
       "      <th>office</th>\n",
       "      <th>latest_month</th>\n",
       "      <th>redistricting_role</th>\n",
       "      <th>independent_commission</th>\n",
       "      <th>single_house_district</th>\n",
       "      <th>standardized_office</th>\n",
       "      <th>standardized_status</th>\n",
       "      <th>two_year_term</th>\n",
       "    </tr>\n",
       "  </thead>\n",
       "  <tbody>\n",
       "    <tr>\n",
       "      <th>1235956</th>\n",
       "      <td>HUBBELL, FREDERICK SHELTON (FRED) &amp; HART, RITA...</td>\n",
       "      <td>264335</td>\n",
       "      <td>2018</td>\n",
       "      <td>IA</td>\n",
       "      <td>Democratic</td>\n",
       "      <td>Pending-General</td>\n",
       "      <td>DEMMER, WAYNE</td>\n",
       "      <td>50.00</td>\n",
       "      <td>2018-05-14</td>\n",
       "      <td>IA</td>\n",
       "      <td>EPWORTH</td>\n",
       "      <td>IA</td>\n",
       "      <td>52,045.00</td>\n",
       "      <td>in-state</td>\n",
       "      <td>N</td>\n",
       "      <td>GOVERNOR / LIEUTENANT GOVERNOR</td>\n",
       "      <td>2018-07-28</td>\n",
       "      <td>Y</td>\n",
       "      <td>N</td>\n",
       "      <td>N</td>\n",
       "      <td>GOVERNOR/LIEUTENANT GOVERNOR</td>\n",
       "      <td>ADVANCED TO GENERAL</td>\n",
       "      <td>N</td>\n",
       "    </tr>\n",
       "    <tr>\n",
       "      <th>1236028</th>\n",
       "      <td>HUBBELL, FREDERICK SHELTON (FRED) &amp; HART, RITA...</td>\n",
       "      <td>264335</td>\n",
       "      <td>2018</td>\n",
       "      <td>IA</td>\n",
       "      <td>Democratic</td>\n",
       "      <td>Pending-General</td>\n",
       "      <td>WATKINS, STANLEY R</td>\n",
       "      <td>50.00</td>\n",
       "      <td>2018-05-14</td>\n",
       "      <td>IA</td>\n",
       "      <td>CEDAR RAPIDS</td>\n",
       "      <td>IA</td>\n",
       "      <td>52,405.00</td>\n",
       "      <td>in-state</td>\n",
       "      <td>N</td>\n",
       "      <td>GOVERNOR / LIEUTENANT GOVERNOR</td>\n",
       "      <td>2018-07-28</td>\n",
       "      <td>Y</td>\n",
       "      <td>N</td>\n",
       "      <td>N</td>\n",
       "      <td>GOVERNOR/LIEUTENANT GOVERNOR</td>\n",
       "      <td>ADVANCED TO GENERAL</td>\n",
       "      <td>N</td>\n",
       "    </tr>\n",
       "    <tr>\n",
       "      <th>1237185</th>\n",
       "      <td>HUBBELL, FREDERICK SHELTON (FRED) &amp; HART, RITA...</td>\n",
       "      <td>264335</td>\n",
       "      <td>2018</td>\n",
       "      <td>IA</td>\n",
       "      <td>Democratic</td>\n",
       "      <td>Pending-General</td>\n",
       "      <td>LYON, RANDOLPH</td>\n",
       "      <td>25.00</td>\n",
       "      <td>2018-05-14</td>\n",
       "      <td>IA</td>\n",
       "      <td>DUBUQUE</td>\n",
       "      <td>IA</td>\n",
       "      <td>52,002.00</td>\n",
       "      <td>unknown</td>\n",
       "      <td>N</td>\n",
       "      <td>GOVERNOR / LIEUTENANT GOVERNOR</td>\n",
       "      <td>2018-07-28</td>\n",
       "      <td>Y</td>\n",
       "      <td>N</td>\n",
       "      <td>N</td>\n",
       "      <td>GOVERNOR/LIEUTENANT GOVERNOR</td>\n",
       "      <td>ADVANCED TO GENERAL</td>\n",
       "      <td>N</td>\n",
       "    </tr>\n",
       "    <tr>\n",
       "      <th>1232318</th>\n",
       "      <td>HUBBELL, FREDERICK SHELTON (FRED) &amp; HART, RITA...</td>\n",
       "      <td>264335</td>\n",
       "      <td>2018</td>\n",
       "      <td>IA</td>\n",
       "      <td>Democratic</td>\n",
       "      <td>Pending-General</td>\n",
       "      <td>BECKER, ROBERT D</td>\n",
       "      <td>1,000.00</td>\n",
       "      <td>2018-05-14</td>\n",
       "      <td>IA</td>\n",
       "      <td>CEDAR RAPIDS</td>\n",
       "      <td>IA</td>\n",
       "      <td>52,402.00</td>\n",
       "      <td>in-state</td>\n",
       "      <td>N</td>\n",
       "      <td>GOVERNOR / LIEUTENANT GOVERNOR</td>\n",
       "      <td>2018-07-28</td>\n",
       "      <td>Y</td>\n",
       "      <td>N</td>\n",
       "      <td>N</td>\n",
       "      <td>GOVERNOR/LIEUTENANT GOVERNOR</td>\n",
       "      <td>ADVANCED TO GENERAL</td>\n",
       "      <td>N</td>\n",
       "    </tr>\n",
       "    <tr>\n",
       "      <th>1236459</th>\n",
       "      <td>HUBBELL, FREDERICK SHELTON (FRED) &amp; HART, RITA...</td>\n",
       "      <td>264335</td>\n",
       "      <td>2018</td>\n",
       "      <td>IA</td>\n",
       "      <td>Democratic</td>\n",
       "      <td>Pending-General</td>\n",
       "      <td>WHITE, WENDY</td>\n",
       "      <td>40.00</td>\n",
       "      <td>2018-05-14</td>\n",
       "      <td>IA</td>\n",
       "      <td>AMES</td>\n",
       "      <td>IA</td>\n",
       "      <td>50,010.00</td>\n",
       "      <td>in-state</td>\n",
       "      <td>N</td>\n",
       "      <td>GOVERNOR / LIEUTENANT GOVERNOR</td>\n",
       "      <td>2018-07-28</td>\n",
       "      <td>Y</td>\n",
       "      <td>N</td>\n",
       "      <td>N</td>\n",
       "      <td>GOVERNOR/LIEUTENANT GOVERNOR</td>\n",
       "      <td>ADVANCED TO GENERAL</td>\n",
       "      <td>N</td>\n",
       "    </tr>\n",
       "  </tbody>\n",
       "</table>\n",
       "</div>"
      ],
      "text/plain": [
       "                                                 candidate  candidate_id  \\\n",
       "1235956  HUBBELL, FREDERICK SHELTON (FRED) & HART, RITA...        264335   \n",
       "1236028  HUBBELL, FREDERICK SHELTON (FRED) & HART, RITA...        264335   \n",
       "1237185  HUBBELL, FREDERICK SHELTON (FRED) & HART, RITA...        264335   \n",
       "1232318  HUBBELL, FREDERICK SHELTON (FRED) & HART, RITA...        264335   \n",
       "1236459  HUBBELL, FREDERICK SHELTON (FRED) & HART, RITA...        264335   \n",
       "\n",
       "         year state       party  election_status         contributor   amount  \\\n",
       "1235956  2018    IA  Democratic  Pending-General       DEMMER, WAYNE    50.00   \n",
       "1236028  2018    IA  Democratic  Pending-General  WATKINS, STANLEY R    50.00   \n",
       "1237185  2018    IA  Democratic  Pending-General      LYON, RANDOLPH    25.00   \n",
       "1232318  2018    IA  Democratic  Pending-General    BECKER, ROBERT D 1,000.00   \n",
       "1236459  2018    IA  Democratic  Pending-General        WHITE, WENDY    40.00   \n",
       "\n",
       "              date contributor_street contributor_city contributor_state  \\\n",
       "1235956 2018-05-14                 IA          EPWORTH                IA   \n",
       "1236028 2018-05-14                 IA     CEDAR RAPIDS                IA   \n",
       "1237185 2018-05-14                 IA          DUBUQUE                IA   \n",
       "1232318 2018-05-14                 IA     CEDAR RAPIDS                IA   \n",
       "1236459 2018-05-14                 IA             AMES                IA   \n",
       "\n",
       "         contributor_zip in_out_state no_veto                          office  \\\n",
       "1235956        52,045.00     in-state       N  GOVERNOR / LIEUTENANT GOVERNOR   \n",
       "1236028        52,405.00     in-state       N  GOVERNOR / LIEUTENANT GOVERNOR   \n",
       "1237185        52,002.00      unknown       N  GOVERNOR / LIEUTENANT GOVERNOR   \n",
       "1232318        52,402.00     in-state       N  GOVERNOR / LIEUTENANT GOVERNOR   \n",
       "1236459        50,010.00     in-state       N  GOVERNOR / LIEUTENANT GOVERNOR   \n",
       "\n",
       "        latest_month redistricting_role independent_commission  \\\n",
       "1235956   2018-07-28                  Y                      N   \n",
       "1236028   2018-07-28                  Y                      N   \n",
       "1237185   2018-07-28                  Y                      N   \n",
       "1232318   2018-07-28                  Y                      N   \n",
       "1236459   2018-07-28                  Y                      N   \n",
       "\n",
       "        single_house_district           standardized_office  \\\n",
       "1235956                     N  GOVERNOR/LIEUTENANT GOVERNOR   \n",
       "1236028                     N  GOVERNOR/LIEUTENANT GOVERNOR   \n",
       "1237185                     N  GOVERNOR/LIEUTENANT GOVERNOR   \n",
       "1232318                     N  GOVERNOR/LIEUTENANT GOVERNOR   \n",
       "1236459                     N  GOVERNOR/LIEUTENANT GOVERNOR   \n",
       "\n",
       "         standardized_status two_year_term  \n",
       "1235956  ADVANCED TO GENERAL             N  \n",
       "1236028  ADVANCED TO GENERAL             N  \n",
       "1237185  ADVANCED TO GENERAL             N  \n",
       "1232318  ADVANCED TO GENERAL             N  \n",
       "1236459  ADVANCED TO GENERAL             N  "
      ]
     },
     "execution_count": 25,
     "metadata": {},
     "output_type": "execute_result"
    }
   ],
   "source": [
    "hubbell_primary_contributions.sort_values(\"date\", ascending=False).head()"
   ]
  },
  {
   "cell_type": "code",
   "execution_count": 26,
   "metadata": {},
   "outputs": [
    {
     "data": {
      "text/plain": [
       "6100320.5700000003"
      ]
     },
     "execution_count": 26,
     "metadata": {},
     "output_type": "execute_result"
    }
   ],
   "source": [
    "hubbell_primary_contributions[\"amount\"].sum()"
   ]
  },
  {
   "cell_type": "code",
   "execution_count": null,
   "metadata": {
    "collapsed": true
   },
   "outputs": [],
   "source": [
    "hubbell = contributions[contributions[\"\"]]"
   ]
  }
 ],
 "metadata": {
  "kernelspec": {
   "display_name": "Python 3",
   "language": "python",
   "name": "python3"
  },
  "language_info": {
   "codemirror_mode": {
    "name": "ipython",
    "version": 3
   },
   "file_extension": ".py",
   "mimetype": "text/x-python",
   "name": "python",
   "nbconvert_exporter": "python",
   "pygments_lexer": "ipython3",
   "version": "3.6.4"
  }
 },
 "nbformat": 4,
 "nbformat_minor": 2
}
